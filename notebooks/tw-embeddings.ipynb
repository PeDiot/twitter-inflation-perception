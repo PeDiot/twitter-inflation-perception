{
  "cells": [
    {
      "cell_type": "markdown",
      "metadata": {
        "id": "Gp760C3GDqaX"
      },
      "source": [
        "# Convert sentences to embeddings with [Sentence Transformers](https://huggingface.co/blog/how-to-train-sentence-transformers)\n",
        "\n",
        "Pre-trained sentence embedding model based on `camemBERT` and fine-tuned on French data."
      ]
    },
    {
      "cell_type": "code",
      "execution_count": 1,
      "metadata": {
        "colab": {
          "base_uri": "https://localhost:8080/"
        },
        "id": "0M5ID34HEk5I",
        "outputId": "12580ccf-31f0-4370-a2d4-864daaf34152"
      },
      "outputs": [
        {
          "name": "stdout",
          "output_type": "stream",
          "text": [
            "Drive already mounted at /content/drive; to attempt to forcibly remount, call drive.mount(\"/content/drive\", force_remount=True).\n"
          ]
        }
      ],
      "source": [
        "from google.colab import drive\n",
        "drive.mount(\"/content/drive\")"
      ]
    },
    {
      "cell_type": "code",
      "execution_count": 2,
      "metadata": {
        "id": "VKju83LTEmv6"
      },
      "outputs": [],
      "source": [
        "DRIVE_PATH = \"/content/drive/MyDrive/twitter-inflation-perception/\"\n",
        "\n",
        "import os\n",
        "os.chdir(DRIVE_PATH+\"notebooks/\")\n",
        "\n",
        "import sys \n",
        "sys.path.append(\"../\")"
      ]
    },
    {
      "cell_type": "code",
      "execution_count": 5,
      "metadata": {
        "colab": {
          "base_uri": "https://localhost:8080/"
        },
        "id": "DzrmmoupE9p7",
        "outputId": "500ca913-c60a-4c35-8b35-d3f603c2ada0"
      },
      "outputs": [
        {
          "name": "stdout",
          "output_type": "stream",
          "text": [
            "Successfully installed huggingface-hub-0.12.0 sentence_transformers-2.2.2 sentencepiece-0.1.97 tokenizers-0.13.2 transformers-4.26.0\n"
          ]
        }
      ],
      "source": [
        "!pip install sentence_transformers"
      ]
    },
    {
      "cell_type": "code",
      "execution_count": 6,
      "metadata": {
        "id": "JgZPXsqJEVAE"
      },
      "outputs": [],
      "source": [
        "from lib.preprocessing.embeddings import text_to_embeddings, load_transformer"
      ]
    },
    {
      "cell_type": "code",
      "execution_count": 7,
      "metadata": {
        "id": "jgFe3-etFdry"
      },
      "outputs": [],
      "source": [
        "import pickle as pkl\n",
        "\n",
        "BACKUP = \"../backup/data/\"\n",
        "file_path = BACKUP+\"tweets_preprocessed.pkl\"\n",
        "\n",
        "with open(file_path, \"rb\") as f: \n",
        "    tweets_preprocessed = pkl.load(f)\n",
        "\n",
        "tweets = tweets_preprocessed[\"cleaned\"]"
      ]
    },
    {
      "cell_type": "code",
      "execution_count": null,
      "metadata": {
        "id": "GdY5ewrUGAHF"
      },
      "outputs": [],
      "source": [
        "model = load_transformer()"
      ]
    },
    {
      "cell_type": "code",
      "execution_count": null,
      "metadata": {
        "id": "bsOue41uGCc_"
      },
      "outputs": [],
      "source": [
        "embeddings = text_to_embeddings(model, tweets, file_path=BACKUP+\"embeddings.npy\")"
      ]
    }
  ],
  "metadata": {
    "colab": {
      "provenance": []
    },
    "kernelspec": {
      "display_name": "env",
      "language": "python",
      "name": "python3"
    },
    "language_info": {
      "name": "python",
      "version": "3.9.9 (tags/v3.9.9:ccb0e6a, Nov 15 2021, 18:08:50) [MSC v.1929 64 bit (AMD64)]"
    },
    "vscode": {
      "interpreter": {
        "hash": "4f0c75c3c98d859c17a8a7b8ea0d158e580de4be82cc7ea678b044820d2772f7"
      }
    }
  },
  "nbformat": 4,
  "nbformat_minor": 0
}
