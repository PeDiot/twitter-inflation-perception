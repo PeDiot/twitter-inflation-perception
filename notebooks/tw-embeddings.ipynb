{
  "nbformat": 4,
  "nbformat_minor": 0,
  "metadata": {
    "colab": {
      "provenance": []
    },
    "kernelspec": {
      "name": "python3",
      "display_name": "Python 3"
    },
    "language_info": {
      "name": "python"
    }
  },
  "cells": [
    {
      "cell_type": "markdown",
      "source": [
        "# Convert sentences to embeddings with [Sentence Transformers](https://huggingface.co/blog/how-to-train-sentence-transformers)\n",
        "\n",
        "Pre-trained sentence embedding model based on `camemBERT` and fine-tuned on French data."
      ],
      "metadata": {
        "id": "Gp760C3GDqaX"
      }
    },
    {
      "cell_type": "code",
      "source": [
        "from google.colab import drive\n",
        "drive.mount(\"/content/drive\")"
      ],
      "metadata": {
        "colab": {
          "base_uri": "https://localhost:8080/"
        },
        "id": "0M5ID34HEk5I",
        "outputId": "12580ccf-31f0-4370-a2d4-864daaf34152"
      },
      "execution_count": 1,
      "outputs": [
        {
          "output_type": "stream",
          "name": "stdout",
          "text": [
            "Drive already mounted at /content/drive; to attempt to forcibly remount, call drive.mount(\"/content/drive\", force_remount=True).\n"
          ]
        }
      ]
    },
    {
      "cell_type": "code",
      "source": [
        "DRIVE_PATH = \"/content/drive/MyDrive/twitter-inflation-perception/\"\n",
        "\n",
        "import os\n",
        "os.chdir(DRIVE_PATH+\"notebooks/\")\n",
        "\n",
        "import sys \n",
        "sys.path.append(\"../\")"
      ],
      "metadata": {
        "id": "VKju83LTEmv6"
      },
      "execution_count": 2,
      "outputs": []
    },
    {
      "cell_type": "code",
      "source": [
        "!pip install sentence_transformers"
      ],
      "metadata": {
        "colab": {
          "base_uri": "https://localhost:8080/"
        },
        "id": "DzrmmoupE9p7",
        "outputId": "500ca913-c60a-4c35-8b35-d3f603c2ada0"
      },
      "execution_count": 5,
      "outputs": [
        {
          "output_type": "stream",
          "name": "stdout",
          "text": [
            "Successfully installed huggingface-hub-0.12.0 sentence_transformers-2.2.2 sentencepiece-0.1.97 tokenizers-0.13.2 transformers-4.26.0\n"
          ]
        }
      ]
    },
    {
      "cell_type": "code",
      "source": [
        "from lib.preprocessing.embeddings import text_to_embeddings, load_transformer"
      ],
      "metadata": {
        "id": "JgZPXsqJEVAE"
      },
      "execution_count": 6,
      "outputs": []
    },
    {
      "cell_type": "code",
      "source": [
        "import pickle as pkl\n",
        "\n",
        "BACKUP = \"../backup/data/\"\n",
        "file_path = BACKUP+\"tweets_preprocessed.pkl\"\n",
        "\n",
        "with open(file_path, \"rb\") as f: \n",
        "    tweets_preprocessed = pkl.load(f)\n",
        "\n",
        "tweets = tweets_preprocessed[\"cleaned\"]"
      ],
      "metadata": {
        "id": "jgFe3-etFdry"
      },
      "execution_count": 7,
      "outputs": []
    },
    {
      "cell_type": "code",
      "source": [
        "model = load_transformer()"
      ],
      "metadata": {
        "id": "GdY5ewrUGAHF"
      },
      "execution_count": null,
      "outputs": []
    },
    {
      "cell_type": "code",
      "source": [
        "embeddings = text_to_embeddings(model, tweets, file_path=BACKUP+\"embeddings.npy\")"
      ],
      "metadata": {
        "id": "bsOue41uGCc_"
      },
      "execution_count": null,
      "outputs": []
    }
  ]
}