{
 "cells": [
  {
   "attachments": {},
   "cell_type": "markdown",
   "metadata": {},
   "source": [
    "# Tweet annotation \n",
    "\n",
    "**Objective**\n",
    "\n",
    "Indicate whether tweet is about:\n",
    "- inflation, \n",
    "- desinflation,\n",
    "- stability,\n",
    "- deflation,\n",
    "- other, \n",
    "- not about prices"
   ]
  },
  {
   "attachments": {},
   "cell_type": "markdown",
   "metadata": {},
   "source": [
    "## Setup"
   ]
  },
  {
   "cell_type": "code",
   "execution_count": 1,
   "metadata": {},
   "outputs": [],
   "source": [
    "import sys \n",
    "sys.path.append(\"../\")"
   ]
  },
  {
   "cell_type": "code",
   "execution_count": 2,
   "metadata": {},
   "outputs": [],
   "source": [
    "%load_ext autoreload\n",
    "%autoreload 2"
   ]
  },
  {
   "cell_type": "code",
   "execution_count": 3,
   "metadata": {},
   "outputs": [],
   "source": [
    "import pandas as pd\n",
    "import numpy as np"
   ]
  },
  {
   "cell_type": "code",
   "execution_count": 4,
   "metadata": {},
   "outputs": [],
   "source": [
    "from ipyannotations.text import ClassLabeller"
   ]
  },
  {
   "cell_type": "code",
   "execution_count": 5,
   "metadata": {},
   "outputs": [],
   "source": [
    "from lib.annotate import (\n",
    "    extract_random_tweets, \n",
    "    add_labels, \n",
    ")"
   ]
  },
  {
   "cell_type": "code",
   "execution_count": 6,
   "metadata": {},
   "outputs": [],
   "source": [
    "path = \"../backup/data/df_cleaned.csv\"\n",
    "df = pd.read_csv(path)"
   ]
  },
  {
   "cell_type": "code",
   "execution_count": 7,
   "metadata": {},
   "outputs": [],
   "source": [
    "LABELS = [\"inflation\", \"desinflation\", \"stability\", \"deflation\", \"other\", \"not_about_prices\"]"
   ]
  },
  {
   "attachments": {},
   "cell_type": "markdown",
   "metadata": {},
   "source": [
    "## Extract random tweets and indices"
   ]
  },
  {
   "cell_type": "code",
   "execution_count": 8,
   "metadata": {},
   "outputs": [],
   "source": [
    "indices, tweets = extract_random_tweets(df, prop=.0001)"
   ]
  },
  {
   "cell_type": "code",
   "execution_count": 9,
   "metadata": {},
   "outputs": [
    {
     "data": {
      "text/html": [
       "<div>\n",
       "<style scoped>\n",
       "    .dataframe tbody tr th:only-of-type {\n",
       "        vertical-align: middle;\n",
       "    }\n",
       "\n",
       "    .dataframe tbody tr th {\n",
       "        vertical-align: top;\n",
       "    }\n",
       "\n",
       "    .dataframe thead th {\n",
       "        text-align: right;\n",
       "    }\n",
       "</style>\n",
       "<table border=\"1\" class=\"dataframe\">\n",
       "  <thead>\n",
       "    <tr style=\"text-align: right;\">\n",
       "      <th></th>\n",
       "      <th>timestamp</th>\n",
       "      <th>text</th>\n",
       "      <th>emojis</th>\n",
       "      <th>retweets</th>\n",
       "      <th>likes</th>\n",
       "      <th>comments</th>\n",
       "      <th>lexical_field</th>\n",
       "      <th>text_emojis</th>\n",
       "    </tr>\n",
       "  </thead>\n",
       "  <tbody>\n",
       "    <tr>\n",
       "      <th>25882</th>\n",
       "      <td>2022-03-28</td>\n",
       "      <td>Les taux sont affectés par :\\n\\nLes attentes d...</td>\n",
       "      <td>➡ ➡ ➡</td>\n",
       "      <td>28.0</td>\n",
       "      <td>2.0</td>\n",
       "      <td>NaN</td>\n",
       "      <td>econ_terms</td>\n",
       "      <td>Les taux sont affectés par :\\n\\nLes attentes d...</td>\n",
       "    </tr>\n",
       "    <tr>\n",
       "      <th>25688</th>\n",
       "      <td>2022-03-22</td>\n",
       "      <td>\"Il faudra une grande conférence sociale et au...</td>\n",
       "      <td>NaN</td>\n",
       "      <td>42.0</td>\n",
       "      <td>20.0</td>\n",
       "      <td>1.0</td>\n",
       "      <td>econ_terms</td>\n",
       "      <td>NaN</td>\n",
       "    </tr>\n",
       "    <tr>\n",
       "      <th>23080</th>\n",
       "      <td>2022-01-06</td>\n",
       "      <td>La Bourse de Paris chute de 1,63% ce matin \\n\\...</td>\n",
       "      <td>📉 🏇</td>\n",
       "      <td>7.0</td>\n",
       "      <td>1.0</td>\n",
       "      <td>1.0</td>\n",
       "      <td>econ_terms</td>\n",
       "      <td>La Bourse de Paris chute de 1,63% ce matin \\n\\...</td>\n",
       "    </tr>\n",
       "    <tr>\n",
       "      <th>37957</th>\n",
       "      <td>2020-09-21</td>\n",
       "      <td>#LeSaviezVous ? Bill Murray, dont c'est aujour...</td>\n",
       "      <td>👉</td>\n",
       "      <td>6.0</td>\n",
       "      <td>2.0</td>\n",
       "      <td>NaN</td>\n",
       "      <td>english</td>\n",
       "      <td>#LeSaviezVous ? Bill Murray, dont c'est aujour...</td>\n",
       "    </tr>\n",
       "    <tr>\n",
       "      <th>69967</th>\n",
       "      <td>2021-03-15</td>\n",
       "      <td>Incroyable mais vrai notre presse (je ne génér...</td>\n",
       "      <td>🤮 🤮 🤮 🤢</td>\n",
       "      <td>248.0</td>\n",
       "      <td>64.0</td>\n",
       "      <td>17.0</td>\n",
       "      <td>prices</td>\n",
       "      <td>Incroyable mais vrai notre presse (je ne génér...</td>\n",
       "    </tr>\n",
       "  </tbody>\n",
       "</table>\n",
       "</div>"
      ],
      "text/plain": [
       "        timestamp                                               text   emojis  \\\n",
       "25882  2022-03-28  Les taux sont affectés par :\\n\\nLes attentes d...    ➡ ➡ ➡   \n",
       "25688  2022-03-22  \"Il faudra une grande conférence sociale et au...      NaN   \n",
       "23080  2022-01-06  La Bourse de Paris chute de 1,63% ce matin \\n\\...      📉 🏇   \n",
       "37957  2020-09-21  #LeSaviezVous ? Bill Murray, dont c'est aujour...        👉   \n",
       "69967  2021-03-15  Incroyable mais vrai notre presse (je ne génér...  🤮 🤮 🤮 🤢   \n",
       "\n",
       "       retweets  likes  comments lexical_field  \\\n",
       "25882      28.0    2.0       NaN    econ_terms   \n",
       "25688      42.0   20.0       1.0    econ_terms   \n",
       "23080       7.0    1.0       1.0    econ_terms   \n",
       "37957       6.0    2.0       NaN       english   \n",
       "69967     248.0   64.0      17.0        prices   \n",
       "\n",
       "                                             text_emojis  \n",
       "25882  Les taux sont affectés par :\\n\\nLes attentes d...  \n",
       "25688                                                NaN  \n",
       "23080  La Bourse de Paris chute de 1,63% ce matin \\n\\...  \n",
       "37957  #LeSaviezVous ? Bill Murray, dont c'est aujour...  \n",
       "69967  Incroyable mais vrai notre presse (je ne génér...  "
      ]
     },
     "execution_count": 9,
     "metadata": {},
     "output_type": "execute_result"
    }
   ],
   "source": [
    "df.iloc[indices, :].head()"
   ]
  },
  {
   "attachments": {},
   "cell_type": "markdown",
   "metadata": {},
   "source": [
    "## Labelling process"
   ]
  },
  {
   "cell_type": "code",
   "execution_count": 10,
   "metadata": {},
   "outputs": [
    {
     "data": {
      "application/vnd.jupyter.widget-view+json": {
       "model_id": "a9a4a4187d2c412f92c8f1304770521b",
       "version_major": 2,
       "version_minor": 0
      },
      "text/plain": [
       "ClassLabeller(children=(Box(children=(Output(layout=Layout(margin='auto', min_height='50px')),), layout=Layout…"
      ]
     },
     "execution_count": 10,
     "metadata": {},
     "output_type": "execute_result"
    },
    {
     "name": "stdout",
     "output_type": "stream",
     "text": [
      "Finished.\n"
     ]
    }
   ],
   "source": [
    "labels = []\n",
    "widget= ClassLabeller(options=LABELS, allow_freetext=False)\n",
    "\n",
    "def store_annotations(entity_annotation):\n",
    "    \"\"\"Description. Add annotated labels to label list until the end.\"\"\"\n",
    "    \n",
    "    labels.append(entity_annotation)\n",
    "    try:\n",
    "        widget.display(tweets.pop(0))\n",
    "    except IndexError:\n",
    "        print(\"Finished.\")\n",
    "\n",
    "widget.on_submit(store_annotations)\n",
    "\n",
    "widget.display(tweets.pop(0))\n",
    "widget"
   ]
  },
  {
   "cell_type": "code",
   "execution_count": 11,
   "metadata": {},
   "outputs": [
    {
     "name": "stdout",
     "output_type": "stream",
     "text": [
      "['inflation', 'inflation', 'inflation', 'not_about_prices', 'not_about_prices', 'other', 'not_about_prices']\n"
     ]
    }
   ],
   "source": [
    "print(labels)"
   ]
  },
  {
   "cell_type": "code",
   "execution_count": 14,
   "metadata": {},
   "outputs": [
    {
     "data": {
      "text/plain": [
       "inflation           3\n",
       "not_about_prices    3\n",
       "other               1\n",
       "Name: Label, dtype: int64"
      ]
     },
     "execution_count": 14,
     "metadata": {},
     "output_type": "execute_result"
    }
   ],
   "source": [
    "df_annotated = add_labels(df, indices, labels)\n",
    "df_annotated[\"Label\"].value_counts()"
   ]
  },
  {
   "cell_type": "code",
   "execution_count": 247,
   "metadata": {},
   "outputs": [],
   "source": [
    "# df_annotated.to_csv(\"../backup/data/df_annotated.csv\")"
   ]
  }
 ],
 "metadata": {
  "kernelspec": {
   "display_name": "env",
   "language": "python",
   "name": "python3"
  },
  "language_info": {
   "codemirror_mode": {
    "name": "ipython",
    "version": 3
   },
   "file_extension": ".py",
   "mimetype": "text/x-python",
   "name": "python",
   "nbconvert_exporter": "python",
   "pygments_lexer": "ipython3",
   "version": "3.9.9"
  },
  "orig_nbformat": 4,
  "vscode": {
   "interpreter": {
    "hash": "4f0c75c3c98d859c17a8a7b8ea0d158e580de4be82cc7ea678b044820d2772f7"
   }
  }
 },
 "nbformat": 4,
 "nbformat_minor": 2
}
