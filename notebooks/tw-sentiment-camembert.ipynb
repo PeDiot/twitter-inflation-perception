{
  "cells": [
    {
      "cell_type": "markdown",
      "metadata": {
        "id": "tI7zh8LxaZ6h"
      },
      "source": [
        "# Sentiment analysis using `camemBERT`\n",
        "\n",
        "`camemBERT` is a pre-trained version of `roBERTa` on french language data. The objective is to use pre-trained `camemBERT` to predict the polarity (positive or negative) of tweets. We only focus on model evaluation since we do not have labelled data. "
      ]
    },
    {
      "cell_type": "markdown",
      "metadata": {
        "id": "l2JUvy23aZ6r"
      },
      "source": [
        "## Setup"
      ]
    },
    {
      "cell_type": "code",
      "execution_count": 1,
      "metadata": {
        "colab": {
          "base_uri": "https://localhost:8080/"
        },
        "id": "MWm53M3Na1v_",
        "outputId": "5d467f70-4a2d-4f92-b460-0b6de3ec3e0e"
      },
      "outputs": [
        {
          "name": "stdout",
          "output_type": "stream",
          "text": [
            "Drive already mounted at /content/drive; to attempt to forcibly remount, call drive.mount(\"/content/drive\", force_remount=True).\n"
          ]
        }
      ],
      "source": [
        "# configuration to use the notebook on google collab\n",
        "\n",
        "# from google.colab import drive\n",
        "# drive.mount(\"/content/drive\")\n",
        "\n",
        "# DRIVE_PATH = \"/content/drive/MyDrive/twitter-inflation-perception/\"\n",
        "\n",
        "# import os\n",
        "# os.chdir(DRIVE_PATH+\"notebooks/\")\n",
        "\n",
        "# !pip install transformers==4.25.1\n",
        "# !pip install sentencepiece"
      ]
    },
    {
      "cell_type": "code",
      "execution_count": 3,
      "metadata": {
        "id": "-OeigGHDue7P"
      },
      "outputs": [],
      "source": [
        "import sys \n",
        "sys.path.append(\"../\")"
      ]
    },
    {
      "cell_type": "code",
      "execution_count": 4,
      "metadata": {
        "id": "uoxk9Nixuh4o"
      },
      "outputs": [],
      "source": [
        "from lib.sentiment.preprocessing import (\n",
        "    load_tokenizer, \n",
        "    preprocess, \n",
        "    train_val_split\n",
        ")\n",
        "from lib.sentiment.model import load_model, backup_model \n",
        "\n",
        "from lib.sentiment.training import (\n",
        "    train, \n",
        "    init_scheduler, \n",
        "    check_convergence\n",
        ")\n",
        "from lib.sentiment.validation import evaluate \n",
        "\n",
        "from lib.sentiment.utils import results_to_dict, get_avg_training_losses"
      ]
    },
    {
      "cell_type": "code",
      "execution_count": 5,
      "metadata": {
        "id": "DKTsS8qmHKM0"
      },
      "outputs": [],
      "source": [
        "import os\n",
        "import json\n",
        "\n",
        "import time\n",
        "import datetime\n",
        "\n",
        "import numpy as np\n",
        "import pandas as pd\n",
        "import pickle as pkl\n",
        "\n",
        "import matplotlib.pyplot as plt\n",
        "from sklearn import metrics"
      ]
    },
    {
      "cell_type": "code",
      "execution_count": 6,
      "metadata": {
        "id": "gTbgsyn2aZ6v"
      },
      "outputs": [],
      "source": [
        "import torch\n",
        "from torch.utils.data import (\n",
        "    TensorDataset, \n",
        "    random_split, \n",
        "    DataLoader, \n",
        "    RandomSampler, \n",
        "    SequentialSampler\n",
        ")"
      ]
    },
    {
      "cell_type": "code",
      "execution_count": 7,
      "metadata": {
        "id": "EU_g04Lmv4Oi"
      },
      "outputs": [],
      "source": [
        "from transformers import AdamW"
      ]
    },
    {
      "cell_type": "markdown",
      "metadata": {
        "id": "di-jfnfAvB8D"
      },
      "source": [
        "## Data"
      ]
    },
    {
      "cell_type": "code",
      "execution_count": 8,
      "metadata": {
        "id": "lvPWbsrRa9nJ"
      },
      "outputs": [],
      "source": [
        "file_path = DRIVE_PATH + \"backup/data/french_tweets.csv\"\n",
        "french_tweets = pd.read_csv(file_path)"
      ]
    },
    {
      "cell_type": "code",
      "execution_count": 9,
      "metadata": {
        "colab": {
          "base_uri": "https://localhost:8080/",
          "height": 206
        },
        "id": "3TqVX5esaZ6z",
        "outputId": "84413dd0-4cc7-4735-dc52-bbce32689fa9"
      },
      "outputs": [
        {
          "data": {
            "text/html": [
              "\n",
              "  <div id=\"df-a9f72278-5d3f-4ce4-9ffc-8e4efb988df5\">\n",
              "    <div class=\"colab-df-container\">\n",
              "      <div>\n",
              "<style scoped>\n",
              "    .dataframe tbody tr th:only-of-type {\n",
              "        vertical-align: middle;\n",
              "    }\n",
              "\n",
              "    .dataframe tbody tr th {\n",
              "        vertical-align: top;\n",
              "    }\n",
              "\n",
              "    .dataframe thead th {\n",
              "        text-align: right;\n",
              "    }\n",
              "</style>\n",
              "<table border=\"1\" class=\"dataframe\">\n",
              "  <thead>\n",
              "    <tr style=\"text-align: right;\">\n",
              "      <th></th>\n",
              "      <th>label</th>\n",
              "      <th>text</th>\n",
              "    </tr>\n",
              "  </thead>\n",
              "  <tbody>\n",
              "    <tr>\n",
              "      <th>0</th>\n",
              "      <td>0</td>\n",
              "      <td>- Awww, c'est un bummer. Tu devrais avoir davi...</td>\n",
              "    </tr>\n",
              "    <tr>\n",
              "      <th>1</th>\n",
              "      <td>0</td>\n",
              "      <td>Est contrarié qu'il ne puisse pas mettre à jou...</td>\n",
              "    </tr>\n",
              "    <tr>\n",
              "      <th>2</th>\n",
              "      <td>0</td>\n",
              "      <td>J'ai plongé plusieurs fois pour la balle. A ré...</td>\n",
              "    </tr>\n",
              "    <tr>\n",
              "      <th>3</th>\n",
              "      <td>0</td>\n",
              "      <td>Tout mon corps a des démangeaisons et comme si...</td>\n",
              "    </tr>\n",
              "    <tr>\n",
              "      <th>4</th>\n",
              "      <td>0</td>\n",
              "      <td>Non, il ne se comporte pas du tout. je suis en...</td>\n",
              "    </tr>\n",
              "  </tbody>\n",
              "</table>\n",
              "</div>\n",
              "      <button class=\"colab-df-convert\" onclick=\"convertToInteractive('df-a9f72278-5d3f-4ce4-9ffc-8e4efb988df5')\"\n",
              "              title=\"Convert this dataframe to an interactive table.\"\n",
              "              style=\"display:none;\">\n",
              "        \n",
              "  <svg xmlns=\"http://www.w3.org/2000/svg\" height=\"24px\"viewBox=\"0 0 24 24\"\n",
              "       width=\"24px\">\n",
              "    <path d=\"M0 0h24v24H0V0z\" fill=\"none\"/>\n",
              "    <path d=\"M18.56 5.44l.94 2.06.94-2.06 2.06-.94-2.06-.94-.94-2.06-.94 2.06-2.06.94zm-11 1L8.5 8.5l.94-2.06 2.06-.94-2.06-.94L8.5 2.5l-.94 2.06-2.06.94zm10 10l.94 2.06.94-2.06 2.06-.94-2.06-.94-.94-2.06-.94 2.06-2.06.94z\"/><path d=\"M17.41 7.96l-1.37-1.37c-.4-.4-.92-.59-1.43-.59-.52 0-1.04.2-1.43.59L10.3 9.45l-7.72 7.72c-.78.78-.78 2.05 0 2.83L4 21.41c.39.39.9.59 1.41.59.51 0 1.02-.2 1.41-.59l7.78-7.78 2.81-2.81c.8-.78.8-2.07 0-2.86zM5.41 20L4 18.59l7.72-7.72 1.47 1.35L5.41 20z\"/>\n",
              "  </svg>\n",
              "      </button>\n",
              "      \n",
              "  <style>\n",
              "    .colab-df-container {\n",
              "      display:flex;\n",
              "      flex-wrap:wrap;\n",
              "      gap: 12px;\n",
              "    }\n",
              "\n",
              "    .colab-df-convert {\n",
              "      background-color: #E8F0FE;\n",
              "      border: none;\n",
              "      border-radius: 50%;\n",
              "      cursor: pointer;\n",
              "      display: none;\n",
              "      fill: #1967D2;\n",
              "      height: 32px;\n",
              "      padding: 0 0 0 0;\n",
              "      width: 32px;\n",
              "    }\n",
              "\n",
              "    .colab-df-convert:hover {\n",
              "      background-color: #E2EBFA;\n",
              "      box-shadow: 0px 1px 2px rgba(60, 64, 67, 0.3), 0px 1px 3px 1px rgba(60, 64, 67, 0.15);\n",
              "      fill: #174EA6;\n",
              "    }\n",
              "\n",
              "    [theme=dark] .colab-df-convert {\n",
              "      background-color: #3B4455;\n",
              "      fill: #D2E3FC;\n",
              "    }\n",
              "\n",
              "    [theme=dark] .colab-df-convert:hover {\n",
              "      background-color: #434B5C;\n",
              "      box-shadow: 0px 1px 3px 1px rgba(0, 0, 0, 0.15);\n",
              "      filter: drop-shadow(0px 1px 2px rgba(0, 0, 0, 0.3));\n",
              "      fill: #FFFFFF;\n",
              "    }\n",
              "  </style>\n",
              "\n",
              "      <script>\n",
              "        const buttonEl =\n",
              "          document.querySelector('#df-a9f72278-5d3f-4ce4-9ffc-8e4efb988df5 button.colab-df-convert');\n",
              "        buttonEl.style.display =\n",
              "          google.colab.kernel.accessAllowed ? 'block' : 'none';\n",
              "\n",
              "        async function convertToInteractive(key) {\n",
              "          const element = document.querySelector('#df-a9f72278-5d3f-4ce4-9ffc-8e4efb988df5');\n",
              "          const dataTable =\n",
              "            await google.colab.kernel.invokeFunction('convertToInteractive',\n",
              "                                                     [key], {});\n",
              "          if (!dataTable) return;\n",
              "\n",
              "          const docLinkHtml = 'Like what you see? Visit the ' +\n",
              "            '<a target=\"_blank\" href=https://colab.research.google.com/notebooks/data_table.ipynb>data table notebook</a>'\n",
              "            + ' to learn more about interactive tables.';\n",
              "          element.innerHTML = '';\n",
              "          dataTable['output_type'] = 'display_data';\n",
              "          await google.colab.output.renderOutput(dataTable, element);\n",
              "          const docLink = document.createElement('div');\n",
              "          docLink.innerHTML = docLinkHtml;\n",
              "          element.appendChild(docLink);\n",
              "        }\n",
              "      </script>\n",
              "    </div>\n",
              "  </div>\n",
              "  "
            ],
            "text/plain": [
              "   label                                               text\n",
              "0      0  - Awww, c'est un bummer. Tu devrais avoir davi...\n",
              "1      0  Est contrarié qu'il ne puisse pas mettre à jou...\n",
              "2      0  J'ai plongé plusieurs fois pour la balle. A ré...\n",
              "3      0  Tout mon corps a des démangeaisons et comme si...\n",
              "4      0  Non, il ne se comporte pas du tout. je suis en..."
            ]
          },
          "execution_count": 9,
          "metadata": {},
          "output_type": "execute_result"
        }
      ],
      "source": [
        "french_tweets.head()"
      ]
    },
    {
      "cell_type": "code",
      "execution_count": 10,
      "metadata": {
        "colab": {
          "base_uri": "https://localhost:8080/"
        },
        "id": "u05Z3Z7uaZ61",
        "outputId": "bdf9540a-a6a2-4735-cffa-20cf8c787442"
      },
      "outputs": [
        {
          "name": "stdout",
          "output_type": "stream",
          "text": [
            "1526724 tweets in the dataset\n"
          ]
        }
      ],
      "source": [
        "n_tweets, _ = french_tweets.shape\n",
        "print(f\"{n_tweets} tweets in the dataset\")"
      ]
    },
    {
      "cell_type": "code",
      "execution_count": null,
      "metadata": {
        "id": "kLDj4BZnaZ63"
      },
      "outputs": [],
      "source": [
        "french_tweets[\"label\"].value_counts() / n_tweets"
      ]
    },
    {
      "cell_type": "code",
      "execution_count": 11,
      "metadata": {
        "colab": {
          "base_uri": "https://localhost:8080/"
        },
        "id": "3mk9hizUaZ64",
        "outputId": "0110f5ca-98ef-46d0-e2b8-d4b49d640400"
      },
      "outputs": [
        {
          "name": "stdout",
          "output_type": "stream",
          "text": [
            "152672\n"
          ]
        }
      ],
      "source": [
        "# extract sample to reduce computation time \n",
        "\n",
        "prop = .1\n",
        "size = int(n_tweets * prop) \n",
        "idxs = np.random.randint(low=0, high=n_tweets, size=size).tolist()\n",
        "\n",
        "tweets_sample = french_tweets.iloc[idxs, :]\n",
        "\n",
        "print(len(tweets_sample))"
      ]
    },
    {
      "cell_type": "code",
      "execution_count": 12,
      "metadata": {
        "colab": {
          "base_uri": "https://localhost:8080/"
        },
        "id": "EmnXc80DaZ66",
        "outputId": "9fb178e0-6ac1-46d1-c389-ed96fb084e0f"
      },
      "outputs": [
        {
          "data": {
            "text/plain": [
              "0    0.507212\n",
              "1    0.492788\n",
              "Name: label, dtype: float64"
            ]
          },
          "execution_count": 12,
          "metadata": {},
          "output_type": "execute_result"
        }
      ],
      "source": [
        "tweets_sample[\"label\"].value_counts() / len(tweets_sample)"
      ]
    },
    {
      "cell_type": "code",
      "execution_count": 13,
      "metadata": {
        "id": "shklKqs4cCyT"
      },
      "outputs": [],
      "source": [
        "tweets = tweets_sample[\"text\"].values.tolist()\n",
        "sentiments = tweets_sample[\"label\"].values.tolist()"
      ]
    },
    {
      "cell_type": "markdown",
      "metadata": {
        "id": "vpQwDmfaaZ67"
      },
      "source": [
        "## Preprocessing"
      ]
    },
    {
      "cell_type": "code",
      "execution_count": 14,
      "metadata": {
        "id": "3mywzDBYaZ68"
      },
      "outputs": [],
      "source": [
        "tokenizer = load_tokenizer()"
      ]
    },
    {
      "cell_type": "code",
      "execution_count": 19,
      "metadata": {
        "colab": {
          "base_uri": "https://localhost:8080/"
        },
        "id": "xxd-HGl5nSB0",
        "outputId": "3b7f12b3-1d92-442d-cf4f-b6d18edc7144"
      },
      "outputs": [
        {
          "data": {
            "text/plain": [
              "transformers.models.camembert.tokenization_camembert.CamembertTokenizer"
            ]
          },
          "execution_count": 19,
          "metadata": {},
          "output_type": "execute_result"
        }
      ],
      "source": [
        "type(tokenizer)"
      ]
    },
    {
      "cell_type": "code",
      "execution_count": 20,
      "metadata": {
        "id": "cn4Ds-uIaZ6-"
      },
      "outputs": [],
      "source": [
        "tweets_train, tweets_validation, sentiments_train, sentiments_validation = train_val_split(tweets, sentiments, train_prop=.8)"
      ]
    },
    {
      "cell_type": "code",
      "execution_count": 21,
      "metadata": {
        "colab": {
          "base_uri": "https://localhost:8080/"
        },
        "id": "AKSzqzMCaZ6_",
        "outputId": "707da282-ea82-4445-ecc6-44dcab2d8dc6"
      },
      "outputs": [
        {
          "name": "stderr",
          "output_type": "stream",
          "text": [
            "/usr/local/lib/python3.8/dist-packages/transformers/tokenization_utils_base.py:2336: FutureWarning: The `pad_to_max_length` argument is deprecated and will be removed in a future version, use `padding=True` or `padding='longest'` to pad to the longest sequence in the batch, or use `padding='max_length'` to pad to a max length. In this case, you can give a specific length with `max_length` (e.g. `max_length=45`) or leave max_length to None to pad to the maximal input size of the model (e.g. 512 for Bert).\n",
            "  warnings.warn(\n"
          ]
        }
      ],
      "source": [
        "input_ids, attention_mask, sentiments_train = preprocess(tweets_train, tokenizer, sentiments=sentiments_train)\n",
        "\n",
        "train_dataset = TensorDataset(\n",
        "    input_ids,\n",
        "    attention_mask,\n",
        "    sentiments_train)"
      ]
    },
    {
      "cell_type": "code",
      "execution_count": 23,
      "metadata": {
        "id": "0r--v_RgaZ7A"
      },
      "outputs": [],
      "source": [
        "input_ids, attention_mask, sentiments_validation = preprocess(tweets_validation, tokenizer, sentiments=sentiments_validation)\n",
        "\n",
        "validation_dataset = TensorDataset(\n",
        "    input_ids,\n",
        "    attention_mask,\n",
        "    sentiments_validation)"
      ]
    },
    {
      "cell_type": "code",
      "execution_count": 24,
      "metadata": {
        "id": "KaIdMxlirdFc"
      },
      "outputs": [],
      "source": [
        "batch_size = 64\n",
        "\n",
        "train_dataloader = DataLoader(\n",
        "    train_dataset,\n",
        "    sampler = RandomSampler(train_dataset),\n",
        "    batch_size = batch_size)\n",
        "\n",
        "validation_dataloader = DataLoader(\n",
        "    validation_dataset,\n",
        "    sampler = SequentialSampler(validation_dataset),\n",
        "    batch_size = batch_size)"
      ]
    },
    {
      "cell_type": "markdown",
      "metadata": {
        "id": "BfhGd_o-aZ7B"
      },
      "source": [
        "## Model"
      ]
    },
    {
      "cell_type": "markdown",
      "metadata": {
        "id": "bYnFgb5kaZ7B"
      },
      "source": [
        "### Load `camemBERT`"
      ]
    },
    {
      "cell_type": "code",
      "execution_count": 25,
      "metadata": {
        "colab": {
          "base_uri": "https://localhost:8080/",
          "height": 173,
          "referenced_widgets": [
            "c9b47ca7683a42d2a3d51170017a72d8",
            "48ecbaff2b8a478e9aa7fa499a7351b6",
            "ff0aaaa503f54989a4de11b3ed772224",
            "e3e2d444fd244394b14e09b9de5c1cf0",
            "d8a6fa8ad7274a069317adbdfaec0db1",
            "3d3098e9170642f392b69bd58cd78e52",
            "1341302ed92840e4b9b29a8b0638b8ba",
            "12400a5f9c2a4025ad1ceab226679e67",
            "c93bec4f18b842e788917b25e05bcd33",
            "f56659ddd81a4ed0b1e8c26c5cd40e65",
            "066557aee6ae40059d303edc156a32aa"
          ]
        },
        "id": "Fep4-kkXaZ7C",
        "outputId": "66d92545-cbe0-4ef1-8bec-3582e772734b"
      },
      "outputs": [
        {
          "data": {
            "application/vnd.jupyter.widget-view+json": {
              "model_id": "c9b47ca7683a42d2a3d51170017a72d8",
              "version_major": 2,
              "version_minor": 0
            },
            "text/plain": [
              "Downloading (…)\"pytorch_model.bin\";:   0%|          | 0.00/445M [00:00<?, ?B/s]"
            ]
          },
          "metadata": {},
          "output_type": "display_data"
        },
        {
          "name": "stderr",
          "output_type": "stream",
          "text": [
            "Some weights of the model checkpoint at camembert-base were not used when initializing CamembertForSequenceClassification: ['roberta.pooler.dense.bias', 'lm_head.layer_norm.weight', 'lm_head.bias', 'lm_head.layer_norm.bias', 'lm_head.dense.weight', 'lm_head.dense.bias', 'roberta.pooler.dense.weight', 'lm_head.decoder.weight']\n",
            "- This IS expected if you are initializing CamembertForSequenceClassification from the checkpoint of a model trained on another task or with another architecture (e.g. initializing a BertForSequenceClassification model from a BertForPreTraining model).\n",
            "- This IS NOT expected if you are initializing CamembertForSequenceClassification from the checkpoint of a model that you expect to be exactly identical (initializing a BertForSequenceClassification model from a BertForSequenceClassification model).\n",
            "Some weights of CamembertForSequenceClassification were not initialized from the model checkpoint at camembert-base and are newly initialized: ['classifier.out_proj.bias', 'classifier.dense.weight', 'classifier.out_proj.weight', 'classifier.dense.bias']\n",
            "You should probably TRAIN this model on a down-stream task to be able to use it for predictions and inference.\n"
          ]
        },
        {
          "name": "stdout",
          "output_type": "stream",
          "text": [
            "device=device(type='cuda', index=0)\n"
          ]
        }
      ],
      "source": [
        "model = load_model()\n",
        "\n",
        "# initialize a variable holding the device used for training ('cpu' or 'cuda')\n",
        "device = torch.device(\"cuda:0\" if torch.cuda.is_available() else \"cpu\")\n",
        "print(f\"{device=}\")\n",
        "model = model.to(device)"
      ]
    },
    {
      "cell_type": "code",
      "execution_count": 26,
      "metadata": {
        "colab": {
          "base_uri": "https://localhost:8080/"
        },
        "id": "3SD2aDfLaZ7D",
        "outputId": "6eddb812-8259-4761-85a4-394657a7170d"
      },
      "outputs": [
        {
          "name": "stdout",
          "output_type": "stream",
          "text": [
            "110,623,490 parameters in camemBERT\n"
          ]
        }
      ],
      "source": [
        "n_params = sum(p.numel() for p in model.parameters())\n",
        "print(\"{:,} parameters in camemBERT\".format(n_params) )"
      ]
    },
    {
      "cell_type": "markdown",
      "metadata": {
        "id": "I2AR19i7aZ7D"
      },
      "source": [
        "### Training & validation"
      ]
    },
    {
      "cell_type": "code",
      "execution_count": null,
      "metadata": {
        "id": "29dE_UjFYg_s"
      },
      "outputs": [],
      "source": [
        "# list to store training results \n",
        "statistics = []\n",
        "\n",
        "num_epochs = 4\n",
        "\n",
        "optimizer = AdamW(model.parameters(), lr = 2e-5, eps = 1e-8)\n",
        "scheduler = init_scheduler(num_epochs, train_dataloader, optimizer)\n",
        "\n",
        "model_path = \"../backup/models/twitter-camembert.pt\"\n",
        "\n",
        "# to evaluate the convergence on the training\n",
        "consecutive_epochs_with_no_improve = 0"
      ]
    },
    {
      "cell_type": "code",
      "execution_count": 45,
      "metadata": {
        "colab": {
          "base_uri": "https://localhost:8080/"
        },
        "id": "n99ypHFpaZ7H",
        "outputId": "ea42eaeb-425b-42c6-f643-009262acbc50"
      },
      "outputs": [
        {
          "name": "stderr",
          "output_type": "stream",
          "text": [
            "Training Epoch [3/4]: 100%|██████████| 1909/1909 [36:22<00:00,  1.14s/it, loss_train=0.22, training_time=1091.37]\n"
          ]
        },
        {
          "name": "stdout",
          "output_type": "stream",
          "text": [
            "Model saved at ../backup/models/twitter-camembert.pt\n"
          ]
        },
        {
          "name": "stderr",
          "output_type": "stream",
          "text": [
            "Validation in progress: 100%|██████████| 478/478 [02:33<00:00,  3.11it/s, balanced_accuracy_score=1]\n",
            "Training Epoch [4/4]: 100%|██████████| 1909/1909 [36:21<00:00,  1.14s/it, loss_train=0.38, training_time=1090.74]\n",
            "Validation in progress: 100%|██████████| 478/478 [02:34<00:00,  3.10it/s, balanced_accuracy_score=1]\n"
          ]
        }
      ],
      "source": [
        "for epoch in (2, 3):\n",
        "    \n",
        "    batch_losses, training_times = train(\n",
        "        model, \n",
        "        train_dataloader, \n",
        "        device, \n",
        "        optimizer, \n",
        "        scheduler, \n",
        "        epoch, \n",
        "        num_epochs)\n",
        "\n",
        "    if num_epochs > 3 and epoch > 1: \n",
        "        curr_loss =  np.mean(batch_losses)\n",
        "        avg_train_losses = get_avg_training_losses(statistics)\n",
        "\n",
        "        consecutive_epochs_with_no_improve = check_convergence(\n",
        "            model, \n",
        "            model_path, \n",
        "            avg_train_losses, \n",
        "            curr_loss, \n",
        "            consecutive_epochs_with_no_improve)\n",
        "        \n",
        "        if consecutive_epochs_with_no_improve == 2:\n",
        "          print(\"Stop training: The loss has not changed since 2 epochs!\")\n",
        "          break\n",
        "\n",
        "    accuracy_scores = evaluate(model, validation_dataloader, device)\n",
        "    statistics.append(results_to_dict(epoch, batch_losses, training_times, accuracy_scores))"
      ]
    },
    {
      "cell_type": "code",
      "execution_count": null,
      "metadata": {
        "id": "Te6sLP_Sxov4"
      },
      "outputs": [],
      "source": [
        "training_stats_path = \"../backup/models/training-stats-camembert.json\"\n",
        "\n",
        "with open(training_stats_path, \"w\") as f:\n",
        "    json.dump(statistics, f) "
      ]
    },
    {
      "cell_type": "code",
      "execution_count": 56,
      "metadata": {
        "colab": {
          "base_uri": "https://localhost:8080/"
        },
        "id": "4qHcd-DYU_l-",
        "outputId": "365c8ff1-32f0-42c5-9ae3-0a25a879a58d"
      },
      "outputs": [
        {
          "name": "stdout",
          "output_type": "stream",
          "text": [
            "Epoch 0\n",
            "Average training loss = 0.444\n",
            "Average validation accuracy = 0.818\n",
            "--------------------------------------------------\n",
            "Epoch 1\n",
            "Average training loss = 0.371\n",
            "Average validation accuracy = 0.823\n",
            "--------------------------------------------------\n",
            "Epoch 2\n",
            "Average training loss = 0.346\n",
            "Average validation accuracy = 0.823\n",
            "--------------------------------------------------\n",
            "Epoch 3\n",
            "Average training loss = 0.347\n",
            "Average validation accuracy = 0.823\n",
            "--------------------------------------------------\n"
          ]
        }
      ],
      "source": [
        "for stat in statistics: \n",
        "    print(f\"Epoch {stat['epoch']}\")\n",
        "    print(f\"Average training loss = {round(np.mean(stat['train_batch_losses']), 3)}\")\n",
        "    print(f\"Average validation accuracy = {round(np.mean(stat['val_batch_scores']), 3)}\")\n",
        "    print(\"-\"*50)"
      ]
    },
    {
      "cell_type": "markdown",
      "metadata": {
        "id": "IYlx4PUYunUH"
      },
      "source": [
        "### Train on whole data set"
      ]
    },
    {
      "cell_type": "code",
      "execution_count": 15,
      "metadata": {
        "colab": {
          "base_uri": "https://localhost:8080/"
        },
        "id": "QtNt-vE2uyn-",
        "outputId": "1fa16f09-051f-4855-b640-5617b2ef4ce8"
      },
      "outputs": [
        {
          "name": "stderr",
          "output_type": "stream",
          "text": [
            "/usr/local/lib/python3.8/dist-packages/transformers/tokenization_utils_base.py:2336: FutureWarning: The `pad_to_max_length` argument is deprecated and will be removed in a future version, use `padding=True` or `padding='longest'` to pad to the longest sequence in the batch, or use `padding='max_length'` to pad to a max length. In this case, you can give a specific length with `max_length` (e.g. `max_length=45`) or leave max_length to None to pad to the maximal input size of the model (e.g. 512 for Bert).\n",
            "  warnings.warn(\n"
          ]
        }
      ],
      "source": [
        "batch_size = 64\n",
        "\n",
        "input_ids, attention_mask, sentiments = preprocess(tweets, tokenizer, sentiments=sentiments)\n",
        "\n",
        "dataset = TensorDataset(\n",
        "    input_ids,\n",
        "    attention_mask,\n",
        "    sentiments)\n",
        "\n",
        "dataloader = DataLoader(\n",
        "    dataset,\n",
        "    sampler = RandomSampler(dataset),\n",
        "    batch_size = batch_size)"
      ]
    },
    {
      "cell_type": "code",
      "execution_count": 16,
      "metadata": {
        "colab": {
          "base_uri": "https://localhost:8080/"
        },
        "id": "J4-k7AyVwKZi",
        "outputId": "fc0b4c33-9b21-454f-b6ca-bb584a0c0d2b"
      },
      "outputs": [
        {
          "name": "stdout",
          "output_type": "stream",
          "text": [
            "Loading trained model...\n"
          ]
        }
      ],
      "source": [
        "model_path = \"../backup/models/twitter-camembert.pt\"\n",
        "model = load_model(model_path)"
      ]
    },
    {
      "cell_type": "code",
      "execution_count": 17,
      "metadata": {
        "colab": {
          "base_uri": "https://localhost:8080/"
        },
        "id": "5OujGYOHxBZx",
        "outputId": "4dfa8980-b499-47e2-c4a9-5a1453b9e99f"
      },
      "outputs": [
        {
          "name": "stdout",
          "output_type": "stream",
          "text": [
            "device=device(type='cuda', index=0)\n"
          ]
        }
      ],
      "source": [
        "# initialize a variable holding the device used for training ('cpu' or 'cuda')\n",
        "device = torch.device(\"cuda:0\" if torch.cuda.is_available() else \"cpu\")\n",
        "print(f\"{device=}\")\n",
        "model = model.to(device)"
      ]
    },
    {
      "cell_type": "code",
      "execution_count": 20,
      "metadata": {
        "colab": {
          "base_uri": "https://localhost:8080/"
        },
        "id": "AIRVE-YTxPaZ",
        "outputId": "298ad77c-800d-4f5f-e629-7512c731750a"
      },
      "outputs": [
        {
          "name": "stderr",
          "output_type": "stream",
          "text": [
            "/usr/local/lib/python3.8/dist-packages/transformers/optimization.py:306: FutureWarning: This implementation of AdamW is deprecated and will be removed in a future version. Use the PyTorch implementation torch.optim.AdamW instead, or set `no_deprecation_warning=True` to disable this warning\n",
            "  warnings.warn(\n"
          ]
        }
      ],
      "source": [
        "optimizer = AdamW(model.parameters(), lr = 2e-5, eps = 1e-8)\n",
        "scheduler = init_scheduler(num_epochs=1, dataloader=dataloader, optimizer=optimizer)"
      ]
    },
    {
      "cell_type": "code",
      "execution_count": null,
      "metadata": {
        "colab": {
          "base_uri": "https://localhost:8080/"
        },
        "id": "48YSKCOrvcjD",
        "outputId": "23326fe7-c961-4ebb-ecac-9e7ea8e0349b"
      },
      "outputs": [
        {
          "name": "stderr",
          "output_type": "stream",
          "text": [
            "Training Epoch [1/1]:   2%|▏         | 45/2386 [01:02<55:50,  1.43s/it, loss_train=0.3, training_time=1.68e+9]"
          ]
        }
      ],
      "source": [
        "batch_losses, training_times = train(\n",
        "    model, \n",
        "    dataloader, \n",
        "    device, \n",
        "    optimizer, \n",
        "    scheduler, \n",
        "    epoch=0, \n",
        "    num_epochs=1)"
      ]
    },
    {
      "cell_type": "code",
      "execution_count": 48,
      "metadata": {
        "colab": {
          "base_uri": "https://localhost:8080/"
        },
        "id": "wA76ASwfaZ7I",
        "outputId": "916e63dc-b482-4f6f-801e-1ecc397a74e6"
      },
      "outputs": [
        {
          "name": "stdout",
          "output_type": "stream",
          "text": [
            "Model saved at ../backup/models/twitter-camembert.pt\n"
          ]
        }
      ],
      "source": [
        "backup_model(model, model_path)"
      ]
    },
    {
      "cell_type": "markdown",
      "metadata": {
        "id": "Geh_OXIaaZ7J"
      },
      "source": [
        "## Evaluation on unseen data"
      ]
    }
  ],
  "metadata": {
    "accelerator": "GPU",
    "colab": {
      "provenance": []
    },
    "gpuClass": "standard",
    "kernelspec": {
      "display_name": "env",
      "language": "python",
      "name": "python3"
    },
    "language_info": {
      "codemirror_mode": {
        "name": "ipython",
        "version": 3
      },
      "file_extension": ".py",
      "mimetype": "text/x-python",
      "name": "python",
      "nbconvert_exporter": "python",
      "pygments_lexer": "ipython3",
      "version": "3.9.9"
    },
    "vscode": {
      "interpreter": {
        "hash": "4f0c75c3c98d859c17a8a7b8ea0d158e580de4be82cc7ea678b044820d2772f7"
      }
    },
    "widgets": {
      "application/vnd.jupyter.widget-state+json": {
        "066557aee6ae40059d303edc156a32aa": {
          "model_module": "@jupyter-widgets/controls",
          "model_module_version": "1.5.0",
          "model_name": "DescriptionStyleModel",
          "state": {
            "_model_module": "@jupyter-widgets/controls",
            "_model_module_version": "1.5.0",
            "_model_name": "DescriptionStyleModel",
            "_view_count": null,
            "_view_module": "@jupyter-widgets/base",
            "_view_module_version": "1.2.0",
            "_view_name": "StyleView",
            "description_width": ""
          }
        },
        "12400a5f9c2a4025ad1ceab226679e67": {
          "model_module": "@jupyter-widgets/base",
          "model_module_version": "1.2.0",
          "model_name": "LayoutModel",
          "state": {
            "_model_module": "@jupyter-widgets/base",
            "_model_module_version": "1.2.0",
            "_model_name": "LayoutModel",
            "_view_count": null,
            "_view_module": "@jupyter-widgets/base",
            "_view_module_version": "1.2.0",
            "_view_name": "LayoutView",
            "align_content": null,
            "align_items": null,
            "align_self": null,
            "border": null,
            "bottom": null,
            "display": null,
            "flex": null,
            "flex_flow": null,
            "grid_area": null,
            "grid_auto_columns": null,
            "grid_auto_flow": null,
            "grid_auto_rows": null,
            "grid_column": null,
            "grid_gap": null,
            "grid_row": null,
            "grid_template_areas": null,
            "grid_template_columns": null,
            "grid_template_rows": null,
            "height": null,
            "justify_content": null,
            "justify_items": null,
            "left": null,
            "margin": null,
            "max_height": null,
            "max_width": null,
            "min_height": null,
            "min_width": null,
            "object_fit": null,
            "object_position": null,
            "order": null,
            "overflow": null,
            "overflow_x": null,
            "overflow_y": null,
            "padding": null,
            "right": null,
            "top": null,
            "visibility": null,
            "width": null
          }
        },
        "1341302ed92840e4b9b29a8b0638b8ba": {
          "model_module": "@jupyter-widgets/controls",
          "model_module_version": "1.5.0",
          "model_name": "DescriptionStyleModel",
          "state": {
            "_model_module": "@jupyter-widgets/controls",
            "_model_module_version": "1.5.0",
            "_model_name": "DescriptionStyleModel",
            "_view_count": null,
            "_view_module": "@jupyter-widgets/base",
            "_view_module_version": "1.2.0",
            "_view_name": "StyleView",
            "description_width": ""
          }
        },
        "3d3098e9170642f392b69bd58cd78e52": {
          "model_module": "@jupyter-widgets/base",
          "model_module_version": "1.2.0",
          "model_name": "LayoutModel",
          "state": {
            "_model_module": "@jupyter-widgets/base",
            "_model_module_version": "1.2.0",
            "_model_name": "LayoutModel",
            "_view_count": null,
            "_view_module": "@jupyter-widgets/base",
            "_view_module_version": "1.2.0",
            "_view_name": "LayoutView",
            "align_content": null,
            "align_items": null,
            "align_self": null,
            "border": null,
            "bottom": null,
            "display": null,
            "flex": null,
            "flex_flow": null,
            "grid_area": null,
            "grid_auto_columns": null,
            "grid_auto_flow": null,
            "grid_auto_rows": null,
            "grid_column": null,
            "grid_gap": null,
            "grid_row": null,
            "grid_template_areas": null,
            "grid_template_columns": null,
            "grid_template_rows": null,
            "height": null,
            "justify_content": null,
            "justify_items": null,
            "left": null,
            "margin": null,
            "max_height": null,
            "max_width": null,
            "min_height": null,
            "min_width": null,
            "object_fit": null,
            "object_position": null,
            "order": null,
            "overflow": null,
            "overflow_x": null,
            "overflow_y": null,
            "padding": null,
            "right": null,
            "top": null,
            "visibility": null,
            "width": null
          }
        },
        "48ecbaff2b8a478e9aa7fa499a7351b6": {
          "model_module": "@jupyter-widgets/controls",
          "model_module_version": "1.5.0",
          "model_name": "HTMLModel",
          "state": {
            "_dom_classes": [],
            "_model_module": "@jupyter-widgets/controls",
            "_model_module_version": "1.5.0",
            "_model_name": "HTMLModel",
            "_view_count": null,
            "_view_module": "@jupyter-widgets/controls",
            "_view_module_version": "1.5.0",
            "_view_name": "HTMLView",
            "description": "",
            "description_tooltip": null,
            "layout": "IPY_MODEL_3d3098e9170642f392b69bd58cd78e52",
            "placeholder": "​",
            "style": "IPY_MODEL_1341302ed92840e4b9b29a8b0638b8ba",
            "value": "Downloading (…)&quot;pytorch_model.bin&quot;;: 100%"
          }
        },
        "c93bec4f18b842e788917b25e05bcd33": {
          "model_module": "@jupyter-widgets/controls",
          "model_module_version": "1.5.0",
          "model_name": "ProgressStyleModel",
          "state": {
            "_model_module": "@jupyter-widgets/controls",
            "_model_module_version": "1.5.0",
            "_model_name": "ProgressStyleModel",
            "_view_count": null,
            "_view_module": "@jupyter-widgets/base",
            "_view_module_version": "1.2.0",
            "_view_name": "StyleView",
            "bar_color": null,
            "description_width": ""
          }
        },
        "c9b47ca7683a42d2a3d51170017a72d8": {
          "model_module": "@jupyter-widgets/controls",
          "model_module_version": "1.5.0",
          "model_name": "HBoxModel",
          "state": {
            "_dom_classes": [],
            "_model_module": "@jupyter-widgets/controls",
            "_model_module_version": "1.5.0",
            "_model_name": "HBoxModel",
            "_view_count": null,
            "_view_module": "@jupyter-widgets/controls",
            "_view_module_version": "1.5.0",
            "_view_name": "HBoxView",
            "box_style": "",
            "children": [
              "IPY_MODEL_48ecbaff2b8a478e9aa7fa499a7351b6",
              "IPY_MODEL_ff0aaaa503f54989a4de11b3ed772224",
              "IPY_MODEL_e3e2d444fd244394b14e09b9de5c1cf0"
            ],
            "layout": "IPY_MODEL_d8a6fa8ad7274a069317adbdfaec0db1"
          }
        },
        "d8a6fa8ad7274a069317adbdfaec0db1": {
          "model_module": "@jupyter-widgets/base",
          "model_module_version": "1.2.0",
          "model_name": "LayoutModel",
          "state": {
            "_model_module": "@jupyter-widgets/base",
            "_model_module_version": "1.2.0",
            "_model_name": "LayoutModel",
            "_view_count": null,
            "_view_module": "@jupyter-widgets/base",
            "_view_module_version": "1.2.0",
            "_view_name": "LayoutView",
            "align_content": null,
            "align_items": null,
            "align_self": null,
            "border": null,
            "bottom": null,
            "display": null,
            "flex": null,
            "flex_flow": null,
            "grid_area": null,
            "grid_auto_columns": null,
            "grid_auto_flow": null,
            "grid_auto_rows": null,
            "grid_column": null,
            "grid_gap": null,
            "grid_row": null,
            "grid_template_areas": null,
            "grid_template_columns": null,
            "grid_template_rows": null,
            "height": null,
            "justify_content": null,
            "justify_items": null,
            "left": null,
            "margin": null,
            "max_height": null,
            "max_width": null,
            "min_height": null,
            "min_width": null,
            "object_fit": null,
            "object_position": null,
            "order": null,
            "overflow": null,
            "overflow_x": null,
            "overflow_y": null,
            "padding": null,
            "right": null,
            "top": null,
            "visibility": null,
            "width": null
          }
        },
        "e3e2d444fd244394b14e09b9de5c1cf0": {
          "model_module": "@jupyter-widgets/controls",
          "model_module_version": "1.5.0",
          "model_name": "HTMLModel",
          "state": {
            "_dom_classes": [],
            "_model_module": "@jupyter-widgets/controls",
            "_model_module_version": "1.5.0",
            "_model_name": "HTMLModel",
            "_view_count": null,
            "_view_module": "@jupyter-widgets/controls",
            "_view_module_version": "1.5.0",
            "_view_name": "HTMLView",
            "description": "",
            "description_tooltip": null,
            "layout": "IPY_MODEL_f56659ddd81a4ed0b1e8c26c5cd40e65",
            "placeholder": "​",
            "style": "IPY_MODEL_066557aee6ae40059d303edc156a32aa",
            "value": " 445M/445M [00:08&lt;00:00, 50.9MB/s]"
          }
        },
        "f56659ddd81a4ed0b1e8c26c5cd40e65": {
          "model_module": "@jupyter-widgets/base",
          "model_module_version": "1.2.0",
          "model_name": "LayoutModel",
          "state": {
            "_model_module": "@jupyter-widgets/base",
            "_model_module_version": "1.2.0",
            "_model_name": "LayoutModel",
            "_view_count": null,
            "_view_module": "@jupyter-widgets/base",
            "_view_module_version": "1.2.0",
            "_view_name": "LayoutView",
            "align_content": null,
            "align_items": null,
            "align_self": null,
            "border": null,
            "bottom": null,
            "display": null,
            "flex": null,
            "flex_flow": null,
            "grid_area": null,
            "grid_auto_columns": null,
            "grid_auto_flow": null,
            "grid_auto_rows": null,
            "grid_column": null,
            "grid_gap": null,
            "grid_row": null,
            "grid_template_areas": null,
            "grid_template_columns": null,
            "grid_template_rows": null,
            "height": null,
            "justify_content": null,
            "justify_items": null,
            "left": null,
            "margin": null,
            "max_height": null,
            "max_width": null,
            "min_height": null,
            "min_width": null,
            "object_fit": null,
            "object_position": null,
            "order": null,
            "overflow": null,
            "overflow_x": null,
            "overflow_y": null,
            "padding": null,
            "right": null,
            "top": null,
            "visibility": null,
            "width": null
          }
        },
        "ff0aaaa503f54989a4de11b3ed772224": {
          "model_module": "@jupyter-widgets/controls",
          "model_module_version": "1.5.0",
          "model_name": "FloatProgressModel",
          "state": {
            "_dom_classes": [],
            "_model_module": "@jupyter-widgets/controls",
            "_model_module_version": "1.5.0",
            "_model_name": "FloatProgressModel",
            "_view_count": null,
            "_view_module": "@jupyter-widgets/controls",
            "_view_module_version": "1.5.0",
            "_view_name": "ProgressView",
            "bar_style": "success",
            "description": "",
            "description_tooltip": null,
            "layout": "IPY_MODEL_12400a5f9c2a4025ad1ceab226679e67",
            "max": 445032417,
            "min": 0,
            "orientation": "horizontal",
            "style": "IPY_MODEL_c93bec4f18b842e788917b25e05bcd33",
            "value": 445032417
          }
        }
      }
    }
  },
  "nbformat": 4,
  "nbformat_minor": 0
}
