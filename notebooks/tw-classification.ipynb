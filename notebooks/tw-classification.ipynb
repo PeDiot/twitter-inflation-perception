{
 "cells": [
  {
   "attachments": {},
   "cell_type": "markdown",
   "metadata": {},
   "source": [
    "# Classification to identify price-related tweets\n",
    "\n",
    "**Objective**\n",
    "\n",
    "We use the embeddings computed for each tweet and the labels added manually to train a random forest model to detect tweets whether a tweet is related to prices matter."
   ]
  },
  {
   "attachments": {},
   "cell_type": "markdown",
   "metadata": {},
   "source": [
    "## Setup"
   ]
  },
  {
   "cell_type": "code",
   "execution_count": 1,
   "metadata": {},
   "outputs": [],
   "source": [
    "import numpy as np \n",
    "import pandas as pd \n",
    "import matplotlib.pyplot as plt\n",
    "\n",
    "import pickle as pkl\n",
    "\n",
    "from rich.table import Table \n",
    "from rich.console import Console"
   ]
  },
  {
   "cell_type": "code",
   "execution_count": 58,
   "metadata": {},
   "outputs": [],
   "source": [
    "from sklearn.preprocessing import StandardScaler\n",
    "\n",
    "from sklearn.decomposition import PCA\n",
    "\n",
    "from sklearn.model_selection import (\n",
    "    train_test_split, \n",
    "    cross_val_score, \n",
    "    GridSearchCV\n",
    ")\n",
    "\n",
    "from sklearn.pipeline import Pipeline\n",
    "\n",
    "from sklearn.dummy import DummyClassifier \n",
    "from sklearn.linear_model import LogisticRegression \n",
    "from sklearn.ensemble import RandomForestClassifier, GradientBoostingClassifier\n",
    "from sklearn.svm import LinearSVC\n",
    "\n",
    "from sklearn.metrics import (\n",
    "    balanced_accuracy_score, \n",
    "    make_scorer,\n",
    "    confusion_matrix, \n",
    "    ConfusionMatrixDisplay\n",
    ")"
   ]
  },
  {
   "cell_type": "code",
   "execution_count": 3,
   "metadata": {},
   "outputs": [],
   "source": [
    "from xgboost import XGBClassifier"
   ]
  },
  {
   "cell_type": "code",
   "execution_count": 4,
   "metadata": {},
   "outputs": [],
   "source": [
    "import sqlalchemy\n",
    "from optuna import Trial, create_study"
   ]
  },
  {
   "cell_type": "code",
   "execution_count": 5,
   "metadata": {},
   "outputs": [],
   "source": [
    "from multiprocessing import cpu_count"
   ]
  },
  {
   "cell_type": "code",
   "execution_count": 6,
   "metadata": {},
   "outputs": [
    {
     "data": {
      "text/plain": [
       "8"
      ]
     },
     "execution_count": 6,
     "metadata": {},
     "output_type": "execute_result"
    }
   ],
   "source": [
    "CPU_COUNT = cpu_count()\n",
    "CPU_COUNT"
   ]
  },
  {
   "attachments": {},
   "cell_type": "markdown",
   "metadata": {},
   "source": [
    "## Data"
   ]
  },
  {
   "attachments": {},
   "cell_type": "markdown",
   "metadata": {},
   "source": [
    "### Load annotated dataset and embeddings"
   ]
  },
  {
   "cell_type": "code",
   "execution_count": 16,
   "metadata": {},
   "outputs": [],
   "source": [
    "df_annotated = pd.read_csv(\"../backup/data/df_annotated.csv\")"
   ]
  },
  {
   "cell_type": "code",
   "execution_count": 8,
   "metadata": {},
   "outputs": [
    {
     "data": {
      "text/html": [
       "<div>\n",
       "<style scoped>\n",
       "    .dataframe tbody tr th:only-of-type {\n",
       "        vertical-align: middle;\n",
       "    }\n",
       "\n",
       "    .dataframe tbody tr th {\n",
       "        vertical-align: top;\n",
       "    }\n",
       "\n",
       "    .dataframe thead th {\n",
       "        text-align: right;\n",
       "    }\n",
       "</style>\n",
       "<table border=\"1\" class=\"dataframe\">\n",
       "  <thead>\n",
       "    <tr style=\"text-align: right;\">\n",
       "      <th></th>\n",
       "      <th>timestamp</th>\n",
       "      <th>text</th>\n",
       "      <th>emojis</th>\n",
       "      <th>retweets</th>\n",
       "      <th>likes</th>\n",
       "      <th>comments</th>\n",
       "      <th>lexical_field</th>\n",
       "      <th>text_emojis</th>\n",
       "      <th>label</th>\n",
       "    </tr>\n",
       "  </thead>\n",
       "  <tbody>\n",
       "    <tr>\n",
       "      <th>0</th>\n",
       "      <td>2020-01-01</td>\n",
       "      <td>le tout vendu à des prix \\n«défiant toute conc...</td>\n",
       "      <td>NaN</td>\n",
       "      <td>NaN</td>\n",
       "      <td>NaN</td>\n",
       "      <td>NaN</td>\n",
       "      <td>cheap</td>\n",
       "      <td>NaN</td>\n",
       "      <td>NaN</td>\n",
       "    </tr>\n",
       "    <tr>\n",
       "      <th>1</th>\n",
       "      <td>2020-01-01</td>\n",
       "      <td>Pour ceux qui veulent allier l'utile à l'agréa...</td>\n",
       "      <td>🛑 🛑</td>\n",
       "      <td>NaN</td>\n",
       "      <td>NaN</td>\n",
       "      <td>NaN</td>\n",
       "      <td>cheap</td>\n",
       "      <td>Pour ceux qui veulent allier l'utile à l'agréa...</td>\n",
       "      <td>NaN</td>\n",
       "    </tr>\n",
       "    <tr>\n",
       "      <th>2</th>\n",
       "      <td>2020-01-02</td>\n",
       "      <td>Nouvelle perspective: BARAKA BUSINESS SARL, ne...</td>\n",
       "      <td>NaN</td>\n",
       "      <td>3.0</td>\n",
       "      <td>NaN</td>\n",
       "      <td>NaN</td>\n",
       "      <td>cheap</td>\n",
       "      <td>NaN</td>\n",
       "      <td>not_about_prices</td>\n",
       "    </tr>\n",
       "    <tr>\n",
       "      <th>3</th>\n",
       "      <td>2020-01-02</td>\n",
       "      <td>J'ai du mal à savoir si #Cirelli a reçu la Leg...</td>\n",
       "      <td>NaN</td>\n",
       "      <td>3.0</td>\n",
       "      <td>1.0</td>\n",
       "      <td>NaN</td>\n",
       "      <td>cheap</td>\n",
       "      <td>NaN</td>\n",
       "      <td>NaN</td>\n",
       "    </tr>\n",
       "    <tr>\n",
       "      <th>4</th>\n",
       "      <td>2020-01-06</td>\n",
       "      <td>Un iPhone pas cher ? C’est maintenant possible...</td>\n",
       "      <td>⭐ 😉</td>\n",
       "      <td>284.0</td>\n",
       "      <td>69.0</td>\n",
       "      <td>36.0</td>\n",
       "      <td>cheap</td>\n",
       "      <td>Un iPhone pas cher ? C’est maintenant possible...</td>\n",
       "      <td>NaN</td>\n",
       "    </tr>\n",
       "  </tbody>\n",
       "</table>\n",
       "</div>"
      ],
      "text/plain": [
       "    timestamp                                               text emojis  \\\n",
       "0  2020-01-01  le tout vendu à des prix \\n«défiant toute conc...    NaN   \n",
       "1  2020-01-01  Pour ceux qui veulent allier l'utile à l'agréa...    🛑 🛑   \n",
       "2  2020-01-02  Nouvelle perspective: BARAKA BUSINESS SARL, ne...    NaN   \n",
       "3  2020-01-02  J'ai du mal à savoir si #Cirelli a reçu la Leg...    NaN   \n",
       "4  2020-01-06  Un iPhone pas cher ? C’est maintenant possible...    ⭐ 😉   \n",
       "\n",
       "   retweets  likes  comments lexical_field  \\\n",
       "0       NaN    NaN       NaN         cheap   \n",
       "1       NaN    NaN       NaN         cheap   \n",
       "2       3.0    NaN       NaN         cheap   \n",
       "3       3.0    1.0       NaN         cheap   \n",
       "4     284.0   69.0      36.0         cheap   \n",
       "\n",
       "                                         text_emojis             label  \n",
       "0                                                NaN               NaN  \n",
       "1  Pour ceux qui veulent allier l'utile à l'agréa...               NaN  \n",
       "2                                                NaN  not_about_prices  \n",
       "3                                                NaN               NaN  \n",
       "4  Un iPhone pas cher ? C’est maintenant possible...               NaN  "
      ]
     },
     "execution_count": 8,
     "metadata": {},
     "output_type": "execute_result"
    }
   ],
   "source": [
    "df_annotated.head()"
   ]
  },
  {
   "cell_type": "code",
   "execution_count": 9,
   "metadata": {},
   "outputs": [
    {
     "data": {
      "text/plain": [
       "not_about_prices    684\n",
       "inflation           302\n",
       "desinflation         14\n",
       "other                11\n",
       "deflation             5\n",
       "stability             2\n",
       "Name: label, dtype: int64"
      ]
     },
     "execution_count": 9,
     "metadata": {},
     "output_type": "execute_result"
    }
   ],
   "source": [
    "df_annotated[\"label\"].value_counts()"
   ]
  },
  {
   "cell_type": "code",
   "execution_count": 10,
   "metadata": {},
   "outputs": [],
   "source": [
    "def is_on_topic(label: str) -> float: \n",
    "    \"\"\"Description. \n",
    "    Return 1 if label is about prices, 0 is not about prices and nan if no label.\"\"\"\n",
    "\n",
    "    if pd.isna(label): \n",
    "        return float(\"nan\")\n",
    "    elif label == \"not_about_prices\": \n",
    "        return 0\n",
    "    else: \n",
    "        return 1"
   ]
  },
  {
   "cell_type": "code",
   "execution_count": 17,
   "metadata": {},
   "outputs": [],
   "source": [
    "df_annotated[\"on_topic\"] = df_annotated[\"label\"].apply(is_on_topic)"
   ]
  },
  {
   "cell_type": "code",
   "execution_count": 12,
   "metadata": {},
   "outputs": [],
   "source": [
    "embeddings = np.load(\"../backup/data/embeddings_french.npy\")"
   ]
  },
  {
   "cell_type": "code",
   "execution_count": 13,
   "metadata": {},
   "outputs": [],
   "source": [
    "assert embeddings.shape[0] == df_annotated.shape[0]"
   ]
  },
  {
   "attachments": {},
   "cell_type": "markdown",
   "metadata": {},
   "source": [
    "### Train/test split "
   ]
  },
  {
   "cell_type": "code",
   "execution_count": 18,
   "metadata": {},
   "outputs": [],
   "source": [
    "annotated_idxs = df_annotated.loc[df_annotated[\"on_topic\"].notna(), :].index.values.tolist()"
   ]
  },
  {
   "cell_type": "code",
   "execution_count": 19,
   "metadata": {},
   "outputs": [
    {
     "data": {
      "text/plain": [
       "0.0    684\n",
       "1.0    334\n",
       "Name: on_topic, dtype: int64"
      ]
     },
     "execution_count": 19,
     "metadata": {},
     "output_type": "execute_result"
    }
   ],
   "source": [
    "df_annotated[\"on_topic\"][annotated_idxs].value_counts()"
   ]
  },
  {
   "cell_type": "code",
   "execution_count": 20,
   "metadata": {},
   "outputs": [],
   "source": [
    "X, y = embeddings, df_annotated[\"on_topic\"].values\n",
    "\n",
    "X_train, y_train = X[annotated_idxs, :], y[annotated_idxs]\n",
    "X_test = np.delete(X, annotated_idxs, axis=0)"
   ]
  },
  {
   "cell_type": "code",
   "execution_count": 21,
   "metadata": {},
   "outputs": [],
   "source": [
    "X_train, X_val, y_train, y_val = train_test_split(X_train, y_train, test_size=.1)"
   ]
  },
  {
   "attachments": {},
   "cell_type": "markdown",
   "metadata": {},
   "source": [
    "### Principal Component Analysis (PCA)\n",
    "\n",
    "PCA is used to decompose a multivariate dataset in a set of successive orthogonal components that explain a maximum amount of the variance. The objective is to reduce the dimension of the embeddings so as to remove as much noise as possible and only keep general patterns."
   ]
  },
  {
   "cell_type": "code",
   "execution_count": 59,
   "metadata": {},
   "outputs": [
    {
     "data": {
      "text/html": [
       "<style>#sk-container-id-8 {color: black;background-color: white;}#sk-container-id-8 pre{padding: 0;}#sk-container-id-8 div.sk-toggleable {background-color: white;}#sk-container-id-8 label.sk-toggleable__label {cursor: pointer;display: block;width: 100%;margin-bottom: 0;padding: 0.3em;box-sizing: border-box;text-align: center;}#sk-container-id-8 label.sk-toggleable__label-arrow:before {content: \"▸\";float: left;margin-right: 0.25em;color: #696969;}#sk-container-id-8 label.sk-toggleable__label-arrow:hover:before {color: black;}#sk-container-id-8 div.sk-estimator:hover label.sk-toggleable__label-arrow:before {color: black;}#sk-container-id-8 div.sk-toggleable__content {max-height: 0;max-width: 0;overflow: hidden;text-align: left;background-color: #f0f8ff;}#sk-container-id-8 div.sk-toggleable__content pre {margin: 0.2em;color: black;border-radius: 0.25em;background-color: #f0f8ff;}#sk-container-id-8 input.sk-toggleable__control:checked~div.sk-toggleable__content {max-height: 200px;max-width: 100%;overflow: auto;}#sk-container-id-8 input.sk-toggleable__control:checked~label.sk-toggleable__label-arrow:before {content: \"▾\";}#sk-container-id-8 div.sk-estimator input.sk-toggleable__control:checked~label.sk-toggleable__label {background-color: #d4ebff;}#sk-container-id-8 div.sk-label input.sk-toggleable__control:checked~label.sk-toggleable__label {background-color: #d4ebff;}#sk-container-id-8 input.sk-hidden--visually {border: 0;clip: rect(1px 1px 1px 1px);clip: rect(1px, 1px, 1px, 1px);height: 1px;margin: -1px;overflow: hidden;padding: 0;position: absolute;width: 1px;}#sk-container-id-8 div.sk-estimator {font-family: monospace;background-color: #f0f8ff;border: 1px dotted black;border-radius: 0.25em;box-sizing: border-box;margin-bottom: 0.5em;}#sk-container-id-8 div.sk-estimator:hover {background-color: #d4ebff;}#sk-container-id-8 div.sk-parallel-item::after {content: \"\";width: 100%;border-bottom: 1px solid gray;flex-grow: 1;}#sk-container-id-8 div.sk-label:hover label.sk-toggleable__label {background-color: #d4ebff;}#sk-container-id-8 div.sk-serial::before {content: \"\";position: absolute;border-left: 1px solid gray;box-sizing: border-box;top: 0;bottom: 0;left: 50%;z-index: 0;}#sk-container-id-8 div.sk-serial {display: flex;flex-direction: column;align-items: center;background-color: white;padding-right: 0.2em;padding-left: 0.2em;position: relative;}#sk-container-id-8 div.sk-item {position: relative;z-index: 1;}#sk-container-id-8 div.sk-parallel {display: flex;align-items: stretch;justify-content: center;background-color: white;position: relative;}#sk-container-id-8 div.sk-item::before, #sk-container-id-8 div.sk-parallel-item::before {content: \"\";position: absolute;border-left: 1px solid gray;box-sizing: border-box;top: 0;bottom: 0;left: 50%;z-index: -1;}#sk-container-id-8 div.sk-parallel-item {display: flex;flex-direction: column;z-index: 1;position: relative;background-color: white;}#sk-container-id-8 div.sk-parallel-item:first-child::after {align-self: flex-end;width: 50%;}#sk-container-id-8 div.sk-parallel-item:last-child::after {align-self: flex-start;width: 50%;}#sk-container-id-8 div.sk-parallel-item:only-child::after {width: 0;}#sk-container-id-8 div.sk-dashed-wrapped {border: 1px dashed gray;margin: 0 0.4em 0.5em 0.4em;box-sizing: border-box;padding-bottom: 0.4em;background-color: white;}#sk-container-id-8 div.sk-label label {font-family: monospace;font-weight: bold;display: inline-block;line-height: 1.2em;}#sk-container-id-8 div.sk-label-container {text-align: center;}#sk-container-id-8 div.sk-container {/* jupyter's `normalize.less` sets `[hidden] { display: none; }` but bootstrap.min.css set `[hidden] { display: none !important; }` so we also need the `!important` here to be able to override the default hidden behavior on the sphinx rendered scikit-learn.org. See: https://github.com/scikit-learn/scikit-learn/issues/21755 */display: inline-block !important;position: relative;}#sk-container-id-8 div.sk-text-repr-fallback {display: none;}</style><div id=\"sk-container-id-8\" class=\"sk-top-container\"><div class=\"sk-text-repr-fallback\"><pre>PCA(n_components=0.95, svd_solver=&#x27;full&#x27;)</pre><b>In a Jupyter environment, please rerun this cell to show the HTML representation or trust the notebook. <br />On GitHub, the HTML representation is unable to render, please try loading this page with nbviewer.org.</b></div><div class=\"sk-container\" hidden><div class=\"sk-item\"><div class=\"sk-estimator sk-toggleable\"><input class=\"sk-toggleable__control sk-hidden--visually\" id=\"sk-estimator-id-14\" type=\"checkbox\" checked><label for=\"sk-estimator-id-14\" class=\"sk-toggleable__label sk-toggleable__label-arrow\">PCA</label><div class=\"sk-toggleable__content\"><pre>PCA(n_components=0.95, svd_solver=&#x27;full&#x27;)</pre></div></div></div></div></div>"
      ],
      "text/plain": [
       "PCA(n_components=0.95, svd_solver='full')"
      ]
     },
     "execution_count": 59,
     "metadata": {},
     "output_type": "execute_result"
    }
   ],
   "source": [
    "# amount of variance that needs to be explained\n",
    "min_exp_var = .95\n",
    "\n",
    "pca = PCA(n_components=min_exp_var, svd_solver=\"full\")\n",
    "pca.fit(X_train)"
   ]
  },
  {
   "cell_type": "code",
   "execution_count": 60,
   "metadata": {},
   "outputs": [],
   "source": [
    "X_train_pca = pca.transform(X_train)\n",
    "X_val_pca = pca.transform(X_val)"
   ]
  },
  {
   "cell_type": "code",
   "execution_count": 67,
   "metadata": {},
   "outputs": [
    {
     "name": "stdout",
     "output_type": "stream",
     "text": [
      "Original embeddings' dimension: 1024\n",
      "Reduced embeddings' dimension: 370\n"
     ]
    }
   ],
   "source": [
    "print(f\"Original embeddings\" dimension: {X_train.shape[1]}\")\n",
    "print(f\"Reduced embeddings\" dimension: {X_train_pca.shape[1] }\")"
   ]
  },
  {
   "attachments": {},
   "cell_type": "markdown",
   "metadata": {},
   "source": [
    "## Models"
   ]
  },
  {
   "attachments": {},
   "cell_type": "markdown",
   "metadata": {},
   "source": [
    "**Balanced accuracy**\n",
    "\n",
    "Balanced accuracy in binary and multi-class classification is defined as the average of recall obtained on each class. Let us note $y^{\"}_i$ the label of the $i$-th sample in the test set and $\\tilde{y}^{\"}_i$ the predicted label. The test set contains $m$ samples and the target variable consists of $J$ classes. Formally, recall on class $j$ is defined as the following ratio: \n",
    "$$\n",
    "\\text{recall}_j = \\frac{\\sum_{i}^m \\pmb{1}_{y^{\"}_i = \\tilde{y}^{\"}_i} \\times \\pmb{1}_{y^{\"}_i = j}}{\\sum_{i}^m \\pmb{1}_{\\tilde{y}^{\"}_i = j}} \n",
    "$$\n",
    "\n",
    "Thus, the balanced accuracy score can be expressed as:\n",
    "$$\n",
    "\\text{bacc} = \\frac{1}{j}\\sum_{j=1}^J \\text{recall}_j = \\frac{1}{j}\\sum_{j=1}^J \\frac{\\sum_{i}^m \\pmb{1}_{y^{\"}_i = \\tilde{y}^{\"}_i} \\times \\pmb{1}_{y^{\"}_i = j}}{\\sum_{i}^m \\pmb{1}_{\\tilde{y}^{\"}_i = j}}\n",
    "$$"
   ]
  },
  {
   "cell_type": "code",
   "execution_count": 22,
   "metadata": {},
   "outputs": [],
   "source": [
    "balanced_scorer = make_scorer(balanced_accuracy_score)"
   ]
  },
  {
   "cell_type": "code",
   "execution_count": 61,
   "metadata": {},
   "outputs": [],
   "source": [
    "# instantiate list to save model results\n",
    "\n",
    "results = []"
   ]
  },
  {
   "cell_type": "code",
   "execution_count": 24,
   "metadata": {},
   "outputs": [],
   "source": [
    "from typing import List, Dict, Union\n",
    "\n",
    "def get_model_dict(model_name: str, params: Union[List, Dict], train_scores: List, val_score: float) -> Dict: \n",
    "    \"\"\"Description. Save model results into dictionnary.\"\"\"\n",
    "\n",
    "    return {\n",
    "        \"model\": model_name, \n",
    "        \"params\": params, \n",
    "        \"train_scores\": train_scores, \n",
    "        \"val_score\": val_score\n",
    "    }"
   ]
  },
  {
   "attachments": {},
   "cell_type": "markdown",
   "metadata": {},
   "source": [
    "### `DummyClassifier` benchmark"
   ]
  },
  {
   "cell_type": "code",
   "execution_count": 73,
   "metadata": {},
   "outputs": [],
   "source": [
    "dummy = DummyClassifier()"
   ]
  },
  {
   "cell_type": "code",
   "execution_count": 74,
   "metadata": {},
   "outputs": [],
   "source": [
    "train_scores = cross_val_score(dummy, X_train_pca, y_train, scoring=balanced_scorer, cv=3)"
   ]
  },
  {
   "cell_type": "code",
   "execution_count": 75,
   "metadata": {},
   "outputs": [
    {
     "data": {
      "text/html": [
       "<style>#sk-container-id-10 {color: black;background-color: white;}#sk-container-id-10 pre{padding: 0;}#sk-container-id-10 div.sk-toggleable {background-color: white;}#sk-container-id-10 label.sk-toggleable__label {cursor: pointer;display: block;width: 100%;margin-bottom: 0;padding: 0.3em;box-sizing: border-box;text-align: center;}#sk-container-id-10 label.sk-toggleable__label-arrow:before {content: \"▸\";float: left;margin-right: 0.25em;color: #696969;}#sk-container-id-10 label.sk-toggleable__label-arrow:hover:before {color: black;}#sk-container-id-10 div.sk-estimator:hover label.sk-toggleable__label-arrow:before {color: black;}#sk-container-id-10 div.sk-toggleable__content {max-height: 0;max-width: 0;overflow: hidden;text-align: left;background-color: #f0f8ff;}#sk-container-id-10 div.sk-toggleable__content pre {margin: 0.2em;color: black;border-radius: 0.25em;background-color: #f0f8ff;}#sk-container-id-10 input.sk-toggleable__control:checked~div.sk-toggleable__content {max-height: 200px;max-width: 100%;overflow: auto;}#sk-container-id-10 input.sk-toggleable__control:checked~label.sk-toggleable__label-arrow:before {content: \"▾\";}#sk-container-id-10 div.sk-estimator input.sk-toggleable__control:checked~label.sk-toggleable__label {background-color: #d4ebff;}#sk-container-id-10 div.sk-label input.sk-toggleable__control:checked~label.sk-toggleable__label {background-color: #d4ebff;}#sk-container-id-10 input.sk-hidden--visually {border: 0;clip: rect(1px 1px 1px 1px);clip: rect(1px, 1px, 1px, 1px);height: 1px;margin: -1px;overflow: hidden;padding: 0;position: absolute;width: 1px;}#sk-container-id-10 div.sk-estimator {font-family: monospace;background-color: #f0f8ff;border: 1px dotted black;border-radius: 0.25em;box-sizing: border-box;margin-bottom: 0.5em;}#sk-container-id-10 div.sk-estimator:hover {background-color: #d4ebff;}#sk-container-id-10 div.sk-parallel-item::after {content: \"\";width: 100%;border-bottom: 1px solid gray;flex-grow: 1;}#sk-container-id-10 div.sk-label:hover label.sk-toggleable__label {background-color: #d4ebff;}#sk-container-id-10 div.sk-serial::before {content: \"\";position: absolute;border-left: 1px solid gray;box-sizing: border-box;top: 0;bottom: 0;left: 50%;z-index: 0;}#sk-container-id-10 div.sk-serial {display: flex;flex-direction: column;align-items: center;background-color: white;padding-right: 0.2em;padding-left: 0.2em;position: relative;}#sk-container-id-10 div.sk-item {position: relative;z-index: 1;}#sk-container-id-10 div.sk-parallel {display: flex;align-items: stretch;justify-content: center;background-color: white;position: relative;}#sk-container-id-10 div.sk-item::before, #sk-container-id-10 div.sk-parallel-item::before {content: \"\";position: absolute;border-left: 1px solid gray;box-sizing: border-box;top: 0;bottom: 0;left: 50%;z-index: -1;}#sk-container-id-10 div.sk-parallel-item {display: flex;flex-direction: column;z-index: 1;position: relative;background-color: white;}#sk-container-id-10 div.sk-parallel-item:first-child::after {align-self: flex-end;width: 50%;}#sk-container-id-10 div.sk-parallel-item:last-child::after {align-self: flex-start;width: 50%;}#sk-container-id-10 div.sk-parallel-item:only-child::after {width: 0;}#sk-container-id-10 div.sk-dashed-wrapped {border: 1px dashed gray;margin: 0 0.4em 0.5em 0.4em;box-sizing: border-box;padding-bottom: 0.4em;background-color: white;}#sk-container-id-10 div.sk-label label {font-family: monospace;font-weight: bold;display: inline-block;line-height: 1.2em;}#sk-container-id-10 div.sk-label-container {text-align: center;}#sk-container-id-10 div.sk-container {/* jupyter's `normalize.less` sets `[hidden] { display: none; }` but bootstrap.min.css set `[hidden] { display: none !important; }` so we also need the `!important` here to be able to override the default hidden behavior on the sphinx rendered scikit-learn.org. See: https://github.com/scikit-learn/scikit-learn/issues/21755 */display: inline-block !important;position: relative;}#sk-container-id-10 div.sk-text-repr-fallback {display: none;}</style><div id=\"sk-container-id-10\" class=\"sk-top-container\"><div class=\"sk-text-repr-fallback\"><pre>DummyClassifier()</pre><b>In a Jupyter environment, please rerun this cell to show the HTML representation or trust the notebook. <br />On GitHub, the HTML representation is unable to render, please try loading this page with nbviewer.org.</b></div><div class=\"sk-container\" hidden><div class=\"sk-item\"><div class=\"sk-estimator sk-toggleable\"><input class=\"sk-toggleable__control sk-hidden--visually\" id=\"sk-estimator-id-16\" type=\"checkbox\" checked><label for=\"sk-estimator-id-16\" class=\"sk-toggleable__label sk-toggleable__label-arrow\">DummyClassifier</label><div class=\"sk-toggleable__content\"><pre>DummyClassifier()</pre></div></div></div></div></div>"
      ],
      "text/plain": [
       "DummyClassifier()"
      ]
     },
     "execution_count": 75,
     "metadata": {},
     "output_type": "execute_result"
    }
   ],
   "source": [
    "dummy.fit(X_train_pca, y_train)"
   ]
  },
  {
   "cell_type": "code",
   "execution_count": 76,
   "metadata": {},
   "outputs": [],
   "source": [
    "preds = dummy.predict(X_val_pca) \n",
    "val_score = balanced_accuracy_score(y_val, preds)"
   ]
  },
  {
   "cell_type": "code",
   "execution_count": 77,
   "metadata": {},
   "outputs": [],
   "source": [
    "results.append(get_model_dict(\"DummyClassifier\", dummy.get_params(), train_scores, val_score))"
   ]
  },
  {
   "attachments": {},
   "cell_type": "markdown",
   "metadata": {},
   "source": [
    "### `LogisticRegression`"
   ]
  },
  {
   "cell_type": "code",
   "execution_count": 78,
   "metadata": {},
   "outputs": [
    {
     "data": {
      "text/html": [
       "<style>#sk-container-id-11 {color: black;background-color: white;}#sk-container-id-11 pre{padding: 0;}#sk-container-id-11 div.sk-toggleable {background-color: white;}#sk-container-id-11 label.sk-toggleable__label {cursor: pointer;display: block;width: 100%;margin-bottom: 0;padding: 0.3em;box-sizing: border-box;text-align: center;}#sk-container-id-11 label.sk-toggleable__label-arrow:before {content: \"▸\";float: left;margin-right: 0.25em;color: #696969;}#sk-container-id-11 label.sk-toggleable__label-arrow:hover:before {color: black;}#sk-container-id-11 div.sk-estimator:hover label.sk-toggleable__label-arrow:before {color: black;}#sk-container-id-11 div.sk-toggleable__content {max-height: 0;max-width: 0;overflow: hidden;text-align: left;background-color: #f0f8ff;}#sk-container-id-11 div.sk-toggleable__content pre {margin: 0.2em;color: black;border-radius: 0.25em;background-color: #f0f8ff;}#sk-container-id-11 input.sk-toggleable__control:checked~div.sk-toggleable__content {max-height: 200px;max-width: 100%;overflow: auto;}#sk-container-id-11 input.sk-toggleable__control:checked~label.sk-toggleable__label-arrow:before {content: \"▾\";}#sk-container-id-11 div.sk-estimator input.sk-toggleable__control:checked~label.sk-toggleable__label {background-color: #d4ebff;}#sk-container-id-11 div.sk-label input.sk-toggleable__control:checked~label.sk-toggleable__label {background-color: #d4ebff;}#sk-container-id-11 input.sk-hidden--visually {border: 0;clip: rect(1px 1px 1px 1px);clip: rect(1px, 1px, 1px, 1px);height: 1px;margin: -1px;overflow: hidden;padding: 0;position: absolute;width: 1px;}#sk-container-id-11 div.sk-estimator {font-family: monospace;background-color: #f0f8ff;border: 1px dotted black;border-radius: 0.25em;box-sizing: border-box;margin-bottom: 0.5em;}#sk-container-id-11 div.sk-estimator:hover {background-color: #d4ebff;}#sk-container-id-11 div.sk-parallel-item::after {content: \"\";width: 100%;border-bottom: 1px solid gray;flex-grow: 1;}#sk-container-id-11 div.sk-label:hover label.sk-toggleable__label {background-color: #d4ebff;}#sk-container-id-11 div.sk-serial::before {content: \"\";position: absolute;border-left: 1px solid gray;box-sizing: border-box;top: 0;bottom: 0;left: 50%;z-index: 0;}#sk-container-id-11 div.sk-serial {display: flex;flex-direction: column;align-items: center;background-color: white;padding-right: 0.2em;padding-left: 0.2em;position: relative;}#sk-container-id-11 div.sk-item {position: relative;z-index: 1;}#sk-container-id-11 div.sk-parallel {display: flex;align-items: stretch;justify-content: center;background-color: white;position: relative;}#sk-container-id-11 div.sk-item::before, #sk-container-id-11 div.sk-parallel-item::before {content: \"\";position: absolute;border-left: 1px solid gray;box-sizing: border-box;top: 0;bottom: 0;left: 50%;z-index: -1;}#sk-container-id-11 div.sk-parallel-item {display: flex;flex-direction: column;z-index: 1;position: relative;background-color: white;}#sk-container-id-11 div.sk-parallel-item:first-child::after {align-self: flex-end;width: 50%;}#sk-container-id-11 div.sk-parallel-item:last-child::after {align-self: flex-start;width: 50%;}#sk-container-id-11 div.sk-parallel-item:only-child::after {width: 0;}#sk-container-id-11 div.sk-dashed-wrapped {border: 1px dashed gray;margin: 0 0.4em 0.5em 0.4em;box-sizing: border-box;padding-bottom: 0.4em;background-color: white;}#sk-container-id-11 div.sk-label label {font-family: monospace;font-weight: bold;display: inline-block;line-height: 1.2em;}#sk-container-id-11 div.sk-label-container {text-align: center;}#sk-container-id-11 div.sk-container {/* jupyter's `normalize.less` sets `[hidden] { display: none; }` but bootstrap.min.css set `[hidden] { display: none !important; }` so we also need the `!important` here to be able to override the default hidden behavior on the sphinx rendered scikit-learn.org. See: https://github.com/scikit-learn/scikit-learn/issues/21755 */display: inline-block !important;position: relative;}#sk-container-id-11 div.sk-text-repr-fallback {display: none;}</style><div id=\"sk-container-id-11\" class=\"sk-top-container\"><div class=\"sk-text-repr-fallback\"><pre>GridSearchCV(cv=3,\n",
       "             estimator=Pipeline(steps=[(&#x27;scaler&#x27;, StandardScaler()),\n",
       "                                       (&#x27;logreg&#x27;,\n",
       "                                        LogisticRegression(max_iter=1000))]),\n",
       "             param_grid={&#x27;logreg__C&#x27;: array([3.90625e-03, 7.81250e-03, 1.56250e-02, 3.12500e-02, 6.25000e-02,\n",
       "       1.25000e-01, 2.50000e-01, 5.00000e-01, 1.00000e+00, 2.00000e+00,\n",
       "       4.00000e+00, 8.00000e+00, 1.60000e+01, 3.20000e+01, 6.40000e+01,\n",
       "       1.28000e+02, 2.56000e+02])},\n",
       "             scoring=make_scorer(balanced_accuracy_score))</pre><b>In a Jupyter environment, please rerun this cell to show the HTML representation or trust the notebook. <br />On GitHub, the HTML representation is unable to render, please try loading this page with nbviewer.org.</b></div><div class=\"sk-container\" hidden><div class=\"sk-item sk-dashed-wrapped\"><div class=\"sk-label-container\"><div class=\"sk-label sk-toggleable\"><input class=\"sk-toggleable__control sk-hidden--visually\" id=\"sk-estimator-id-17\" type=\"checkbox\" ><label for=\"sk-estimator-id-17\" class=\"sk-toggleable__label sk-toggleable__label-arrow\">GridSearchCV</label><div class=\"sk-toggleable__content\"><pre>GridSearchCV(cv=3,\n",
       "             estimator=Pipeline(steps=[(&#x27;scaler&#x27;, StandardScaler()),\n",
       "                                       (&#x27;logreg&#x27;,\n",
       "                                        LogisticRegression(max_iter=1000))]),\n",
       "             param_grid={&#x27;logreg__C&#x27;: array([3.90625e-03, 7.81250e-03, 1.56250e-02, 3.12500e-02, 6.25000e-02,\n",
       "       1.25000e-01, 2.50000e-01, 5.00000e-01, 1.00000e+00, 2.00000e+00,\n",
       "       4.00000e+00, 8.00000e+00, 1.60000e+01, 3.20000e+01, 6.40000e+01,\n",
       "       1.28000e+02, 2.56000e+02])},\n",
       "             scoring=make_scorer(balanced_accuracy_score))</pre></div></div></div><div class=\"sk-parallel\"><div class=\"sk-parallel-item\"><div class=\"sk-item\"><div class=\"sk-label-container\"><div class=\"sk-label sk-toggleable\"><input class=\"sk-toggleable__control sk-hidden--visually\" id=\"sk-estimator-id-18\" type=\"checkbox\" ><label for=\"sk-estimator-id-18\" class=\"sk-toggleable__label sk-toggleable__label-arrow\">estimator: Pipeline</label><div class=\"sk-toggleable__content\"><pre>Pipeline(steps=[(&#x27;scaler&#x27;, StandardScaler()),\n",
       "                (&#x27;logreg&#x27;, LogisticRegression(max_iter=1000))])</pre></div></div></div><div class=\"sk-serial\"><div class=\"sk-item\"><div class=\"sk-serial\"><div class=\"sk-item\"><div class=\"sk-estimator sk-toggleable\"><input class=\"sk-toggleable__control sk-hidden--visually\" id=\"sk-estimator-id-19\" type=\"checkbox\" ><label for=\"sk-estimator-id-19\" class=\"sk-toggleable__label sk-toggleable__label-arrow\">StandardScaler</label><div class=\"sk-toggleable__content\"><pre>StandardScaler()</pre></div></div></div><div class=\"sk-item\"><div class=\"sk-estimator sk-toggleable\"><input class=\"sk-toggleable__control sk-hidden--visually\" id=\"sk-estimator-id-20\" type=\"checkbox\" ><label for=\"sk-estimator-id-20\" class=\"sk-toggleable__label sk-toggleable__label-arrow\">LogisticRegression</label><div class=\"sk-toggleable__content\"><pre>LogisticRegression(max_iter=1000)</pre></div></div></div></div></div></div></div></div></div></div></div></div>"
      ],
      "text/plain": [
       "GridSearchCV(cv=3,\n",
       "             estimator=Pipeline(steps=[('scaler', StandardScaler()),\n",
       "                                       ('logreg',\n",
       "                                        LogisticRegression(max_iter=1000))]),\n",
       "             param_grid={'logreg__C': array([3.90625e-03, 7.81250e-03, 1.56250e-02, 3.12500e-02, 6.25000e-02,\n",
       "       1.25000e-01, 2.50000e-01, 5.00000e-01, 1.00000e+00, 2.00000e+00,\n",
       "       4.00000e+00, 8.00000e+00, 1.60000e+01, 3.20000e+01, 6.40000e+01,\n",
       "       1.28000e+02, 2.56000e+02])},\n",
       "             scoring=make_scorer(balanced_accuracy_score))"
      ]
     },
     "execution_count": 78,
     "metadata": {},
     "output_type": "execute_result"
    }
   ],
   "source": [
    "pipe = Pipeline([\n",
    "    (\"scaler\", StandardScaler()), \n",
    "    (\"logreg\", LogisticRegression(max_iter=1000))\n",
    "])\n",
    "parameters = {\"logreg__C\": np.logspace(-8, 8, 17, base=2)} \n",
    "\n",
    "log_reg = GridSearchCV(pipe, parameters, cv=3, scoring=balanced_scorer)\n",
    "log_reg"
   ]
  },
  {
   "cell_type": "code",
   "execution_count": 79,
   "metadata": {},
   "outputs": [
    {
     "data": {
      "text/html": [
       "<style>#sk-container-id-12 {color: black;background-color: white;}#sk-container-id-12 pre{padding: 0;}#sk-container-id-12 div.sk-toggleable {background-color: white;}#sk-container-id-12 label.sk-toggleable__label {cursor: pointer;display: block;width: 100%;margin-bottom: 0;padding: 0.3em;box-sizing: border-box;text-align: center;}#sk-container-id-12 label.sk-toggleable__label-arrow:before {content: \"▸\";float: left;margin-right: 0.25em;color: #696969;}#sk-container-id-12 label.sk-toggleable__label-arrow:hover:before {color: black;}#sk-container-id-12 div.sk-estimator:hover label.sk-toggleable__label-arrow:before {color: black;}#sk-container-id-12 div.sk-toggleable__content {max-height: 0;max-width: 0;overflow: hidden;text-align: left;background-color: #f0f8ff;}#sk-container-id-12 div.sk-toggleable__content pre {margin: 0.2em;color: black;border-radius: 0.25em;background-color: #f0f8ff;}#sk-container-id-12 input.sk-toggleable__control:checked~div.sk-toggleable__content {max-height: 200px;max-width: 100%;overflow: auto;}#sk-container-id-12 input.sk-toggleable__control:checked~label.sk-toggleable__label-arrow:before {content: \"▾\";}#sk-container-id-12 div.sk-estimator input.sk-toggleable__control:checked~label.sk-toggleable__label {background-color: #d4ebff;}#sk-container-id-12 div.sk-label input.sk-toggleable__control:checked~label.sk-toggleable__label {background-color: #d4ebff;}#sk-container-id-12 input.sk-hidden--visually {border: 0;clip: rect(1px 1px 1px 1px);clip: rect(1px, 1px, 1px, 1px);height: 1px;margin: -1px;overflow: hidden;padding: 0;position: absolute;width: 1px;}#sk-container-id-12 div.sk-estimator {font-family: monospace;background-color: #f0f8ff;border: 1px dotted black;border-radius: 0.25em;box-sizing: border-box;margin-bottom: 0.5em;}#sk-container-id-12 div.sk-estimator:hover {background-color: #d4ebff;}#sk-container-id-12 div.sk-parallel-item::after {content: \"\";width: 100%;border-bottom: 1px solid gray;flex-grow: 1;}#sk-container-id-12 div.sk-label:hover label.sk-toggleable__label {background-color: #d4ebff;}#sk-container-id-12 div.sk-serial::before {content: \"\";position: absolute;border-left: 1px solid gray;box-sizing: border-box;top: 0;bottom: 0;left: 50%;z-index: 0;}#sk-container-id-12 div.sk-serial {display: flex;flex-direction: column;align-items: center;background-color: white;padding-right: 0.2em;padding-left: 0.2em;position: relative;}#sk-container-id-12 div.sk-item {position: relative;z-index: 1;}#sk-container-id-12 div.sk-parallel {display: flex;align-items: stretch;justify-content: center;background-color: white;position: relative;}#sk-container-id-12 div.sk-item::before, #sk-container-id-12 div.sk-parallel-item::before {content: \"\";position: absolute;border-left: 1px solid gray;box-sizing: border-box;top: 0;bottom: 0;left: 50%;z-index: -1;}#sk-container-id-12 div.sk-parallel-item {display: flex;flex-direction: column;z-index: 1;position: relative;background-color: white;}#sk-container-id-12 div.sk-parallel-item:first-child::after {align-self: flex-end;width: 50%;}#sk-container-id-12 div.sk-parallel-item:last-child::after {align-self: flex-start;width: 50%;}#sk-container-id-12 div.sk-parallel-item:only-child::after {width: 0;}#sk-container-id-12 div.sk-dashed-wrapped {border: 1px dashed gray;margin: 0 0.4em 0.5em 0.4em;box-sizing: border-box;padding-bottom: 0.4em;background-color: white;}#sk-container-id-12 div.sk-label label {font-family: monospace;font-weight: bold;display: inline-block;line-height: 1.2em;}#sk-container-id-12 div.sk-label-container {text-align: center;}#sk-container-id-12 div.sk-container {/* jupyter's `normalize.less` sets `[hidden] { display: none; }` but bootstrap.min.css set `[hidden] { display: none !important; }` so we also need the `!important` here to be able to override the default hidden behavior on the sphinx rendered scikit-learn.org. See: https://github.com/scikit-learn/scikit-learn/issues/21755 */display: inline-block !important;position: relative;}#sk-container-id-12 div.sk-text-repr-fallback {display: none;}</style><div id=\"sk-container-id-12\" class=\"sk-top-container\"><div class=\"sk-text-repr-fallback\"><pre>GridSearchCV(cv=3,\n",
       "             estimator=Pipeline(steps=[(&#x27;scaler&#x27;, StandardScaler()),\n",
       "                                       (&#x27;logreg&#x27;,\n",
       "                                        LogisticRegression(max_iter=1000))]),\n",
       "             param_grid={&#x27;logreg__C&#x27;: array([3.90625e-03, 7.81250e-03, 1.56250e-02, 3.12500e-02, 6.25000e-02,\n",
       "       1.25000e-01, 2.50000e-01, 5.00000e-01, 1.00000e+00, 2.00000e+00,\n",
       "       4.00000e+00, 8.00000e+00, 1.60000e+01, 3.20000e+01, 6.40000e+01,\n",
       "       1.28000e+02, 2.56000e+02])},\n",
       "             scoring=make_scorer(balanced_accuracy_score))</pre><b>In a Jupyter environment, please rerun this cell to show the HTML representation or trust the notebook. <br />On GitHub, the HTML representation is unable to render, please try loading this page with nbviewer.org.</b></div><div class=\"sk-container\" hidden><div class=\"sk-item sk-dashed-wrapped\"><div class=\"sk-label-container\"><div class=\"sk-label sk-toggleable\"><input class=\"sk-toggleable__control sk-hidden--visually\" id=\"sk-estimator-id-21\" type=\"checkbox\" ><label for=\"sk-estimator-id-21\" class=\"sk-toggleable__label sk-toggleable__label-arrow\">GridSearchCV</label><div class=\"sk-toggleable__content\"><pre>GridSearchCV(cv=3,\n",
       "             estimator=Pipeline(steps=[(&#x27;scaler&#x27;, StandardScaler()),\n",
       "                                       (&#x27;logreg&#x27;,\n",
       "                                        LogisticRegression(max_iter=1000))]),\n",
       "             param_grid={&#x27;logreg__C&#x27;: array([3.90625e-03, 7.81250e-03, 1.56250e-02, 3.12500e-02, 6.25000e-02,\n",
       "       1.25000e-01, 2.50000e-01, 5.00000e-01, 1.00000e+00, 2.00000e+00,\n",
       "       4.00000e+00, 8.00000e+00, 1.60000e+01, 3.20000e+01, 6.40000e+01,\n",
       "       1.28000e+02, 2.56000e+02])},\n",
       "             scoring=make_scorer(balanced_accuracy_score))</pre></div></div></div><div class=\"sk-parallel\"><div class=\"sk-parallel-item\"><div class=\"sk-item\"><div class=\"sk-label-container\"><div class=\"sk-label sk-toggleable\"><input class=\"sk-toggleable__control sk-hidden--visually\" id=\"sk-estimator-id-22\" type=\"checkbox\" ><label for=\"sk-estimator-id-22\" class=\"sk-toggleable__label sk-toggleable__label-arrow\">estimator: Pipeline</label><div class=\"sk-toggleable__content\"><pre>Pipeline(steps=[(&#x27;scaler&#x27;, StandardScaler()),\n",
       "                (&#x27;logreg&#x27;, LogisticRegression(max_iter=1000))])</pre></div></div></div><div class=\"sk-serial\"><div class=\"sk-item\"><div class=\"sk-serial\"><div class=\"sk-item\"><div class=\"sk-estimator sk-toggleable\"><input class=\"sk-toggleable__control sk-hidden--visually\" id=\"sk-estimator-id-23\" type=\"checkbox\" ><label for=\"sk-estimator-id-23\" class=\"sk-toggleable__label sk-toggleable__label-arrow\">StandardScaler</label><div class=\"sk-toggleable__content\"><pre>StandardScaler()</pre></div></div></div><div class=\"sk-item\"><div class=\"sk-estimator sk-toggleable\"><input class=\"sk-toggleable__control sk-hidden--visually\" id=\"sk-estimator-id-24\" type=\"checkbox\" ><label for=\"sk-estimator-id-24\" class=\"sk-toggleable__label sk-toggleable__label-arrow\">LogisticRegression</label><div class=\"sk-toggleable__content\"><pre>LogisticRegression(max_iter=1000)</pre></div></div></div></div></div></div></div></div></div></div></div></div>"
      ],
      "text/plain": [
       "GridSearchCV(cv=3,\n",
       "             estimator=Pipeline(steps=[('scaler', StandardScaler()),\n",
       "                                       ('logreg',\n",
       "                                        LogisticRegression(max_iter=1000))]),\n",
       "             param_grid={'logreg__C': array([3.90625e-03, 7.81250e-03, 1.56250e-02, 3.12500e-02, 6.25000e-02,\n",
       "       1.25000e-01, 2.50000e-01, 5.00000e-01, 1.00000e+00, 2.00000e+00,\n",
       "       4.00000e+00, 8.00000e+00, 1.60000e+01, 3.20000e+01, 6.40000e+01,\n",
       "       1.28000e+02, 2.56000e+02])},\n",
       "             scoring=make_scorer(balanced_accuracy_score))"
      ]
     },
     "execution_count": 79,
     "metadata": {},
     "output_type": "execute_result"
    }
   ],
   "source": [
    "log_reg.fit(X_train_pca, y_train)"
   ]
  },
  {
   "cell_type": "code",
   "execution_count": 80,
   "metadata": {},
   "outputs": [
    {
     "data": {
      "text/plain": [
       "[('scaler', StandardScaler()),\n",
       " ('logreg', LogisticRegression(C=0.015625, max_iter=1000))]"
      ]
     },
     "execution_count": 80,
     "metadata": {},
     "output_type": "execute_result"
    }
   ],
   "source": [
    "params = log_reg.best_estimator_.get_params()[\"steps\"]\n",
    "params"
   ]
  },
  {
   "cell_type": "code",
   "execution_count": 81,
   "metadata": {},
   "outputs": [],
   "source": [
    "train_scores = log_reg.cv_results_[\"mean_test_score\"]"
   ]
  },
  {
   "cell_type": "code",
   "execution_count": 82,
   "metadata": {},
   "outputs": [],
   "source": [
    "preds = log_reg.predict(X_val_pca)\n",
    "val_score = balanced_accuracy_score(y_val, preds)"
   ]
  },
  {
   "cell_type": "code",
   "execution_count": 83,
   "metadata": {},
   "outputs": [],
   "source": [
    "results.append(get_model_dict(\"LogisticRegression\", params, train_scores, val_score))"
   ]
  },
  {
   "attachments": {},
   "cell_type": "markdown",
   "metadata": {},
   "source": [
    "### `RandomForestClassifier` (no tuning)"
   ]
  },
  {
   "cell_type": "code",
   "execution_count": 84,
   "metadata": {},
   "outputs": [],
   "source": [
    "rf = RandomForestClassifier()"
   ]
  },
  {
   "cell_type": "code",
   "execution_count": 85,
   "metadata": {},
   "outputs": [],
   "source": [
    "train_scores = cross_val_score(rf, X_train_pca, y_train, cv=3, scoring=balanced_scorer)"
   ]
  },
  {
   "cell_type": "code",
   "execution_count": 86,
   "metadata": {},
   "outputs": [
    {
     "data": {
      "text/html": [
       "<style>#sk-container-id-13 {color: black;background-color: white;}#sk-container-id-13 pre{padding: 0;}#sk-container-id-13 div.sk-toggleable {background-color: white;}#sk-container-id-13 label.sk-toggleable__label {cursor: pointer;display: block;width: 100%;margin-bottom: 0;padding: 0.3em;box-sizing: border-box;text-align: center;}#sk-container-id-13 label.sk-toggleable__label-arrow:before {content: \"▸\";float: left;margin-right: 0.25em;color: #696969;}#sk-container-id-13 label.sk-toggleable__label-arrow:hover:before {color: black;}#sk-container-id-13 div.sk-estimator:hover label.sk-toggleable__label-arrow:before {color: black;}#sk-container-id-13 div.sk-toggleable__content {max-height: 0;max-width: 0;overflow: hidden;text-align: left;background-color: #f0f8ff;}#sk-container-id-13 div.sk-toggleable__content pre {margin: 0.2em;color: black;border-radius: 0.25em;background-color: #f0f8ff;}#sk-container-id-13 input.sk-toggleable__control:checked~div.sk-toggleable__content {max-height: 200px;max-width: 100%;overflow: auto;}#sk-container-id-13 input.sk-toggleable__control:checked~label.sk-toggleable__label-arrow:before {content: \"▾\";}#sk-container-id-13 div.sk-estimator input.sk-toggleable__control:checked~label.sk-toggleable__label {background-color: #d4ebff;}#sk-container-id-13 div.sk-label input.sk-toggleable__control:checked~label.sk-toggleable__label {background-color: #d4ebff;}#sk-container-id-13 input.sk-hidden--visually {border: 0;clip: rect(1px 1px 1px 1px);clip: rect(1px, 1px, 1px, 1px);height: 1px;margin: -1px;overflow: hidden;padding: 0;position: absolute;width: 1px;}#sk-container-id-13 div.sk-estimator {font-family: monospace;background-color: #f0f8ff;border: 1px dotted black;border-radius: 0.25em;box-sizing: border-box;margin-bottom: 0.5em;}#sk-container-id-13 div.sk-estimator:hover {background-color: #d4ebff;}#sk-container-id-13 div.sk-parallel-item::after {content: \"\";width: 100%;border-bottom: 1px solid gray;flex-grow: 1;}#sk-container-id-13 div.sk-label:hover label.sk-toggleable__label {background-color: #d4ebff;}#sk-container-id-13 div.sk-serial::before {content: \"\";position: absolute;border-left: 1px solid gray;box-sizing: border-box;top: 0;bottom: 0;left: 50%;z-index: 0;}#sk-container-id-13 div.sk-serial {display: flex;flex-direction: column;align-items: center;background-color: white;padding-right: 0.2em;padding-left: 0.2em;position: relative;}#sk-container-id-13 div.sk-item {position: relative;z-index: 1;}#sk-container-id-13 div.sk-parallel {display: flex;align-items: stretch;justify-content: center;background-color: white;position: relative;}#sk-container-id-13 div.sk-item::before, #sk-container-id-13 div.sk-parallel-item::before {content: \"\";position: absolute;border-left: 1px solid gray;box-sizing: border-box;top: 0;bottom: 0;left: 50%;z-index: -1;}#sk-container-id-13 div.sk-parallel-item {display: flex;flex-direction: column;z-index: 1;position: relative;background-color: white;}#sk-container-id-13 div.sk-parallel-item:first-child::after {align-self: flex-end;width: 50%;}#sk-container-id-13 div.sk-parallel-item:last-child::after {align-self: flex-start;width: 50%;}#sk-container-id-13 div.sk-parallel-item:only-child::after {width: 0;}#sk-container-id-13 div.sk-dashed-wrapped {border: 1px dashed gray;margin: 0 0.4em 0.5em 0.4em;box-sizing: border-box;padding-bottom: 0.4em;background-color: white;}#sk-container-id-13 div.sk-label label {font-family: monospace;font-weight: bold;display: inline-block;line-height: 1.2em;}#sk-container-id-13 div.sk-label-container {text-align: center;}#sk-container-id-13 div.sk-container {/* jupyter's `normalize.less` sets `[hidden] { display: none; }` but bootstrap.min.css set `[hidden] { display: none !important; }` so we also need the `!important` here to be able to override the default hidden behavior on the sphinx rendered scikit-learn.org. See: https://github.com/scikit-learn/scikit-learn/issues/21755 */display: inline-block !important;position: relative;}#sk-container-id-13 div.sk-text-repr-fallback {display: none;}</style><div id=\"sk-container-id-13\" class=\"sk-top-container\"><div class=\"sk-text-repr-fallback\"><pre>RandomForestClassifier()</pre><b>In a Jupyter environment, please rerun this cell to show the HTML representation or trust the notebook. <br />On GitHub, the HTML representation is unable to render, please try loading this page with nbviewer.org.</b></div><div class=\"sk-container\" hidden><div class=\"sk-item\"><div class=\"sk-estimator sk-toggleable\"><input class=\"sk-toggleable__control sk-hidden--visually\" id=\"sk-estimator-id-25\" type=\"checkbox\" checked><label for=\"sk-estimator-id-25\" class=\"sk-toggleable__label sk-toggleable__label-arrow\">RandomForestClassifier</label><div class=\"sk-toggleable__content\"><pre>RandomForestClassifier()</pre></div></div></div></div></div>"
      ],
      "text/plain": [
       "RandomForestClassifier()"
      ]
     },
     "execution_count": 86,
     "metadata": {},
     "output_type": "execute_result"
    }
   ],
   "source": [
    "rf.fit(X_train_pca, y_train)"
   ]
  },
  {
   "cell_type": "code",
   "execution_count": 87,
   "metadata": {},
   "outputs": [],
   "source": [
    "preds = rf.predict(X_val_pca)\n",
    "val_score = balanced_accuracy_score(y_val, preds)"
   ]
  },
  {
   "cell_type": "code",
   "execution_count": 88,
   "metadata": {},
   "outputs": [],
   "source": [
    "results.append(get_model_dict(\"RandomForestClassifier\", rf.get_params(), train_scores, val_score))"
   ]
  },
  {
   "attachments": {},
   "cell_type": "markdown",
   "metadata": {},
   "source": [
    "### `GradientBoostingClassifier` (no tuning)"
   ]
  },
  {
   "cell_type": "code",
   "execution_count": 91,
   "metadata": {},
   "outputs": [
    {
     "data": {
      "text/html": [
       "<style>#sk-container-id-15 {color: black;background-color: white;}#sk-container-id-15 pre{padding: 0;}#sk-container-id-15 div.sk-toggleable {background-color: white;}#sk-container-id-15 label.sk-toggleable__label {cursor: pointer;display: block;width: 100%;margin-bottom: 0;padding: 0.3em;box-sizing: border-box;text-align: center;}#sk-container-id-15 label.sk-toggleable__label-arrow:before {content: \"▸\";float: left;margin-right: 0.25em;color: #696969;}#sk-container-id-15 label.sk-toggleable__label-arrow:hover:before {color: black;}#sk-container-id-15 div.sk-estimator:hover label.sk-toggleable__label-arrow:before {color: black;}#sk-container-id-15 div.sk-toggleable__content {max-height: 0;max-width: 0;overflow: hidden;text-align: left;background-color: #f0f8ff;}#sk-container-id-15 div.sk-toggleable__content pre {margin: 0.2em;color: black;border-radius: 0.25em;background-color: #f0f8ff;}#sk-container-id-15 input.sk-toggleable__control:checked~div.sk-toggleable__content {max-height: 200px;max-width: 100%;overflow: auto;}#sk-container-id-15 input.sk-toggleable__control:checked~label.sk-toggleable__label-arrow:before {content: \"▾\";}#sk-container-id-15 div.sk-estimator input.sk-toggleable__control:checked~label.sk-toggleable__label {background-color: #d4ebff;}#sk-container-id-15 div.sk-label input.sk-toggleable__control:checked~label.sk-toggleable__label {background-color: #d4ebff;}#sk-container-id-15 input.sk-hidden--visually {border: 0;clip: rect(1px 1px 1px 1px);clip: rect(1px, 1px, 1px, 1px);height: 1px;margin: -1px;overflow: hidden;padding: 0;position: absolute;width: 1px;}#sk-container-id-15 div.sk-estimator {font-family: monospace;background-color: #f0f8ff;border: 1px dotted black;border-radius: 0.25em;box-sizing: border-box;margin-bottom: 0.5em;}#sk-container-id-15 div.sk-estimator:hover {background-color: #d4ebff;}#sk-container-id-15 div.sk-parallel-item::after {content: \"\";width: 100%;border-bottom: 1px solid gray;flex-grow: 1;}#sk-container-id-15 div.sk-label:hover label.sk-toggleable__label {background-color: #d4ebff;}#sk-container-id-15 div.sk-serial::before {content: \"\";position: absolute;border-left: 1px solid gray;box-sizing: border-box;top: 0;bottom: 0;left: 50%;z-index: 0;}#sk-container-id-15 div.sk-serial {display: flex;flex-direction: column;align-items: center;background-color: white;padding-right: 0.2em;padding-left: 0.2em;position: relative;}#sk-container-id-15 div.sk-item {position: relative;z-index: 1;}#sk-container-id-15 div.sk-parallel {display: flex;align-items: stretch;justify-content: center;background-color: white;position: relative;}#sk-container-id-15 div.sk-item::before, #sk-container-id-15 div.sk-parallel-item::before {content: \"\";position: absolute;border-left: 1px solid gray;box-sizing: border-box;top: 0;bottom: 0;left: 50%;z-index: -1;}#sk-container-id-15 div.sk-parallel-item {display: flex;flex-direction: column;z-index: 1;position: relative;background-color: white;}#sk-container-id-15 div.sk-parallel-item:first-child::after {align-self: flex-end;width: 50%;}#sk-container-id-15 div.sk-parallel-item:last-child::after {align-self: flex-start;width: 50%;}#sk-container-id-15 div.sk-parallel-item:only-child::after {width: 0;}#sk-container-id-15 div.sk-dashed-wrapped {border: 1px dashed gray;margin: 0 0.4em 0.5em 0.4em;box-sizing: border-box;padding-bottom: 0.4em;background-color: white;}#sk-container-id-15 div.sk-label label {font-family: monospace;font-weight: bold;display: inline-block;line-height: 1.2em;}#sk-container-id-15 div.sk-label-container {text-align: center;}#sk-container-id-15 div.sk-container {/* jupyter's `normalize.less` sets `[hidden] { display: none; }` but bootstrap.min.css set `[hidden] { display: none !important; }` so we also need the `!important` here to be able to override the default hidden behavior on the sphinx rendered scikit-learn.org. See: https://github.com/scikit-learn/scikit-learn/issues/21755 */display: inline-block !important;position: relative;}#sk-container-id-15 div.sk-text-repr-fallback {display: none;}</style><div id=\"sk-container-id-15\" class=\"sk-top-container\"><div class=\"sk-text-repr-fallback\"><pre>GradientBoostingClassifier()</pre><b>In a Jupyter environment, please rerun this cell to show the HTML representation or trust the notebook. <br />On GitHub, the HTML representation is unable to render, please try loading this page with nbviewer.org.</b></div><div class=\"sk-container\" hidden><div class=\"sk-item\"><div class=\"sk-estimator sk-toggleable\"><input class=\"sk-toggleable__control sk-hidden--visually\" id=\"sk-estimator-id-27\" type=\"checkbox\" checked><label for=\"sk-estimator-id-27\" class=\"sk-toggleable__label sk-toggleable__label-arrow\">GradientBoostingClassifier</label><div class=\"sk-toggleable__content\"><pre>GradientBoostingClassifier()</pre></div></div></div></div></div>"
      ],
      "text/plain": [
       "GradientBoostingClassifier()"
      ]
     },
     "execution_count": 91,
     "metadata": {},
     "output_type": "execute_result"
    }
   ],
   "source": [
    "gb = GradientBoostingClassifier()\n",
    "gb"
   ]
  },
  {
   "cell_type": "code",
   "execution_count": 92,
   "metadata": {},
   "outputs": [],
   "source": [
    "train_scores = cross_val_score(gb, X_train_pca, y_train, cv=3, scoring=balanced_scorer)"
   ]
  },
  {
   "cell_type": "code",
   "execution_count": 93,
   "metadata": {},
   "outputs": [
    {
     "data": {
      "text/html": [
       "<style>#sk-container-id-16 {color: black;background-color: white;}#sk-container-id-16 pre{padding: 0;}#sk-container-id-16 div.sk-toggleable {background-color: white;}#sk-container-id-16 label.sk-toggleable__label {cursor: pointer;display: block;width: 100%;margin-bottom: 0;padding: 0.3em;box-sizing: border-box;text-align: center;}#sk-container-id-16 label.sk-toggleable__label-arrow:before {content: \"▸\";float: left;margin-right: 0.25em;color: #696969;}#sk-container-id-16 label.sk-toggleable__label-arrow:hover:before {color: black;}#sk-container-id-16 div.sk-estimator:hover label.sk-toggleable__label-arrow:before {color: black;}#sk-container-id-16 div.sk-toggleable__content {max-height: 0;max-width: 0;overflow: hidden;text-align: left;background-color: #f0f8ff;}#sk-container-id-16 div.sk-toggleable__content pre {margin: 0.2em;color: black;border-radius: 0.25em;background-color: #f0f8ff;}#sk-container-id-16 input.sk-toggleable__control:checked~div.sk-toggleable__content {max-height: 200px;max-width: 100%;overflow: auto;}#sk-container-id-16 input.sk-toggleable__control:checked~label.sk-toggleable__label-arrow:before {content: \"▾\";}#sk-container-id-16 div.sk-estimator input.sk-toggleable__control:checked~label.sk-toggleable__label {background-color: #d4ebff;}#sk-container-id-16 div.sk-label input.sk-toggleable__control:checked~label.sk-toggleable__label {background-color: #d4ebff;}#sk-container-id-16 input.sk-hidden--visually {border: 0;clip: rect(1px 1px 1px 1px);clip: rect(1px, 1px, 1px, 1px);height: 1px;margin: -1px;overflow: hidden;padding: 0;position: absolute;width: 1px;}#sk-container-id-16 div.sk-estimator {font-family: monospace;background-color: #f0f8ff;border: 1px dotted black;border-radius: 0.25em;box-sizing: border-box;margin-bottom: 0.5em;}#sk-container-id-16 div.sk-estimator:hover {background-color: #d4ebff;}#sk-container-id-16 div.sk-parallel-item::after {content: \"\";width: 100%;border-bottom: 1px solid gray;flex-grow: 1;}#sk-container-id-16 div.sk-label:hover label.sk-toggleable__label {background-color: #d4ebff;}#sk-container-id-16 div.sk-serial::before {content: \"\";position: absolute;border-left: 1px solid gray;box-sizing: border-box;top: 0;bottom: 0;left: 50%;z-index: 0;}#sk-container-id-16 div.sk-serial {display: flex;flex-direction: column;align-items: center;background-color: white;padding-right: 0.2em;padding-left: 0.2em;position: relative;}#sk-container-id-16 div.sk-item {position: relative;z-index: 1;}#sk-container-id-16 div.sk-parallel {display: flex;align-items: stretch;justify-content: center;background-color: white;position: relative;}#sk-container-id-16 div.sk-item::before, #sk-container-id-16 div.sk-parallel-item::before {content: \"\";position: absolute;border-left: 1px solid gray;box-sizing: border-box;top: 0;bottom: 0;left: 50%;z-index: -1;}#sk-container-id-16 div.sk-parallel-item {display: flex;flex-direction: column;z-index: 1;position: relative;background-color: white;}#sk-container-id-16 div.sk-parallel-item:first-child::after {align-self: flex-end;width: 50%;}#sk-container-id-16 div.sk-parallel-item:last-child::after {align-self: flex-start;width: 50%;}#sk-container-id-16 div.sk-parallel-item:only-child::after {width: 0;}#sk-container-id-16 div.sk-dashed-wrapped {border: 1px dashed gray;margin: 0 0.4em 0.5em 0.4em;box-sizing: border-box;padding-bottom: 0.4em;background-color: white;}#sk-container-id-16 div.sk-label label {font-family: monospace;font-weight: bold;display: inline-block;line-height: 1.2em;}#sk-container-id-16 div.sk-label-container {text-align: center;}#sk-container-id-16 div.sk-container {/* jupyter's `normalize.less` sets `[hidden] { display: none; }` but bootstrap.min.css set `[hidden] { display: none !important; }` so we also need the `!important` here to be able to override the default hidden behavior on the sphinx rendered scikit-learn.org. See: https://github.com/scikit-learn/scikit-learn/issues/21755 */display: inline-block !important;position: relative;}#sk-container-id-16 div.sk-text-repr-fallback {display: none;}</style><div id=\"sk-container-id-16\" class=\"sk-top-container\"><div class=\"sk-text-repr-fallback\"><pre>GradientBoostingClassifier()</pre><b>In a Jupyter environment, please rerun this cell to show the HTML representation or trust the notebook. <br />On GitHub, the HTML representation is unable to render, please try loading this page with nbviewer.org.</b></div><div class=\"sk-container\" hidden><div class=\"sk-item\"><div class=\"sk-estimator sk-toggleable\"><input class=\"sk-toggleable__control sk-hidden--visually\" id=\"sk-estimator-id-28\" type=\"checkbox\" checked><label for=\"sk-estimator-id-28\" class=\"sk-toggleable__label sk-toggleable__label-arrow\">GradientBoostingClassifier</label><div class=\"sk-toggleable__content\"><pre>GradientBoostingClassifier()</pre></div></div></div></div></div>"
      ],
      "text/plain": [
       "GradientBoostingClassifier()"
      ]
     },
     "execution_count": 93,
     "metadata": {},
     "output_type": "execute_result"
    }
   ],
   "source": [
    "gb.fit(X_train_pca, y_train)"
   ]
  },
  {
   "cell_type": "code",
   "execution_count": 94,
   "metadata": {},
   "outputs": [],
   "source": [
    "preds = gb.predict(X_val_pca)\n",
    "val_score = balanced_accuracy_score(y_val, preds)"
   ]
  },
  {
   "cell_type": "code",
   "execution_count": 95,
   "metadata": {},
   "outputs": [],
   "source": [
    "results.append(get_model_dict(\"GradientBoostingClassifier\", gb.get_params(), train_scores, val_score))"
   ]
  },
  {
   "attachments": {},
   "cell_type": "markdown",
   "metadata": {},
   "source": [
    "### `xgboost`"
   ]
  },
  {
   "cell_type": "code",
   "execution_count": 96,
   "metadata": {},
   "outputs": [],
   "source": [
    "xgb = XGBClassifier()"
   ]
  },
  {
   "cell_type": "code",
   "execution_count": 97,
   "metadata": {},
   "outputs": [],
   "source": [
    "train_scores = cross_val_score(xgb, X_train_pca, y_train, scoring=balanced_scorer, cv=3)"
   ]
  },
  {
   "cell_type": "code",
   "execution_count": 98,
   "metadata": {},
   "outputs": [
    {
     "data": {
      "text/html": [
       "<style>#sk-container-id-17 {color: black;background-color: white;}#sk-container-id-17 pre{padding: 0;}#sk-container-id-17 div.sk-toggleable {background-color: white;}#sk-container-id-17 label.sk-toggleable__label {cursor: pointer;display: block;width: 100%;margin-bottom: 0;padding: 0.3em;box-sizing: border-box;text-align: center;}#sk-container-id-17 label.sk-toggleable__label-arrow:before {content: \"▸\";float: left;margin-right: 0.25em;color: #696969;}#sk-container-id-17 label.sk-toggleable__label-arrow:hover:before {color: black;}#sk-container-id-17 div.sk-estimator:hover label.sk-toggleable__label-arrow:before {color: black;}#sk-container-id-17 div.sk-toggleable__content {max-height: 0;max-width: 0;overflow: hidden;text-align: left;background-color: #f0f8ff;}#sk-container-id-17 div.sk-toggleable__content pre {margin: 0.2em;color: black;border-radius: 0.25em;background-color: #f0f8ff;}#sk-container-id-17 input.sk-toggleable__control:checked~div.sk-toggleable__content {max-height: 200px;max-width: 100%;overflow: auto;}#sk-container-id-17 input.sk-toggleable__control:checked~label.sk-toggleable__label-arrow:before {content: \"▾\";}#sk-container-id-17 div.sk-estimator input.sk-toggleable__control:checked~label.sk-toggleable__label {background-color: #d4ebff;}#sk-container-id-17 div.sk-label input.sk-toggleable__control:checked~label.sk-toggleable__label {background-color: #d4ebff;}#sk-container-id-17 input.sk-hidden--visually {border: 0;clip: rect(1px 1px 1px 1px);clip: rect(1px, 1px, 1px, 1px);height: 1px;margin: -1px;overflow: hidden;padding: 0;position: absolute;width: 1px;}#sk-container-id-17 div.sk-estimator {font-family: monospace;background-color: #f0f8ff;border: 1px dotted black;border-radius: 0.25em;box-sizing: border-box;margin-bottom: 0.5em;}#sk-container-id-17 div.sk-estimator:hover {background-color: #d4ebff;}#sk-container-id-17 div.sk-parallel-item::after {content: \"\";width: 100%;border-bottom: 1px solid gray;flex-grow: 1;}#sk-container-id-17 div.sk-label:hover label.sk-toggleable__label {background-color: #d4ebff;}#sk-container-id-17 div.sk-serial::before {content: \"\";position: absolute;border-left: 1px solid gray;box-sizing: border-box;top: 0;bottom: 0;left: 50%;z-index: 0;}#sk-container-id-17 div.sk-serial {display: flex;flex-direction: column;align-items: center;background-color: white;padding-right: 0.2em;padding-left: 0.2em;position: relative;}#sk-container-id-17 div.sk-item {position: relative;z-index: 1;}#sk-container-id-17 div.sk-parallel {display: flex;align-items: stretch;justify-content: center;background-color: white;position: relative;}#sk-container-id-17 div.sk-item::before, #sk-container-id-17 div.sk-parallel-item::before {content: \"\";position: absolute;border-left: 1px solid gray;box-sizing: border-box;top: 0;bottom: 0;left: 50%;z-index: -1;}#sk-container-id-17 div.sk-parallel-item {display: flex;flex-direction: column;z-index: 1;position: relative;background-color: white;}#sk-container-id-17 div.sk-parallel-item:first-child::after {align-self: flex-end;width: 50%;}#sk-container-id-17 div.sk-parallel-item:last-child::after {align-self: flex-start;width: 50%;}#sk-container-id-17 div.sk-parallel-item:only-child::after {width: 0;}#sk-container-id-17 div.sk-dashed-wrapped {border: 1px dashed gray;margin: 0 0.4em 0.5em 0.4em;box-sizing: border-box;padding-bottom: 0.4em;background-color: white;}#sk-container-id-17 div.sk-label label {font-family: monospace;font-weight: bold;display: inline-block;line-height: 1.2em;}#sk-container-id-17 div.sk-label-container {text-align: center;}#sk-container-id-17 div.sk-container {/* jupyter's `normalize.less` sets `[hidden] { display: none; }` but bootstrap.min.css set `[hidden] { display: none !important; }` so we also need the `!important` here to be able to override the default hidden behavior on the sphinx rendered scikit-learn.org. See: https://github.com/scikit-learn/scikit-learn/issues/21755 */display: inline-block !important;position: relative;}#sk-container-id-17 div.sk-text-repr-fallback {display: none;}</style><div id=\"sk-container-id-17\" class=\"sk-top-container\"><div class=\"sk-text-repr-fallback\"><pre>XGBClassifier(base_score=None, booster=None, callbacks=None,\n",
       "              colsample_bylevel=None, colsample_bynode=None,\n",
       "              colsample_bytree=None, early_stopping_rounds=None,\n",
       "              enable_categorical=False, eval_metric=None, feature_types=None,\n",
       "              gamma=None, gpu_id=None, grow_policy=None, importance_type=None,\n",
       "              interaction_constraints=None, learning_rate=None, max_bin=None,\n",
       "              max_cat_threshold=None, max_cat_to_onehot=None,\n",
       "              max_delta_step=None, max_depth=None, max_leaves=None,\n",
       "              min_child_weight=None, missing=nan, monotone_constraints=None,\n",
       "              n_estimators=100, n_jobs=None, num_parallel_tree=None,\n",
       "              predictor=None, random_state=None, ...)</pre><b>In a Jupyter environment, please rerun this cell to show the HTML representation or trust the notebook. <br />On GitHub, the HTML representation is unable to render, please try loading this page with nbviewer.org.</b></div><div class=\"sk-container\" hidden><div class=\"sk-item\"><div class=\"sk-estimator sk-toggleable\"><input class=\"sk-toggleable__control sk-hidden--visually\" id=\"sk-estimator-id-29\" type=\"checkbox\" checked><label for=\"sk-estimator-id-29\" class=\"sk-toggleable__label sk-toggleable__label-arrow\">XGBClassifier</label><div class=\"sk-toggleable__content\"><pre>XGBClassifier(base_score=None, booster=None, callbacks=None,\n",
       "              colsample_bylevel=None, colsample_bynode=None,\n",
       "              colsample_bytree=None, early_stopping_rounds=None,\n",
       "              enable_categorical=False, eval_metric=None, feature_types=None,\n",
       "              gamma=None, gpu_id=None, grow_policy=None, importance_type=None,\n",
       "              interaction_constraints=None, learning_rate=None, max_bin=None,\n",
       "              max_cat_threshold=None, max_cat_to_onehot=None,\n",
       "              max_delta_step=None, max_depth=None, max_leaves=None,\n",
       "              min_child_weight=None, missing=nan, monotone_constraints=None,\n",
       "              n_estimators=100, n_jobs=None, num_parallel_tree=None,\n",
       "              predictor=None, random_state=None, ...)</pre></div></div></div></div></div>"
      ],
      "text/plain": [
       "XGBClassifier(base_score=None, booster=None, callbacks=None,\n",
       "              colsample_bylevel=None, colsample_bynode=None,\n",
       "              colsample_bytree=None, early_stopping_rounds=None,\n",
       "              enable_categorical=False, eval_metric=None, feature_types=None,\n",
       "              gamma=None, gpu_id=None, grow_policy=None, importance_type=None,\n",
       "              interaction_constraints=None, learning_rate=None, max_bin=None,\n",
       "              max_cat_threshold=None, max_cat_to_onehot=None,\n",
       "              max_delta_step=None, max_depth=None, max_leaves=None,\n",
       "              min_child_weight=None, missing=nan, monotone_constraints=None,\n",
       "              n_estimators=100, n_jobs=None, num_parallel_tree=None,\n",
       "              predictor=None, random_state=None, ...)"
      ]
     },
     "execution_count": 98,
     "metadata": {},
     "output_type": "execute_result"
    }
   ],
   "source": [
    "xgb.fit(X_train_pca, y_train)"
   ]
  },
  {
   "cell_type": "code",
   "execution_count": 99,
   "metadata": {},
   "outputs": [],
   "source": [
    "preds = xgb.predict(X_val_pca)\n",
    "val_score = balanced_accuracy_score(y_val, preds)"
   ]
  },
  {
   "cell_type": "code",
   "execution_count": 100,
   "metadata": {},
   "outputs": [],
   "source": [
    "results.append(get_model_dict(\"XGBClassifier\", xgb.get_params(), train_scores, val_score))"
   ]
  },
  {
   "attachments": {},
   "cell_type": "markdown",
   "metadata": {},
   "source": [
    "## Results"
   ]
  },
  {
   "cell_type": "code",
   "execution_count": 101,
   "metadata": {},
   "outputs": [
    {
     "data": {
      "text/html": [
       "<pre style=\"white-space:pre;overflow-x:auto;line-height:normal;font-family:Menlo,'DejaVu Sans Mono',consolas,'Courier New',monospace\"><span style=\"font-style: italic\">      Balanced accuracy scores per model (with PCA)      </span>\n",
       "┏━━━━━━━━━━━━━━━━━━━━━━━━━━━━┳━━━━━━━━━━━━━━━━━━┳━━━━━━━┓\n",
       "┃<span style=\"font-weight: bold\"> Model                      </span>┃<span style=\"font-weight: bold\"> Cross-validation </span>┃<span style=\"font-weight: bold\"> Test  </span>┃\n",
       "┡━━━━━━━━━━━━━━━━━━━━━━━━━━━━╇━━━━━━━━━━━━━━━━━━╇━━━━━━━┩\n",
       "│ DummyClassifier            │ 0.5              │ 0.5   │\n",
       "│ LogisticRegression         │ 0.651            │ 0.694 │\n",
       "│ RandomForestClassifier     │ 0.542            │ 0.584 │\n",
       "│ GradientBoostingClassifier │ 0.778            │ 0.667 │\n",
       "│ XGBClassifier              │ 0.796            │ 0.722 │\n",
       "└────────────────────────────┴──────────────────┴───────┘\n",
       "</pre>\n"
      ],
      "text/plain": [
       "\u001b[3m      Balanced accuracy scores per model (with PCA)      \u001b[0m\n",
       "┏━━━━━━━━━━━━━━━━━━━━━━━━━━━━┳━━━━━━━━━━━━━━━━━━┳━━━━━━━┓\n",
       "┃\u001b[1m \u001b[0m\u001b[1mModel                     \u001b[0m\u001b[1m \u001b[0m┃\u001b[1m \u001b[0m\u001b[1mCross-validation\u001b[0m\u001b[1m \u001b[0m┃\u001b[1m \u001b[0m\u001b[1mTest \u001b[0m\u001b[1m \u001b[0m┃\n",
       "┡━━━━━━━━━━━━━━━━━━━━━━━━━━━━╇━━━━━━━━━━━━━━━━━━╇━━━━━━━┩\n",
       "│ DummyClassifier            │ 0.5              │ 0.5   │\n",
       "│ LogisticRegression         │ 0.651            │ 0.694 │\n",
       "│ RandomForestClassifier     │ 0.542            │ 0.584 │\n",
       "│ GradientBoostingClassifier │ 0.778            │ 0.667 │\n",
       "│ XGBClassifier              │ 0.796            │ 0.722 │\n",
       "└────────────────────────────┴──────────────────┴───────┘\n"
      ]
     },
     "metadata": {},
     "output_type": "display_data"
    }
   ],
   "source": [
    "table = Table(title=\"Balanced accuracy scores per model (with PCA)\")\n",
    "\n",
    "table.add_column(\"Model\")\n",
    "table.add_column(\"Cross-validation\")\n",
    "table.add_column(\"Test\")\n",
    "\n",
    "for item in results: \n",
    "    avg_train_score = np.mean(item[\"train_scores\"])\n",
    "    table.add_row(\n",
    "        item[\"model\"], \n",
    "        str(round(avg_train_score, 3)), \n",
    "        str(round(item[\"val_score\"], 3))\n",
    "    ) \n",
    "\n",
    "console = Console()\n",
    "console.print(table)"
   ]
  },
  {
   "attachments": {},
   "cell_type": "markdown",
   "metadata": {},
   "source": [
    "`XGBClassifier` seems to be the most efficient classifier. We decide to optimize its hyperparameters using `optuna`. "
   ]
  },
  {
   "attachments": {},
   "cell_type": "markdown",
   "metadata": {},
   "source": [
    "## Hyperparameter tuning with [`optuna`](https://optuna.readthedocs.io/en/stable/index.html)"
   ]
  },
  {
   "cell_type": "code",
   "execution_count": 53,
   "metadata": {},
   "outputs": [],
   "source": [
    "balanced_scorer = make_scorer(balanced_accuracy_score)"
   ]
  },
  {
   "attachments": {},
   "cell_type": "markdown",
   "metadata": {},
   "source": [
    "### `RandomForestClassifier`"
   ]
  },
  {
   "cell_type": "code",
   "execution_count": 54,
   "metadata": {},
   "outputs": [],
   "source": [
    "def objective_rf(trial: Trial):\n",
    "    \"\"\"Description. Define the objective function for optuna optimization.\"\"\"\n",
    "\n",
    "    # build the params grid to search over\n",
    "    params = {\n",
    "        \"n_estimators\": trial.suggest_int(\"n_estimators\", 100, 500),\n",
    "        \"max_depth\": trial.suggest_int(\"max_depth\", 4, 50),\n",
    "        \"min_samples_split\": trial.suggest_int(\"min_samples_split\", 1, 50),\n",
    "        \"min_samples_leaf\": trial.suggest_int(\"min_samples_leaf\", 1, 50),\n",
    "        \"criterion\": trial.suggest_categorical(\"criterion\", [\"gini\", \"entropy\"])\n",
    "    }\n",
    "\n",
    "    # fit the model\n",
    "    rf = RandomForestClassifier(**params)\n",
    "    rf.fit(X_train, y_train)\n",
    "    preds = rf.predict(X_val)\n",
    "\n",
    "    return balanced_accuracy_score(y_val, preds)"
   ]
  },
  {
   "cell_type": "code",
   "execution_count": 55,
   "metadata": {},
   "outputs": [
    {
     "name": "stderr",
     "output_type": "stream",
     "text": [
      "\u001b[32m[I 2023-01-30 16:22:13,967]\u001b[0m A new study created in memory with name: no-name-7c68104d-d6fa-46a6-9a1b-56f8c40b3359\u001b[0m\n"
     ]
    }
   ],
   "source": [
    "study = create_study(direction=\"maximize\")"
   ]
  },
  {
   "cell_type": "code",
   "execution_count": 56,
   "metadata": {},
   "outputs": [
    {
     "name": "stderr",
     "output_type": "stream",
     "text": [
      "c:\\Users\\pemma\\OneDrive - GENES\\Ensae\\S1\\ML Python\\Projet\\twitter-inflation-perception\\env\\lib\\site-packages\\optuna\\progress_bar.py:56: ExperimentalWarning: Progress bar is experimental (supported from v1.2.0). The interface can change in the future.\n",
      "  self._init_valid()\n"
     ]
    },
    {
     "data": {
      "application/vnd.jupyter.widget-view+json": {
       "model_id": "4c775f52b4ad42838e3e2fe0c6e39e70",
       "version_major": 2,
       "version_minor": 0
      },
      "text/plain": [
       "  0%|          | 0/100 [00:00<?, ?it/s]"
      ]
     },
     "metadata": {},
     "output_type": "display_data"
    },
    {
     "name": "stdout",
     "output_type": "stream",
     "text": [
      "\u001b[32m[I 2023-01-30 16:22:21,236]\u001b[0m Trial 1 finished with value: 0.6713320463320464 and parameters: {'n_estimators': 119, 'max_depth': 19, 'min_samples_split': 50, 'min_samples_leaf': 20, 'criterion': 'entropy'}. Best is trial 1 with value: 0.6713320463320464.\u001b[0m\n",
      "\u001b[32m[I 2023-01-30 16:22:21,726]\u001b[0m Trial 2 finished with value: 0.6288610038610039 and parameters: {'n_estimators': 158, 'max_depth': 45, 'min_samples_split': 14, 'min_samples_leaf': 22, 'criterion': 'gini'}. Best is trial 1 with value: 0.6713320463320464.\u001b[0m\n",
      "\u001b[32m[I 2023-01-30 16:22:24,899]\u001b[0m Trial 5 finished with value: 0.6713320463320464 and parameters: {'n_estimators': 122, 'max_depth': 11, 'min_samples_split': 1, 'min_samples_leaf': 2, 'criterion': 'entropy'}. Best is trial 1 with value: 0.6713320463320464.\u001b[0m\n",
      "\u001b[32m[I 2023-01-30 16:22:26,054]\u001b[0m Trial 3 finished with value: 0.6066602316602316 and parameters: {'n_estimators': 275, 'max_depth': 25, 'min_samples_split': 16, 'min_samples_leaf': 37, 'criterion': 'entropy'}. Best is trial 1 with value: 0.6713320463320464.\u001b[0m\n",
      "\u001b[32m[I 2023-01-30 16:22:28,807]\u001b[0m Trial 6 finished with value: 0.6177606177606177 and parameters: {'n_estimators': 376, 'max_depth': 4, 'min_samples_split': 24, 'min_samples_leaf': 7, 'criterion': 'gini'}. Best is trial 1 with value: 0.6713320463320464.\u001b[0m\n",
      "\u001b[32m[I 2023-01-30 16:22:30,659]\u001b[0m Trial 7 finished with value: 0.6245173745173745 and parameters: {'n_estimators': 333, 'max_depth': 28, 'min_samples_split': 13, 'min_samples_leaf': 42, 'criterion': 'gini'}. Best is trial 1 with value: 0.6713320463320464.\u001b[0m\n",
      "\u001b[32m[I 2023-01-30 16:22:31,445]\u001b[0m Trial 4 finished with value: 0.582046332046332 and parameters: {'n_estimators': 471, 'max_depth': 34, 'min_samples_split': 4, 'min_samples_leaf': 48, 'criterion': 'entropy'}. Best is trial 1 with value: 0.6713320463320464.\u001b[0m\n",
      "\u001b[32m[I 2023-01-30 16:22:33,085]\u001b[0m Trial 10 finished with value: 0.6066602316602316 and parameters: {'n_estimators': 166, 'max_depth': 39, 'min_samples_split': 37, 'min_samples_leaf': 29, 'criterion': 'entropy'}. Best is trial 1 with value: 0.6713320463320464.\u001b[0m\n",
      "\u001b[32m[I 2023-01-30 16:22:33,454]\u001b[0m Trial 0 finished with value: 0.599903474903475 and parameters: {'n_estimators': 459, 'max_depth': 49, 'min_samples_split': 25, 'min_samples_leaf': 37, 'criterion': 'entropy'}. Best is trial 1 with value: 0.6713320463320464.\u001b[0m\n",
      "\u001b[32m[I 2023-01-30 16:22:38,646]\u001b[0m Trial 13 finished with value: 0.6356177606177607 and parameters: {'n_estimators': 168, 'max_depth': 9, 'min_samples_split': 36, 'min_samples_leaf': 27, 'criterion': 'entropy'}. Best is trial 1 with value: 0.6713320463320464.\u001b[0m\n",
      "\u001b[32m[I 2023-01-30 16:22:39,284]\u001b[0m Trial 9 finished with value: 0.6177606177606177 and parameters: {'n_estimators': 363, 'max_depth': 37, 'min_samples_split': 18, 'min_samples_leaf': 32, 'criterion': 'entropy'}. Best is trial 1 with value: 0.6713320463320464.\u001b[0m\n",
      "\u001b[32m[I 2023-01-30 16:22:40,449]\u001b[0m Trial 14 finished with value: 0.5888030888030888 and parameters: {'n_estimators': 243, 'max_depth': 18, 'min_samples_split': 30, 'min_samples_leaf': 31, 'criterion': 'gini'}. Best is trial 1 with value: 0.6713320463320464.\u001b[0m\n",
      "\u001b[32m[I 2023-01-30 16:22:42,319]\u001b[0m Trial 8 finished with value: 0.6467181467181468 and parameters: {'n_estimators': 358, 'max_depth': 42, 'min_samples_split': 11, 'min_samples_leaf': 9, 'criterion': 'entropy'}. Best is trial 1 with value: 0.6713320463320464.\u001b[0m\n",
      "\u001b[32m[I 2023-01-30 16:22:42,452]\u001b[0m Trial 11 finished with value: 0.6110038610038611 and parameters: {'n_estimators': 390, 'max_depth': 34, 'min_samples_split': 11, 'min_samples_leaf': 22, 'criterion': 'gini'}. Best is trial 1 with value: 0.6713320463320464.\u001b[0m\n",
      "\u001b[32m[I 2023-01-30 16:22:44,444]\u001b[0m Trial 17 finished with value: 0.63996138996139 and parameters: {'n_estimators': 102, 'max_depth': 16, 'min_samples_split': 46, 'min_samples_leaf': 1, 'criterion': 'entropy'}. Best is trial 1 with value: 0.6713320463320464.\u001b[0m\n",
      "\u001b[32m[I 2023-01-30 16:22:45,284]\u001b[0m Trial 18 finished with value: 0.6288610038610039 and parameters: {'n_estimators': 100, 'max_depth': 16, 'min_samples_split': 50, 'min_samples_leaf': 2, 'criterion': 'entropy'}. Best is trial 1 with value: 0.6713320463320464.\u001b[0m\n",
      "\u001b[32m[I 2023-01-30 16:22:46,592]\u001b[0m Trial 19 finished with value: 0.6669884169884169 and parameters: {'n_estimators': 107, 'max_depth': 14, 'min_samples_split': 50, 'min_samples_leaf': 15, 'criterion': 'entropy'}. Best is trial 1 with value: 0.6713320463320464.\u001b[0m\n",
      "\u001b[32m[I 2023-01-30 16:22:47,313]\u001b[0m Trial 12 finished with value: 0.6110038610038611 and parameters: {'n_estimators': 463, 'max_depth': 13, 'min_samples_split': 39, 'min_samples_leaf': 17, 'criterion': 'gini'}. Best is trial 1 with value: 0.6713320463320464.\u001b[0m\n",
      "\u001b[32m[I 2023-01-30 16:22:47,578]\u001b[0m Trial 20 finished with value: 0.6423745173745173 and parameters: {'n_estimators': 103, 'max_depth': 16, 'min_samples_split': 50, 'min_samples_leaf': 2, 'criterion': 'entropy'}. Best is trial 1 with value: 0.6713320463320464.\u001b[0m\n",
      "\u001b[32m[I 2023-01-30 16:22:48,734]\u001b[0m Trial 21 finished with value: 0.6312741312741312 and parameters: {'n_estimators': 104, 'max_depth': 15, 'min_samples_split': 50, 'min_samples_leaf': 16, 'criterion': 'entropy'}. Best is trial 1 with value: 0.6713320463320464.\u001b[0m\n",
      "\u001b[32m[I 2023-01-30 16:22:49,233]\u001b[0m Trial 16 finished with value: 0.6356177606177607 and parameters: {'n_estimators': 251, 'max_depth': 19, 'min_samples_split': 49, 'min_samples_leaf': 14, 'criterion': 'entropy'}. Best is trial 1 with value: 0.6713320463320464.\u001b[0m\n",
      "\u001b[32m[I 2023-01-30 16:22:54,262]\u001b[0m Trial 15 finished with value: 0.6467181467181468 and parameters: {'n_estimators': 404, 'max_depth': 21, 'min_samples_split': 43, 'min_samples_leaf': 5, 'criterion': 'entropy'}. Best is trial 1 with value: 0.6713320463320464.\u001b[0m\n",
      "\u001b[32m[I 2023-01-30 16:22:54,912]\u001b[0m Trial 22 finished with value: 0.6534749034749034 and parameters: {'n_estimators': 215, 'max_depth': 10, 'min_samples_split': 4, 'min_samples_leaf': 15, 'criterion': 'entropy'}. Best is trial 1 with value: 0.6713320463320464.\u001b[0m\n",
      "\u001b[32m[I 2023-01-30 16:22:56,483]\u001b[0m Trial 23 finished with value: 0.6110038610038611 and parameters: {'n_estimators': 209, 'max_depth': 23, 'min_samples_split': 2, 'min_samples_leaf': 15, 'criterion': 'entropy'}. Best is trial 1 with value: 0.6713320463320464.\u001b[0m\n",
      "\u001b[32m[I 2023-01-30 16:22:58,216]\u001b[0m Trial 24 finished with value: 0.6288610038610039 and parameters: {'n_estimators': 223, 'max_depth': 22, 'min_samples_split': 1, 'min_samples_leaf': 13, 'criterion': 'entropy'}. Best is trial 1 with value: 0.6713320463320464.\u001b[0m\n",
      "\u001b[32m[I 2023-01-30 16:22:58,859]\u001b[0m Trial 25 finished with value: 0.6110038610038611 and parameters: {'n_estimators': 219, 'max_depth': 23, 'min_samples_split': 1, 'min_samples_leaf': 11, 'criterion': 'entropy'}. Best is trial 1 with value: 0.6713320463320464.\u001b[0m\n",
      "\u001b[32m[I 2023-01-30 16:22:59,426]\u001b[0m Trial 27 finished with value: 0.6467181467181468 and parameters: {'n_estimators': 203, 'max_depth': 9, 'min_samples_split': 42, 'min_samples_leaf': 10, 'criterion': 'entropy'}. Best is trial 1 with value: 0.6713320463320464.\u001b[0m\n",
      "\u001b[32m[I 2023-01-30 16:23:00,979]\u001b[0m Trial 26 finished with value: 0.6645752895752897 and parameters: {'n_estimators': 221, 'max_depth': 24, 'min_samples_split': 3, 'min_samples_leaf': 10, 'criterion': 'entropy'}. Best is trial 1 with value: 0.6713320463320464.\u001b[0m\n",
      "\u001b[32m[I 2023-01-30 16:23:01,755]\u001b[0m Trial 29 finished with value: 0.6288610038610039 and parameters: {'n_estimators': 144, 'max_depth': 4, 'min_samples_split': 31, 'min_samples_leaf': 10, 'criterion': 'entropy'}. Best is trial 1 with value: 0.6713320463320464.\u001b[0m\n",
      "\u001b[32m[I 2023-01-30 16:23:03,508]\u001b[0m Trial 30 finished with value: 0.5752895752895753 and parameters: {'n_estimators': 143, 'max_depth': 6, 'min_samples_split': 32, 'min_samples_leaf': 21, 'criterion': 'entropy'}. Best is trial 1 with value: 0.6713320463320464.\u001b[0m\n",
      "\u001b[32m[I 2023-01-30 16:23:04,399]\u001b[0m Trial 31 finished with value: 0.6177606177606177 and parameters: {'n_estimators': 138, 'max_depth': 4, 'min_samples_split': 30, 'min_samples_leaf': 21, 'criterion': 'entropy'}. Best is trial 1 with value: 0.6713320463320464.\u001b[0m\n",
      "\u001b[32m[I 2023-01-30 16:23:05,713]\u001b[0m Trial 28 finished with value: 0.5931467181467182 and parameters: {'n_estimators': 207, 'max_depth': 9, 'min_samples_split': 42, 'min_samples_leaf': 10, 'criterion': 'entropy'}. Best is trial 1 with value: 0.6713320463320464.\u001b[0m\n",
      "\u001b[32m[I 2023-01-30 16:23:05,926]\u001b[0m Trial 32 finished with value: 0.6356177606177607 and parameters: {'n_estimators': 139, 'max_depth': 9, 'min_samples_split': 31, 'min_samples_leaf': 21, 'criterion': 'entropy'}. Best is trial 1 with value: 0.6713320463320464.\u001b[0m\n",
      "\u001b[32m[I 2023-01-30 16:23:06,434]\u001b[0m Trial 33 finished with value: 0.599903474903475 and parameters: {'n_estimators': 154, 'max_depth': 5, 'min_samples_split': 31, 'min_samples_leaf': 22, 'criterion': 'entropy'}. Best is trial 1 with value: 0.6713320463320464.\u001b[0m\n",
      "\u001b[32m[I 2023-01-30 16:23:06,983]\u001b[0m Trial 34 finished with value: 0.6066602316602316 and parameters: {'n_estimators': 141, 'max_depth': 4, 'min_samples_split': 31, 'min_samples_leaf': 19, 'criterion': 'entropy'}. Best is trial 1 with value: 0.6713320463320464.\u001b[0m\n",
      "\u001b[32m[I 2023-01-30 16:23:08,255]\u001b[0m Trial 35 finished with value: 0.6467181467181468 and parameters: {'n_estimators': 135, 'max_depth': 12, 'min_samples_split': 22, 'min_samples_leaf': 20, 'criterion': 'entropy'}. Best is trial 1 with value: 0.6713320463320464.\u001b[0m\n",
      "\u001b[32m[I 2023-01-30 16:23:09,794]\u001b[0m Trial 36 finished with value: 0.6110038610038611 and parameters: {'n_estimators': 132, 'max_depth': 29, 'min_samples_split': 24, 'min_samples_leaf': 19, 'criterion': 'entropy'}. Best is trial 1 with value: 0.6713320463320464.\u001b[0m\n",
      "\u001b[32m[I 2023-01-30 16:23:14,058]\u001b[0m Trial 38 finished with value: 0.6288610038610039 and parameters: {'n_estimators': 174, 'max_depth': 29, 'min_samples_split': 8, 'min_samples_leaf': 19, 'criterion': 'entropy'}. Best is trial 1 with value: 0.6713320463320464.\u001b[0m\n",
      "\u001b[32m[I 2023-01-30 16:23:15,215]\u001b[0m Trial 39 finished with value: 0.6110038610038611 and parameters: {'n_estimators': 183, 'max_depth': 50, 'min_samples_split': 7, 'min_samples_leaf': 18, 'criterion': 'entropy'}. Best is trial 1 with value: 0.6713320463320464.\u001b[0m\n",
      "\u001b[32m[I 2023-01-30 16:23:16,199]\u001b[0m Trial 41 finished with value: 0.6110038610038611 and parameters: {'n_estimators': 181, 'max_depth': 29, 'min_samples_split': 21, 'min_samples_leaf': 7, 'criterion': 'gini'}. Best is trial 1 with value: 0.6713320463320464.\u001b[0m\n",
      "\u001b[32m[I 2023-01-30 16:23:17,418]\u001b[0m Trial 37 finished with value: 0.6467181467181468 and parameters: {'n_estimators': 188, 'max_depth': 29, 'min_samples_split': 7, 'min_samples_leaf': 4, 'criterion': 'entropy'}. Best is trial 1 with value: 0.6713320463320464.\u001b[0m\n",
      "\u001b[32m[I 2023-01-30 16:23:18,648]\u001b[0m Trial 40 finished with value: 0.6467181467181468 and parameters: {'n_estimators': 182, 'max_depth': 29, 'min_samples_split': 8, 'min_samples_leaf': 5, 'criterion': 'entropy'}. Best is trial 1 with value: 0.6713320463320464.\u001b[0m\n",
      "\u001b[32m[I 2023-01-30 16:23:20,006]\u001b[0m Trial 43 finished with value: 0.6467181467181468 and parameters: {'n_estimators': 191, 'max_depth': 49, 'min_samples_split': 8, 'min_samples_leaf': 7, 'criterion': 'gini'}. Best is trial 1 with value: 0.6713320463320464.\u001b[0m\n",
      "\u001b[32m[I 2023-01-30 16:23:24,287]\u001b[0m Trial 42 finished with value: 0.6645752895752897 and parameters: {'n_estimators': 300, 'max_depth': 31, 'min_samples_split': 6, 'min_samples_leaf': 6, 'criterion': 'gini'}. Best is trial 1 with value: 0.6713320463320464.\u001b[0m\n",
      "\u001b[32m[I 2023-01-30 16:23:26,251]\u001b[0m Trial 46 finished with value: 0.6177606177606177 and parameters: {'n_estimators': 276, 'max_depth': 19, 'min_samples_split': 46, 'min_samples_leaf': 25, 'criterion': 'gini'}. Best is trial 1 with value: 0.6713320463320464.\u001b[0m\n",
      "\u001b[32m[I 2023-01-30 16:23:30,642]\u001b[0m Trial 48 finished with value: 0.6177606177606177 and parameters: {'n_estimators': 322, 'max_depth': 26, 'min_samples_split': 4, 'min_samples_leaf': 24, 'criterion': 'gini'}. Best is trial 1 with value: 0.6713320463320464.\u001b[0m\n",
      "\u001b[32m[I 2023-01-30 16:23:31,259]\u001b[0m Trial 44 finished with value: 0.6467181467181468 and parameters: {'n_estimators': 288, 'max_depth': 50, 'min_samples_split': 6, 'min_samples_leaf': 5, 'criterion': 'gini'}. Best is trial 1 with value: 0.6713320463320464.\u001b[0m\n",
      "\u001b[32m[I 2023-01-30 16:23:31,852]\u001b[0m Trial 47 finished with value: 0.6467181467181468 and parameters: {'n_estimators': 290, 'max_depth': 12, 'min_samples_split': 5, 'min_samples_leaf': 24, 'criterion': 'entropy'}. Best is trial 1 with value: 0.6713320463320464.\u001b[0m\n",
      "\u001b[32m[I 2023-01-30 16:23:32,408]\u001b[0m Trial 45 finished with value: 0.6467181467181468 and parameters: {'n_estimators': 297, 'max_depth': 26, 'min_samples_split': 18, 'min_samples_leaf': 6, 'criterion': 'gini'}. Best is trial 1 with value: 0.6713320463320464.\u001b[0m\n",
      "\u001b[32m[I 2023-01-30 16:23:34,946]\u001b[0m Trial 49 finished with value: 0.6288610038610039 and parameters: {'n_estimators': 300, 'max_depth': 12, 'min_samples_split': 5, 'min_samples_leaf': 25, 'criterion': 'entropy'}. Best is trial 1 with value: 0.6713320463320464.\u001b[0m\n",
      "\u001b[32m[I 2023-01-30 16:23:35,873]\u001b[0m Trial 51 finished with value: 0.5955598455598455 and parameters: {'n_estimators': 320, 'max_depth': 26, 'min_samples_split': 16, 'min_samples_leaf': 49, 'criterion': 'gini'}. Best is trial 1 with value: 0.6713320463320464.\u001b[0m\n",
      "\u001b[32m[I 2023-01-30 16:23:36,725]\u001b[0m Trial 50 finished with value: 0.6245173745173745 and parameters: {'n_estimators': 304, 'max_depth': 25, 'min_samples_split': 14, 'min_samples_leaf': 24, 'criterion': 'gini'}. Best is trial 1 with value: 0.6713320463320464.\u001b[0m\n",
      "\u001b[32m[I 2023-01-30 16:23:38,530]\u001b[0m Trial 55 finished with value: 0.6288610038610039 and parameters: {'n_estimators': 119, 'max_depth': 32, 'min_samples_split': 12, 'min_samples_leaf': 12, 'criterion': 'gini'}. Best is trial 1 with value: 0.6713320463320464.\u001b[0m\n",
      "\u001b[32m[I 2023-01-30 16:23:41,227]\u001b[0m Trial 56 finished with value: 0.6177606177606177 and parameters: {'n_estimators': 121, 'max_depth': 32, 'min_samples_split': 47, 'min_samples_leaf': 12, 'criterion': 'gini'}. Best is trial 1 with value: 0.6713320463320464.\u001b[0m\n",
      "\u001b[32m[I 2023-01-30 16:23:43,988]\u001b[0m Trial 53 finished with value: 0.6288610038610039 and parameters: {'n_estimators': 246, 'max_depth': 34, 'min_samples_split': 16, 'min_samples_leaf': 12, 'criterion': 'gini'}. Best is trial 1 with value: 0.6713320463320464.\u001b[0m\n",
      "\u001b[32m[I 2023-01-30 16:23:46,253]\u001b[0m Trial 52 finished with value: 0.6288610038610039 and parameters: {'n_estimators': 312, 'max_depth': 33, 'min_samples_split': 14, 'min_samples_leaf': 12, 'criterion': 'gini'}. Best is trial 1 with value: 0.6713320463320464.\u001b[0m\n",
      "\u001b[32m[I 2023-01-30 16:23:51,159]\u001b[0m Trial 54 finished with value: 0.6467181467181468 and parameters: {'n_estimators': 421, 'max_depth': 36, 'min_samples_split': 13, 'min_samples_leaf': 13, 'criterion': 'gini'}. Best is trial 1 with value: 0.6713320463320464.\u001b[0m\n",
      "\u001b[32m[I 2023-01-30 16:23:51,745]\u001b[0m Trial 59 finished with value: 0.6467181467181468 and parameters: {'n_estimators': 249, 'max_depth': 20, 'min_samples_split': 3, 'min_samples_leaf': 14, 'criterion': 'entropy'}. Best is trial 1 with value: 0.6713320463320464.\u001b[0m\n",
      "\u001b[32m[I 2023-01-30 16:23:56,764]\u001b[0m Trial 61 finished with value: 0.6356177606177607 and parameters: {'n_estimators': 259, 'max_depth': 14, 'min_samples_split': 3, 'min_samples_leaf': 15, 'criterion': 'entropy'}. Best is trial 1 with value: 0.6713320463320464.\u001b[0m\n",
      "\u001b[32m[I 2023-01-30 16:23:58,342]\u001b[0m Trial 57 finished with value: 0.6467181467181468 and parameters: {'n_estimators': 419, 'max_depth': 34, 'min_samples_split': 12, 'min_samples_leaf': 14, 'criterion': 'entropy'}. Best is trial 1 with value: 0.6713320463320464.\u001b[0m\n",
      "\u001b[32m[I 2023-01-30 16:23:59,519]\u001b[0m Trial 64 finished with value: 0.6288610038610039 and parameters: {'n_estimators': 158, 'max_depth': 14, 'min_samples_split': 10, 'min_samples_leaf': 16, 'criterion': 'entropy'}. Best is trial 1 with value: 0.6713320463320464.\u001b[0m\n",
      "\u001b[32m[I 2023-01-30 16:24:00,324]\u001b[0m Trial 58 finished with value: 0.6288610038610039 and parameters: {'n_estimators': 439, 'max_depth': 35, 'min_samples_split': 11, 'min_samples_leaf': 13, 'criterion': 'entropy'}. Best is trial 1 with value: 0.6713320463320464.\u001b[0m\n",
      "\u001b[32m[I 2023-01-30 16:24:04,788]\u001b[0m Trial 65 finished with value: 0.6066602316602316 and parameters: {'n_estimators': 228, 'max_depth': 7, 'min_samples_split': 10, 'min_samples_leaf': 44, 'criterion': 'entropy'}. Best is trial 1 with value: 0.6713320463320464.\u001b[0m\n",
      "\u001b[32m[I 2023-01-30 16:24:08,685]\u001b[0m Trial 63 finished with value: 0.6288610038610039 and parameters: {'n_estimators': 339, 'max_depth': 14, 'min_samples_split': 10, 'min_samples_leaf': 16, 'criterion': 'entropy'}. Best is trial 1 with value: 0.6713320463320464.\u001b[0m\n",
      "\u001b[32m[I 2023-01-30 16:24:11,485]\u001b[0m Trial 60 finished with value: 0.6467181467181468 and parameters: {'n_estimators': 495, 'max_depth': 14, 'min_samples_split': 3, 'min_samples_leaf': 8, 'criterion': 'entropy'}. Best is trial 1 with value: 0.6713320463320464.\u001b[0m\n",
      "\u001b[32m[I 2023-01-30 16:24:12,260]\u001b[0m Trial 62 finished with value: 0.6467181467181468 and parameters: {'n_estimators': 408, 'max_depth': 14, 'min_samples_split': 10, 'min_samples_leaf': 8, 'criterion': 'entropy'}. Best is trial 1 with value: 0.6713320463320464.\u001b[0m\n",
      "\u001b[32m[I 2023-01-30 16:24:20,242]\u001b[0m Trial 66 finished with value: 0.6467181467181468 and parameters: {'n_estimators': 336, 'max_depth': 17, 'min_samples_split': 1, 'min_samples_leaf': 8, 'criterion': 'entropy'}. Best is trial 1 with value: 0.6713320463320464.\u001b[0m\n",
      "\u001b[32m[I 2023-01-30 16:24:22,455]\u001b[0m Trial 67 finished with value: 0.6467181467181468 and parameters: {'n_estimators': 355, 'max_depth': 42, 'min_samples_split': 10, 'min_samples_leaf': 8, 'criterion': 'entropy'}. Best is trial 1 with value: 0.6713320463320464.\u001b[0m\n",
      "\u001b[32m[I 2023-01-30 16:24:25,127]\u001b[0m Trial 68 finished with value: 0.6467181467181468 and parameters: {'n_estimators': 386, 'max_depth': 40, 'min_samples_split': 1, 'min_samples_leaf': 8, 'criterion': 'entropy'}. Best is trial 1 with value: 0.6713320463320464.\u001b[0m\n",
      "\u001b[32m[I 2023-01-30 16:24:30,705]\u001b[0m Trial 74 finished with value: 0.6288610038610039 and parameters: {'n_estimators': 118, 'max_depth': 45, 'min_samples_split': 48, 'min_samples_leaf': 3, 'criterion': 'entropy'}. Best is trial 1 with value: 0.6713320463320464.\u001b[0m\n",
      "\u001b[32m[I 2023-01-30 16:24:33,645]\u001b[0m Trial 70 finished with value: 0.6467181467181468 and parameters: {'n_estimators': 355, 'max_depth': 38, 'min_samples_split': 1, 'min_samples_leaf': 8, 'criterion': 'entropy'}. Best is trial 1 with value: 0.6713320463320464.\u001b[0m\n",
      "\u001b[32m[I 2023-01-30 16:24:34,198]\u001b[0m Trial 75 finished with value: 0.6467181467181468 and parameters: {'n_estimators': 115, 'max_depth': 23, 'min_samples_split': 39, 'min_samples_leaf': 3, 'criterion': 'entropy'}. Best is trial 1 with value: 0.6713320463320464.\u001b[0m\n",
      "\u001b[32m[I 2023-01-30 16:24:34,841]\u001b[0m Trial 71 finished with value: 0.6645752895752897 and parameters: {'n_estimators': 339, 'max_depth': 44, 'min_samples_split': 1, 'min_samples_leaf': 8, 'criterion': 'entropy'}. Best is trial 1 with value: 0.6713320463320464.\u001b[0m\n",
      "\u001b[32m[I 2023-01-30 16:24:41,129]\u001b[0m Trial 72 finished with value: 0.6467181467181468 and parameters: {'n_estimators': 362, 'max_depth': 41, 'min_samples_split': 28, 'min_samples_leaf': 2, 'criterion': 'entropy'}. Best is trial 1 with value: 0.6713320463320464.\u001b[0m\n",
      "\u001b[32m[I 2023-01-30 16:24:46,108]\u001b[0m Trial 76 finished with value: 0.6356177606177607 and parameters: {'n_estimators': 164, 'max_depth': 22, 'min_samples_split': 36, 'min_samples_leaf': 1, 'criterion': 'entropy'}. Best is trial 1 with value: 0.6713320463320464.\u001b[0m\n",
      "\u001b[32m[I 2023-01-30 16:24:46,998]\u001b[0m Trial 69 finished with value: 0.6467181467181468 and parameters: {'n_estimators': 487, 'max_depth': 46, 'min_samples_split': 1, 'min_samples_leaf': 3, 'criterion': 'entropy'}. Best is trial 1 with value: 0.6713320463320464.\u001b[0m\n",
      "\u001b[32m[I 2023-01-30 16:24:49,403]\u001b[0m Trial 73 finished with value: 0.6467181467181468 and parameters: {'n_estimators': 354, 'max_depth': 44, 'min_samples_split': 38, 'min_samples_leaf': 3, 'criterion': 'entropy'}. Best is trial 1 with value: 0.6713320463320464.\u001b[0m\n",
      "\u001b[32m[I 2023-01-30 16:25:05,500]\u001b[0m Trial 79 finished with value: 0.6467181467181468 and parameters: {'n_estimators': 361, 'max_depth': 44, 'min_samples_split': 44, 'min_samples_leaf': 10, 'criterion': 'entropy'}. Best is trial 1 with value: 0.6713320463320464.\u001b[0m\n",
      "\u001b[32m[I 2023-01-30 16:25:07,829]\u001b[0m Trial 82 finished with value: 0.6288610038610039 and parameters: {'n_estimators': 377, 'max_depth': 10, 'min_samples_split': 44, 'min_samples_leaf': 36, 'criterion': 'entropy'}. Best is trial 1 with value: 0.6713320463320464.\u001b[0m\n",
      "\u001b[32m[I 2023-01-30 16:25:08,980]\u001b[0m Trial 77 finished with value: 0.6288610038610039 and parameters: {'n_estimators': 369, 'max_depth': 21, 'min_samples_split': 45, 'min_samples_leaf': 1, 'criterion': 'entropy'}. Best is trial 1 with value: 0.6713320463320464.\u001b[0m\n",
      "\u001b[32m[I 2023-01-30 16:25:13,887]\u001b[0m Trial 78 finished with value: 0.6467181467181468 and parameters: {'n_estimators': 395, 'max_depth': 21, 'min_samples_split': 44, 'min_samples_leaf': 1, 'criterion': 'entropy'}. Best is trial 1 with value: 0.6713320463320464.\u001b[0m\n",
      "\u001b[32m[I 2023-01-30 16:25:13,981]\u001b[0m Trial 80 finished with value: 0.6534749034749034 and parameters: {'n_estimators': 376, 'max_depth': 47, 'min_samples_split': 5, 'min_samples_leaf': 10, 'criterion': 'entropy'}. Best is trial 1 with value: 0.6713320463320464.\u001b[0m\n",
      "\u001b[32m[I 2023-01-30 16:25:19,919]\u001b[0m Trial 84 finished with value: 0.6177606177606177 and parameters: {'n_estimators': 234, 'max_depth': 10, 'min_samples_split': 5, 'min_samples_leaf': 34, 'criterion': 'entropy'}. Best is trial 1 with value: 0.6713320463320464.\u001b[0m\n",
      "\u001b[32m[I 2023-01-30 16:25:21,540]\u001b[0m Trial 81 finished with value: 0.6110038610038611 and parameters: {'n_estimators': 375, 'max_depth': 44, 'min_samples_split': 5, 'min_samples_leaf': 10, 'criterion': 'entropy'}. Best is trial 1 with value: 0.6713320463320464.\u001b[0m\n",
      "\u001b[32m[I 2023-01-30 16:25:22,015]\u001b[0m Trial 83 finished with value: 0.6467181467181468 and parameters: {'n_estimators': 374, 'max_depth': 11, 'min_samples_split': 5, 'min_samples_leaf': 10, 'criterion': 'entropy'}. Best is trial 1 with value: 0.6713320463320464.\u001b[0m\n",
      "\u001b[32m[I 2023-01-30 16:25:23,891]\u001b[0m Trial 87 finished with value: 0.6467181467181468 and parameters: {'n_estimators': 109, 'max_depth': 18, 'min_samples_split': 5, 'min_samples_leaf': 10, 'criterion': 'entropy'}. Best is trial 1 with value: 0.6713320463320464.\u001b[0m\n",
      "\u001b[32m[I 2023-01-30 16:25:30,832]\u001b[0m Trial 85 finished with value: 0.6467181467181468 and parameters: {'n_estimators': 266, 'max_depth': 10, 'min_samples_split': 5, 'min_samples_leaf': 10, 'criterion': 'entropy'}. Best is trial 1 with value: 0.6713320463320464.\u001b[0m\n",
      "\u001b[32m[I 2023-01-30 16:25:31,506]\u001b[0m Trial 86 finished with value: 0.6467181467181468 and parameters: {'n_estimators': 264, 'max_depth': 47, 'min_samples_split': 5, 'min_samples_leaf': 10, 'criterion': 'entropy'}. Best is trial 1 with value: 0.6713320463320464.\u001b[0m\n",
      "\u001b[32m[I 2023-01-30 16:25:33,941]\u001b[0m Trial 89 finished with value: 0.6645752895752897 and parameters: {'n_estimators': 150, 'max_depth': 47, 'min_samples_split': 6, 'min_samples_leaf': 6, 'criterion': 'entropy'}. Best is trial 1 with value: 0.6713320463320464.\u001b[0m\n",
      "\u001b[32m[I 2023-01-30 16:25:36,399]\u001b[0m Trial 88 finished with value: 0.6288610038610039 and parameters: {'n_estimators': 271, 'max_depth': 47, 'min_samples_split': 5, 'min_samples_leaf': 10, 'criterion': 'entropy'}. Best is trial 1 with value: 0.6713320463320464.\u001b[0m\n",
      "\u001b[32m[I 2023-01-30 16:25:38,087]\u001b[0m Trial 93 finished with value: 0.6288610038610039 and parameters: {'n_estimators': 127, 'max_depth': 48, 'min_samples_split': 3, 'min_samples_leaf': 28, 'criterion': 'entropy'}. Best is trial 1 with value: 0.6713320463320464.\u001b[0m\n",
      "\u001b[32m[I 2023-01-30 16:25:39,490]\u001b[0m Trial 91 finished with value: 0.6645752895752897 and parameters: {'n_estimators': 199, 'max_depth': 47, 'min_samples_split': 7, 'min_samples_leaf': 6, 'criterion': 'entropy'}. Best is trial 1 with value: 0.6713320463320464.\u001b[0m\n",
      "\u001b[32m[I 2023-01-30 16:25:42,919]\u001b[0m Trial 94 finished with value: 0.6645752895752897 and parameters: {'n_estimators': 127, 'max_depth': 48, 'min_samples_split': 7, 'min_samples_leaf': 5, 'criterion': 'entropy'}. Best is trial 1 with value: 0.6713320463320464.\u001b[0m\n",
      "\u001b[32m[I 2023-01-30 16:25:43,388]\u001b[0m Trial 92 finished with value: 0.6467181467181468 and parameters: {'n_estimators': 273, 'max_depth': 42, 'min_samples_split': 3, 'min_samples_leaf': 17, 'criterion': 'entropy'}. Best is trial 1 with value: 0.6713320463320464.\u001b[0m\n",
      "\u001b[32m[I 2023-01-30 16:25:45,030]\u001b[0m Trial 95 finished with value: 0.6467181467181468 and parameters: {'n_estimators': 131, 'max_depth': 7, 'min_samples_split': 3, 'min_samples_leaf': 6, 'criterion': 'entropy'}. Best is trial 1 with value: 0.6713320463320464.\u001b[0m\n",
      "\u001b[32m[I 2023-01-30 16:25:46,447]\u001b[0m Trial 90 finished with value: 0.6467181467181468 and parameters: {'n_estimators': 269, 'max_depth': 47, 'min_samples_split': 3, 'min_samples_leaf': 5, 'criterion': 'entropy'}. Best is trial 1 with value: 0.6713320463320464.\u001b[0m\n",
      "\u001b[32m[I 2023-01-30 16:25:48,927]\u001b[0m Trial 96 finished with value: 0.6467181467181468 and parameters: {'n_estimators': 154, 'max_depth': 49, 'min_samples_split': 7, 'min_samples_leaf': 5, 'criterion': 'entropy'}. Best is trial 1 with value: 0.6713320463320464.\u001b[0m\n",
      "\u001b[32m[I 2023-01-30 16:25:49,838]\u001b[0m Trial 97 finished with value: 0.6356177606177607 and parameters: {'n_estimators': 149, 'max_depth': 42, 'min_samples_split': 7, 'min_samples_leaf': 5, 'criterion': 'entropy'}. Best is trial 1 with value: 0.6713320463320464.\u001b[0m\n",
      "\u001b[32m[I 2023-01-30 16:25:51,938]\u001b[0m Trial 99 finished with value: 0.6288610038610039 and parameters: {'n_estimators': 152, 'max_depth': 7, 'min_samples_split': 8, 'min_samples_leaf': 6, 'criterion': 'entropy'}. Best is trial 1 with value: 0.6713320463320464.\u001b[0m\n",
      "\u001b[32m[I 2023-01-30 16:25:52,781]\u001b[0m Trial 98 finished with value: 0.6467181467181468 and parameters: {'n_estimators': 215, 'max_depth': 7, 'min_samples_split': 7, 'min_samples_leaf': 6, 'criterion': 'entropy'}. Best is trial 1 with value: 0.6713320463320464.\u001b[0m\n"
     ]
    }
   ],
   "source": [
    "study.optimize(objective_rf, n_trials=100, n_jobs=CPU_COUNT-1, show_progress_bar=True)"
   ]
  },
  {
   "cell_type": "code",
   "execution_count": 57,
   "metadata": {},
   "outputs": [
    {
     "data": {
      "text/plain": [
       "FrozenTrial(number=1, state=TrialState.COMPLETE, values=[0.6713320463320464], datetime_start=datetime.datetime(2023, 1, 30, 16, 22, 15, 233055), datetime_complete=datetime.datetime(2023, 1, 30, 16, 22, 21, 235978), params={'n_estimators': 119, 'max_depth': 19, 'min_samples_split': 50, 'min_samples_leaf': 20, 'criterion': 'entropy'}, user_attrs={}, system_attrs={}, intermediate_values={}, distributions={'n_estimators': IntDistribution(high=500, log=False, low=100, step=1), 'max_depth': IntDistribution(high=50, log=False, low=4, step=1), 'min_samples_split': IntDistribution(high=50, log=False, low=1, step=1), 'min_samples_leaf': IntDistribution(high=50, log=False, low=1, step=1), 'criterion': CategoricalDistribution(choices=('gini', 'entropy'))}, trial_id=1, value=None)"
      ]
     },
     "execution_count": 57,
     "metadata": {},
     "output_type": "execute_result"
    }
   ],
   "source": [
    "study.best_trial"
   ]
  },
  {
   "cell_type": "code",
   "execution_count": 78,
   "metadata": {},
   "outputs": [
    {
     "data": {
      "text/html": [
       "<style>#sk-container-id-11 {color: black;background-color: white;}#sk-container-id-11 pre{padding: 0;}#sk-container-id-11 div.sk-toggleable {background-color: white;}#sk-container-id-11 label.sk-toggleable__label {cursor: pointer;display: block;width: 100%;margin-bottom: 0;padding: 0.3em;box-sizing: border-box;text-align: center;}#sk-container-id-11 label.sk-toggleable__label-arrow:before {content: \"▸\";float: left;margin-right: 0.25em;color: #696969;}#sk-container-id-11 label.sk-toggleable__label-arrow:hover:before {color: black;}#sk-container-id-11 div.sk-estimator:hover label.sk-toggleable__label-arrow:before {color: black;}#sk-container-id-11 div.sk-toggleable__content {max-height: 0;max-width: 0;overflow: hidden;text-align: left;background-color: #f0f8ff;}#sk-container-id-11 div.sk-toggleable__content pre {margin: 0.2em;color: black;border-radius: 0.25em;background-color: #f0f8ff;}#sk-container-id-11 input.sk-toggleable__control:checked~div.sk-toggleable__content {max-height: 200px;max-width: 100%;overflow: auto;}#sk-container-id-11 input.sk-toggleable__control:checked~label.sk-toggleable__label-arrow:before {content: \"▾\";}#sk-container-id-11 div.sk-estimator input.sk-toggleable__control:checked~label.sk-toggleable__label {background-color: #d4ebff;}#sk-container-id-11 div.sk-label input.sk-toggleable__control:checked~label.sk-toggleable__label {background-color: #d4ebff;}#sk-container-id-11 input.sk-hidden--visually {border: 0;clip: rect(1px 1px 1px 1px);clip: rect(1px, 1px, 1px, 1px);height: 1px;margin: -1px;overflow: hidden;padding: 0;position: absolute;width: 1px;}#sk-container-id-11 div.sk-estimator {font-family: monospace;background-color: #f0f8ff;border: 1px dotted black;border-radius: 0.25em;box-sizing: border-box;margin-bottom: 0.5em;}#sk-container-id-11 div.sk-estimator:hover {background-color: #d4ebff;}#sk-container-id-11 div.sk-parallel-item::after {content: \"\";width: 100%;border-bottom: 1px solid gray;flex-grow: 1;}#sk-container-id-11 div.sk-label:hover label.sk-toggleable__label {background-color: #d4ebff;}#sk-container-id-11 div.sk-serial::before {content: \"\";position: absolute;border-left: 1px solid gray;box-sizing: border-box;top: 0;bottom: 0;left: 50%;z-index: 0;}#sk-container-id-11 div.sk-serial {display: flex;flex-direction: column;align-items: center;background-color: white;padding-right: 0.2em;padding-left: 0.2em;position: relative;}#sk-container-id-11 div.sk-item {position: relative;z-index: 1;}#sk-container-id-11 div.sk-parallel {display: flex;align-items: stretch;justify-content: center;background-color: white;position: relative;}#sk-container-id-11 div.sk-item::before, #sk-container-id-11 div.sk-parallel-item::before {content: \"\";position: absolute;border-left: 1px solid gray;box-sizing: border-box;top: 0;bottom: 0;left: 50%;z-index: -1;}#sk-container-id-11 div.sk-parallel-item {display: flex;flex-direction: column;z-index: 1;position: relative;background-color: white;}#sk-container-id-11 div.sk-parallel-item:first-child::after {align-self: flex-end;width: 50%;}#sk-container-id-11 div.sk-parallel-item:last-child::after {align-self: flex-start;width: 50%;}#sk-container-id-11 div.sk-parallel-item:only-child::after {width: 0;}#sk-container-id-11 div.sk-dashed-wrapped {border: 1px dashed gray;margin: 0 0.4em 0.5em 0.4em;box-sizing: border-box;padding-bottom: 0.4em;background-color: white;}#sk-container-id-11 div.sk-label label {font-family: monospace;font-weight: bold;display: inline-block;line-height: 1.2em;}#sk-container-id-11 div.sk-label-container {text-align: center;}#sk-container-id-11 div.sk-container {/* jupyter's `normalize.less` sets `[hidden] { display: none; }` but bootstrap.min.css set `[hidden] { display: none !important; }` so we also need the `!important` here to be able to override the default hidden behavior on the sphinx rendered scikit-learn.org. See: https://github.com/scikit-learn/scikit-learn/issues/21755 */display: inline-block !important;position: relative;}#sk-container-id-11 div.sk-text-repr-fallback {display: none;}</style><div id=\"sk-container-id-11\" class=\"sk-top-container\"><div class=\"sk-text-repr-fallback\"><pre>RandomForestClassifier(criterion=&#x27;entropy&#x27;, max_depth=21, min_samples_leaf=14,\n",
       "                       min_samples_split=19, n_estimators=404)</pre><b>In a Jupyter environment, please rerun this cell to show the HTML representation or trust the notebook. <br />On GitHub, the HTML representation is unable to render, please try loading this page with nbviewer.org.</b></div><div class=\"sk-container\" hidden><div class=\"sk-item\"><div class=\"sk-estimator sk-toggleable\"><input class=\"sk-toggleable__control sk-hidden--visually\" id=\"sk-estimator-id-21\" type=\"checkbox\" checked><label for=\"sk-estimator-id-21\" class=\"sk-toggleable__label sk-toggleable__label-arrow\">RandomForestClassifier</label><div class=\"sk-toggleable__content\"><pre>RandomForestClassifier(criterion=&#x27;entropy&#x27;, max_depth=21, min_samples_leaf=14,\n",
       "                       min_samples_split=19, n_estimators=404)</pre></div></div></div></div></div>"
      ],
      "text/plain": [
       "RandomForestClassifier(criterion='entropy', max_depth=21, min_samples_leaf=14,\n",
       "                       min_samples_split=19, n_estimators=404)"
      ]
     },
     "execution_count": 78,
     "metadata": {},
     "output_type": "execute_result"
    }
   ],
   "source": [
    "best_model = RandomForestClassifier(**study.best_params) \n",
    "best_model.fit(X_train, y_train)"
   ]
  },
  {
   "attachments": {},
   "cell_type": "markdown",
   "metadata": {},
   "source": [
    "### `XGBClassifier` with PCA"
   ]
  },
  {
   "cell_type": "code",
   "execution_count": 102,
   "metadata": {},
   "outputs": [],
   "source": [
    "def objective_xgb(trial: Trial):\n",
    "    \"\"\"Description. \n",
    "    Define the objective function for optuna optimization.\n",
    "    \n",
    "    Returns: balanced accuracy on validation data.\"\"\"\n",
    "\n",
    "    # build the params grid to search over\n",
    "    params = {\n",
    "        \"max_depth\": trial.suggest_int(\"max_depth\", 1, 9),\n",
    "        \"learning_rate\": trial.suggest_loguniform(\"learning_rate\", 0.01, 1.0),\n",
    "        \"n_estimators\": trial.suggest_int(\"n_estimators\", 100, 500),\n",
    "        \"subsample\": trial.suggest_loguniform(\"subsample\", 0.01, 1.0)\n",
    "    }\n",
    "\n",
    "    # fit the model\n",
    "    optuna_model = XGBClassifier(**params)\n",
    "    optuna_model.fit(X_train_pca, y_train)\n",
    "\n",
    "    # make predictions\n",
    "    y_pred = optuna_model.predict(X_val_pca)\n",
    "\n",
    "    # evaluate predictions\n",
    "    return balanced_accuracy_score(y_val, y_pred) "
   ]
  },
  {
   "cell_type": "code",
   "execution_count": 103,
   "metadata": {},
   "outputs": [
    {
     "name": "stderr",
     "output_type": "stream",
     "text": [
      "\u001b[32m[I 2023-01-30 16:42:24,396]\u001b[0m A new study created in memory with name: no-name-b13b198b-33e2-4e10-ad31-16b97577f6d6\u001b[0m\n"
     ]
    }
   ],
   "source": [
    "study = create_study(direction=\"maximize\")"
   ]
  },
  {
   "cell_type": "code",
   "execution_count": 104,
   "metadata": {},
   "outputs": [
    {
     "name": "stderr",
     "output_type": "stream",
     "text": [
      "C:\\Users\\pemma\\AppData\\Local\\Temp\\ipykernel_7292\\120219098.py:10: FutureWarning: suggest_loguniform has been deprecated in v3.0.0. This feature will be removed in v6.0.0. See https://github.com/optuna/optuna/releases/tag/v3.0.0. Use :func:`~optuna.trial.Trial.suggest_float` instead.\n",
      "  \"learning_rate\": trial.suggest_loguniform(\"learning_rate\", 0.01, 1.0),\n",
      "C:\\Users\\pemma\\AppData\\Local\\Temp\\ipykernel_7292\\120219098.py:12: FutureWarning: suggest_loguniform has been deprecated in v3.0.0. This feature will be removed in v6.0.0. See https://github.com/optuna/optuna/releases/tag/v3.0.0. Use :func:`~optuna.trial.Trial.suggest_float` instead.\n",
      "  \"subsample\": trial.suggest_loguniform(\"subsample\", 0.01, 1.0)\n",
      "\u001b[32m[I 2023-01-30 16:43:00,420]\u001b[0m Trial 3 finished with value: 0.583976833976834 and parameters: {'max_depth': 1, 'learning_rate': 0.3016296882227791, 'n_estimators': 226, 'subsample': 0.03650811407916642}. Best is trial 3 with value: 0.583976833976834.\u001b[0m\n",
      "C:\\Users\\pemma\\AppData\\Local\\Temp\\ipykernel_7292\\120219098.py:10: FutureWarning: suggest_loguniform has been deprecated in v3.0.0. This feature will be removed in v6.0.0. See https://github.com/optuna/optuna/releases/tag/v3.0.0. Use :func:`~optuna.trial.Trial.suggest_float` instead.\n",
      "  \"learning_rate\": trial.suggest_loguniform(\"learning_rate\", 0.01, 1.0),\n",
      "C:\\Users\\pemma\\AppData\\Local\\Temp\\ipykernel_7292\\120219098.py:12: FutureWarning: suggest_loguniform has been deprecated in v3.0.0. This feature will be removed in v6.0.0. See https://github.com/optuna/optuna/releases/tag/v3.0.0. Use :func:`~optuna.trial.Trial.suggest_float` instead.\n",
      "  \"subsample\": trial.suggest_loguniform(\"subsample\", 0.01, 1.0)\n",
      "\u001b[32m[I 2023-01-30 16:43:02,693]\u001b[0m Trial 1 finished with value: 0.6800193050193051 and parameters: {'max_depth': 1, 'learning_rate': 0.05958250091805617, 'n_estimators': 370, 'subsample': 0.017058787596272128}. Best is trial 1 with value: 0.6800193050193051.\u001b[0m\n",
      "C:\\Users\\pemma\\AppData\\Local\\Temp\\ipykernel_7292\\120219098.py:10: FutureWarning: suggest_loguniform has been deprecated in v3.0.0. This feature will be removed in v6.0.0. See https://github.com/optuna/optuna/releases/tag/v3.0.0. Use :func:`~optuna.trial.Trial.suggest_float` instead.\n",
      "  \"learning_rate\": trial.suggest_loguniform(\"learning_rate\", 0.01, 1.0),\n",
      "C:\\Users\\pemma\\AppData\\Local\\Temp\\ipykernel_7292\\120219098.py:12: FutureWarning: suggest_loguniform has been deprecated in v3.0.0. This feature will be removed in v6.0.0. See https://github.com/optuna/optuna/releases/tag/v3.0.0. Use :func:`~optuna.trial.Trial.suggest_float` instead.\n",
      "  \"subsample\": trial.suggest_loguniform(\"subsample\", 0.01, 1.0)\n",
      "\u001b[32m[I 2023-01-30 16:43:03,786]\u001b[0m Trial 4 finished with value: 0.5661196911196912 and parameters: {'max_depth': 6, 'learning_rate': 0.24391496397164475, 'n_estimators': 439, 'subsample': 0.010420514214451605}. Best is trial 1 with value: 0.6800193050193051.\u001b[0m\n",
      "C:\\Users\\pemma\\AppData\\Local\\Temp\\ipykernel_7292\\120219098.py:10: FutureWarning: suggest_loguniform has been deprecated in v3.0.0. This feature will be removed in v6.0.0. See https://github.com/optuna/optuna/releases/tag/v3.0.0. Use :func:`~optuna.trial.Trial.suggest_float` instead.\n",
      "  \"learning_rate\": trial.suggest_loguniform(\"learning_rate\", 0.01, 1.0),\n",
      "C:\\Users\\pemma\\AppData\\Local\\Temp\\ipykernel_7292\\120219098.py:12: FutureWarning: suggest_loguniform has been deprecated in v3.0.0. This feature will be removed in v6.0.0. See https://github.com/optuna/optuna/releases/tag/v3.0.0. Use :func:`~optuna.trial.Trial.suggest_float` instead.\n",
      "  \"subsample\": trial.suggest_loguniform(\"subsample\", 0.01, 1.0)\n",
      "\u001b[32m[I 2023-01-30 16:43:04,675]\u001b[0m Trial 2 finished with value: 0.6462355212355213 and parameters: {'max_depth': 3, 'learning_rate': 0.5790778961418214, 'n_estimators': 293, 'subsample': 0.3620586469009759}. Best is trial 1 with value: 0.6800193050193051.\u001b[0m\n",
      "C:\\Users\\pemma\\AppData\\Local\\Temp\\ipykernel_7292\\120219098.py:10: FutureWarning: suggest_loguniform has been deprecated in v3.0.0. This feature will be removed in v6.0.0. See https://github.com/optuna/optuna/releases/tag/v3.0.0. Use :func:`~optuna.trial.Trial.suggest_float` instead.\n",
      "  \"learning_rate\": trial.suggest_loguniform(\"learning_rate\", 0.01, 1.0),\n",
      "C:\\Users\\pemma\\AppData\\Local\\Temp\\ipykernel_7292\\120219098.py:12: FutureWarning: suggest_loguniform has been deprecated in v3.0.0. This feature will be removed in v6.0.0. See https://github.com/optuna/optuna/releases/tag/v3.0.0. Use :func:`~optuna.trial.Trial.suggest_float` instead.\n",
      "  \"subsample\": trial.suggest_loguniform(\"subsample\", 0.01, 1.0)\n",
      "\u001b[32m[I 2023-01-30 16:43:09,441]\u001b[0m Trial 7 finished with value: 0.6911196911196911 and parameters: {'max_depth': 3, 'learning_rate': 0.02224360173630381, 'n_estimators': 218, 'subsample': 0.13300957053812285}. Best is trial 7 with value: 0.6911196911196911.\u001b[0m\n",
      "C:\\Users\\pemma\\AppData\\Local\\Temp\\ipykernel_7292\\120219098.py:10: FutureWarning: suggest_loguniform has been deprecated in v3.0.0. This feature will be removed in v6.0.0. See https://github.com/optuna/optuna/releases/tag/v3.0.0. Use :func:`~optuna.trial.Trial.suggest_float` instead.\n",
      "  \"learning_rate\": trial.suggest_loguniform(\"learning_rate\", 0.01, 1.0),\n",
      "C:\\Users\\pemma\\AppData\\Local\\Temp\\ipykernel_7292\\120219098.py:12: FutureWarning: suggest_loguniform has been deprecated in v3.0.0. This feature will be removed in v6.0.0. See https://github.com/optuna/optuna/releases/tag/v3.0.0. Use :func:`~optuna.trial.Trial.suggest_float` instead.\n",
      "  \"subsample\": trial.suggest_loguniform(\"subsample\", 0.01, 1.0)\n",
      "\u001b[32m[I 2023-01-30 16:43:09,577]\u001b[0m Trial 9 finished with value: 0.6800193050193051 and parameters: {'max_depth': 4, 'learning_rate': 0.3450134636371969, 'n_estimators': 203, 'subsample': 0.05590234346771048}. Best is trial 7 with value: 0.6911196911196911.\u001b[0m\n",
      "C:\\Users\\pemma\\AppData\\Local\\Temp\\ipykernel_7292\\120219098.py:10: FutureWarning: suggest_loguniform has been deprecated in v3.0.0. This feature will be removed in v6.0.0. See https://github.com/optuna/optuna/releases/tag/v3.0.0. Use :func:`~optuna.trial.Trial.suggest_float` instead.\n",
      "  \"learning_rate\": trial.suggest_loguniform(\"learning_rate\", 0.01, 1.0),\n",
      "C:\\Users\\pemma\\AppData\\Local\\Temp\\ipykernel_7292\\120219098.py:12: FutureWarning: suggest_loguniform has been deprecated in v3.0.0. This feature will be removed in v6.0.0. See https://github.com/optuna/optuna/releases/tag/v3.0.0. Use :func:`~optuna.trial.Trial.suggest_float` instead.\n",
      "  \"subsample\": trial.suggest_loguniform(\"subsample\", 0.01, 1.0)\n",
      "\u001b[32m[I 2023-01-30 16:43:09,781]\u001b[0m Trial 0 finished with value: 0.7046332046332047 and parameters: {'max_depth': 7, 'learning_rate': 0.06051977348906202, 'n_estimators': 381, 'subsample': 0.05685448731519942}. Best is trial 0 with value: 0.7046332046332047.\u001b[0m\n",
      "C:\\Users\\pemma\\AppData\\Local\\Temp\\ipykernel_7292\\120219098.py:10: FutureWarning: suggest_loguniform has been deprecated in v3.0.0. This feature will be removed in v6.0.0. See https://github.com/optuna/optuna/releases/tag/v3.0.0. Use :func:`~optuna.trial.Trial.suggest_float` instead.\n",
      "  \"learning_rate\": trial.suggest_loguniform(\"learning_rate\", 0.01, 1.0),\n",
      "C:\\Users\\pemma\\AppData\\Local\\Temp\\ipykernel_7292\\120219098.py:12: FutureWarning: suggest_loguniform has been deprecated in v3.0.0. This feature will be removed in v6.0.0. See https://github.com/optuna/optuna/releases/tag/v3.0.0. Use :func:`~optuna.trial.Trial.suggest_float` instead.\n",
      "  \"subsample\": trial.suggest_loguniform(\"subsample\", 0.01, 1.0)\n",
      "\u001b[32m[I 2023-01-30 16:43:11,564]\u001b[0m Trial 5 finished with value: 0.7181467181467182 and parameters: {'max_depth': 9, 'learning_rate': 0.3068182486855644, 'n_estimators': 442, 'subsample': 0.4814647508909381}. Best is trial 5 with value: 0.7181467181467182.\u001b[0m\n",
      "C:\\Users\\pemma\\AppData\\Local\\Temp\\ipykernel_7292\\120219098.py:10: FutureWarning: suggest_loguniform has been deprecated in v3.0.0. This feature will be removed in v6.0.0. See https://github.com/optuna/optuna/releases/tag/v3.0.0. Use :func:`~optuna.trial.Trial.suggest_float` instead.\n",
      "  \"learning_rate\": trial.suggest_loguniform(\"learning_rate\", 0.01, 1.0),\n",
      "C:\\Users\\pemma\\AppData\\Local\\Temp\\ipykernel_7292\\120219098.py:12: FutureWarning: suggest_loguniform has been deprecated in v3.0.0. This feature will be removed in v6.0.0. See https://github.com/optuna/optuna/releases/tag/v3.0.0. Use :func:`~optuna.trial.Trial.suggest_float` instead.\n",
      "  \"subsample\": trial.suggest_loguniform(\"subsample\", 0.01, 1.0)\n",
      "\u001b[32m[I 2023-01-30 16:43:12,175]\u001b[0m Trial 10 finished with value: 0.6713320463320464 and parameters: {'max_depth': 8, 'learning_rate': 0.020930482894921804, 'n_estimators': 217, 'subsample': 0.03989785708753842}. Best is trial 5 with value: 0.7181467181467182.\u001b[0m\n",
      "C:\\Users\\pemma\\AppData\\Local\\Temp\\ipykernel_7292\\120219098.py:10: FutureWarning: suggest_loguniform has been deprecated in v3.0.0. This feature will be removed in v6.0.0. See https://github.com/optuna/optuna/releases/tag/v3.0.0. Use :func:`~optuna.trial.Trial.suggest_float` instead.\n",
      "  \"learning_rate\": trial.suggest_loguniform(\"learning_rate\", 0.01, 1.0),\n",
      "C:\\Users\\pemma\\AppData\\Local\\Temp\\ipykernel_7292\\120219098.py:12: FutureWarning: suggest_loguniform has been deprecated in v3.0.0. This feature will be removed in v6.0.0. See https://github.com/optuna/optuna/releases/tag/v3.0.0. Use :func:`~optuna.trial.Trial.suggest_float` instead.\n",
      "  \"subsample\": trial.suggest_loguniform(\"subsample\", 0.01, 1.0)\n",
      "\u001b[32m[I 2023-01-30 16:43:14,322]\u001b[0m Trial 8 finished with value: 0.6800193050193051 and parameters: {'max_depth': 9, 'learning_rate': 0.011939316800366669, 'n_estimators': 182, 'subsample': 0.14363603690415133}. Best is trial 5 with value: 0.7181467181467182.\u001b[0m\n",
      "C:\\Users\\pemma\\AppData\\Local\\Temp\\ipykernel_7292\\120219098.py:10: FutureWarning: suggest_loguniform has been deprecated in v3.0.0. This feature will be removed in v6.0.0. See https://github.com/optuna/optuna/releases/tag/v3.0.0. Use :func:`~optuna.trial.Trial.suggest_float` instead.\n",
      "  \"learning_rate\": trial.suggest_loguniform(\"learning_rate\", 0.01, 1.0),\n",
      "C:\\Users\\pemma\\AppData\\Local\\Temp\\ipykernel_7292\\120219098.py:12: FutureWarning: suggest_loguniform has been deprecated in v3.0.0. This feature will be removed in v6.0.0. See https://github.com/optuna/optuna/releases/tag/v3.0.0. Use :func:`~optuna.trial.Trial.suggest_float` instead.\n",
      "  \"subsample\": trial.suggest_loguniform(\"subsample\", 0.01, 1.0)\n",
      "\u001b[32m[I 2023-01-30 16:43:14,394]\u001b[0m Trial 15 finished with value: 0.5275096525096525 and parameters: {'max_depth': 8, 'learning_rate': 0.7296064703123876, 'n_estimators': 109, 'subsample': 0.015126576776919236}. Best is trial 5 with value: 0.7181467181467182.\u001b[0m\n",
      "C:\\Users\\pemma\\AppData\\Local\\Temp\\ipykernel_7292\\120219098.py:10: FutureWarning: suggest_loguniform has been deprecated in v3.0.0. This feature will be removed in v6.0.0. See https://github.com/optuna/optuna/releases/tag/v3.0.0. Use :func:`~optuna.trial.Trial.suggest_float` instead.\n",
      "  \"learning_rate\": trial.suggest_loguniform(\"learning_rate\", 0.01, 1.0),\n",
      "C:\\Users\\pemma\\AppData\\Local\\Temp\\ipykernel_7292\\120219098.py:12: FutureWarning: suggest_loguniform has been deprecated in v3.0.0. This feature will be removed in v6.0.0. See https://github.com/optuna/optuna/releases/tag/v3.0.0. Use :func:`~optuna.trial.Trial.suggest_float` instead.\n",
      "  \"subsample\": trial.suggest_loguniform(\"subsample\", 0.01, 1.0)\n",
      "\u001b[32m[I 2023-01-30 16:43:15,460]\u001b[0m Trial 6 finished with value: 0.7157335907335907 and parameters: {'max_depth': 3, 'learning_rate': 0.03411706597234065, 'n_estimators': 425, 'subsample': 0.36444541164315786}. Best is trial 5 with value: 0.7181467181467182.\u001b[0m\n",
      "C:\\Users\\pemma\\AppData\\Local\\Temp\\ipykernel_7292\\120219098.py:10: FutureWarning: suggest_loguniform has been deprecated in v3.0.0. This feature will be removed in v6.0.0. See https://github.com/optuna/optuna/releases/tag/v3.0.0. Use :func:`~optuna.trial.Trial.suggest_float` instead.\n",
      "  \"learning_rate\": trial.suggest_loguniform(\"learning_rate\", 0.01, 1.0),\n",
      "C:\\Users\\pemma\\AppData\\Local\\Temp\\ipykernel_7292\\120219098.py:12: FutureWarning: suggest_loguniform has been deprecated in v3.0.0. This feature will be removed in v6.0.0. See https://github.com/optuna/optuna/releases/tag/v3.0.0. Use :func:`~optuna.trial.Trial.suggest_float` instead.\n",
      "  \"subsample\": trial.suggest_loguniform(\"subsample\", 0.01, 1.0)\n",
      "\u001b[32m[I 2023-01-30 16:43:18,245]\u001b[0m Trial 11 finished with value: 0.4768339768339769 and parameters: {'max_depth': 7, 'learning_rate': 0.4137374564581253, 'n_estimators': 453, 'subsample': 0.012910198947947553}. Best is trial 5 with value: 0.7181467181467182.\u001b[0m\n",
      "C:\\Users\\pemma\\AppData\\Local\\Temp\\ipykernel_7292\\120219098.py:10: FutureWarning: suggest_loguniform has been deprecated in v3.0.0. This feature will be removed in v6.0.0. See https://github.com/optuna/optuna/releases/tag/v3.0.0. Use :func:`~optuna.trial.Trial.suggest_float` instead.\n",
      "  \"learning_rate\": trial.suggest_loguniform(\"learning_rate\", 0.01, 1.0),\n",
      "C:\\Users\\pemma\\AppData\\Local\\Temp\\ipykernel_7292\\120219098.py:12: FutureWarning: suggest_loguniform has been deprecated in v3.0.0. This feature will be removed in v6.0.0. See https://github.com/optuna/optuna/releases/tag/v3.0.0. Use :func:`~optuna.trial.Trial.suggest_float` instead.\n",
      "  \"subsample\": trial.suggest_loguniform(\"subsample\", 0.01, 1.0)\n",
      "\u001b[32m[I 2023-01-30 16:43:25,789]\u001b[0m Trial 14 finished with value: 0.6312741312741312 and parameters: {'max_depth': 9, 'learning_rate': 0.0104012198860239, 'n_estimators': 335, 'subsample': 0.022678395794597853}. Best is trial 5 with value: 0.7181467181467182.\u001b[0m\n",
      "C:\\Users\\pemma\\AppData\\Local\\Temp\\ipykernel_7292\\120219098.py:10: FutureWarning: suggest_loguniform has been deprecated in v3.0.0. This feature will be removed in v6.0.0. See https://github.com/optuna/optuna/releases/tag/v3.0.0. Use :func:`~optuna.trial.Trial.suggest_float` instead.\n",
      "  \"learning_rate\": trial.suggest_loguniform(\"learning_rate\", 0.01, 1.0),\n",
      "C:\\Users\\pemma\\AppData\\Local\\Temp\\ipykernel_7292\\120219098.py:12: FutureWarning: suggest_loguniform has been deprecated in v3.0.0. This feature will be removed in v6.0.0. See https://github.com/optuna/optuna/releases/tag/v3.0.0. Use :func:`~optuna.trial.Trial.suggest_float` instead.\n",
      "  \"subsample\": trial.suggest_loguniform(\"subsample\", 0.01, 1.0)\n",
      "\u001b[32m[I 2023-01-30 16:43:32,304]\u001b[0m Trial 12 finished with value: 0.7360038610038611 and parameters: {'max_depth': 3, 'learning_rate': 0.10468590383791285, 'n_estimators': 346, 'subsample': 0.42088881415146345}. Best is trial 12 with value: 0.7360038610038611.\u001b[0m\n",
      "C:\\Users\\pemma\\AppData\\Local\\Temp\\ipykernel_7292\\120219098.py:10: FutureWarning: suggest_loguniform has been deprecated in v3.0.0. This feature will be removed in v6.0.0. See https://github.com/optuna/optuna/releases/tag/v3.0.0. Use :func:`~optuna.trial.Trial.suggest_float` instead.\n",
      "  \"learning_rate\": trial.suggest_loguniform(\"learning_rate\", 0.01, 1.0),\n",
      "C:\\Users\\pemma\\AppData\\Local\\Temp\\ipykernel_7292\\120219098.py:12: FutureWarning: suggest_loguniform has been deprecated in v3.0.0. This feature will be removed in v6.0.0. See https://github.com/optuna/optuna/releases/tag/v3.0.0. Use :func:`~optuna.trial.Trial.suggest_float` instead.\n",
      "  \"subsample\": trial.suggest_loguniform(\"subsample\", 0.01, 1.0)\n",
      "\u001b[32m[I 2023-01-30 16:43:33,102]\u001b[0m Trial 13 finished with value: 0.6665057915057915 and parameters: {'max_depth': 6, 'learning_rate': 0.012384023548104228, 'n_estimators': 203, 'subsample': 0.23287873230332767}. Best is trial 12 with value: 0.7360038610038611.\u001b[0m\n",
      "C:\\Users\\pemma\\AppData\\Local\\Temp\\ipykernel_7292\\120219098.py:10: FutureWarning: suggest_loguniform has been deprecated in v3.0.0. This feature will be removed in v6.0.0. See https://github.com/optuna/optuna/releases/tag/v3.0.0. Use :func:`~optuna.trial.Trial.suggest_float` instead.\n",
      "  \"learning_rate\": trial.suggest_loguniform(\"learning_rate\", 0.01, 1.0),\n",
      "C:\\Users\\pemma\\AppData\\Local\\Temp\\ipykernel_7292\\120219098.py:12: FutureWarning: suggest_loguniform has been deprecated in v3.0.0. This feature will be removed in v6.0.0. See https://github.com/optuna/optuna/releases/tag/v3.0.0. Use :func:`~optuna.trial.Trial.suggest_float` instead.\n",
      "  \"subsample\": trial.suggest_loguniform(\"subsample\", 0.01, 1.0)\n",
      "\u001b[32m[I 2023-01-30 16:43:35,115]\u001b[0m Trial 16 finished with value: 0.6756756756756757 and parameters: {'max_depth': 9, 'learning_rate': 0.9246434674127425, 'n_estimators': 497, 'subsample': 0.7194536383484548}. Best is trial 12 with value: 0.7360038610038611.\u001b[0m\n",
      "C:\\Users\\pemma\\AppData\\Local\\Temp\\ipykernel_7292\\120219098.py:10: FutureWarning: suggest_loguniform has been deprecated in v3.0.0. This feature will be removed in v6.0.0. See https://github.com/optuna/optuna/releases/tag/v3.0.0. Use :func:`~optuna.trial.Trial.suggest_float` instead.\n",
      "  \"learning_rate\": trial.suggest_loguniform(\"learning_rate\", 0.01, 1.0),\n",
      "C:\\Users\\pemma\\AppData\\Local\\Temp\\ipykernel_7292\\120219098.py:12: FutureWarning: suggest_loguniform has been deprecated in v3.0.0. This feature will be removed in v6.0.0. See https://github.com/optuna/optuna/releases/tag/v3.0.0. Use :func:`~optuna.trial.Trial.suggest_float` instead.\n",
      "  \"subsample\": trial.suggest_loguniform(\"subsample\", 0.01, 1.0)\n",
      "\u001b[32m[I 2023-01-30 16:43:54,442]\u001b[0m Trial 18 finished with value: 0.7046332046332047 and parameters: {'max_depth': 4, 'learning_rate': 0.142041867058942, 'n_estimators': 499, 'subsample': 0.9398920443482577}. Best is trial 12 with value: 0.7360038610038611.\u001b[0m\n",
      "C:\\Users\\pemma\\AppData\\Local\\Temp\\ipykernel_7292\\120219098.py:10: FutureWarning: suggest_loguniform has been deprecated in v3.0.0. This feature will be removed in v6.0.0. See https://github.com/optuna/optuna/releases/tag/v3.0.0. Use :func:`~optuna.trial.Trial.suggest_float` instead.\n",
      "  \"learning_rate\": trial.suggest_loguniform(\"learning_rate\", 0.01, 1.0),\n",
      "C:\\Users\\pemma\\AppData\\Local\\Temp\\ipykernel_7292\\120219098.py:12: FutureWarning: suggest_loguniform has been deprecated in v3.0.0. This feature will be removed in v6.0.0. See https://github.com/optuna/optuna/releases/tag/v3.0.0. Use :func:`~optuna.trial.Trial.suggest_float` instead.\n",
      "  \"subsample\": trial.suggest_loguniform(\"subsample\", 0.01, 1.0)\n",
      "\u001b[32m[I 2023-01-30 16:43:56,833]\u001b[0m Trial 17 finished with value: 0.708976833976834 and parameters: {'max_depth': 6, 'learning_rate': 0.1167819719604975, 'n_estimators': 491, 'subsample': 0.6875200224938117}. Best is trial 12 with value: 0.7360038610038611.\u001b[0m\n",
      "C:\\Users\\pemma\\AppData\\Local\\Temp\\ipykernel_7292\\120219098.py:10: FutureWarning: suggest_loguniform has been deprecated in v3.0.0. This feature will be removed in v6.0.0. See https://github.com/optuna/optuna/releases/tag/v3.0.0. Use :func:`~optuna.trial.Trial.suggest_float` instead.\n",
      "  \"learning_rate\": trial.suggest_loguniform(\"learning_rate\", 0.01, 1.0),\n",
      "C:\\Users\\pemma\\AppData\\Local\\Temp\\ipykernel_7292\\120219098.py:12: FutureWarning: suggest_loguniform has been deprecated in v3.0.0. This feature will be removed in v6.0.0. See https://github.com/optuna/optuna/releases/tag/v3.0.0. Use :func:`~optuna.trial.Trial.suggest_float` instead.\n",
      "  \"subsample\": trial.suggest_loguniform(\"subsample\", 0.01, 1.0)\n",
      "\u001b[32m[I 2023-01-30 16:43:57,947]\u001b[0m Trial 19 finished with value: 0.6978764478764479 and parameters: {'max_depth': 5, 'learning_rate': 0.13995453851181222, 'n_estimators': 487, 'subsample': 0.8639953328001928}. Best is trial 12 with value: 0.7360038610038611.\u001b[0m\n",
      "C:\\Users\\pemma\\AppData\\Local\\Temp\\ipykernel_7292\\120219098.py:10: FutureWarning: suggest_loguniform has been deprecated in v3.0.0. This feature will be removed in v6.0.0. See https://github.com/optuna/optuna/releases/tag/v3.0.0. Use :func:`~optuna.trial.Trial.suggest_float` instead.\n",
      "  \"learning_rate\": trial.suggest_loguniform(\"learning_rate\", 0.01, 1.0),\n",
      "C:\\Users\\pemma\\AppData\\Local\\Temp\\ipykernel_7292\\120219098.py:12: FutureWarning: suggest_loguniform has been deprecated in v3.0.0. This feature will be removed in v6.0.0. See https://github.com/optuna/optuna/releases/tag/v3.0.0. Use :func:`~optuna.trial.Trial.suggest_float` instead.\n",
      "  \"subsample\": trial.suggest_loguniform(\"subsample\", 0.01, 1.0)\n",
      "\u001b[32m[I 2023-01-30 16:43:59,743]\u001b[0m Trial 23 finished with value: 0.7224903474903475 and parameters: {'max_depth': 5, 'learning_rate': 0.15989162084826386, 'n_estimators': 286, 'subsample': 0.9117861230844008}. Best is trial 12 with value: 0.7360038610038611.\u001b[0m\n",
      "C:\\Users\\pemma\\AppData\\Local\\Temp\\ipykernel_7292\\120219098.py:10: FutureWarning: suggest_loguniform has been deprecated in v3.0.0. This feature will be removed in v6.0.0. See https://github.com/optuna/optuna/releases/tag/v3.0.0. Use :func:`~optuna.trial.Trial.suggest_float` instead.\n",
      "  \"learning_rate\": trial.suggest_loguniform(\"learning_rate\", 0.01, 1.0),\n",
      "C:\\Users\\pemma\\AppData\\Local\\Temp\\ipykernel_7292\\120219098.py:12: FutureWarning: suggest_loguniform has been deprecated in v3.0.0. This feature will be removed in v6.0.0. See https://github.com/optuna/optuna/releases/tag/v3.0.0. Use :func:`~optuna.trial.Trial.suggest_float` instead.\n",
      "  \"subsample\": trial.suggest_loguniform(\"subsample\", 0.01, 1.0)\n",
      "\u001b[32m[I 2023-01-30 16:44:04,067]\u001b[0m Trial 20 finished with value: 0.7046332046332047 and parameters: {'max_depth': 5, 'learning_rate': 0.15257361182614043, 'n_estimators': 490, 'subsample': 0.8808306374556631}. Best is trial 12 with value: 0.7360038610038611.\u001b[0m\n",
      "C:\\Users\\pemma\\AppData\\Local\\Temp\\ipykernel_7292\\120219098.py:10: FutureWarning: suggest_loguniform has been deprecated in v3.0.0. This feature will be removed in v6.0.0. See https://github.com/optuna/optuna/releases/tag/v3.0.0. Use :func:`~optuna.trial.Trial.suggest_float` instead.\n",
      "  \"learning_rate\": trial.suggest_loguniform(\"learning_rate\", 0.01, 1.0),\n",
      "C:\\Users\\pemma\\AppData\\Local\\Temp\\ipykernel_7292\\120219098.py:12: FutureWarning: suggest_loguniform has been deprecated in v3.0.0. This feature will be removed in v6.0.0. See https://github.com/optuna/optuna/releases/tag/v3.0.0. Use :func:`~optuna.trial.Trial.suggest_float` instead.\n",
      "  \"subsample\": trial.suggest_loguniform(\"subsample\", 0.01, 1.0)\n",
      "\u001b[32m[I 2023-01-30 16:44:05,928]\u001b[0m Trial 22 finished with value: 0.7046332046332047 and parameters: {'max_depth': 5, 'learning_rate': 0.15785702990784942, 'n_estimators': 490, 'subsample': 0.962733322308711}. Best is trial 12 with value: 0.7360038610038611.\u001b[0m\n",
      "C:\\Users\\pemma\\AppData\\Local\\Temp\\ipykernel_7292\\120219098.py:10: FutureWarning: suggest_loguniform has been deprecated in v3.0.0. This feature will be removed in v6.0.0. See https://github.com/optuna/optuna/releases/tag/v3.0.0. Use :func:`~optuna.trial.Trial.suggest_float` instead.\n",
      "  \"learning_rate\": trial.suggest_loguniform(\"learning_rate\", 0.01, 1.0),\n",
      "C:\\Users\\pemma\\AppData\\Local\\Temp\\ipykernel_7292\\120219098.py:12: FutureWarning: suggest_loguniform has been deprecated in v3.0.0. This feature will be removed in v6.0.0. See https://github.com/optuna/optuna/releases/tag/v3.0.0. Use :func:`~optuna.trial.Trial.suggest_float` instead.\n",
      "  \"subsample\": trial.suggest_loguniform(\"subsample\", 0.01, 1.0)\n",
      "\u001b[32m[I 2023-01-30 16:44:08,147]\u001b[0m Trial 24 finished with value: 0.6867760617760618 and parameters: {'max_depth': 2, 'learning_rate': 0.16676404548811036, 'n_estimators': 292, 'subsample': 0.515006380255247}. Best is trial 12 with value: 0.7360038610038611.\u001b[0m\n",
      "C:\\Users\\pemma\\AppData\\Local\\Temp\\ipykernel_7292\\120219098.py:10: FutureWarning: suggest_loguniform has been deprecated in v3.0.0. This feature will be removed in v6.0.0. See https://github.com/optuna/optuna/releases/tag/v3.0.0. Use :func:`~optuna.trial.Trial.suggest_float` instead.\n",
      "  \"learning_rate\": trial.suggest_loguniform(\"learning_rate\", 0.01, 1.0),\n",
      "C:\\Users\\pemma\\AppData\\Local\\Temp\\ipykernel_7292\\120219098.py:12: FutureWarning: suggest_loguniform has been deprecated in v3.0.0. This feature will be removed in v6.0.0. See https://github.com/optuna/optuna/releases/tag/v3.0.0. Use :func:`~optuna.trial.Trial.suggest_float` instead.\n",
      "  \"subsample\": trial.suggest_loguniform(\"subsample\", 0.01, 1.0)\n",
      "\u001b[32m[I 2023-01-30 16:44:09,226]\u001b[0m Trial 21 finished with value: 0.6867760617760618 and parameters: {'max_depth': 5, 'learning_rate': 0.14380972783918433, 'n_estimators': 495, 'subsample': 0.80750126045586}. Best is trial 12 with value: 0.7360038610038611.\u001b[0m\n",
      "C:\\Users\\pemma\\AppData\\Local\\Temp\\ipykernel_7292\\120219098.py:10: FutureWarning: suggest_loguniform has been deprecated in v3.0.0. This feature will be removed in v6.0.0. See https://github.com/optuna/optuna/releases/tag/v3.0.0. Use :func:`~optuna.trial.Trial.suggest_float` instead.\n",
      "  \"learning_rate\": trial.suggest_loguniform(\"learning_rate\", 0.01, 1.0),\n",
      "C:\\Users\\pemma\\AppData\\Local\\Temp\\ipykernel_7292\\120219098.py:12: FutureWarning: suggest_loguniform has been deprecated in v3.0.0. This feature will be removed in v6.0.0. See https://github.com/optuna/optuna/releases/tag/v3.0.0. Use :func:`~optuna.trial.Trial.suggest_float` instead.\n",
      "  \"subsample\": trial.suggest_loguniform(\"subsample\", 0.01, 1.0)\n",
      "\u001b[32m[I 2023-01-30 16:44:10,899]\u001b[0m Trial 25 finished with value: 0.6621621621621622 and parameters: {'max_depth': 2, 'learning_rate': 0.21855733352389553, 'n_estimators': 283, 'subsample': 0.4281530957088792}. Best is trial 12 with value: 0.7360038610038611.\u001b[0m\n",
      "C:\\Users\\pemma\\AppData\\Local\\Temp\\ipykernel_7292\\120219098.py:10: FutureWarning: suggest_loguniform has been deprecated in v3.0.0. This feature will be removed in v6.0.0. See https://github.com/optuna/optuna/releases/tag/v3.0.0. Use :func:`~optuna.trial.Trial.suggest_float` instead.\n",
      "  \"learning_rate\": trial.suggest_loguniform(\"learning_rate\", 0.01, 1.0),\n",
      "C:\\Users\\pemma\\AppData\\Local\\Temp\\ipykernel_7292\\120219098.py:12: FutureWarning: suggest_loguniform has been deprecated in v3.0.0. This feature will be removed in v6.0.0. See https://github.com/optuna/optuna/releases/tag/v3.0.0. Use :func:`~optuna.trial.Trial.suggest_float` instead.\n",
      "  \"subsample\": trial.suggest_loguniform(\"subsample\", 0.01, 1.0)\n",
      "\u001b[32m[I 2023-01-30 16:44:11,758]\u001b[0m Trial 26 finished with value: 0.6867760617760618 and parameters: {'max_depth': 2, 'learning_rate': 0.2044004064633924, 'n_estimators': 273, 'subsample': 0.46110331609230343}. Best is trial 12 with value: 0.7360038610038611.\u001b[0m\n",
      "C:\\Users\\pemma\\AppData\\Local\\Temp\\ipykernel_7292\\120219098.py:10: FutureWarning: suggest_loguniform has been deprecated in v3.0.0. This feature will be removed in v6.0.0. See https://github.com/optuna/optuna/releases/tag/v3.0.0. Use :func:`~optuna.trial.Trial.suggest_float` instead.\n",
      "  \"learning_rate\": trial.suggest_loguniform(\"learning_rate\", 0.01, 1.0),\n",
      "C:\\Users\\pemma\\AppData\\Local\\Temp\\ipykernel_7292\\120219098.py:12: FutureWarning: suggest_loguniform has been deprecated in v3.0.0. This feature will be removed in v6.0.0. See https://github.com/optuna/optuna/releases/tag/v3.0.0. Use :func:`~optuna.trial.Trial.suggest_float` instead.\n",
      "  \"subsample\": trial.suggest_loguniform(\"subsample\", 0.01, 1.0)\n",
      "\u001b[32m[I 2023-01-30 16:44:13,895]\u001b[0m Trial 27 finished with value: 0.6443050193050193 and parameters: {'max_depth': 2, 'learning_rate': 0.2037505156965925, 'n_estimators': 284, 'subsample': 0.46911939873922603}. Best is trial 12 with value: 0.7360038610038611.\u001b[0m\n",
      "C:\\Users\\pemma\\AppData\\Local\\Temp\\ipykernel_7292\\120219098.py:10: FutureWarning: suggest_loguniform has been deprecated in v3.0.0. This feature will be removed in v6.0.0. See https://github.com/optuna/optuna/releases/tag/v3.0.0. Use :func:`~optuna.trial.Trial.suggest_float` instead.\n",
      "  \"learning_rate\": trial.suggest_loguniform(\"learning_rate\", 0.01, 1.0),\n",
      "C:\\Users\\pemma\\AppData\\Local\\Temp\\ipykernel_7292\\120219098.py:12: FutureWarning: suggest_loguniform has been deprecated in v3.0.0. This feature will be removed in v6.0.0. See https://github.com/optuna/optuna/releases/tag/v3.0.0. Use :func:`~optuna.trial.Trial.suggest_float` instead.\n",
      "  \"subsample\": trial.suggest_loguniform(\"subsample\", 0.01, 1.0)\n",
      "\u001b[32m[I 2023-01-30 16:44:17,897]\u001b[0m Trial 28 finished with value: 0.6867760617760618 and parameters: {'max_depth': 2, 'learning_rate': 0.23043038379535072, 'n_estimators': 299, 'subsample': 0.49071722234630605}. Best is trial 12 with value: 0.7360038610038611.\u001b[0m\n",
      "C:\\Users\\pemma\\AppData\\Local\\Temp\\ipykernel_7292\\120219098.py:10: FutureWarning: suggest_loguniform has been deprecated in v3.0.0. This feature will be removed in v6.0.0. See https://github.com/optuna/optuna/releases/tag/v3.0.0. Use :func:`~optuna.trial.Trial.suggest_float` instead.\n",
      "  \"learning_rate\": trial.suggest_loguniform(\"learning_rate\", 0.01, 1.0),\n",
      "C:\\Users\\pemma\\AppData\\Local\\Temp\\ipykernel_7292\\120219098.py:12: FutureWarning: suggest_loguniform has been deprecated in v3.0.0. This feature will be removed in v6.0.0. See https://github.com/optuna/optuna/releases/tag/v3.0.0. Use :func:`~optuna.trial.Trial.suggest_float` instead.\n",
      "  \"subsample\": trial.suggest_loguniform(\"subsample\", 0.01, 1.0)\n",
      "\u001b[32m[I 2023-01-30 16:44:18,084]\u001b[0m Trial 29 finished with value: 0.6935328185328185 and parameters: {'max_depth': 2, 'learning_rate': 0.23215769997728625, 'n_estimators': 278, 'subsample': 0.49316358231845886}. Best is trial 12 with value: 0.7360038610038611.\u001b[0m\n",
      "C:\\Users\\pemma\\AppData\\Local\\Temp\\ipykernel_7292\\120219098.py:10: FutureWarning: suggest_loguniform has been deprecated in v3.0.0. This feature will be removed in v6.0.0. See https://github.com/optuna/optuna/releases/tag/v3.0.0. Use :func:`~optuna.trial.Trial.suggest_float` instead.\n",
      "  \"learning_rate\": trial.suggest_loguniform(\"learning_rate\", 0.01, 1.0),\n",
      "C:\\Users\\pemma\\AppData\\Local\\Temp\\ipykernel_7292\\120219098.py:12: FutureWarning: suggest_loguniform has been deprecated in v3.0.0. This feature will be removed in v6.0.0. See https://github.com/optuna/optuna/releases/tag/v3.0.0. Use :func:`~optuna.trial.Trial.suggest_float` instead.\n",
      "  \"subsample\": trial.suggest_loguniform(\"subsample\", 0.01, 1.0)\n",
      "\u001b[32m[I 2023-01-30 16:44:25,175]\u001b[0m Trial 31 finished with value: 0.7002895752895753 and parameters: {'max_depth': 4, 'learning_rate': 0.23378174855884581, 'n_estimators': 329, 'subsample': 0.4737055902553258}. Best is trial 12 with value: 0.7360038610038611.\u001b[0m\n",
      "C:\\Users\\pemma\\AppData\\Local\\Temp\\ipykernel_7292\\120219098.py:10: FutureWarning: suggest_loguniform has been deprecated in v3.0.0. This feature will be removed in v6.0.0. See https://github.com/optuna/optuna/releases/tag/v3.0.0. Use :func:`~optuna.trial.Trial.suggest_float` instead.\n",
      "  \"learning_rate\": trial.suggest_loguniform(\"learning_rate\", 0.01, 1.0),\n",
      "C:\\Users\\pemma\\AppData\\Local\\Temp\\ipykernel_7292\\120219098.py:12: FutureWarning: suggest_loguniform has been deprecated in v3.0.0. This feature will be removed in v6.0.0. See https://github.com/optuna/optuna/releases/tag/v3.0.0. Use :func:`~optuna.trial.Trial.suggest_float` instead.\n",
      "  \"subsample\": trial.suggest_loguniform(\"subsample\", 0.01, 1.0)\n",
      "\u001b[32m[I 2023-01-30 16:44:26,091]\u001b[0m Trial 30 finished with value: 0.6867760617760618 and parameters: {'max_depth': 4, 'learning_rate': 0.08989565830159521, 'n_estimators': 262, 'subsample': 0.4869039748379975}. Best is trial 12 with value: 0.7360038610038611.\u001b[0m\n",
      "C:\\Users\\pemma\\AppData\\Local\\Temp\\ipykernel_7292\\120219098.py:10: FutureWarning: suggest_loguniform has been deprecated in v3.0.0. This feature will be removed in v6.0.0. See https://github.com/optuna/optuna/releases/tag/v3.0.0. Use :func:`~optuna.trial.Trial.suggest_float` instead.\n",
      "  \"learning_rate\": trial.suggest_loguniform(\"learning_rate\", 0.01, 1.0),\n",
      "C:\\Users\\pemma\\AppData\\Local\\Temp\\ipykernel_7292\\120219098.py:12: FutureWarning: suggest_loguniform has been deprecated in v3.0.0. This feature will be removed in v6.0.0. See https://github.com/optuna/optuna/releases/tag/v3.0.0. Use :func:`~optuna.trial.Trial.suggest_float` instead.\n",
      "  \"subsample\": trial.suggest_loguniform(\"subsample\", 0.01, 1.0)\n",
      "\u001b[32m[I 2023-01-30 16:44:29,787]\u001b[0m Trial 32 finished with value: 0.7002895752895753 and parameters: {'max_depth': 4, 'learning_rate': 0.0823517327461572, 'n_estimators': 342, 'subsample': 0.25520958824737283}. Best is trial 12 with value: 0.7360038610038611.\u001b[0m\n",
      "C:\\Users\\pemma\\AppData\\Local\\Temp\\ipykernel_7292\\120219098.py:10: FutureWarning: suggest_loguniform has been deprecated in v3.0.0. This feature will be removed in v6.0.0. See https://github.com/optuna/optuna/releases/tag/v3.0.0. Use :func:`~optuna.trial.Trial.suggest_float` instead.\n",
      "  \"learning_rate\": trial.suggest_loguniform(\"learning_rate\", 0.01, 1.0),\n",
      "C:\\Users\\pemma\\AppData\\Local\\Temp\\ipykernel_7292\\120219098.py:12: FutureWarning: suggest_loguniform has been deprecated in v3.0.0. This feature will be removed in v6.0.0. See https://github.com/optuna/optuna/releases/tag/v3.0.0. Use :func:`~optuna.trial.Trial.suggest_float` instead.\n",
      "  \"subsample\": trial.suggest_loguniform(\"subsample\", 0.01, 1.0)\n",
      "\u001b[32m[I 2023-01-30 16:44:30,881]\u001b[0m Trial 34 finished with value: 0.6800193050193051 and parameters: {'max_depth': 4, 'learning_rate': 0.08858006420216913, 'n_estimators': 336, 'subsample': 0.22168947219990065}. Best is trial 12 with value: 0.7360038610038611.\u001b[0m\n",
      "C:\\Users\\pemma\\AppData\\Local\\Temp\\ipykernel_7292\\120219098.py:10: FutureWarning: suggest_loguniform has been deprecated in v3.0.0. This feature will be removed in v6.0.0. See https://github.com/optuna/optuna/releases/tag/v3.0.0. Use :func:`~optuna.trial.Trial.suggest_float` instead.\n",
      "  \"learning_rate\": trial.suggest_loguniform(\"learning_rate\", 0.01, 1.0),\n",
      "C:\\Users\\pemma\\AppData\\Local\\Temp\\ipykernel_7292\\120219098.py:12: FutureWarning: suggest_loguniform has been deprecated in v3.0.0. This feature will be removed in v6.0.0. See https://github.com/optuna/optuna/releases/tag/v3.0.0. Use :func:`~optuna.trial.Trial.suggest_float` instead.\n",
      "  \"subsample\": trial.suggest_loguniform(\"subsample\", 0.01, 1.0)\n",
      "\u001b[32m[I 2023-01-30 16:44:32,773]\u001b[0m Trial 33 finished with value: 0.6578185328185329 and parameters: {'max_depth': 7, 'learning_rate': 0.08967580415309333, 'n_estimators': 336, 'subsample': 0.26372032875380375}. Best is trial 12 with value: 0.7360038610038611.\u001b[0m\n",
      "C:\\Users\\pemma\\AppData\\Local\\Temp\\ipykernel_7292\\120219098.py:10: FutureWarning: suggest_loguniform has been deprecated in v3.0.0. This feature will be removed in v6.0.0. See https://github.com/optuna/optuna/releases/tag/v3.0.0. Use :func:`~optuna.trial.Trial.suggest_float` instead.\n",
      "  \"learning_rate\": trial.suggest_loguniform(\"learning_rate\", 0.01, 1.0),\n",
      "C:\\Users\\pemma\\AppData\\Local\\Temp\\ipykernel_7292\\120219098.py:12: FutureWarning: suggest_loguniform has been deprecated in v3.0.0. This feature will be removed in v6.0.0. See https://github.com/optuna/optuna/releases/tag/v3.0.0. Use :func:`~optuna.trial.Trial.suggest_float` instead.\n",
      "  \"subsample\": trial.suggest_loguniform(\"subsample\", 0.01, 1.0)\n",
      "\u001b[32m[I 2023-01-30 16:44:34,875]\u001b[0m Trial 36 finished with value: 0.6867760617760618 and parameters: {'max_depth': 4, 'learning_rate': 0.09108918993964658, 'n_estimators': 389, 'subsample': 0.2742479316530618}. Best is trial 12 with value: 0.7360038610038611.\u001b[0m\n",
      "C:\\Users\\pemma\\AppData\\Local\\Temp\\ipykernel_7292\\120219098.py:10: FutureWarning: suggest_loguniform has been deprecated in v3.0.0. This feature will be removed in v6.0.0. See https://github.com/optuna/optuna/releases/tag/v3.0.0. Use :func:`~optuna.trial.Trial.suggest_float` instead.\n",
      "  \"learning_rate\": trial.suggest_loguniform(\"learning_rate\", 0.01, 1.0),\n",
      "C:\\Users\\pemma\\AppData\\Local\\Temp\\ipykernel_7292\\120219098.py:12: FutureWarning: suggest_loguniform has been deprecated in v3.0.0. This feature will be removed in v6.0.0. See https://github.com/optuna/optuna/releases/tag/v3.0.0. Use :func:`~optuna.trial.Trial.suggest_float` instead.\n",
      "  \"subsample\": trial.suggest_loguniform(\"subsample\", 0.01, 1.0)\n",
      "\u001b[32m[I 2023-01-30 16:44:36,231]\u001b[0m Trial 35 finished with value: 0.6800193050193051 and parameters: {'max_depth': 4, 'learning_rate': 0.07524428338030056, 'n_estimators': 376, 'subsample': 0.25967487587442073}. Best is trial 12 with value: 0.7360038610038611.\u001b[0m\n",
      "C:\\Users\\pemma\\AppData\\Local\\Temp\\ipykernel_7292\\120219098.py:10: FutureWarning: suggest_loguniform has been deprecated in v3.0.0. This feature will be removed in v6.0.0. See https://github.com/optuna/optuna/releases/tag/v3.0.0. Use :func:`~optuna.trial.Trial.suggest_float` instead.\n",
      "  \"learning_rate\": trial.suggest_loguniform(\"learning_rate\", 0.01, 1.0),\n",
      "C:\\Users\\pemma\\AppData\\Local\\Temp\\ipykernel_7292\\120219098.py:12: FutureWarning: suggest_loguniform has been deprecated in v3.0.0. This feature will be removed in v6.0.0. See https://github.com/optuna/optuna/releases/tag/v3.0.0. Use :func:`~optuna.trial.Trial.suggest_float` instead.\n",
      "  \"subsample\": trial.suggest_loguniform(\"subsample\", 0.01, 1.0)\n",
      "\u001b[32m[I 2023-01-30 16:44:42,170]\u001b[0m Trial 37 finished with value: 0.7224903474903475 and parameters: {'max_depth': 3, 'learning_rate': 0.0828530128224645, 'n_estimators': 403, 'subsample': 0.3076300832825461}. Best is trial 12 with value: 0.7360038610038611.\u001b[0m\n",
      "C:\\Users\\pemma\\AppData\\Local\\Temp\\ipykernel_7292\\120219098.py:10: FutureWarning: suggest_loguniform has been deprecated in v3.0.0. This feature will be removed in v6.0.0. See https://github.com/optuna/optuna/releases/tag/v3.0.0. Use :func:`~optuna.trial.Trial.suggest_float` instead.\n",
      "  \"learning_rate\": trial.suggest_loguniform(\"learning_rate\", 0.01, 1.0),\n",
      "C:\\Users\\pemma\\AppData\\Local\\Temp\\ipykernel_7292\\120219098.py:12: FutureWarning: suggest_loguniform has been deprecated in v3.0.0. This feature will be removed in v6.0.0. See https://github.com/optuna/optuna/releases/tag/v3.0.0. Use :func:`~optuna.trial.Trial.suggest_float` instead.\n",
      "  \"subsample\": trial.suggest_loguniform(\"subsample\", 0.01, 1.0)\n",
      "\u001b[32m[I 2023-01-30 16:44:49,594]\u001b[0m Trial 39 finished with value: 0.6800193050193051 and parameters: {'max_depth': 3, 'learning_rate': 0.055614092436317646, 'n_estimators': 405, 'subsample': 0.323434545690587}. Best is trial 12 with value: 0.7360038610038611.\u001b[0m\n",
      "C:\\Users\\pemma\\AppData\\Local\\Temp\\ipykernel_7292\\120219098.py:10: FutureWarning: suggest_loguniform has been deprecated in v3.0.0. This feature will be removed in v6.0.0. See https://github.com/optuna/optuna/releases/tag/v3.0.0. Use :func:`~optuna.trial.Trial.suggest_float` instead.\n",
      "  \"learning_rate\": trial.suggest_loguniform(\"learning_rate\", 0.01, 1.0),\n",
      "C:\\Users\\pemma\\AppData\\Local\\Temp\\ipykernel_7292\\120219098.py:12: FutureWarning: suggest_loguniform has been deprecated in v3.0.0. This feature will be removed in v6.0.0. See https://github.com/optuna/optuna/releases/tag/v3.0.0. Use :func:`~optuna.trial.Trial.suggest_float` instead.\n",
      "  \"subsample\": trial.suggest_loguniform(\"subsample\", 0.01, 1.0)\n",
      "\u001b[32m[I 2023-01-30 16:44:51,750]\u001b[0m Trial 40 finished with value: 0.6621621621621622 and parameters: {'max_depth': 3, 'learning_rate': 0.051081744810041095, 'n_estimators': 414, 'subsample': 0.32635834104061884}. Best is trial 12 with value: 0.7360038610038611.\u001b[0m\n",
      "C:\\Users\\pemma\\AppData\\Local\\Temp\\ipykernel_7292\\120219098.py:10: FutureWarning: suggest_loguniform has been deprecated in v3.0.0. This feature will be removed in v6.0.0. See https://github.com/optuna/optuna/releases/tag/v3.0.0. Use :func:`~optuna.trial.Trial.suggest_float` instead.\n",
      "  \"learning_rate\": trial.suggest_loguniform(\"learning_rate\", 0.01, 1.0),\n",
      "C:\\Users\\pemma\\AppData\\Local\\Temp\\ipykernel_7292\\120219098.py:12: FutureWarning: suggest_loguniform has been deprecated in v3.0.0. This feature will be removed in v6.0.0. See https://github.com/optuna/optuna/releases/tag/v3.0.0. Use :func:`~optuna.trial.Trial.suggest_float` instead.\n",
      "  \"subsample\": trial.suggest_loguniform(\"subsample\", 0.01, 1.0)\n",
      "\u001b[32m[I 2023-01-30 16:44:53,149]\u001b[0m Trial 41 finished with value: 0.6978764478764479 and parameters: {'max_depth': 3, 'learning_rate': 0.06134125431022634, 'n_estimators': 392, 'subsample': 0.3208932416159773}. Best is trial 12 with value: 0.7360038610038611.\u001b[0m\n",
      "C:\\Users\\pemma\\AppData\\Local\\Temp\\ipykernel_7292\\120219098.py:10: FutureWarning: suggest_loguniform has been deprecated in v3.0.0. This feature will be removed in v6.0.0. See https://github.com/optuna/optuna/releases/tag/v3.0.0. Use :func:`~optuna.trial.Trial.suggest_float` instead.\n",
      "  \"learning_rate\": trial.suggest_loguniform(\"learning_rate\", 0.01, 1.0),\n",
      "C:\\Users\\pemma\\AppData\\Local\\Temp\\ipykernel_7292\\120219098.py:12: FutureWarning: suggest_loguniform has been deprecated in v3.0.0. This feature will be removed in v6.0.0. See https://github.com/optuna/optuna/releases/tag/v3.0.0. Use :func:`~optuna.trial.Trial.suggest_float` instead.\n",
      "  \"subsample\": trial.suggest_loguniform(\"subsample\", 0.01, 1.0)\n",
      "\u001b[32m[I 2023-01-30 16:44:53,927]\u001b[0m Trial 38 finished with value: 0.6800193050193051 and parameters: {'max_depth': 7, 'learning_rate': 0.07032618038268412, 'n_estimators': 383, 'subsample': 0.3230979925560431}. Best is trial 12 with value: 0.7360038610038611.\u001b[0m\n",
      "C:\\Users\\pemma\\AppData\\Local\\Temp\\ipykernel_7292\\120219098.py:10: FutureWarning: suggest_loguniform has been deprecated in v3.0.0. This feature will be removed in v6.0.0. See https://github.com/optuna/optuna/releases/tag/v3.0.0. Use :func:`~optuna.trial.Trial.suggest_float` instead.\n",
      "  \"learning_rate\": trial.suggest_loguniform(\"learning_rate\", 0.01, 1.0),\n",
      "C:\\Users\\pemma\\AppData\\Local\\Temp\\ipykernel_7292\\120219098.py:12: FutureWarning: suggest_loguniform has been deprecated in v3.0.0. This feature will be removed in v6.0.0. See https://github.com/optuna/optuna/releases/tag/v3.0.0. Use :func:`~optuna.trial.Trial.suggest_float` instead.\n",
      "  \"subsample\": trial.suggest_loguniform(\"subsample\", 0.01, 1.0)\n",
      "\u001b[32m[I 2023-01-30 16:44:56,388]\u001b[0m Trial 42 finished with value: 0.7046332046332047 and parameters: {'max_depth': 3, 'learning_rate': 0.062237398246328214, 'n_estimators': 402, 'subsample': 0.6460683733192017}. Best is trial 12 with value: 0.7360038610038611.\u001b[0m\n",
      "C:\\Users\\pemma\\AppData\\Local\\Temp\\ipykernel_7292\\120219098.py:10: FutureWarning: suggest_loguniform has been deprecated in v3.0.0. This feature will be removed in v6.0.0. See https://github.com/optuna/optuna/releases/tag/v3.0.0. Use :func:`~optuna.trial.Trial.suggest_float` instead.\n",
      "  \"learning_rate\": trial.suggest_loguniform(\"learning_rate\", 0.01, 1.0),\n",
      "C:\\Users\\pemma\\AppData\\Local\\Temp\\ipykernel_7292\\120219098.py:12: FutureWarning: suggest_loguniform has been deprecated in v3.0.0. This feature will be removed in v6.0.0. See https://github.com/optuna/optuna/releases/tag/v3.0.0. Use :func:`~optuna.trial.Trial.suggest_float` instead.\n",
      "  \"subsample\": trial.suggest_loguniform(\"subsample\", 0.01, 1.0)\n",
      "\u001b[32m[I 2023-01-30 16:45:02,387]\u001b[0m Trial 43 finished with value: 0.7113899613899614 and parameters: {'max_depth': 3, 'learning_rate': 0.056642774018924334, 'n_estimators': 424, 'subsample': 0.6231855316855963}. Best is trial 12 with value: 0.7360038610038611.\u001b[0m\n",
      "C:\\Users\\pemma\\AppData\\Local\\Temp\\ipykernel_7292\\120219098.py:10: FutureWarning: suggest_loguniform has been deprecated in v3.0.0. This feature will be removed in v6.0.0. See https://github.com/optuna/optuna/releases/tag/v3.0.0. Use :func:`~optuna.trial.Trial.suggest_float` instead.\n",
      "  \"learning_rate\": trial.suggest_loguniform(\"learning_rate\", 0.01, 1.0),\n",
      "C:\\Users\\pemma\\AppData\\Local\\Temp\\ipykernel_7292\\120219098.py:12: FutureWarning: suggest_loguniform has been deprecated in v3.0.0. This feature will be removed in v6.0.0. See https://github.com/optuna/optuna/releases/tag/v3.0.0. Use :func:`~optuna.trial.Trial.suggest_float` instead.\n",
      "  \"subsample\": trial.suggest_loguniform(\"subsample\", 0.01, 1.0)\n",
      "\u001b[32m[I 2023-01-30 16:45:03,638]\u001b[0m Trial 45 finished with value: 0.7157335907335907 and parameters: {'max_depth': 1, 'learning_rate': 0.06076649028752148, 'n_estimators': 456, 'subsample': 0.5841848515200558}. Best is trial 12 with value: 0.7360038610038611.\u001b[0m\n",
      "C:\\Users\\pemma\\AppData\\Local\\Temp\\ipykernel_7292\\120219098.py:10: FutureWarning: suggest_loguniform has been deprecated in v3.0.0. This feature will be removed in v6.0.0. See https://github.com/optuna/optuna/releases/tag/v3.0.0. Use :func:`~optuna.trial.Trial.suggest_float` instead.\n",
      "  \"learning_rate\": trial.suggest_loguniform(\"learning_rate\", 0.01, 1.0),\n",
      "C:\\Users\\pemma\\AppData\\Local\\Temp\\ipykernel_7292\\120219098.py:12: FutureWarning: suggest_loguniform has been deprecated in v3.0.0. This feature will be removed in v6.0.0. See https://github.com/optuna/optuna/releases/tag/v3.0.0. Use :func:`~optuna.trial.Trial.suggest_float` instead.\n",
      "  \"subsample\": trial.suggest_loguniform(\"subsample\", 0.01, 1.0)\n",
      "\u001b[32m[I 2023-01-30 16:45:05,436]\u001b[0m Trial 46 finished with value: 0.6486486486486487 and parameters: {'max_depth': 1, 'learning_rate': 0.30898826889318654, 'n_estimators': 445, 'subsample': 0.668040410014984}. Best is trial 12 with value: 0.7360038610038611.\u001b[0m\n",
      "C:\\Users\\pemma\\AppData\\Local\\Temp\\ipykernel_7292\\120219098.py:10: FutureWarning: suggest_loguniform has been deprecated in v3.0.0. This feature will be removed in v6.0.0. See https://github.com/optuna/optuna/releases/tag/v3.0.0. Use :func:`~optuna.trial.Trial.suggest_float` instead.\n",
      "  \"learning_rate\": trial.suggest_loguniform(\"learning_rate\", 0.01, 1.0),\n",
      "C:\\Users\\pemma\\AppData\\Local\\Temp\\ipykernel_7292\\120219098.py:12: FutureWarning: suggest_loguniform has been deprecated in v3.0.0. This feature will be removed in v6.0.0. See https://github.com/optuna/optuna/releases/tag/v3.0.0. Use :func:`~optuna.trial.Trial.suggest_float` instead.\n",
      "  \"subsample\": trial.suggest_loguniform(\"subsample\", 0.01, 1.0)\n",
      "\u001b[32m[I 2023-01-30 16:45:06,451]\u001b[0m Trial 47 finished with value: 0.6911196911196911 and parameters: {'max_depth': 1, 'learning_rate': 0.04145165430311963, 'n_estimators': 437, 'subsample': 0.6103189097515976}. Best is trial 12 with value: 0.7360038610038611.\u001b[0m\n",
      "C:\\Users\\pemma\\AppData\\Local\\Temp\\ipykernel_7292\\120219098.py:10: FutureWarning: suggest_loguniform has been deprecated in v3.0.0. This feature will be removed in v6.0.0. See https://github.com/optuna/optuna/releases/tag/v3.0.0. Use :func:`~optuna.trial.Trial.suggest_float` instead.\n",
      "  \"learning_rate\": trial.suggest_loguniform(\"learning_rate\", 0.01, 1.0),\n",
      "C:\\Users\\pemma\\AppData\\Local\\Temp\\ipykernel_7292\\120219098.py:12: FutureWarning: suggest_loguniform has been deprecated in v3.0.0. This feature will be removed in v6.0.0. See https://github.com/optuna/optuna/releases/tag/v3.0.0. Use :func:`~optuna.trial.Trial.suggest_float` instead.\n",
      "  \"subsample\": trial.suggest_loguniform(\"subsample\", 0.01, 1.0)\n",
      "\u001b[32m[I 2023-01-30 16:45:08,485]\u001b[0m Trial 49 finished with value: 0.6911196911196911 and parameters: {'max_depth': 1, 'learning_rate': 0.048002165252880376, 'n_estimators': 438, 'subsample': 0.6149220590499858}. Best is trial 12 with value: 0.7360038610038611.\u001b[0m\n",
      "C:\\Users\\pemma\\AppData\\Local\\Temp\\ipykernel_7292\\120219098.py:10: FutureWarning: suggest_loguniform has been deprecated in v3.0.0. This feature will be removed in v6.0.0. See https://github.com/optuna/optuna/releases/tag/v3.0.0. Use :func:`~optuna.trial.Trial.suggest_float` instead.\n",
      "  \"learning_rate\": trial.suggest_loguniform(\"learning_rate\", 0.01, 1.0),\n",
      "C:\\Users\\pemma\\AppData\\Local\\Temp\\ipykernel_7292\\120219098.py:12: FutureWarning: suggest_loguniform has been deprecated in v3.0.0. This feature will be removed in v6.0.0. See https://github.com/optuna/optuna/releases/tag/v3.0.0. Use :func:`~optuna.trial.Trial.suggest_float` instead.\n",
      "  \"subsample\": trial.suggest_loguniform(\"subsample\", 0.01, 1.0)\n",
      "\u001b[32m[I 2023-01-30 16:45:08,673]\u001b[0m Trial 44 finished with value: 0.6756756756756757 and parameters: {'max_depth': 3, 'learning_rate': 0.06076450145876823, 'n_estimators': 417, 'subsample': 0.639167809118962}. Best is trial 12 with value: 0.7360038610038611.\u001b[0m\n",
      "C:\\Users\\pemma\\AppData\\Local\\Temp\\ipykernel_7292\\120219098.py:10: FutureWarning: suggest_loguniform has been deprecated in v3.0.0. This feature will be removed in v6.0.0. See https://github.com/optuna/optuna/releases/tag/v3.0.0. Use :func:`~optuna.trial.Trial.suggest_float` instead.\n",
      "  \"learning_rate\": trial.suggest_loguniform(\"learning_rate\", 0.01, 1.0),\n",
      "C:\\Users\\pemma\\AppData\\Local\\Temp\\ipykernel_7292\\120219098.py:12: FutureWarning: suggest_loguniform has been deprecated in v3.0.0. This feature will be removed in v6.0.0. See https://github.com/optuna/optuna/releases/tag/v3.0.0. Use :func:`~optuna.trial.Trial.suggest_float` instead.\n",
      "  \"subsample\": trial.suggest_loguniform(\"subsample\", 0.01, 1.0)\n",
      "\u001b[32m[I 2023-01-30 16:45:11,867]\u001b[0m Trial 48 finished with value: 0.6819498069498069 and parameters: {'max_depth': 3, 'learning_rate': 0.3701689674506485, 'n_estimators': 434, 'subsample': 0.18637109092317114}. Best is trial 12 with value: 0.7360038610038611.\u001b[0m\n",
      "C:\\Users\\pemma\\AppData\\Local\\Temp\\ipykernel_7292\\120219098.py:10: FutureWarning: suggest_loguniform has been deprecated in v3.0.0. This feature will be removed in v6.0.0. See https://github.com/optuna/optuna/releases/tag/v3.0.0. Use :func:`~optuna.trial.Trial.suggest_float` instead.\n",
      "  \"learning_rate\": trial.suggest_loguniform(\"learning_rate\", 0.01, 1.0),\n",
      "C:\\Users\\pemma\\AppData\\Local\\Temp\\ipykernel_7292\\120219098.py:12: FutureWarning: suggest_loguniform has been deprecated in v3.0.0. This feature will be removed in v6.0.0. See https://github.com/optuna/optuna/releases/tag/v3.0.0. Use :func:`~optuna.trial.Trial.suggest_float` instead.\n",
      "  \"subsample\": trial.suggest_loguniform(\"subsample\", 0.01, 1.0)\n",
      "\u001b[32m[I 2023-01-30 16:45:12,102]\u001b[0m Trial 50 finished with value: 0.6240347490347491 and parameters: {'max_depth': 1, 'learning_rate': 0.30951860075020354, 'n_estimators': 453, 'subsample': 0.5893391413735437}. Best is trial 12 with value: 0.7360038610038611.\u001b[0m\n",
      "C:\\Users\\pemma\\AppData\\Local\\Temp\\ipykernel_7292\\120219098.py:10: FutureWarning: suggest_loguniform has been deprecated in v3.0.0. This feature will be removed in v6.0.0. See https://github.com/optuna/optuna/releases/tag/v3.0.0. Use :func:`~optuna.trial.Trial.suggest_float` instead.\n",
      "  \"learning_rate\": trial.suggest_loguniform(\"learning_rate\", 0.01, 1.0),\n",
      "C:\\Users\\pemma\\AppData\\Local\\Temp\\ipykernel_7292\\120219098.py:12: FutureWarning: suggest_loguniform has been deprecated in v3.0.0. This feature will be removed in v6.0.0. See https://github.com/optuna/optuna/releases/tag/v3.0.0. Use :func:`~optuna.trial.Trial.suggest_float` instead.\n",
      "  \"subsample\": trial.suggest_loguniform(\"subsample\", 0.01, 1.0)\n",
      "\u001b[32m[I 2023-01-30 16:45:16,554]\u001b[0m Trial 53 finished with value: 0.7403474903474904 and parameters: {'max_depth': 6, 'learning_rate': 0.5017635653564023, 'n_estimators': 360, 'subsample': 0.3752416437182646}. Best is trial 53 with value: 0.7403474903474904.\u001b[0m\n",
      "C:\\Users\\pemma\\AppData\\Local\\Temp\\ipykernel_7292\\120219098.py:10: FutureWarning: suggest_loguniform has been deprecated in v3.0.0. This feature will be removed in v6.0.0. See https://github.com/optuna/optuna/releases/tag/v3.0.0. Use :func:`~optuna.trial.Trial.suggest_float` instead.\n",
      "  \"learning_rate\": trial.suggest_loguniform(\"learning_rate\", 0.01, 1.0),\n",
      "C:\\Users\\pemma\\AppData\\Local\\Temp\\ipykernel_7292\\120219098.py:12: FutureWarning: suggest_loguniform has been deprecated in v3.0.0. This feature will be removed in v6.0.0. See https://github.com/optuna/optuna/releases/tag/v3.0.0. Use :func:`~optuna.trial.Trial.suggest_float` instead.\n",
      "  \"subsample\": trial.suggest_loguniform(\"subsample\", 0.01, 1.0)\n",
      "\u001b[32m[I 2023-01-30 16:45:16,726]\u001b[0m Trial 51 finished with value: 0.6732625482625483 and parameters: {'max_depth': 6, 'learning_rate': 0.32333821483498876, 'n_estimators': 355, 'subsample': 0.3946387332692715}. Best is trial 53 with value: 0.7403474903474904.\u001b[0m\n",
      "C:\\Users\\pemma\\AppData\\Local\\Temp\\ipykernel_7292\\120219098.py:10: FutureWarning: suggest_loguniform has been deprecated in v3.0.0. This feature will be removed in v6.0.0. See https://github.com/optuna/optuna/releases/tag/v3.0.0. Use :func:`~optuna.trial.Trial.suggest_float` instead.\n",
      "  \"learning_rate\": trial.suggest_loguniform(\"learning_rate\", 0.01, 1.0),\n",
      "C:\\Users\\pemma\\AppData\\Local\\Temp\\ipykernel_7292\\120219098.py:12: FutureWarning: suggest_loguniform has been deprecated in v3.0.0. This feature will be removed in v6.0.0. See https://github.com/optuna/optuna/releases/tag/v3.0.0. Use :func:`~optuna.trial.Trial.suggest_float` instead.\n",
      "  \"subsample\": trial.suggest_loguniform(\"subsample\", 0.01, 1.0)\n",
      "\u001b[32m[I 2023-01-30 16:45:20,708]\u001b[0m Trial 55 finished with value: 0.6597490347490347 and parameters: {'max_depth': 8, 'learning_rate': 0.406324235302997, 'n_estimators': 473, 'subsample': 0.19668929967886992}. Best is trial 53 with value: 0.7403474903474904.\u001b[0m\n",
      "C:\\Users\\pemma\\AppData\\Local\\Temp\\ipykernel_7292\\120219098.py:10: FutureWarning: suggest_loguniform has been deprecated in v3.0.0. This feature will be removed in v6.0.0. See https://github.com/optuna/optuna/releases/tag/v3.0.0. Use :func:`~optuna.trial.Trial.suggest_float` instead.\n",
      "  \"learning_rate\": trial.suggest_loguniform(\"learning_rate\", 0.01, 1.0),\n",
      "C:\\Users\\pemma\\AppData\\Local\\Temp\\ipykernel_7292\\120219098.py:12: FutureWarning: suggest_loguniform has been deprecated in v3.0.0. This feature will be removed in v6.0.0. See https://github.com/optuna/optuna/releases/tag/v3.0.0. Use :func:`~optuna.trial.Trial.suggest_float` instead.\n",
      "  \"subsample\": trial.suggest_loguniform(\"subsample\", 0.01, 1.0)\n",
      "\u001b[32m[I 2023-01-30 16:45:21,458]\u001b[0m Trial 54 finished with value: 0.7046332046332047 and parameters: {'max_depth': 6, 'learning_rate': 0.11477020108582575, 'n_estimators': 354, 'subsample': 0.12805362908864465}. Best is trial 53 with value: 0.7403474903474904.\u001b[0m\n",
      "C:\\Users\\pemma\\AppData\\Local\\Temp\\ipykernel_7292\\120219098.py:10: FutureWarning: suggest_loguniform has been deprecated in v3.0.0. This feature will be removed in v6.0.0. See https://github.com/optuna/optuna/releases/tag/v3.0.0. Use :func:`~optuna.trial.Trial.suggest_float` instead.\n",
      "  \"learning_rate\": trial.suggest_loguniform(\"learning_rate\", 0.01, 1.0),\n",
      "C:\\Users\\pemma\\AppData\\Local\\Temp\\ipykernel_7292\\120219098.py:12: FutureWarning: suggest_loguniform has been deprecated in v3.0.0. This feature will be removed in v6.0.0. See https://github.com/optuna/optuna/releases/tag/v3.0.0. Use :func:`~optuna.trial.Trial.suggest_float` instead.\n",
      "  \"subsample\": trial.suggest_loguniform(\"subsample\", 0.01, 1.0)\n",
      "\u001b[32m[I 2023-01-30 16:45:26,488]\u001b[0m Trial 52 finished with value: 0.6935328185328185 and parameters: {'max_depth': 8, 'learning_rate': 0.04203013450453634, 'n_estimators': 358, 'subsample': 0.19048780415602795}. Best is trial 53 with value: 0.7403474903474904.\u001b[0m\n",
      "C:\\Users\\pemma\\AppData\\Local\\Temp\\ipykernel_7292\\120219098.py:10: FutureWarning: suggest_loguniform has been deprecated in v3.0.0. This feature will be removed in v6.0.0. See https://github.com/optuna/optuna/releases/tag/v3.0.0. Use :func:`~optuna.trial.Trial.suggest_float` instead.\n",
      "  \"learning_rate\": trial.suggest_loguniform(\"learning_rate\", 0.01, 1.0),\n",
      "C:\\Users\\pemma\\AppData\\Local\\Temp\\ipykernel_7292\\120219098.py:12: FutureWarning: suggest_loguniform has been deprecated in v3.0.0. This feature will be removed in v6.0.0. See https://github.com/optuna/optuna/releases/tag/v3.0.0. Use :func:`~optuna.trial.Trial.suggest_float` instead.\n",
      "  \"subsample\": trial.suggest_loguniform(\"subsample\", 0.01, 1.0)\n",
      "\u001b[32m[I 2023-01-30 16:45:26,995]\u001b[0m Trial 58 finished with value: 0.5815637065637066 and parameters: {'max_depth': 8, 'learning_rate': 0.498918816814211, 'n_estimators': 360, 'subsample': 0.19022661300311308}. Best is trial 53 with value: 0.7403474903474904.\u001b[0m\n",
      "C:\\Users\\pemma\\AppData\\Local\\Temp\\ipykernel_7292\\120219098.py:10: FutureWarning: suggest_loguniform has been deprecated in v3.0.0. This feature will be removed in v6.0.0. See https://github.com/optuna/optuna/releases/tag/v3.0.0. Use :func:`~optuna.trial.Trial.suggest_float` instead.\n",
      "  \"learning_rate\": trial.suggest_loguniform(\"learning_rate\", 0.01, 1.0),\n",
      "C:\\Users\\pemma\\AppData\\Local\\Temp\\ipykernel_7292\\120219098.py:12: FutureWarning: suggest_loguniform has been deprecated in v3.0.0. This feature will be removed in v6.0.0. See https://github.com/optuna/optuna/releases/tag/v3.0.0. Use :func:`~optuna.trial.Trial.suggest_float` instead.\n",
      "  \"subsample\": trial.suggest_loguniform(\"subsample\", 0.01, 1.0)\n",
      "\u001b[32m[I 2023-01-30 16:45:29,147]\u001b[0m Trial 56 finished with value: 0.6621621621621622 and parameters: {'max_depth': 6, 'learning_rate': 0.11588432398255985, 'n_estimators': 358, 'subsample': 0.3874377695799814}. Best is trial 53 with value: 0.7403474903474904.\u001b[0m\n",
      "C:\\Users\\pemma\\AppData\\Local\\Temp\\ipykernel_7292\\120219098.py:10: FutureWarning: suggest_loguniform has been deprecated in v3.0.0. This feature will be removed in v6.0.0. See https://github.com/optuna/optuna/releases/tag/v3.0.0. Use :func:`~optuna.trial.Trial.suggest_float` instead.\n",
      "  \"learning_rate\": trial.suggest_loguniform(\"learning_rate\", 0.01, 1.0),\n",
      "C:\\Users\\pemma\\AppData\\Local\\Temp\\ipykernel_7292\\120219098.py:12: FutureWarning: suggest_loguniform has been deprecated in v3.0.0. This feature will be removed in v6.0.0. See https://github.com/optuna/optuna/releases/tag/v3.0.0. Use :func:`~optuna.trial.Trial.suggest_float` instead.\n",
      "  \"subsample\": trial.suggest_loguniform(\"subsample\", 0.01, 1.0)\n",
      "\u001b[32m[I 2023-01-30 16:45:30,481]\u001b[0m Trial 61 finished with value: 0.7113899613899614 and parameters: {'max_depth': 8, 'learning_rate': 0.5212878936595311, 'n_estimators': 323, 'subsample': 0.38214486671046927}. Best is trial 53 with value: 0.7403474903474904.\u001b[0m\n",
      "C:\\Users\\pemma\\AppData\\Local\\Temp\\ipykernel_7292\\120219098.py:10: FutureWarning: suggest_loguniform has been deprecated in v3.0.0. This feature will be removed in v6.0.0. See https://github.com/optuna/optuna/releases/tag/v3.0.0. Use :func:`~optuna.trial.Trial.suggest_float` instead.\n",
      "  \"learning_rate\": trial.suggest_loguniform(\"learning_rate\", 0.01, 1.0),\n",
      "C:\\Users\\pemma\\AppData\\Local\\Temp\\ipykernel_7292\\120219098.py:12: FutureWarning: suggest_loguniform has been deprecated in v3.0.0. This feature will be removed in v6.0.0. See https://github.com/optuna/optuna/releases/tag/v3.0.0. Use :func:`~optuna.trial.Trial.suggest_float` instead.\n",
      "  \"subsample\": trial.suggest_loguniform(\"subsample\", 0.01, 1.0)\n",
      "\u001b[32m[I 2023-01-30 16:45:30,853]\u001b[0m Trial 60 finished with value: 0.7113899613899614 and parameters: {'max_depth': 8, 'learning_rate': 0.5036809314145795, 'n_estimators': 348, 'subsample': 0.3881855303649071}. Best is trial 53 with value: 0.7403474903474904.\u001b[0m\n",
      "C:\\Users\\pemma\\AppData\\Local\\Temp\\ipykernel_7292\\120219098.py:10: FutureWarning: suggest_loguniform has been deprecated in v3.0.0. This feature will be removed in v6.0.0. See https://github.com/optuna/optuna/releases/tag/v3.0.0. Use :func:`~optuna.trial.Trial.suggest_float` instead.\n",
      "  \"learning_rate\": trial.suggest_loguniform(\"learning_rate\", 0.01, 1.0),\n",
      "C:\\Users\\pemma\\AppData\\Local\\Temp\\ipykernel_7292\\120219098.py:12: FutureWarning: suggest_loguniform has been deprecated in v3.0.0. This feature will be removed in v6.0.0. See https://github.com/optuna/optuna/releases/tag/v3.0.0. Use :func:`~optuna.trial.Trial.suggest_float` instead.\n",
      "  \"subsample\": trial.suggest_loguniform(\"subsample\", 0.01, 1.0)\n",
      "\u001b[32m[I 2023-01-30 16:45:35,053]\u001b[0m Trial 62 finished with value: 0.6645752895752897 and parameters: {'max_depth': 9, 'learning_rate': 0.6143087041668709, 'n_estimators': 256, 'subsample': 0.40444415797360844}. Best is trial 53 with value: 0.7403474903474904.\u001b[0m\n",
      "C:\\Users\\pemma\\AppData\\Local\\Temp\\ipykernel_7292\\120219098.py:10: FutureWarning: suggest_loguniform has been deprecated in v3.0.0. This feature will be removed in v6.0.0. See https://github.com/optuna/optuna/releases/tag/v3.0.0. Use :func:`~optuna.trial.Trial.suggest_float` instead.\n",
      "  \"learning_rate\": trial.suggest_loguniform(\"learning_rate\", 0.01, 1.0),\n",
      "C:\\Users\\pemma\\AppData\\Local\\Temp\\ipykernel_7292\\120219098.py:12: FutureWarning: suggest_loguniform has been deprecated in v3.0.0. This feature will be removed in v6.0.0. See https://github.com/optuna/optuna/releases/tag/v3.0.0. Use :func:`~optuna.trial.Trial.suggest_float` instead.\n",
      "  \"subsample\": trial.suggest_loguniform(\"subsample\", 0.01, 1.0)\n",
      "\u001b[32m[I 2023-01-30 16:45:35,178]\u001b[0m Trial 59 finished with value: 0.6800193050193051 and parameters: {'max_depth': 8, 'learning_rate': 0.1186584320611362, 'n_estimators': 362, 'subsample': 0.38650655689471114}. Best is trial 53 with value: 0.7403474903474904.\u001b[0m\n",
      "C:\\Users\\pemma\\AppData\\Local\\Temp\\ipykernel_7292\\120219098.py:10: FutureWarning: suggest_loguniform has been deprecated in v3.0.0. This feature will be removed in v6.0.0. See https://github.com/optuna/optuna/releases/tag/v3.0.0. Use :func:`~optuna.trial.Trial.suggest_float` instead.\n",
      "  \"learning_rate\": trial.suggest_loguniform(\"learning_rate\", 0.01, 1.0),\n",
      "C:\\Users\\pemma\\AppData\\Local\\Temp\\ipykernel_7292\\120219098.py:12: FutureWarning: suggest_loguniform has been deprecated in v3.0.0. This feature will be removed in v6.0.0. See https://github.com/optuna/optuna/releases/tag/v3.0.0. Use :func:`~optuna.trial.Trial.suggest_float` instead.\n",
      "  \"subsample\": trial.suggest_loguniform(\"subsample\", 0.01, 1.0)\n",
      "\u001b[32m[I 2023-01-30 16:45:38,272]\u001b[0m Trial 63 finished with value: 0.6375482625482626 and parameters: {'max_depth': 9, 'learning_rate': 0.48689270858433115, 'n_estimators': 317, 'subsample': 0.4039857762152459}. Best is trial 53 with value: 0.7403474903474904.\u001b[0m\n",
      "C:\\Users\\pemma\\AppData\\Local\\Temp\\ipykernel_7292\\120219098.py:10: FutureWarning: suggest_loguniform has been deprecated in v3.0.0. This feature will be removed in v6.0.0. See https://github.com/optuna/optuna/releases/tag/v3.0.0. Use :func:`~optuna.trial.Trial.suggest_float` instead.\n",
      "  \"learning_rate\": trial.suggest_loguniform(\"learning_rate\", 0.01, 1.0),\n",
      "C:\\Users\\pemma\\AppData\\Local\\Temp\\ipykernel_7292\\120219098.py:12: FutureWarning: suggest_loguniform has been deprecated in v3.0.0. This feature will be removed in v6.0.0. See https://github.com/optuna/optuna/releases/tag/v3.0.0. Use :func:`~optuna.trial.Trial.suggest_float` instead.\n",
      "  \"subsample\": trial.suggest_loguniform(\"subsample\", 0.01, 1.0)\n",
      "\u001b[32m[I 2023-01-30 16:45:40,976]\u001b[0m Trial 64 finished with value: 0.7046332046332047 and parameters: {'max_depth': 9, 'learning_rate': 0.5444358026686111, 'n_estimators': 310, 'subsample': 0.8158680043571157}. Best is trial 53 with value: 0.7403474903474904.\u001b[0m\n",
      "C:\\Users\\pemma\\AppData\\Local\\Temp\\ipykernel_7292\\120219098.py:10: FutureWarning: suggest_loguniform has been deprecated in v3.0.0. This feature will be removed in v6.0.0. See https://github.com/optuna/optuna/releases/tag/v3.0.0. Use :func:`~optuna.trial.Trial.suggest_float` instead.\n",
      "  \"learning_rate\": trial.suggest_loguniform(\"learning_rate\", 0.01, 1.0),\n",
      "C:\\Users\\pemma\\AppData\\Local\\Temp\\ipykernel_7292\\120219098.py:12: FutureWarning: suggest_loguniform has been deprecated in v3.0.0. This feature will be removed in v6.0.0. See https://github.com/optuna/optuna/releases/tag/v3.0.0. Use :func:`~optuna.trial.Trial.suggest_float` instead.\n",
      "  \"subsample\": trial.suggest_loguniform(\"subsample\", 0.01, 1.0)\n",
      "\u001b[32m[I 2023-01-30 16:45:44,487]\u001b[0m Trial 57 finished with value: 0.6800193050193051 and parameters: {'max_depth': 6, 'learning_rate': 0.03525269538911285, 'n_estimators': 457, 'subsample': 0.36310660114274834}. Best is trial 53 with value: 0.7403474903474904.\u001b[0m\n",
      "C:\\Users\\pemma\\AppData\\Local\\Temp\\ipykernel_7292\\120219098.py:10: FutureWarning: suggest_loguniform has been deprecated in v3.0.0. This feature will be removed in v6.0.0. See https://github.com/optuna/optuna/releases/tag/v3.0.0. Use :func:`~optuna.trial.Trial.suggest_float` instead.\n",
      "  \"learning_rate\": trial.suggest_loguniform(\"learning_rate\", 0.01, 1.0),\n",
      "C:\\Users\\pemma\\AppData\\Local\\Temp\\ipykernel_7292\\120219098.py:12: FutureWarning: suggest_loguniform has been deprecated in v3.0.0. This feature will be removed in v6.0.0. See https://github.com/optuna/optuna/releases/tag/v3.0.0. Use :func:`~optuna.trial.Trial.suggest_float` instead.\n",
      "  \"subsample\": trial.suggest_loguniform(\"subsample\", 0.01, 1.0)\n",
      "\u001b[32m[I 2023-01-30 16:45:45,449]\u001b[0m Trial 66 finished with value: 0.7292471042471043 and parameters: {'max_depth': 9, 'learning_rate': 0.26572959379111405, 'n_estimators': 248, 'subsample': 0.7668611115992655}. Best is trial 53 with value: 0.7403474903474904.\u001b[0m\n",
      "C:\\Users\\pemma\\AppData\\Local\\Temp\\ipykernel_7292\\120219098.py:10: FutureWarning: suggest_loguniform has been deprecated in v3.0.0. This feature will be removed in v6.0.0. See https://github.com/optuna/optuna/releases/tag/v3.0.0. Use :func:`~optuna.trial.Trial.suggest_float` instead.\n",
      "  \"learning_rate\": trial.suggest_loguniform(\"learning_rate\", 0.01, 1.0),\n",
      "C:\\Users\\pemma\\AppData\\Local\\Temp\\ipykernel_7292\\120219098.py:12: FutureWarning: suggest_loguniform has been deprecated in v3.0.0. This feature will be removed in v6.0.0. See https://github.com/optuna/optuna/releases/tag/v3.0.0. Use :func:`~optuna.trial.Trial.suggest_float` instead.\n",
      "  \"subsample\": trial.suggest_loguniform(\"subsample\", 0.01, 1.0)\n",
      "\u001b[32m[I 2023-01-30 16:45:49,709]\u001b[0m Trial 65 finished with value: 0.6978764478764479 and parameters: {'max_depth': 9, 'learning_rate': 0.18470405740647047, 'n_estimators': 312, 'subsample': 0.7875233934966813}. Best is trial 53 with value: 0.7403474903474904.\u001b[0m\n",
      "C:\\Users\\pemma\\AppData\\Local\\Temp\\ipykernel_7292\\120219098.py:10: FutureWarning: suggest_loguniform has been deprecated in v3.0.0. This feature will be removed in v6.0.0. See https://github.com/optuna/optuna/releases/tag/v3.0.0. Use :func:`~optuna.trial.Trial.suggest_float` instead.\n",
      "  \"learning_rate\": trial.suggest_loguniform(\"learning_rate\", 0.01, 1.0),\n",
      "C:\\Users\\pemma\\AppData\\Local\\Temp\\ipykernel_7292\\120219098.py:12: FutureWarning: suggest_loguniform has been deprecated in v3.0.0. This feature will be removed in v6.0.0. See https://github.com/optuna/optuna/releases/tag/v3.0.0. Use :func:`~optuna.trial.Trial.suggest_float` instead.\n",
      "  \"subsample\": trial.suggest_loguniform(\"subsample\", 0.01, 1.0)\n",
      "\u001b[32m[I 2023-01-30 16:45:58,969]\u001b[0m Trial 72 finished with value: 0.7224903474903475 and parameters: {'max_depth': 5, 'learning_rate': 0.27126903136536434, 'n_estimators': 168, 'subsample': 0.9946122198347687}. Best is trial 53 with value: 0.7403474903474904.\u001b[0m\n",
      "C:\\Users\\pemma\\AppData\\Local\\Temp\\ipykernel_7292\\120219098.py:10: FutureWarning: suggest_loguniform has been deprecated in v3.0.0. This feature will be removed in v6.0.0. See https://github.com/optuna/optuna/releases/tag/v3.0.0. Use :func:`~optuna.trial.Trial.suggest_float` instead.\n",
      "  \"learning_rate\": trial.suggest_loguniform(\"learning_rate\", 0.01, 1.0),\n",
      "C:\\Users\\pemma\\AppData\\Local\\Temp\\ipykernel_7292\\120219098.py:12: FutureWarning: suggest_loguniform has been deprecated in v3.0.0. This feature will be removed in v6.0.0. See https://github.com/optuna/optuna/releases/tag/v3.0.0. Use :func:`~optuna.trial.Trial.suggest_float` instead.\n",
      "  \"subsample\": trial.suggest_loguniform(\"subsample\", 0.01, 1.0)\n",
      "\u001b[32m[I 2023-01-30 16:46:00,829]\u001b[0m Trial 68 finished with value: 0.7002895752895753 and parameters: {'max_depth': 7, 'learning_rate': 0.2563245190788988, 'n_estimators': 469, 'subsample': 0.7695171377063534}. Best is trial 53 with value: 0.7403474903474904.\u001b[0m\n",
      "C:\\Users\\pemma\\AppData\\Local\\Temp\\ipykernel_7292\\120219098.py:10: FutureWarning: suggest_loguniform has been deprecated in v3.0.0. This feature will be removed in v6.0.0. See https://github.com/optuna/optuna/releases/tag/v3.0.0. Use :func:`~optuna.trial.Trial.suggest_float` instead.\n",
      "  \"learning_rate\": trial.suggest_loguniform(\"learning_rate\", 0.01, 1.0),\n",
      "C:\\Users\\pemma\\AppData\\Local\\Temp\\ipykernel_7292\\120219098.py:12: FutureWarning: suggest_loguniform has been deprecated in v3.0.0. This feature will be removed in v6.0.0. See https://github.com/optuna/optuna/releases/tag/v3.0.0. Use :func:`~optuna.trial.Trial.suggest_float` instead.\n",
      "  \"subsample\": trial.suggest_loguniform(\"subsample\", 0.01, 1.0)\n",
      "\u001b[32m[I 2023-01-30 16:46:07,696]\u001b[0m Trial 73 finished with value: 0.7224903474903475 and parameters: {'max_depth': 7, 'learning_rate': 0.2644491717838412, 'n_estimators': 225, 'subsample': 0.9517955397770689}. Best is trial 53 with value: 0.7403474903474904.\u001b[0m\n",
      "C:\\Users\\pemma\\AppData\\Local\\Temp\\ipykernel_7292\\120219098.py:10: FutureWarning: suggest_loguniform has been deprecated in v3.0.0. This feature will be removed in v6.0.0. See https://github.com/optuna/optuna/releases/tag/v3.0.0. Use :func:`~optuna.trial.Trial.suggest_float` instead.\n",
      "  \"learning_rate\": trial.suggest_loguniform(\"learning_rate\", 0.01, 1.0),\n",
      "C:\\Users\\pemma\\AppData\\Local\\Temp\\ipykernel_7292\\120219098.py:12: FutureWarning: suggest_loguniform has been deprecated in v3.0.0. This feature will be removed in v6.0.0. See https://github.com/optuna/optuna/releases/tag/v3.0.0. Use :func:`~optuna.trial.Trial.suggest_float` instead.\n",
      "  \"subsample\": trial.suggest_loguniform(\"subsample\", 0.01, 1.0)\n",
      "\u001b[32m[I 2023-01-30 16:46:08,964]\u001b[0m Trial 69 finished with value: 0.6800193050193051 and parameters: {'max_depth': 5, 'learning_rate': 0.16932853214839572, 'n_estimators': 469, 'subsample': 0.7763515053915566}. Best is trial 53 with value: 0.7403474903474904.\u001b[0m\n",
      "C:\\Users\\pemma\\AppData\\Local\\Temp\\ipykernel_7292\\120219098.py:10: FutureWarning: suggest_loguniform has been deprecated in v3.0.0. This feature will be removed in v6.0.0. See https://github.com/optuna/optuna/releases/tag/v3.0.0. Use :func:`~optuna.trial.Trial.suggest_float` instead.\n",
      "  \"learning_rate\": trial.suggest_loguniform(\"learning_rate\", 0.01, 1.0),\n",
      "C:\\Users\\pemma\\AppData\\Local\\Temp\\ipykernel_7292\\120219098.py:12: FutureWarning: suggest_loguniform has been deprecated in v3.0.0. This feature will be removed in v6.0.0. See https://github.com/optuna/optuna/releases/tag/v3.0.0. Use :func:`~optuna.trial.Trial.suggest_float` instead.\n",
      "  \"subsample\": trial.suggest_loguniform(\"subsample\", 0.01, 1.0)\n",
      "\u001b[32m[I 2023-01-30 16:46:11,199]\u001b[0m Trial 67 finished with value: 0.7224903474903475 and parameters: {'max_depth': 5, 'learning_rate': 0.10296199884100977, 'n_estimators': 468, 'subsample': 0.8210109276682447}. Best is trial 53 with value: 0.7403474903474904.\u001b[0m\n",
      "C:\\Users\\pemma\\AppData\\Local\\Temp\\ipykernel_7292\\120219098.py:10: FutureWarning: suggest_loguniform has been deprecated in v3.0.0. This feature will be removed in v6.0.0. See https://github.com/optuna/optuna/releases/tag/v3.0.0. Use :func:`~optuna.trial.Trial.suggest_float` instead.\n",
      "  \"learning_rate\": trial.suggest_loguniform(\"learning_rate\", 0.01, 1.0),\n",
      "C:\\Users\\pemma\\AppData\\Local\\Temp\\ipykernel_7292\\120219098.py:12: FutureWarning: suggest_loguniform has been deprecated in v3.0.0. This feature will be removed in v6.0.0. See https://github.com/optuna/optuna/releases/tag/v3.0.0. Use :func:`~optuna.trial.Trial.suggest_float` instead.\n",
      "  \"subsample\": trial.suggest_loguniform(\"subsample\", 0.01, 1.0)\n",
      "\u001b[32m[I 2023-01-30 16:46:12,086]\u001b[0m Trial 70 finished with value: 0.7046332046332047 and parameters: {'max_depth': 5, 'learning_rate': 0.16880137222401276, 'n_estimators': 466, 'subsample': 0.8004182366202318}. Best is trial 53 with value: 0.7403474903474904.\u001b[0m\n",
      "C:\\Users\\pemma\\AppData\\Local\\Temp\\ipykernel_7292\\120219098.py:10: FutureWarning: suggest_loguniform has been deprecated in v3.0.0. This feature will be removed in v6.0.0. See https://github.com/optuna/optuna/releases/tag/v3.0.0. Use :func:`~optuna.trial.Trial.suggest_float` instead.\n",
      "  \"learning_rate\": trial.suggest_loguniform(\"learning_rate\", 0.01, 1.0),\n",
      "C:\\Users\\pemma\\AppData\\Local\\Temp\\ipykernel_7292\\120219098.py:12: FutureWarning: suggest_loguniform has been deprecated in v3.0.0. This feature will be removed in v6.0.0. See https://github.com/optuna/optuna/releases/tag/v3.0.0. Use :func:`~optuna.trial.Trial.suggest_float` instead.\n",
      "  \"subsample\": trial.suggest_loguniform(\"subsample\", 0.01, 1.0)\n",
      "\u001b[32m[I 2023-01-30 16:46:13,133]\u001b[0m Trial 75 finished with value: 0.7046332046332047 and parameters: {'max_depth': 5, 'learning_rate': 0.27439972412206076, 'n_estimators': 130, 'subsample': 0.7901862327923466}. Best is trial 53 with value: 0.7403474903474904.\u001b[0m\n",
      "C:\\Users\\pemma\\AppData\\Local\\Temp\\ipykernel_7292\\120219098.py:10: FutureWarning: suggest_loguniform has been deprecated in v3.0.0. This feature will be removed in v6.0.0. See https://github.com/optuna/optuna/releases/tag/v3.0.0. Use :func:`~optuna.trial.Trial.suggest_float` instead.\n",
      "  \"learning_rate\": trial.suggest_loguniform(\"learning_rate\", 0.01, 1.0),\n",
      "C:\\Users\\pemma\\AppData\\Local\\Temp\\ipykernel_7292\\120219098.py:12: FutureWarning: suggest_loguniform has been deprecated in v3.0.0. This feature will be removed in v6.0.0. See https://github.com/optuna/optuna/releases/tag/v3.0.0. Use :func:`~optuna.trial.Trial.suggest_float` instead.\n",
      "  \"subsample\": trial.suggest_loguniform(\"subsample\", 0.01, 1.0)\n",
      "\u001b[32m[I 2023-01-30 16:46:13,832]\u001b[0m Trial 74 finished with value: 0.6867760617760618 and parameters: {'max_depth': 5, 'learning_rate': 0.267120362244326, 'n_estimators': 154, 'subsample': 0.9847843295327239}. Best is trial 53 with value: 0.7403474903474904.\u001b[0m\n",
      "C:\\Users\\pemma\\AppData\\Local\\Temp\\ipykernel_7292\\120219098.py:10: FutureWarning: suggest_loguniform has been deprecated in v3.0.0. This feature will be removed in v6.0.0. See https://github.com/optuna/optuna/releases/tag/v3.0.0. Use :func:`~optuna.trial.Trial.suggest_float` instead.\n",
      "  \"learning_rate\": trial.suggest_loguniform(\"learning_rate\", 0.01, 1.0),\n",
      "C:\\Users\\pemma\\AppData\\Local\\Temp\\ipykernel_7292\\120219098.py:12: FutureWarning: suggest_loguniform has been deprecated in v3.0.0. This feature will be removed in v6.0.0. See https://github.com/optuna/optuna/releases/tag/v3.0.0. Use :func:`~optuna.trial.Trial.suggest_float` instead.\n",
      "  \"subsample\": trial.suggest_loguniform(\"subsample\", 0.01, 1.0)\n",
      "\u001b[32m[I 2023-01-30 16:46:16,014]\u001b[0m Trial 71 finished with value: 0.7292471042471043 and parameters: {'max_depth': 5, 'learning_rate': 0.1748478590480462, 'n_estimators': 465, 'subsample': 0.8061594940258958}. Best is trial 53 with value: 0.7403474903474904.\u001b[0m\n",
      "C:\\Users\\pemma\\AppData\\Local\\Temp\\ipykernel_7292\\120219098.py:10: FutureWarning: suggest_loguniform has been deprecated in v3.0.0. This feature will be removed in v6.0.0. See https://github.com/optuna/optuna/releases/tag/v3.0.0. Use :func:`~optuna.trial.Trial.suggest_float` instead.\n",
      "  \"learning_rate\": trial.suggest_loguniform(\"learning_rate\", 0.01, 1.0),\n",
      "C:\\Users\\pemma\\AppData\\Local\\Temp\\ipykernel_7292\\120219098.py:12: FutureWarning: suggest_loguniform has been deprecated in v3.0.0. This feature will be removed in v6.0.0. See https://github.com/optuna/optuna/releases/tag/v3.0.0. Use :func:`~optuna.trial.Trial.suggest_float` instead.\n",
      "  \"subsample\": trial.suggest_loguniform(\"subsample\", 0.01, 1.0)\n",
      "\u001b[32m[I 2023-01-30 16:46:22,046]\u001b[0m Trial 76 finished with value: 0.7224903474903475 and parameters: {'max_depth': 5, 'learning_rate': 0.27279613414592846, 'n_estimators': 164, 'subsample': 0.9644419492854628}. Best is trial 53 with value: 0.7403474903474904.\u001b[0m\n",
      "C:\\Users\\pemma\\AppData\\Local\\Temp\\ipykernel_7292\\120219098.py:10: FutureWarning: suggest_loguniform has been deprecated in v3.0.0. This feature will be removed in v6.0.0. See https://github.com/optuna/optuna/releases/tag/v3.0.0. Use :func:`~optuna.trial.Trial.suggest_float` instead.\n",
      "  \"learning_rate\": trial.suggest_loguniform(\"learning_rate\", 0.01, 1.0),\n",
      "C:\\Users\\pemma\\AppData\\Local\\Temp\\ipykernel_7292\\120219098.py:12: FutureWarning: suggest_loguniform has been deprecated in v3.0.0. This feature will be removed in v6.0.0. See https://github.com/optuna/optuna/releases/tag/v3.0.0. Use :func:`~optuna.trial.Trial.suggest_float` instead.\n",
      "  \"subsample\": trial.suggest_loguniform(\"subsample\", 0.01, 1.0)\n",
      "\u001b[32m[I 2023-01-30 16:46:22,788]\u001b[0m Trial 77 finished with value: 0.6978764478764479 and parameters: {'max_depth': 5, 'learning_rate': 0.2705616093368768, 'n_estimators': 143, 'subsample': 0.9646487804146466}. Best is trial 53 with value: 0.7403474903474904.\u001b[0m\n",
      "C:\\Users\\pemma\\AppData\\Local\\Temp\\ipykernel_7292\\120219098.py:10: FutureWarning: suggest_loguniform has been deprecated in v3.0.0. This feature will be removed in v6.0.0. See https://github.com/optuna/optuna/releases/tag/v3.0.0. Use :func:`~optuna.trial.Trial.suggest_float` instead.\n",
      "  \"learning_rate\": trial.suggest_loguniform(\"learning_rate\", 0.01, 1.0),\n",
      "C:\\Users\\pemma\\AppData\\Local\\Temp\\ipykernel_7292\\120219098.py:12: FutureWarning: suggest_loguniform has been deprecated in v3.0.0. This feature will be removed in v6.0.0. See https://github.com/optuna/optuna/releases/tag/v3.0.0. Use :func:`~optuna.trial.Trial.suggest_float` instead.\n",
      "  \"subsample\": trial.suggest_loguniform(\"subsample\", 0.01, 1.0)\n",
      "\u001b[32m[I 2023-01-30 16:46:25,144]\u001b[0m Trial 78 finished with value: 0.7113899613899614 and parameters: {'max_depth': 5, 'learning_rate': 0.2876109849977532, 'n_estimators': 140, 'subsample': 0.8966424538525765}. Best is trial 53 with value: 0.7403474903474904.\u001b[0m\n",
      "C:\\Users\\pemma\\AppData\\Local\\Temp\\ipykernel_7292\\120219098.py:10: FutureWarning: suggest_loguniform has been deprecated in v3.0.0. This feature will be removed in v6.0.0. See https://github.com/optuna/optuna/releases/tag/v3.0.0. Use :func:`~optuna.trial.Trial.suggest_float` instead.\n",
      "  \"learning_rate\": trial.suggest_loguniform(\"learning_rate\", 0.01, 1.0),\n",
      "C:\\Users\\pemma\\AppData\\Local\\Temp\\ipykernel_7292\\120219098.py:12: FutureWarning: suggest_loguniform has been deprecated in v3.0.0. This feature will be removed in v6.0.0. See https://github.com/optuna/optuna/releases/tag/v3.0.0. Use :func:`~optuna.trial.Trial.suggest_float` instead.\n",
      "  \"subsample\": trial.suggest_loguniform(\"subsample\", 0.01, 1.0)\n",
      "\u001b[32m[I 2023-01-30 16:46:28,547]\u001b[0m Trial 79 finished with value: 0.7046332046332047 and parameters: {'max_depth': 5, 'learning_rate': 0.25544368060930195, 'n_estimators': 173, 'subsample': 0.9772256364777152}. Best is trial 53 with value: 0.7403474903474904.\u001b[0m\n",
      "C:\\Users\\pemma\\AppData\\Local\\Temp\\ipykernel_7292\\120219098.py:10: FutureWarning: suggest_loguniform has been deprecated in v3.0.0. This feature will be removed in v6.0.0. See https://github.com/optuna/optuna/releases/tag/v3.0.0. Use :func:`~optuna.trial.Trial.suggest_float` instead.\n",
      "  \"learning_rate\": trial.suggest_loguniform(\"learning_rate\", 0.01, 1.0),\n",
      "C:\\Users\\pemma\\AppData\\Local\\Temp\\ipykernel_7292\\120219098.py:12: FutureWarning: suggest_loguniform has been deprecated in v3.0.0. This feature will be removed in v6.0.0. See https://github.com/optuna/optuna/releases/tag/v3.0.0. Use :func:`~optuna.trial.Trial.suggest_float` instead.\n",
      "  \"subsample\": trial.suggest_loguniform(\"subsample\", 0.01, 1.0)\n",
      "\u001b[32m[I 2023-01-30 16:46:33,782]\u001b[0m Trial 82 finished with value: 0.6732625482625483 and parameters: {'max_depth': 5, 'learning_rate': 0.19789485172116644, 'n_estimators': 184, 'subsample': 0.9235002646572167}. Best is trial 53 with value: 0.7403474903474904.\u001b[0m\n",
      "C:\\Users\\pemma\\AppData\\Local\\Temp\\ipykernel_7292\\120219098.py:10: FutureWarning: suggest_loguniform has been deprecated in v3.0.0. This feature will be removed in v6.0.0. See https://github.com/optuna/optuna/releases/tag/v3.0.0. Use :func:`~optuna.trial.Trial.suggest_float` instead.\n",
      "  \"learning_rate\": trial.suggest_loguniform(\"learning_rate\", 0.01, 1.0),\n",
      "C:\\Users\\pemma\\AppData\\Local\\Temp\\ipykernel_7292\\120219098.py:12: FutureWarning: suggest_loguniform has been deprecated in v3.0.0. This feature will be removed in v6.0.0. See https://github.com/optuna/optuna/releases/tag/v3.0.0. Use :func:`~optuna.trial.Trial.suggest_float` instead.\n",
      "  \"subsample\": trial.suggest_loguniform(\"subsample\", 0.01, 1.0)\n",
      "\u001b[32m[I 2023-01-30 16:46:37,804]\u001b[0m Trial 80 finished with value: 0.7224903474903475 and parameters: {'max_depth': 5, 'learning_rate': 0.12942043180491813, 'n_estimators': 243, 'subsample': 0.9757803667719778}. Best is trial 53 with value: 0.7403474903474904.\u001b[0m\n",
      "C:\\Users\\pemma\\AppData\\Local\\Temp\\ipykernel_7292\\120219098.py:10: FutureWarning: suggest_loguniform has been deprecated in v3.0.0. This feature will be removed in v6.0.0. See https://github.com/optuna/optuna/releases/tag/v3.0.0. Use :func:`~optuna.trial.Trial.suggest_float` instead.\n",
      "  \"learning_rate\": trial.suggest_loguniform(\"learning_rate\", 0.01, 1.0),\n",
      "C:\\Users\\pemma\\AppData\\Local\\Temp\\ipykernel_7292\\120219098.py:12: FutureWarning: suggest_loguniform has been deprecated in v3.0.0. This feature will be removed in v6.0.0. See https://github.com/optuna/optuna/releases/tag/v3.0.0. Use :func:`~optuna.trial.Trial.suggest_float` instead.\n",
      "  \"subsample\": trial.suggest_loguniform(\"subsample\", 0.01, 1.0)\n",
      "\u001b[32m[I 2023-01-30 16:46:37,923]\u001b[0m Trial 83 finished with value: 0.7046332046332047 and parameters: {'max_depth': 4, 'learning_rate': 0.13246309838025258, 'n_estimators': 195, 'subsample': 0.5477917238184042}. Best is trial 53 with value: 0.7403474903474904.\u001b[0m\n",
      "C:\\Users\\pemma\\AppData\\Local\\Temp\\ipykernel_7292\\120219098.py:10: FutureWarning: suggest_loguniform has been deprecated in v3.0.0. This feature will be removed in v6.0.0. See https://github.com/optuna/optuna/releases/tag/v3.0.0. Use :func:`~optuna.trial.Trial.suggest_float` instead.\n",
      "  \"learning_rate\": trial.suggest_loguniform(\"learning_rate\", 0.01, 1.0),\n",
      "C:\\Users\\pemma\\AppData\\Local\\Temp\\ipykernel_7292\\120219098.py:12: FutureWarning: suggest_loguniform has been deprecated in v3.0.0. This feature will be removed in v6.0.0. See https://github.com/optuna/optuna/releases/tag/v3.0.0. Use :func:`~optuna.trial.Trial.suggest_float` instead.\n",
      "  \"subsample\": trial.suggest_loguniform(\"subsample\", 0.01, 1.0)\n",
      "\u001b[32m[I 2023-01-30 16:46:39,708]\u001b[0m Trial 81 finished with value: 0.7157335907335907 and parameters: {'max_depth': 7, 'learning_rate': 0.13320766539466006, 'n_estimators': 240, 'subsample': 0.9011447304366226}. Best is trial 53 with value: 0.7403474903474904.\u001b[0m\n",
      "C:\\Users\\pemma\\AppData\\Local\\Temp\\ipykernel_7292\\120219098.py:10: FutureWarning: suggest_loguniform has been deprecated in v3.0.0. This feature will be removed in v6.0.0. See https://github.com/optuna/optuna/releases/tag/v3.0.0. Use :func:`~optuna.trial.Trial.suggest_float` instead.\n",
      "  \"learning_rate\": trial.suggest_loguniform(\"learning_rate\", 0.01, 1.0),\n",
      "C:\\Users\\pemma\\AppData\\Local\\Temp\\ipykernel_7292\\120219098.py:12: FutureWarning: suggest_loguniform has been deprecated in v3.0.0. This feature will be removed in v6.0.0. See https://github.com/optuna/optuna/releases/tag/v3.0.0. Use :func:`~optuna.trial.Trial.suggest_float` instead.\n",
      "  \"subsample\": trial.suggest_loguniform(\"subsample\", 0.01, 1.0)\n",
      "\u001b[32m[I 2023-01-30 16:46:41,501]\u001b[0m Trial 85 finished with value: 0.6867760617760618 and parameters: {'max_depth': 4, 'learning_rate': 0.13556102171306447, 'n_estimators': 196, 'subsample': 0.534371550994104}. Best is trial 53 with value: 0.7403474903474904.\u001b[0m\n",
      "C:\\Users\\pemma\\AppData\\Local\\Temp\\ipykernel_7292\\120219098.py:10: FutureWarning: suggest_loguniform has been deprecated in v3.0.0. This feature will be removed in v6.0.0. See https://github.com/optuna/optuna/releases/tag/v3.0.0. Use :func:`~optuna.trial.Trial.suggest_float` instead.\n",
      "  \"learning_rate\": trial.suggest_loguniform(\"learning_rate\", 0.01, 1.0),\n",
      "C:\\Users\\pemma\\AppData\\Local\\Temp\\ipykernel_7292\\120219098.py:12: FutureWarning: suggest_loguniform has been deprecated in v3.0.0. This feature will be removed in v6.0.0. See https://github.com/optuna/optuna/releases/tag/v3.0.0. Use :func:`~optuna.trial.Trial.suggest_float` instead.\n",
      "  \"subsample\": trial.suggest_loguniform(\"subsample\", 0.01, 1.0)\n",
      "\u001b[32m[I 2023-01-30 16:46:42,826]\u001b[0m Trial 84 finished with value: 0.7046332046332047 and parameters: {'max_depth': 4, 'learning_rate': 0.13485673655256106, 'n_estimators': 251, 'subsample': 0.5354262132263892}. Best is trial 53 with value: 0.7403474903474904.\u001b[0m\n",
      "C:\\Users\\pemma\\AppData\\Local\\Temp\\ipykernel_7292\\120219098.py:10: FutureWarning: suggest_loguniform has been deprecated in v3.0.0. This feature will be removed in v6.0.0. See https://github.com/optuna/optuna/releases/tag/v3.0.0. Use :func:`~optuna.trial.Trial.suggest_float` instead.\n",
      "  \"learning_rate\": trial.suggest_loguniform(\"learning_rate\", 0.01, 1.0),\n",
      "C:\\Users\\pemma\\AppData\\Local\\Temp\\ipykernel_7292\\120219098.py:12: FutureWarning: suggest_loguniform has been deprecated in v3.0.0. This feature will be removed in v6.0.0. See https://github.com/optuna/optuna/releases/tag/v3.0.0. Use :func:`~optuna.trial.Trial.suggest_float` instead.\n",
      "  \"subsample\": trial.suggest_loguniform(\"subsample\", 0.01, 1.0)\n",
      "\u001b[32m[I 2023-01-30 16:46:48,394]\u001b[0m Trial 86 finished with value: 0.6867760617760618 and parameters: {'max_depth': 4, 'learning_rate': 0.13511532406992252, 'n_estimators': 252, 'subsample': 0.54382659861757}. Best is trial 53 with value: 0.7403474903474904.\u001b[0m\n",
      "C:\\Users\\pemma\\AppData\\Local\\Temp\\ipykernel_7292\\120219098.py:10: FutureWarning: suggest_loguniform has been deprecated in v3.0.0. This feature will be removed in v6.0.0. See https://github.com/optuna/optuna/releases/tag/v3.0.0. Use :func:`~optuna.trial.Trial.suggest_float` instead.\n",
      "  \"learning_rate\": trial.suggest_loguniform(\"learning_rate\", 0.01, 1.0),\n",
      "C:\\Users\\pemma\\AppData\\Local\\Temp\\ipykernel_7292\\120219098.py:12: FutureWarning: suggest_loguniform has been deprecated in v3.0.0. This feature will be removed in v6.0.0. See https://github.com/optuna/optuna/releases/tag/v3.0.0. Use :func:`~optuna.trial.Trial.suggest_float` instead.\n",
      "  \"subsample\": trial.suggest_loguniform(\"subsample\", 0.01, 1.0)\n",
      "\u001b[32m[I 2023-01-30 16:46:56,802]\u001b[0m Trial 87 finished with value: 0.6978764478764479 and parameters: {'max_depth': 7, 'learning_rate': 0.14044764454160616, 'n_estimators': 237, 'subsample': 0.7019615233909862}. Best is trial 53 with value: 0.7403474903474904.\u001b[0m\n",
      "C:\\Users\\pemma\\AppData\\Local\\Temp\\ipykernel_7292\\120219098.py:10: FutureWarning: suggest_loguniform has been deprecated in v3.0.0. This feature will be removed in v6.0.0. See https://github.com/optuna/optuna/releases/tag/v3.0.0. Use :func:`~optuna.trial.Trial.suggest_float` instead.\n",
      "  \"learning_rate\": trial.suggest_loguniform(\"learning_rate\", 0.01, 1.0),\n",
      "C:\\Users\\pemma\\AppData\\Local\\Temp\\ipykernel_7292\\120219098.py:12: FutureWarning: suggest_loguniform has been deprecated in v3.0.0. This feature will be removed in v6.0.0. See https://github.com/optuna/optuna/releases/tag/v3.0.0. Use :func:`~optuna.trial.Trial.suggest_float` instead.\n",
      "  \"subsample\": trial.suggest_loguniform(\"subsample\", 0.01, 1.0)\n",
      "\u001b[32m[I 2023-01-30 16:46:59,694]\u001b[0m Trial 89 finished with value: 0.7224903474903475 and parameters: {'max_depth': 6, 'learning_rate': 0.10551088604424877, 'n_estimators': 222, 'subsample': 0.5357881816271882}. Best is trial 53 with value: 0.7403474903474904.\u001b[0m\n",
      "C:\\Users\\pemma\\AppData\\Local\\Temp\\ipykernel_7292\\120219098.py:10: FutureWarning: suggest_loguniform has been deprecated in v3.0.0. This feature will be removed in v6.0.0. See https://github.com/optuna/optuna/releases/tag/v3.0.0. Use :func:`~optuna.trial.Trial.suggest_float` instead.\n",
      "  \"learning_rate\": trial.suggest_loguniform(\"learning_rate\", 0.01, 1.0),\n",
      "C:\\Users\\pemma\\AppData\\Local\\Temp\\ipykernel_7292\\120219098.py:12: FutureWarning: suggest_loguniform has been deprecated in v3.0.0. This feature will be removed in v6.0.0. See https://github.com/optuna/optuna/releases/tag/v3.0.0. Use :func:`~optuna.trial.Trial.suggest_float` instead.\n",
      "  \"subsample\": trial.suggest_loguniform(\"subsample\", 0.01, 1.0)\n",
      "\u001b[32m[I 2023-01-30 16:47:03,294]\u001b[0m Trial 90 finished with value: 0.7224903474903475 and parameters: {'max_depth': 6, 'learning_rate': 0.10014374712996728, 'n_estimators': 214, 'subsample': 0.7113542203196621}. Best is trial 53 with value: 0.7403474903474904.\u001b[0m\n",
      "C:\\Users\\pemma\\AppData\\Local\\Temp\\ipykernel_7292\\120219098.py:10: FutureWarning: suggest_loguniform has been deprecated in v3.0.0. This feature will be removed in v6.0.0. See https://github.com/optuna/optuna/releases/tag/v3.0.0. Use :func:`~optuna.trial.Trial.suggest_float` instead.\n",
      "  \"learning_rate\": trial.suggest_loguniform(\"learning_rate\", 0.01, 1.0),\n",
      "C:\\Users\\pemma\\AppData\\Local\\Temp\\ipykernel_7292\\120219098.py:12: FutureWarning: suggest_loguniform has been deprecated in v3.0.0. This feature will be removed in v6.0.0. See https://github.com/optuna/optuna/releases/tag/v3.0.0. Use :func:`~optuna.trial.Trial.suggest_float` instead.\n",
      "  \"subsample\": trial.suggest_loguniform(\"subsample\", 0.01, 1.0)\n",
      "\u001b[32m[I 2023-01-30 16:47:03,856]\u001b[0m Trial 88 finished with value: 0.7224903474903475 and parameters: {'max_depth': 7, 'learning_rate': 0.1017431531487014, 'n_estimators': 238, 'subsample': 0.7067208276412323}. Best is trial 53 with value: 0.7403474903474904.\u001b[0m\n",
      "C:\\Users\\pemma\\AppData\\Local\\Temp\\ipykernel_7292\\120219098.py:10: FutureWarning: suggest_loguniform has been deprecated in v3.0.0. This feature will be removed in v6.0.0. See https://github.com/optuna/optuna/releases/tag/v3.0.0. Use :func:`~optuna.trial.Trial.suggest_float` instead.\n",
      "  \"learning_rate\": trial.suggest_loguniform(\"learning_rate\", 0.01, 1.0),\n",
      "C:\\Users\\pemma\\AppData\\Local\\Temp\\ipykernel_7292\\120219098.py:12: FutureWarning: suggest_loguniform has been deprecated in v3.0.0. This feature will be removed in v6.0.0. See https://github.com/optuna/optuna/releases/tag/v3.0.0. Use :func:`~optuna.trial.Trial.suggest_float` instead.\n",
      "  \"subsample\": trial.suggest_loguniform(\"subsample\", 0.01, 1.0)\n",
      "\u001b[32m[I 2023-01-30 16:47:04,875]\u001b[0m Trial 91 finished with value: 0.7224903474903475 and parameters: {'max_depth': 6, 'learning_rate': 0.1016427788221174, 'n_estimators': 213, 'subsample': 0.661409290156923}. Best is trial 53 with value: 0.7403474903474904.\u001b[0m\n",
      "C:\\Users\\pemma\\AppData\\Local\\Temp\\ipykernel_7292\\120219098.py:10: FutureWarning: suggest_loguniform has been deprecated in v3.0.0. This feature will be removed in v6.0.0. See https://github.com/optuna/optuna/releases/tag/v3.0.0. Use :func:`~optuna.trial.Trial.suggest_float` instead.\n",
      "  \"learning_rate\": trial.suggest_loguniform(\"learning_rate\", 0.01, 1.0),\n",
      "C:\\Users\\pemma\\AppData\\Local\\Temp\\ipykernel_7292\\120219098.py:12: FutureWarning: suggest_loguniform has been deprecated in v3.0.0. This feature will be removed in v6.0.0. See https://github.com/optuna/optuna/releases/tag/v3.0.0. Use :func:`~optuna.trial.Trial.suggest_float` instead.\n",
      "  \"subsample\": trial.suggest_loguniform(\"subsample\", 0.01, 1.0)\n",
      "\u001b[32m[I 2023-01-30 16:47:06,870]\u001b[0m Trial 93 finished with value: 0.708976833976834 and parameters: {'max_depth': 6, 'learning_rate': 0.20631770853618792, 'n_estimators': 218, 'subsample': 0.677395560287823}. Best is trial 53 with value: 0.7403474903474904.\u001b[0m\n",
      "C:\\Users\\pemma\\AppData\\Local\\Temp\\ipykernel_7292\\120219098.py:10: FutureWarning: suggest_loguniform has been deprecated in v3.0.0. This feature will be removed in v6.0.0. See https://github.com/optuna/optuna/releases/tag/v3.0.0. Use :func:`~optuna.trial.Trial.suggest_float` instead.\n",
      "  \"learning_rate\": trial.suggest_loguniform(\"learning_rate\", 0.01, 1.0),\n",
      "C:\\Users\\pemma\\AppData\\Local\\Temp\\ipykernel_7292\\120219098.py:12: FutureWarning: suggest_loguniform has been deprecated in v3.0.0. This feature will be removed in v6.0.0. See https://github.com/optuna/optuna/releases/tag/v3.0.0. Use :func:`~optuna.trial.Trial.suggest_float` instead.\n",
      "  \"subsample\": trial.suggest_loguniform(\"subsample\", 0.01, 1.0)\n",
      "\u001b[32m[I 2023-01-30 16:47:07,010]\u001b[0m Trial 92 finished with value: 0.7292471042471043 and parameters: {'max_depth': 6, 'learning_rate': 0.10390443276761989, 'n_estimators': 223, 'subsample': 0.7254990899809401}. Best is trial 53 with value: 0.7403474903474904.\u001b[0m\n",
      "C:\\Users\\pemma\\AppData\\Local\\Temp\\ipykernel_7292\\120219098.py:10: FutureWarning: suggest_loguniform has been deprecated in v3.0.0. This feature will be removed in v6.0.0. See https://github.com/optuna/optuna/releases/tag/v3.0.0. Use :func:`~optuna.trial.Trial.suggest_float` instead.\n",
      "  \"learning_rate\": trial.suggest_loguniform(\"learning_rate\", 0.01, 1.0),\n",
      "C:\\Users\\pemma\\AppData\\Local\\Temp\\ipykernel_7292\\120219098.py:12: FutureWarning: suggest_loguniform has been deprecated in v3.0.0. This feature will be removed in v6.0.0. See https://github.com/optuna/optuna/releases/tag/v3.0.0. Use :func:`~optuna.trial.Trial.suggest_float` instead.\n",
      "  \"subsample\": trial.suggest_loguniform(\"subsample\", 0.01, 1.0)\n",
      "\u001b[32m[I 2023-01-30 16:47:14,397]\u001b[0m Trial 94 finished with value: 0.6935328185328185 and parameters: {'max_depth': 6, 'learning_rate': 0.23509318845019364, 'n_estimators': 224, 'subsample': 0.7115422699499458}. Best is trial 53 with value: 0.7403474903474904.\u001b[0m\n",
      "C:\\Users\\pemma\\AppData\\Local\\Temp\\ipykernel_7292\\120219098.py:10: FutureWarning: suggest_loguniform has been deprecated in v3.0.0. This feature will be removed in v6.0.0. See https://github.com/optuna/optuna/releases/tag/v3.0.0. Use :func:`~optuna.trial.Trial.suggest_float` instead.\n",
      "  \"learning_rate\": trial.suggest_loguniform(\"learning_rate\", 0.01, 1.0),\n",
      "C:\\Users\\pemma\\AppData\\Local\\Temp\\ipykernel_7292\\120219098.py:12: FutureWarning: suggest_loguniform has been deprecated in v3.0.0. This feature will be removed in v6.0.0. See https://github.com/optuna/optuna/releases/tag/v3.0.0. Use :func:`~optuna.trial.Trial.suggest_float` instead.\n",
      "  \"subsample\": trial.suggest_loguniform(\"subsample\", 0.01, 1.0)\n",
      "\u001b[32m[I 2023-01-30 16:47:16,205]\u001b[0m Trial 98 finished with value: 0.6732625482625483 and parameters: {'max_depth': 5, 'learning_rate': 0.21919564990553364, 'n_estimators': 114, 'subsample': 0.8498945210959468}. Best is trial 53 with value: 0.7403474903474904.\u001b[0m\n",
      "C:\\Users\\pemma\\AppData\\Local\\Temp\\ipykernel_7292\\120219098.py:10: FutureWarning: suggest_loguniform has been deprecated in v3.0.0. This feature will be removed in v6.0.0. See https://github.com/optuna/optuna/releases/tag/v3.0.0. Use :func:`~optuna.trial.Trial.suggest_float` instead.\n",
      "  \"learning_rate\": trial.suggest_loguniform(\"learning_rate\", 0.01, 1.0),\n",
      "C:\\Users\\pemma\\AppData\\Local\\Temp\\ipykernel_7292\\120219098.py:12: FutureWarning: suggest_loguniform has been deprecated in v3.0.0. This feature will be removed in v6.0.0. See https://github.com/optuna/optuna/releases/tag/v3.0.0. Use :func:`~optuna.trial.Trial.suggest_float` instead.\n",
      "  \"subsample\": trial.suggest_loguniform(\"subsample\", 0.01, 1.0)\n",
      "\u001b[32m[I 2023-01-30 16:47:18,060]\u001b[0m Trial 95 finished with value: 0.7113899613899614 and parameters: {'max_depth': 6, 'learning_rate': 0.23256913648304753, 'n_estimators': 274, 'subsample': 0.705870903462935}. Best is trial 53 with value: 0.7403474903474904.\u001b[0m\n",
      "C:\\Users\\pemma\\AppData\\Local\\Temp\\ipykernel_7292\\120219098.py:10: FutureWarning: suggest_loguniform has been deprecated in v3.0.0. This feature will be removed in v6.0.0. See https://github.com/optuna/optuna/releases/tag/v3.0.0. Use :func:`~optuna.trial.Trial.suggest_float` instead.\n",
      "  \"learning_rate\": trial.suggest_loguniform(\"learning_rate\", 0.01, 1.0),\n",
      "C:\\Users\\pemma\\AppData\\Local\\Temp\\ipykernel_7292\\120219098.py:12: FutureWarning: suggest_loguniform has been deprecated in v3.0.0. This feature will be removed in v6.0.0. See https://github.com/optuna/optuna/releases/tag/v3.0.0. Use :func:`~optuna.trial.Trial.suggest_float` instead.\n",
      "  \"subsample\": trial.suggest_loguniform(\"subsample\", 0.01, 1.0)\n",
      "\u001b[32m[I 2023-01-30 16:47:23,586]\u001b[0m Trial 96 finished with value: 0.6935328185328185 and parameters: {'max_depth': 6, 'learning_rate': 0.21611290682495435, 'n_estimators': 274, 'subsample': 0.7146896816026163}. Best is trial 53 with value: 0.7403474903474904.\u001b[0m\n",
      "C:\\Users\\pemma\\AppData\\Local\\Temp\\ipykernel_7292\\120219098.py:10: FutureWarning: suggest_loguniform has been deprecated in v3.0.0. This feature will be removed in v6.0.0. See https://github.com/optuna/optuna/releases/tag/v3.0.0. Use :func:`~optuna.trial.Trial.suggest_float` instead.\n",
      "  \"learning_rate\": trial.suggest_loguniform(\"learning_rate\", 0.01, 1.0),\n",
      "C:\\Users\\pemma\\AppData\\Local\\Temp\\ipykernel_7292\\120219098.py:12: FutureWarning: suggest_loguniform has been deprecated in v3.0.0. This feature will be removed in v6.0.0. See https://github.com/optuna/optuna/releases/tag/v3.0.0. Use :func:`~optuna.trial.Trial.suggest_float` instead.\n",
      "  \"subsample\": trial.suggest_loguniform(\"subsample\", 0.01, 1.0)\n",
      "\u001b[32m[I 2023-01-30 16:47:24,044]\u001b[0m Trial 97 finished with value: 0.7157335907335907 and parameters: {'max_depth': 6, 'learning_rate': 0.22223883562885263, 'n_estimators': 270, 'subsample': 0.8786564231741555}. Best is trial 53 with value: 0.7403474903474904.\u001b[0m\n",
      "C:\\Users\\pemma\\AppData\\Local\\Temp\\ipykernel_7292\\120219098.py:10: FutureWarning: suggest_loguniform has been deprecated in v3.0.0. This feature will be removed in v6.0.0. See https://github.com/optuna/optuna/releases/tag/v3.0.0. Use :func:`~optuna.trial.Trial.suggest_float` instead.\n",
      "  \"learning_rate\": trial.suggest_loguniform(\"learning_rate\", 0.01, 1.0),\n",
      "C:\\Users\\pemma\\AppData\\Local\\Temp\\ipykernel_7292\\120219098.py:12: FutureWarning: suggest_loguniform has been deprecated in v3.0.0. This feature will be removed in v6.0.0. See https://github.com/optuna/optuna/releases/tag/v3.0.0. Use :func:`~optuna.trial.Trial.suggest_float` instead.\n",
      "  \"subsample\": trial.suggest_loguniform(\"subsample\", 0.01, 1.0)\n",
      "\u001b[32m[I 2023-01-30 16:47:26,092]\u001b[0m Trial 101 finished with value: 0.6911196911196911 and parameters: {'max_depth': 2, 'learning_rate': 0.353671511795692, 'n_estimators': 264, 'subsample': 0.8399103624057255}. Best is trial 53 with value: 0.7403474903474904.\u001b[0m\n",
      "C:\\Users\\pemma\\AppData\\Local\\Temp\\ipykernel_7292\\120219098.py:10: FutureWarning: suggest_loguniform has been deprecated in v3.0.0. This feature will be removed in v6.0.0. See https://github.com/optuna/optuna/releases/tag/v3.0.0. Use :func:`~optuna.trial.Trial.suggest_float` instead.\n",
      "  \"learning_rate\": trial.suggest_loguniform(\"learning_rate\", 0.01, 1.0),\n",
      "C:\\Users\\pemma\\AppData\\Local\\Temp\\ipykernel_7292\\120219098.py:12: FutureWarning: suggest_loguniform has been deprecated in v3.0.0. This feature will be removed in v6.0.0. See https://github.com/optuna/optuna/releases/tag/v3.0.0. Use :func:`~optuna.trial.Trial.suggest_float` instead.\n",
      "  \"subsample\": trial.suggest_loguniform(\"subsample\", 0.01, 1.0)\n",
      "\u001b[32m[I 2023-01-30 16:47:26,547]\u001b[0m Trial 99 finished with value: 0.7292471042471043 and parameters: {'max_depth': 5, 'learning_rate': 0.21779001931068515, 'n_estimators': 273, 'subsample': 0.844185329996786}. Best is trial 53 with value: 0.7403474903474904.\u001b[0m\n",
      "C:\\Users\\pemma\\AppData\\Local\\Temp\\ipykernel_7292\\120219098.py:10: FutureWarning: suggest_loguniform has been deprecated in v3.0.0. This feature will be removed in v6.0.0. See https://github.com/optuna/optuna/releases/tag/v3.0.0. Use :func:`~optuna.trial.Trial.suggest_float` instead.\n",
      "  \"learning_rate\": trial.suggest_loguniform(\"learning_rate\", 0.01, 1.0),\n",
      "C:\\Users\\pemma\\AppData\\Local\\Temp\\ipykernel_7292\\120219098.py:12: FutureWarning: suggest_loguniform has been deprecated in v3.0.0. This feature will be removed in v6.0.0. See https://github.com/optuna/optuna/releases/tag/v3.0.0. Use :func:`~optuna.trial.Trial.suggest_float` instead.\n",
      "  \"subsample\": trial.suggest_loguniform(\"subsample\", 0.01, 1.0)\n",
      "\u001b[32m[I 2023-01-30 16:47:29,623]\u001b[0m Trial 103 finished with value: 0.6689189189189189 and parameters: {'max_depth': 2, 'learning_rate': 0.15592875346057852, 'n_estimators': 264, 'subsample': 0.46758856199663495}. Best is trial 53 with value: 0.7403474903474904.\u001b[0m\n",
      "C:\\Users\\pemma\\AppData\\Local\\Temp\\ipykernel_7292\\120219098.py:10: FutureWarning: suggest_loguniform has been deprecated in v3.0.0. This feature will be removed in v6.0.0. See https://github.com/optuna/optuna/releases/tag/v3.0.0. Use :func:`~optuna.trial.Trial.suggest_float` instead.\n",
      "  \"learning_rate\": trial.suggest_loguniform(\"learning_rate\", 0.01, 1.0),\n",
      "C:\\Users\\pemma\\AppData\\Local\\Temp\\ipykernel_7292\\120219098.py:12: FutureWarning: suggest_loguniform has been deprecated in v3.0.0. This feature will be removed in v6.0.0. See https://github.com/optuna/optuna/releases/tag/v3.0.0. Use :func:`~optuna.trial.Trial.suggest_float` instead.\n",
      "  \"subsample\": trial.suggest_loguniform(\"subsample\", 0.01, 1.0)\n",
      "\u001b[32m[I 2023-01-30 16:47:30,187]\u001b[0m Trial 100 finished with value: 0.6867760617760618 and parameters: {'max_depth': 6, 'learning_rate': 0.15215046978463684, 'n_estimators': 266, 'subsample': 0.7355452757388505}. Best is trial 53 with value: 0.7403474903474904.\u001b[0m\n",
      "C:\\Users\\pemma\\AppData\\Local\\Temp\\ipykernel_7292\\120219098.py:10: FutureWarning: suggest_loguniform has been deprecated in v3.0.0. This feature will be removed in v6.0.0. See https://github.com/optuna/optuna/releases/tag/v3.0.0. Use :func:`~optuna.trial.Trial.suggest_float` instead.\n",
      "  \"learning_rate\": trial.suggest_loguniform(\"learning_rate\", 0.01, 1.0),\n",
      "C:\\Users\\pemma\\AppData\\Local\\Temp\\ipykernel_7292\\120219098.py:12: FutureWarning: suggest_loguniform has been deprecated in v3.0.0. This feature will be removed in v6.0.0. See https://github.com/optuna/optuna/releases/tag/v3.0.0. Use :func:`~optuna.trial.Trial.suggest_float` instead.\n",
      "  \"subsample\": trial.suggest_loguniform(\"subsample\", 0.01, 1.0)\n",
      "\u001b[32m[I 2023-01-30 16:47:37,898]\u001b[0m Trial 102 finished with value: 0.6978764478764479 and parameters: {'max_depth': 7, 'learning_rate': 0.18198674447369761, 'n_estimators': 271, 'subsample': 0.8548235430135652}. Best is trial 53 with value: 0.7403474903474904.\u001b[0m\n",
      "C:\\Users\\pemma\\AppData\\Local\\Temp\\ipykernel_7292\\120219098.py:10: FutureWarning: suggest_loguniform has been deprecated in v3.0.0. This feature will be removed in v6.0.0. See https://github.com/optuna/optuna/releases/tag/v3.0.0. Use :func:`~optuna.trial.Trial.suggest_float` instead.\n",
      "  \"learning_rate\": trial.suggest_loguniform(\"learning_rate\", 0.01, 1.0),\n",
      "C:\\Users\\pemma\\AppData\\Local\\Temp\\ipykernel_7292\\120219098.py:12: FutureWarning: suggest_loguniform has been deprecated in v3.0.0. This feature will be removed in v6.0.0. See https://github.com/optuna/optuna/releases/tag/v3.0.0. Use :func:`~optuna.trial.Trial.suggest_float` instead.\n",
      "  \"subsample\": trial.suggest_loguniform(\"subsample\", 0.01, 1.0)\n",
      "\u001b[32m[I 2023-01-30 16:47:45,525]\u001b[0m Trial 104 finished with value: 0.6978764478764479 and parameters: {'max_depth': 7, 'learning_rate': 0.15308921062643605, 'n_estimators': 294, 'subsample': 0.45011735850986406}. Best is trial 53 with value: 0.7403474903474904.\u001b[0m\n",
      "C:\\Users\\pemma\\AppData\\Local\\Temp\\ipykernel_7292\\120219098.py:10: FutureWarning: suggest_loguniform has been deprecated in v3.0.0. This feature will be removed in v6.0.0. See https://github.com/optuna/optuna/releases/tag/v3.0.0. Use :func:`~optuna.trial.Trial.suggest_float` instead.\n",
      "  \"learning_rate\": trial.suggest_loguniform(\"learning_rate\", 0.01, 1.0),\n",
      "C:\\Users\\pemma\\AppData\\Local\\Temp\\ipykernel_7292\\120219098.py:12: FutureWarning: suggest_loguniform has been deprecated in v3.0.0. This feature will be removed in v6.0.0. See https://github.com/optuna/optuna/releases/tag/v3.0.0. Use :func:`~optuna.trial.Trial.suggest_float` instead.\n",
      "  \"subsample\": trial.suggest_loguniform(\"subsample\", 0.01, 1.0)\n",
      "\u001b[32m[I 2023-01-30 16:47:45,931]\u001b[0m Trial 107 finished with value: 0.7113899613899614 and parameters: {'max_depth': 5, 'learning_rate': 0.17848877714699388, 'n_estimators': 296, 'subsample': 0.6178082093943698}. Best is trial 53 with value: 0.7403474903474904.\u001b[0m\n",
      "C:\\Users\\pemma\\AppData\\Local\\Temp\\ipykernel_7292\\120219098.py:10: FutureWarning: suggest_loguniform has been deprecated in v3.0.0. This feature will be removed in v6.0.0. See https://github.com/optuna/optuna/releases/tag/v3.0.0. Use :func:`~optuna.trial.Trial.suggest_float` instead.\n",
      "  \"learning_rate\": trial.suggest_loguniform(\"learning_rate\", 0.01, 1.0),\n",
      "C:\\Users\\pemma\\AppData\\Local\\Temp\\ipykernel_7292\\120219098.py:12: FutureWarning: suggest_loguniform has been deprecated in v3.0.0. This feature will be removed in v6.0.0. See https://github.com/optuna/optuna/releases/tag/v3.0.0. Use :func:`~optuna.trial.Trial.suggest_float` instead.\n",
      "  \"subsample\": trial.suggest_loguniform(\"subsample\", 0.01, 1.0)\n",
      "\u001b[32m[I 2023-01-30 16:47:46,400]\u001b[0m Trial 105 finished with value: 0.7292471042471043 and parameters: {'max_depth': 7, 'learning_rate': 0.15325472735808754, 'n_estimators': 297, 'subsample': 0.584086800550332}. Best is trial 53 with value: 0.7403474903474904.\u001b[0m\n",
      "C:\\Users\\pemma\\AppData\\Local\\Temp\\ipykernel_7292\\120219098.py:10: FutureWarning: suggest_loguniform has been deprecated in v3.0.0. This feature will be removed in v6.0.0. See https://github.com/optuna/optuna/releases/tag/v3.0.0. Use :func:`~optuna.trial.Trial.suggest_float` instead.\n",
      "  \"learning_rate\": trial.suggest_loguniform(\"learning_rate\", 0.01, 1.0),\n",
      "C:\\Users\\pemma\\AppData\\Local\\Temp\\ipykernel_7292\\120219098.py:12: FutureWarning: suggest_loguniform has been deprecated in v3.0.0. This feature will be removed in v6.0.0. See https://github.com/optuna/optuna/releases/tag/v3.0.0. Use :func:`~optuna.trial.Trial.suggest_float` instead.\n",
      "  \"subsample\": trial.suggest_loguniform(\"subsample\", 0.01, 1.0)\n",
      "\u001b[32m[I 2023-01-30 16:47:46,931]\u001b[0m Trial 108 finished with value: 0.7360038610038611 and parameters: {'max_depth': 5, 'learning_rate': 0.18838719089551653, 'n_estimators': 294, 'subsample': 0.5970076453678684}. Best is trial 53 with value: 0.7403474903474904.\u001b[0m\n",
      "C:\\Users\\pemma\\AppData\\Local\\Temp\\ipykernel_7292\\120219098.py:10: FutureWarning: suggest_loguniform has been deprecated in v3.0.0. This feature will be removed in v6.0.0. See https://github.com/optuna/optuna/releases/tag/v3.0.0. Use :func:`~optuna.trial.Trial.suggest_float` instead.\n",
      "  \"learning_rate\": trial.suggest_loguniform(\"learning_rate\", 0.01, 1.0),\n",
      "C:\\Users\\pemma\\AppData\\Local\\Temp\\ipykernel_7292\\120219098.py:12: FutureWarning: suggest_loguniform has been deprecated in v3.0.0. This feature will be removed in v6.0.0. See https://github.com/optuna/optuna/releases/tag/v3.0.0. Use :func:`~optuna.trial.Trial.suggest_float` instead.\n",
      "  \"subsample\": trial.suggest_loguniform(\"subsample\", 0.01, 1.0)\n",
      "\u001b[32m[I 2023-01-30 16:47:48,181]\u001b[0m Trial 106 finished with value: 0.6621621621621622 and parameters: {'max_depth': 7, 'learning_rate': 0.15057096819031499, 'n_estimators': 296, 'subsample': 0.458407707347128}. Best is trial 53 with value: 0.7403474903474904.\u001b[0m\n",
      "C:\\Users\\pemma\\AppData\\Local\\Temp\\ipykernel_7292\\120219098.py:10: FutureWarning: suggest_loguniform has been deprecated in v3.0.0. This feature will be removed in v6.0.0. See https://github.com/optuna/optuna/releases/tag/v3.0.0. Use :func:`~optuna.trial.Trial.suggest_float` instead.\n",
      "  \"learning_rate\": trial.suggest_loguniform(\"learning_rate\", 0.01, 1.0),\n",
      "C:\\Users\\pemma\\AppData\\Local\\Temp\\ipykernel_7292\\120219098.py:12: FutureWarning: suggest_loguniform has been deprecated in v3.0.0. This feature will be removed in v6.0.0. See https://github.com/optuna/optuna/releases/tag/v3.0.0. Use :func:`~optuna.trial.Trial.suggest_float` instead.\n",
      "  \"subsample\": trial.suggest_loguniform(\"subsample\", 0.01, 1.0)\n",
      "\u001b[32m[I 2023-01-30 16:47:49,249]\u001b[0m Trial 109 finished with value: 0.6935328185328185 and parameters: {'max_depth': 5, 'learning_rate': 0.17383894424153953, 'n_estimators': 291, 'subsample': 0.5813038352755434}. Best is trial 53 with value: 0.7403474903474904.\u001b[0m\n",
      "C:\\Users\\pemma\\AppData\\Local\\Temp\\ipykernel_7292\\120219098.py:10: FutureWarning: suggest_loguniform has been deprecated in v3.0.0. This feature will be removed in v6.0.0. See https://github.com/optuna/optuna/releases/tag/v3.0.0. Use :func:`~optuna.trial.Trial.suggest_float` instead.\n",
      "  \"learning_rate\": trial.suggest_loguniform(\"learning_rate\", 0.01, 1.0),\n",
      "C:\\Users\\pemma\\AppData\\Local\\Temp\\ipykernel_7292\\120219098.py:12: FutureWarning: suggest_loguniform has been deprecated in v3.0.0. This feature will be removed in v6.0.0. See https://github.com/optuna/optuna/releases/tag/v3.0.0. Use :func:`~optuna.trial.Trial.suggest_float` instead.\n",
      "  \"subsample\": trial.suggest_loguniform(\"subsample\", 0.01, 1.0)\n",
      "\u001b[32m[I 2023-01-30 16:47:57,687]\u001b[0m Trial 110 finished with value: 0.7157335907335907 and parameters: {'max_depth': 5, 'learning_rate': 0.18778736431032025, 'n_estimators': 302, 'subsample': 0.6104829170192815}. Best is trial 53 with value: 0.7403474903474904.\u001b[0m\n",
      "C:\\Users\\pemma\\AppData\\Local\\Temp\\ipykernel_7292\\120219098.py:10: FutureWarning: suggest_loguniform has been deprecated in v3.0.0. This feature will be removed in v6.0.0. See https://github.com/optuna/optuna/releases/tag/v3.0.0. Use :func:`~optuna.trial.Trial.suggest_float` instead.\n",
      "  \"learning_rate\": trial.suggest_loguniform(\"learning_rate\", 0.01, 1.0),\n",
      "C:\\Users\\pemma\\AppData\\Local\\Temp\\ipykernel_7292\\120219098.py:12: FutureWarning: suggest_loguniform has been deprecated in v3.0.0. This feature will be removed in v6.0.0. See https://github.com/optuna/optuna/releases/tag/v3.0.0. Use :func:`~optuna.trial.Trial.suggest_float` instead.\n",
      "  \"subsample\": trial.suggest_loguniform(\"subsample\", 0.01, 1.0)\n",
      "\u001b[32m[I 2023-01-30 16:48:05,923]\u001b[0m Trial 114 finished with value: 0.6935328185328185 and parameters: {'max_depth': 3, 'learning_rate': 0.0787361550262869, 'n_estimators': 305, 'subsample': 0.6007195039204469}. Best is trial 53 with value: 0.7403474903474904.\u001b[0m\n",
      "C:\\Users\\pemma\\AppData\\Local\\Temp\\ipykernel_7292\\120219098.py:10: FutureWarning: suggest_loguniform has been deprecated in v3.0.0. This feature will be removed in v6.0.0. See https://github.com/optuna/optuna/releases/tag/v3.0.0. Use :func:`~optuna.trial.Trial.suggest_float` instead.\n",
      "  \"learning_rate\": trial.suggest_loguniform(\"learning_rate\", 0.01, 1.0),\n",
      "C:\\Users\\pemma\\AppData\\Local\\Temp\\ipykernel_7292\\120219098.py:12: FutureWarning: suggest_loguniform has been deprecated in v3.0.0. This feature will be removed in v6.0.0. See https://github.com/optuna/optuna/releases/tag/v3.0.0. Use :func:`~optuna.trial.Trial.suggest_float` instead.\n",
      "  \"subsample\": trial.suggest_loguniform(\"subsample\", 0.01, 1.0)\n",
      "\u001b[32m[I 2023-01-30 16:48:06,968]\u001b[0m Trial 112 finished with value: 0.7113899613899614 and parameters: {'max_depth': 5, 'learning_rate': 0.18742563116295083, 'n_estimators': 284, 'subsample': 0.6119976739731441}. Best is trial 53 with value: 0.7403474903474904.\u001b[0m\n",
      "C:\\Users\\pemma\\AppData\\Local\\Temp\\ipykernel_7292\\120219098.py:10: FutureWarning: suggest_loguniform has been deprecated in v3.0.0. This feature will be removed in v6.0.0. See https://github.com/optuna/optuna/releases/tag/v3.0.0. Use :func:`~optuna.trial.Trial.suggest_float` instead.\n",
      "  \"learning_rate\": trial.suggest_loguniform(\"learning_rate\", 0.01, 1.0),\n",
      "C:\\Users\\pemma\\AppData\\Local\\Temp\\ipykernel_7292\\120219098.py:12: FutureWarning: suggest_loguniform has been deprecated in v3.0.0. This feature will be removed in v6.0.0. See https://github.com/optuna/optuna/releases/tag/v3.0.0. Use :func:`~optuna.trial.Trial.suggest_float` instead.\n",
      "  \"subsample\": trial.suggest_loguniform(\"subsample\", 0.01, 1.0)\n",
      "\u001b[32m[I 2023-01-30 16:48:07,884]\u001b[0m Trial 116 finished with value: 0.6510617760617761 and parameters: {'max_depth': 3, 'learning_rate': 0.1895515462952804, 'n_estimators': 305, 'subsample': 0.6340124431804856}. Best is trial 53 with value: 0.7403474903474904.\u001b[0m\n",
      "C:\\Users\\pemma\\AppData\\Local\\Temp\\ipykernel_7292\\120219098.py:10: FutureWarning: suggest_loguniform has been deprecated in v3.0.0. This feature will be removed in v6.0.0. See https://github.com/optuna/optuna/releases/tag/v3.0.0. Use :func:`~optuna.trial.Trial.suggest_float` instead.\n",
      "  \"learning_rate\": trial.suggest_loguniform(\"learning_rate\", 0.01, 1.0),\n",
      "C:\\Users\\pemma\\AppData\\Local\\Temp\\ipykernel_7292\\120219098.py:12: FutureWarning: suggest_loguniform has been deprecated in v3.0.0. This feature will be removed in v6.0.0. See https://github.com/optuna/optuna/releases/tag/v3.0.0. Use :func:`~optuna.trial.Trial.suggest_float` instead.\n",
      "  \"subsample\": trial.suggest_loguniform(\"subsample\", 0.01, 1.0)\n",
      "\u001b[32m[I 2023-01-30 16:48:12,654]\u001b[0m Trial 115 finished with value: 0.6800193050193051 and parameters: {'max_depth': 4, 'learning_rate': 0.08211803952619548, 'n_estimators': 285, 'subsample': 0.5786647845947575}. Best is trial 53 with value: 0.7403474903474904.\u001b[0m\n",
      "C:\\Users\\pemma\\AppData\\Local\\Temp\\ipykernel_7292\\120219098.py:10: FutureWarning: suggest_loguniform has been deprecated in v3.0.0. This feature will be removed in v6.0.0. See https://github.com/optuna/optuna/releases/tag/v3.0.0. Use :func:`~optuna.trial.Trial.suggest_float` instead.\n",
      "  \"learning_rate\": trial.suggest_loguniform(\"learning_rate\", 0.01, 1.0),\n",
      "C:\\Users\\pemma\\AppData\\Local\\Temp\\ipykernel_7292\\120219098.py:12: FutureWarning: suggest_loguniform has been deprecated in v3.0.0. This feature will be removed in v6.0.0. See https://github.com/optuna/optuna/releases/tag/v3.0.0. Use :func:`~optuna.trial.Trial.suggest_float` instead.\n",
      "  \"subsample\": trial.suggest_loguniform(\"subsample\", 0.01, 1.0)\n",
      "\u001b[32m[I 2023-01-30 16:48:13,567]\u001b[0m Trial 111 finished with value: 0.7224903474903475 and parameters: {'max_depth': 5, 'learning_rate': 0.08032567606740561, 'n_estimators': 286, 'subsample': 0.5931016188621095}. Best is trial 53 with value: 0.7403474903474904.\u001b[0m\n",
      "C:\\Users\\pemma\\AppData\\Local\\Temp\\ipykernel_7292\\120219098.py:10: FutureWarning: suggest_loguniform has been deprecated in v3.0.0. This feature will be removed in v6.0.0. See https://github.com/optuna/optuna/releases/tag/v3.0.0. Use :func:`~optuna.trial.Trial.suggest_float` instead.\n",
      "  \"learning_rate\": trial.suggest_loguniform(\"learning_rate\", 0.01, 1.0),\n",
      "C:\\Users\\pemma\\AppData\\Local\\Temp\\ipykernel_7292\\120219098.py:12: FutureWarning: suggest_loguniform has been deprecated in v3.0.0. This feature will be removed in v6.0.0. See https://github.com/optuna/optuna/releases/tag/v3.0.0. Use :func:`~optuna.trial.Trial.suggest_float` instead.\n",
      "  \"subsample\": trial.suggest_loguniform(\"subsample\", 0.01, 1.0)\n",
      "\u001b[32m[I 2023-01-30 16:48:23,199]\u001b[0m Trial 117 finished with value: 0.7046332046332047 and parameters: {'max_depth': 4, 'learning_rate': 0.08465535975300403, 'n_estimators': 286, 'subsample': 0.819061430620732}. Best is trial 53 with value: 0.7403474903474904.\u001b[0m\n",
      "C:\\Users\\pemma\\AppData\\Local\\Temp\\ipykernel_7292\\120219098.py:10: FutureWarning: suggest_loguniform has been deprecated in v3.0.0. This feature will be removed in v6.0.0. See https://github.com/optuna/optuna/releases/tag/v3.0.0. Use :func:`~optuna.trial.Trial.suggest_float` instead.\n",
      "  \"learning_rate\": trial.suggest_loguniform(\"learning_rate\", 0.01, 1.0),\n",
      "C:\\Users\\pemma\\AppData\\Local\\Temp\\ipykernel_7292\\120219098.py:12: FutureWarning: suggest_loguniform has been deprecated in v3.0.0. This feature will be removed in v6.0.0. See https://github.com/optuna/optuna/releases/tag/v3.0.0. Use :func:`~optuna.trial.Trial.suggest_float` instead.\n",
      "  \"subsample\": trial.suggest_loguniform(\"subsample\", 0.01, 1.0)\n",
      "\u001b[32m[I 2023-01-30 16:48:25,112]\u001b[0m Trial 118 finished with value: 0.7046332046332047 and parameters: {'max_depth': 4, 'learning_rate': 0.196905794498057, 'n_estimators': 282, 'subsample': 0.7963584190743979}. Best is trial 53 with value: 0.7403474903474904.\u001b[0m\n",
      "C:\\Users\\pemma\\AppData\\Local\\Temp\\ipykernel_7292\\120219098.py:10: FutureWarning: suggest_loguniform has been deprecated in v3.0.0. This feature will be removed in v6.0.0. See https://github.com/optuna/optuna/releases/tag/v3.0.0. Use :func:`~optuna.trial.Trial.suggest_float` instead.\n",
      "  \"learning_rate\": trial.suggest_loguniform(\"learning_rate\", 0.01, 1.0),\n",
      "C:\\Users\\pemma\\AppData\\Local\\Temp\\ipykernel_7292\\120219098.py:12: FutureWarning: suggest_loguniform has been deprecated in v3.0.0. This feature will be removed in v6.0.0. See https://github.com/optuna/optuna/releases/tag/v3.0.0. Use :func:`~optuna.trial.Trial.suggest_float` instead.\n",
      "  \"subsample\": trial.suggest_loguniform(\"subsample\", 0.01, 1.0)\n",
      "\u001b[32m[I 2023-01-30 16:48:26,730]\u001b[0m Trial 113 finished with value: 0.6978764478764479 and parameters: {'max_depth': 5, 'learning_rate': 0.07842497911453053, 'n_estimators': 479, 'subsample': 0.5875524117121889}. Best is trial 53 with value: 0.7403474903474904.\u001b[0m\n",
      "C:\\Users\\pemma\\AppData\\Local\\Temp\\ipykernel_7292\\120219098.py:10: FutureWarning: suggest_loguniform has been deprecated in v3.0.0. This feature will be removed in v6.0.0. See https://github.com/optuna/optuna/releases/tag/v3.0.0. Use :func:`~optuna.trial.Trial.suggest_float` instead.\n",
      "  \"learning_rate\": trial.suggest_loguniform(\"learning_rate\", 0.01, 1.0),\n",
      "C:\\Users\\pemma\\AppData\\Local\\Temp\\ipykernel_7292\\120219098.py:12: FutureWarning: suggest_loguniform has been deprecated in v3.0.0. This feature will be removed in v6.0.0. See https://github.com/optuna/optuna/releases/tag/v3.0.0. Use :func:`~optuna.trial.Trial.suggest_float` instead.\n",
      "  \"subsample\": trial.suggest_loguniform(\"subsample\", 0.01, 1.0)\n",
      "\u001b[32m[I 2023-01-30 16:48:33,979]\u001b[0m Trial 119 finished with value: 0.6911196911196911 and parameters: {'max_depth': 4, 'learning_rate': 0.12254426687982956, 'n_estimators': 370, 'subsample': 0.794146113186917}. Best is trial 53 with value: 0.7403474903474904.\u001b[0m\n",
      "C:\\Users\\pemma\\AppData\\Local\\Temp\\ipykernel_7292\\120219098.py:10: FutureWarning: suggest_loguniform has been deprecated in v3.0.0. This feature will be removed in v6.0.0. See https://github.com/optuna/optuna/releases/tag/v3.0.0. Use :func:`~optuna.trial.Trial.suggest_float` instead.\n",
      "  \"learning_rate\": trial.suggest_loguniform(\"learning_rate\", 0.01, 1.0),\n",
      "C:\\Users\\pemma\\AppData\\Local\\Temp\\ipykernel_7292\\120219098.py:12: FutureWarning: suggest_loguniform has been deprecated in v3.0.0. This feature will be removed in v6.0.0. See https://github.com/optuna/optuna/releases/tag/v3.0.0. Use :func:`~optuna.trial.Trial.suggest_float` instead.\n",
      "  \"subsample\": trial.suggest_loguniform(\"subsample\", 0.01, 1.0)\n",
      "\u001b[32m[I 2023-01-30 16:48:38,991]\u001b[0m Trial 122 finished with value: 0.7224903474903475 and parameters: {'max_depth': 5, 'learning_rate': 0.11683760135415414, 'n_estimators': 319, 'subsample': 0.8121903929428647}. Best is trial 53 with value: 0.7403474903474904.\u001b[0m\n",
      "C:\\Users\\pemma\\AppData\\Local\\Temp\\ipykernel_7292\\120219098.py:10: FutureWarning: suggest_loguniform has been deprecated in v3.0.0. This feature will be removed in v6.0.0. See https://github.com/optuna/optuna/releases/tag/v3.0.0. Use :func:`~optuna.trial.Trial.suggest_float` instead.\n",
      "  \"learning_rate\": trial.suggest_loguniform(\"learning_rate\", 0.01, 1.0),\n",
      "C:\\Users\\pemma\\AppData\\Local\\Temp\\ipykernel_7292\\120219098.py:12: FutureWarning: suggest_loguniform has been deprecated in v3.0.0. This feature will be removed in v6.0.0. See https://github.com/optuna/optuna/releases/tag/v3.0.0. Use :func:`~optuna.trial.Trial.suggest_float` instead.\n",
      "  \"subsample\": trial.suggest_loguniform(\"subsample\", 0.01, 1.0)\n",
      "\u001b[32m[I 2023-01-30 16:48:41,118]\u001b[0m Trial 120 finished with value: 0.6978764478764479 and parameters: {'max_depth': 4, 'learning_rate': 0.09000431636668357, 'n_estimators': 483, 'subsample': 0.5024534279330684}. Best is trial 53 with value: 0.7403474903474904.\u001b[0m\n",
      "C:\\Users\\pemma\\AppData\\Local\\Temp\\ipykernel_7292\\120219098.py:10: FutureWarning: suggest_loguniform has been deprecated in v3.0.0. This feature will be removed in v6.0.0. See https://github.com/optuna/optuna/releases/tag/v3.0.0. Use :func:`~optuna.trial.Trial.suggest_float` instead.\n",
      "  \"learning_rate\": trial.suggest_loguniform(\"learning_rate\", 0.01, 1.0),\n",
      "C:\\Users\\pemma\\AppData\\Local\\Temp\\ipykernel_7292\\120219098.py:12: FutureWarning: suggest_loguniform has been deprecated in v3.0.0. This feature will be removed in v6.0.0. See https://github.com/optuna/optuna/releases/tag/v3.0.0. Use :func:`~optuna.trial.Trial.suggest_float` instead.\n",
      "  \"subsample\": trial.suggest_loguniform(\"subsample\", 0.01, 1.0)\n",
      "\u001b[32m[I 2023-01-30 16:48:43,067]\u001b[0m Trial 121 finished with value: 0.6978764478764479 and parameters: {'max_depth': 4, 'learning_rate': 0.12035359169417055, 'n_estimators': 478, 'subsample': 0.7786091785835753}. Best is trial 53 with value: 0.7403474903474904.\u001b[0m\n",
      "C:\\Users\\pemma\\AppData\\Local\\Temp\\ipykernel_7292\\120219098.py:10: FutureWarning: suggest_loguniform has been deprecated in v3.0.0. This feature will be removed in v6.0.0. See https://github.com/optuna/optuna/releases/tag/v3.0.0. Use :func:`~optuna.trial.Trial.suggest_float` instead.\n",
      "  \"learning_rate\": trial.suggest_loguniform(\"learning_rate\", 0.01, 1.0),\n",
      "C:\\Users\\pemma\\AppData\\Local\\Temp\\ipykernel_7292\\120219098.py:12: FutureWarning: suggest_loguniform has been deprecated in v3.0.0. This feature will be removed in v6.0.0. See https://github.com/optuna/optuna/releases/tag/v3.0.0. Use :func:`~optuna.trial.Trial.suggest_float` instead.\n",
      "  \"subsample\": trial.suggest_loguniform(\"subsample\", 0.01, 1.0)\n",
      "\u001b[32m[I 2023-01-30 16:48:48,489]\u001b[0m Trial 124 finished with value: 0.7292471042471043 and parameters: {'max_depth': 5, 'learning_rate': 0.0928141713449165, 'n_estimators': 326, 'subsample': 0.5028898177000946}. Best is trial 53 with value: 0.7403474903474904.\u001b[0m\n",
      "C:\\Users\\pemma\\AppData\\Local\\Temp\\ipykernel_7292\\120219098.py:10: FutureWarning: suggest_loguniform has been deprecated in v3.0.0. This feature will be removed in v6.0.0. See https://github.com/optuna/optuna/releases/tag/v3.0.0. Use :func:`~optuna.trial.Trial.suggest_float` instead.\n",
      "  \"learning_rate\": trial.suggest_loguniform(\"learning_rate\", 0.01, 1.0),\n",
      "C:\\Users\\pemma\\AppData\\Local\\Temp\\ipykernel_7292\\120219098.py:12: FutureWarning: suggest_loguniform has been deprecated in v3.0.0. This feature will be removed in v6.0.0. See https://github.com/optuna/optuna/releases/tag/v3.0.0. Use :func:`~optuna.trial.Trial.suggest_float` instead.\n",
      "  \"subsample\": trial.suggest_loguniform(\"subsample\", 0.01, 1.0)\n",
      "\u001b[32m[I 2023-01-30 16:48:51,391]\u001b[0m Trial 125 finished with value: 0.7292471042471043 and parameters: {'max_depth': 5, 'learning_rate': 0.11890840396365146, 'n_estimators': 375, 'subsample': 0.48935821529232143}. Best is trial 53 with value: 0.7403474903474904.\u001b[0m\n",
      "C:\\Users\\pemma\\AppData\\Local\\Temp\\ipykernel_7292\\120219098.py:10: FutureWarning: suggest_loguniform has been deprecated in v3.0.0. This feature will be removed in v6.0.0. See https://github.com/optuna/optuna/releases/tag/v3.0.0. Use :func:`~optuna.trial.Trial.suggest_float` instead.\n",
      "  \"learning_rate\": trial.suggest_loguniform(\"learning_rate\", 0.01, 1.0),\n",
      "C:\\Users\\pemma\\AppData\\Local\\Temp\\ipykernel_7292\\120219098.py:12: FutureWarning: suggest_loguniform has been deprecated in v3.0.0. This feature will be removed in v6.0.0. See https://github.com/optuna/optuna/releases/tag/v3.0.0. Use :func:`~optuna.trial.Trial.suggest_float` instead.\n",
      "  \"subsample\": trial.suggest_loguniform(\"subsample\", 0.01, 1.0)\n",
      "\u001b[32m[I 2023-01-30 16:48:52,902]\u001b[0m Trial 123 finished with value: 0.7002895752895753 and parameters: {'max_depth': 5, 'learning_rate': 0.11033201135248302, 'n_estimators': 479, 'subsample': 0.5091276912075408}. Best is trial 53 with value: 0.7403474903474904.\u001b[0m\n",
      "C:\\Users\\pemma\\AppData\\Local\\Temp\\ipykernel_7292\\120219098.py:10: FutureWarning: suggest_loguniform has been deprecated in v3.0.0. This feature will be removed in v6.0.0. See https://github.com/optuna/optuna/releases/tag/v3.0.0. Use :func:`~optuna.trial.Trial.suggest_float` instead.\n",
      "  \"learning_rate\": trial.suggest_loguniform(\"learning_rate\", 0.01, 1.0),\n",
      "C:\\Users\\pemma\\AppData\\Local\\Temp\\ipykernel_7292\\120219098.py:12: FutureWarning: suggest_loguniform has been deprecated in v3.0.0. This feature will be removed in v6.0.0. See https://github.com/optuna/optuna/releases/tag/v3.0.0. Use :func:`~optuna.trial.Trial.suggest_float` instead.\n",
      "  \"subsample\": trial.suggest_loguniform(\"subsample\", 0.01, 1.0)\n",
      "\u001b[32m[I 2023-01-30 16:48:55,846]\u001b[0m Trial 126 finished with value: 0.7292471042471043 and parameters: {'max_depth': 5, 'learning_rate': 0.11642908096304919, 'n_estimators': 327, 'subsample': 0.5120736728141134}. Best is trial 53 with value: 0.7403474903474904.\u001b[0m\n",
      "C:\\Users\\pemma\\AppData\\Local\\Temp\\ipykernel_7292\\120219098.py:10: FutureWarning: suggest_loguniform has been deprecated in v3.0.0. This feature will be removed in v6.0.0. See https://github.com/optuna/optuna/releases/tag/v3.0.0. Use :func:`~optuna.trial.Trial.suggest_float` instead.\n",
      "  \"learning_rate\": trial.suggest_loguniform(\"learning_rate\", 0.01, 1.0),\n",
      "C:\\Users\\pemma\\AppData\\Local\\Temp\\ipykernel_7292\\120219098.py:12: FutureWarning: suggest_loguniform has been deprecated in v3.0.0. This feature will be removed in v6.0.0. See https://github.com/optuna/optuna/releases/tag/v3.0.0. Use :func:`~optuna.trial.Trial.suggest_float` instead.\n",
      "  \"subsample\": trial.suggest_loguniform(\"subsample\", 0.01, 1.0)\n",
      "\u001b[32m[I 2023-01-30 16:48:57,068]\u001b[0m Trial 127 finished with value: 0.7046332046332047 and parameters: {'max_depth': 5, 'learning_rate': 0.3214909082737413, 'n_estimators': 429, 'subsample': 0.9019364030118098}. Best is trial 53 with value: 0.7403474903474904.\u001b[0m\n",
      "C:\\Users\\pemma\\AppData\\Local\\Temp\\ipykernel_7292\\120219098.py:10: FutureWarning: suggest_loguniform has been deprecated in v3.0.0. This feature will be removed in v6.0.0. See https://github.com/optuna/optuna/releases/tag/v3.0.0. Use :func:`~optuna.trial.Trial.suggest_float` instead.\n",
      "  \"learning_rate\": trial.suggest_loguniform(\"learning_rate\", 0.01, 1.0),\n",
      "C:\\Users\\pemma\\AppData\\Local\\Temp\\ipykernel_7292\\120219098.py:12: FutureWarning: suggest_loguniform has been deprecated in v3.0.0. This feature will be removed in v6.0.0. See https://github.com/optuna/optuna/releases/tag/v3.0.0. Use :func:`~optuna.trial.Trial.suggest_float` instead.\n",
      "  \"subsample\": trial.suggest_loguniform(\"subsample\", 0.01, 1.0)\n",
      "\u001b[32m[I 2023-01-30 16:48:57,912]\u001b[0m Trial 128 finished with value: 0.6867760617760618 and parameters: {'max_depth': 5, 'learning_rate': 0.30325304620025123, 'n_estimators': 390, 'subsample': 0.9135287326377615}. Best is trial 53 with value: 0.7403474903474904.\u001b[0m\n",
      "C:\\Users\\pemma\\AppData\\Local\\Temp\\ipykernel_7292\\120219098.py:10: FutureWarning: suggest_loguniform has been deprecated in v3.0.0. This feature will be removed in v6.0.0. See https://github.com/optuna/optuna/releases/tag/v3.0.0. Use :func:`~optuna.trial.Trial.suggest_float` instead.\n",
      "  \"learning_rate\": trial.suggest_loguniform(\"learning_rate\", 0.01, 1.0),\n",
      "C:\\Users\\pemma\\AppData\\Local\\Temp\\ipykernel_7292\\120219098.py:12: FutureWarning: suggest_loguniform has been deprecated in v3.0.0. This feature will be removed in v6.0.0. See https://github.com/optuna/optuna/releases/tag/v3.0.0. Use :func:`~optuna.trial.Trial.suggest_float` instead.\n",
      "  \"subsample\": trial.suggest_loguniform(\"subsample\", 0.01, 1.0)\n",
      "\u001b[32m[I 2023-01-30 16:48:58,119]\u001b[0m Trial 129 finished with value: 0.7046332046332047 and parameters: {'max_depth': 5, 'learning_rate': 0.2983055113597426, 'n_estimators': 327, 'subsample': 0.9917031228964847}. Best is trial 53 with value: 0.7403474903474904.\u001b[0m\n",
      "C:\\Users\\pemma\\AppData\\Local\\Temp\\ipykernel_7292\\120219098.py:10: FutureWarning: suggest_loguniform has been deprecated in v3.0.0. This feature will be removed in v6.0.0. See https://github.com/optuna/optuna/releases/tag/v3.0.0. Use :func:`~optuna.trial.Trial.suggest_float` instead.\n",
      "  \"learning_rate\": trial.suggest_loguniform(\"learning_rate\", 0.01, 1.0),\n",
      "C:\\Users\\pemma\\AppData\\Local\\Temp\\ipykernel_7292\\120219098.py:12: FutureWarning: suggest_loguniform has been deprecated in v3.0.0. This feature will be removed in v6.0.0. See https://github.com/optuna/optuna/releases/tag/v3.0.0. Use :func:`~optuna.trial.Trial.suggest_float` instead.\n",
      "  \"subsample\": trial.suggest_loguniform(\"subsample\", 0.01, 1.0)\n",
      "\u001b[32m[I 2023-01-30 16:49:07,283]\u001b[0m Trial 130 finished with value: 0.6867760617760618 and parameters: {'max_depth': 5, 'learning_rate': 0.106387241032503, 'n_estimators': 330, 'subsample': 0.42768590047214805}. Best is trial 53 with value: 0.7403474903474904.\u001b[0m\n",
      "C:\\Users\\pemma\\AppData\\Local\\Temp\\ipykernel_7292\\120219098.py:10: FutureWarning: suggest_loguniform has been deprecated in v3.0.0. This feature will be removed in v6.0.0. See https://github.com/optuna/optuna/releases/tag/v3.0.0. Use :func:`~optuna.trial.Trial.suggest_float` instead.\n",
      "  \"learning_rate\": trial.suggest_loguniform(\"learning_rate\", 0.01, 1.0),\n",
      "C:\\Users\\pemma\\AppData\\Local\\Temp\\ipykernel_7292\\120219098.py:12: FutureWarning: suggest_loguniform has been deprecated in v3.0.0. This feature will be removed in v6.0.0. See https://github.com/optuna/optuna/releases/tag/v3.0.0. Use :func:`~optuna.trial.Trial.suggest_float` instead.\n",
      "  \"subsample\": trial.suggest_loguniform(\"subsample\", 0.01, 1.0)\n",
      "\u001b[32m[I 2023-01-30 16:49:11,773]\u001b[0m Trial 131 finished with value: 0.7113899613899614 and parameters: {'max_depth': 5, 'learning_rate': 0.0969761360284639, 'n_estimators': 329, 'subsample': 0.4225308052070792}. Best is trial 53 with value: 0.7403474903474904.\u001b[0m\n",
      "C:\\Users\\pemma\\AppData\\Local\\Temp\\ipykernel_7292\\120219098.py:10: FutureWarning: suggest_loguniform has been deprecated in v3.0.0. This feature will be removed in v6.0.0. See https://github.com/optuna/optuna/releases/tag/v3.0.0. Use :func:`~optuna.trial.Trial.suggest_float` instead.\n",
      "  \"learning_rate\": trial.suggest_loguniform(\"learning_rate\", 0.01, 1.0),\n",
      "C:\\Users\\pemma\\AppData\\Local\\Temp\\ipykernel_7292\\120219098.py:12: FutureWarning: suggest_loguniform has been deprecated in v3.0.0. This feature will be removed in v6.0.0. See https://github.com/optuna/optuna/releases/tag/v3.0.0. Use :func:`~optuna.trial.Trial.suggest_float` instead.\n",
      "  \"subsample\": trial.suggest_loguniform(\"subsample\", 0.01, 1.0)\n",
      "\u001b[32m[I 2023-01-30 16:49:13,198]\u001b[0m Trial 132 finished with value: 0.6621621621621622 and parameters: {'max_depth': 5, 'learning_rate': 0.09574048568143677, 'n_estimators': 328, 'subsample': 0.4261156667931935}. Best is trial 53 with value: 0.7403474903474904.\u001b[0m\n",
      "C:\\Users\\pemma\\AppData\\Local\\Temp\\ipykernel_7292\\120219098.py:10: FutureWarning: suggest_loguniform has been deprecated in v3.0.0. This feature will be removed in v6.0.0. See https://github.com/optuna/optuna/releases/tag/v3.0.0. Use :func:`~optuna.trial.Trial.suggest_float` instead.\n",
      "  \"learning_rate\": trial.suggest_loguniform(\"learning_rate\", 0.01, 1.0),\n",
      "C:\\Users\\pemma\\AppData\\Local\\Temp\\ipykernel_7292\\120219098.py:12: FutureWarning: suggest_loguniform has been deprecated in v3.0.0. This feature will be removed in v6.0.0. See https://github.com/optuna/optuna/releases/tag/v3.0.0. Use :func:`~optuna.trial.Trial.suggest_float` instead.\n",
      "  \"subsample\": trial.suggest_loguniform(\"subsample\", 0.01, 1.0)\n",
      "\u001b[32m[I 2023-01-30 16:49:16,915]\u001b[0m Trial 133 finished with value: 0.6978764478764479 and parameters: {'max_depth': 5, 'learning_rate': 0.09359499292009664, 'n_estimators': 344, 'subsample': 0.42955157769781666}. Best is trial 53 with value: 0.7403474903474904.\u001b[0m\n",
      "C:\\Users\\pemma\\AppData\\Local\\Temp\\ipykernel_7292\\120219098.py:10: FutureWarning: suggest_loguniform has been deprecated in v3.0.0. This feature will be removed in v6.0.0. See https://github.com/optuna/optuna/releases/tag/v3.0.0. Use :func:`~optuna.trial.Trial.suggest_float` instead.\n",
      "  \"learning_rate\": trial.suggest_loguniform(\"learning_rate\", 0.01, 1.0),\n",
      "C:\\Users\\pemma\\AppData\\Local\\Temp\\ipykernel_7292\\120219098.py:12: FutureWarning: suggest_loguniform has been deprecated in v3.0.0. This feature will be removed in v6.0.0. See https://github.com/optuna/optuna/releases/tag/v3.0.0. Use :func:`~optuna.trial.Trial.suggest_float` instead.\n",
      "  \"subsample\": trial.suggest_loguniform(\"subsample\", 0.01, 1.0)\n",
      "\u001b[32m[I 2023-01-30 16:49:17,749]\u001b[0m Trial 134 finished with value: 0.6867760617760618 and parameters: {'max_depth': 5, 'learning_rate': 0.0927928735283133, 'n_estimators': 338, 'subsample': 0.41003186519225154}. Best is trial 53 with value: 0.7403474903474904.\u001b[0m\n",
      "C:\\Users\\pemma\\AppData\\Local\\Temp\\ipykernel_7292\\120219098.py:10: FutureWarning: suggest_loguniform has been deprecated in v3.0.0. This feature will be removed in v6.0.0. See https://github.com/optuna/optuna/releases/tag/v3.0.0. Use :func:`~optuna.trial.Trial.suggest_float` instead.\n",
      "  \"learning_rate\": trial.suggest_loguniform(\"learning_rate\", 0.01, 1.0),\n",
      "C:\\Users\\pemma\\AppData\\Local\\Temp\\ipykernel_7292\\120219098.py:12: FutureWarning: suggest_loguniform has been deprecated in v3.0.0. This feature will be removed in v6.0.0. See https://github.com/optuna/optuna/releases/tag/v3.0.0. Use :func:`~optuna.trial.Trial.suggest_float` instead.\n",
      "  \"subsample\": trial.suggest_loguniform(\"subsample\", 0.01, 1.0)\n",
      "\u001b[32m[I 2023-01-30 16:49:19,731]\u001b[0m Trial 136 finished with value: 0.6800193050193051 and parameters: {'max_depth': 6, 'learning_rate': 0.0953233085260613, 'n_estimators': 344, 'subsample': 0.41818904139294577}. Best is trial 53 with value: 0.7403474903474904.\u001b[0m\n",
      "C:\\Users\\pemma\\AppData\\Local\\Temp\\ipykernel_7292\\120219098.py:10: FutureWarning: suggest_loguniform has been deprecated in v3.0.0. This feature will be removed in v6.0.0. See https://github.com/optuna/optuna/releases/tag/v3.0.0. Use :func:`~optuna.trial.Trial.suggest_float` instead.\n",
      "  \"learning_rate\": trial.suggest_loguniform(\"learning_rate\", 0.01, 1.0),\n",
      "C:\\Users\\pemma\\AppData\\Local\\Temp\\ipykernel_7292\\120219098.py:12: FutureWarning: suggest_loguniform has been deprecated in v3.0.0. This feature will be removed in v6.0.0. See https://github.com/optuna/optuna/releases/tag/v3.0.0. Use :func:`~optuna.trial.Trial.suggest_float` instead.\n",
      "  \"subsample\": trial.suggest_loguniform(\"subsample\", 0.01, 1.0)\n",
      "\u001b[32m[I 2023-01-30 16:49:21,025]\u001b[0m Trial 135 finished with value: 0.7157335907335907 and parameters: {'max_depth': 6, 'learning_rate': 0.07029198605151347, 'n_estimators': 327, 'subsample': 0.4380777776159843}. Best is trial 53 with value: 0.7403474903474904.\u001b[0m\n",
      "C:\\Users\\pemma\\AppData\\Local\\Temp\\ipykernel_7292\\120219098.py:10: FutureWarning: suggest_loguniform has been deprecated in v3.0.0. This feature will be removed in v6.0.0. See https://github.com/optuna/optuna/releases/tag/v3.0.0. Use :func:`~optuna.trial.Trial.suggest_float` instead.\n",
      "  \"learning_rate\": trial.suggest_loguniform(\"learning_rate\", 0.01, 1.0),\n",
      "C:\\Users\\pemma\\AppData\\Local\\Temp\\ipykernel_7292\\120219098.py:12: FutureWarning: suggest_loguniform has been deprecated in v3.0.0. This feature will be removed in v6.0.0. See https://github.com/optuna/optuna/releases/tag/v3.0.0. Use :func:`~optuna.trial.Trial.suggest_float` instead.\n",
      "  \"subsample\": trial.suggest_loguniform(\"subsample\", 0.01, 1.0)\n",
      "\u001b[32m[I 2023-01-30 16:49:26,230]\u001b[0m Trial 137 finished with value: 0.7046332046332047 and parameters: {'max_depth': 5, 'learning_rate': 0.09594577859775504, 'n_estimators': 344, 'subsample': 0.35461109234497223}. Best is trial 53 with value: 0.7403474903474904.\u001b[0m\n",
      "C:\\Users\\pemma\\AppData\\Local\\Temp\\ipykernel_7292\\120219098.py:10: FutureWarning: suggest_loguniform has been deprecated in v3.0.0. This feature will be removed in v6.0.0. See https://github.com/optuna/optuna/releases/tag/v3.0.0. Use :func:`~optuna.trial.Trial.suggest_float` instead.\n",
      "  \"learning_rate\": trial.suggest_loguniform(\"learning_rate\", 0.01, 1.0),\n",
      "C:\\Users\\pemma\\AppData\\Local\\Temp\\ipykernel_7292\\120219098.py:12: FutureWarning: suggest_loguniform has been deprecated in v3.0.0. This feature will be removed in v6.0.0. See https://github.com/optuna/optuna/releases/tag/v3.0.0. Use :func:`~optuna.trial.Trial.suggest_float` instead.\n",
      "  \"subsample\": trial.suggest_loguniform(\"subsample\", 0.01, 1.0)\n",
      "\u001b[32m[I 2023-01-30 16:49:33,083]\u001b[0m Trial 139 finished with value: 0.6800193050193051 and parameters: {'max_depth': 6, 'learning_rate': 0.1208723530193996, 'n_estimators': 346, 'subsample': 0.4791597337874503}. Best is trial 53 with value: 0.7403474903474904.\u001b[0m\n",
      "C:\\Users\\pemma\\AppData\\Local\\Temp\\ipykernel_7292\\120219098.py:10: FutureWarning: suggest_loguniform has been deprecated in v3.0.0. This feature will be removed in v6.0.0. See https://github.com/optuna/optuna/releases/tag/v3.0.0. Use :func:`~optuna.trial.Trial.suggest_float` instead.\n",
      "  \"learning_rate\": trial.suggest_loguniform(\"learning_rate\", 0.01, 1.0),\n",
      "C:\\Users\\pemma\\AppData\\Local\\Temp\\ipykernel_7292\\120219098.py:12: FutureWarning: suggest_loguniform has been deprecated in v3.0.0. This feature will be removed in v6.0.0. See https://github.com/optuna/optuna/releases/tag/v3.0.0. Use :func:`~optuna.trial.Trial.suggest_float` instead.\n",
      "  \"subsample\": trial.suggest_loguniform(\"subsample\", 0.01, 1.0)\n",
      "\u001b[32m[I 2023-01-30 16:49:33,874]\u001b[0m Trial 138 finished with value: 0.7046332046332047 and parameters: {'max_depth': 5, 'learning_rate': 0.06818896618345163, 'n_estimators': 343, 'subsample': 0.3450534806220487}. Best is trial 53 with value: 0.7403474903474904.\u001b[0m\n",
      "C:\\Users\\pemma\\AppData\\Local\\Temp\\ipykernel_7292\\120219098.py:10: FutureWarning: suggest_loguniform has been deprecated in v3.0.0. This feature will be removed in v6.0.0. See https://github.com/optuna/optuna/releases/tag/v3.0.0. Use :func:`~optuna.trial.Trial.suggest_float` instead.\n",
      "  \"learning_rate\": trial.suggest_loguniform(\"learning_rate\", 0.01, 1.0),\n",
      "C:\\Users\\pemma\\AppData\\Local\\Temp\\ipykernel_7292\\120219098.py:12: FutureWarning: suggest_loguniform has been deprecated in v3.0.0. This feature will be removed in v6.0.0. See https://github.com/optuna/optuna/releases/tag/v3.0.0. Use :func:`~optuna.trial.Trial.suggest_float` instead.\n",
      "  \"subsample\": trial.suggest_loguniform(\"subsample\", 0.01, 1.0)\n",
      "\u001b[32m[I 2023-01-30 16:49:35,905]\u001b[0m Trial 141 finished with value: 0.6800193050193051 and parameters: {'max_depth': 6, 'learning_rate': 0.15924578419472898, 'n_estimators': 368, 'subsample': 0.3562586084986254}. Best is trial 53 with value: 0.7403474903474904.\u001b[0m\n",
      "C:\\Users\\pemma\\AppData\\Local\\Temp\\ipykernel_7292\\120219098.py:10: FutureWarning: suggest_loguniform has been deprecated in v3.0.0. This feature will be removed in v6.0.0. See https://github.com/optuna/optuna/releases/tag/v3.0.0. Use :func:`~optuna.trial.Trial.suggest_float` instead.\n",
      "  \"learning_rate\": trial.suggest_loguniform(\"learning_rate\", 0.01, 1.0),\n",
      "C:\\Users\\pemma\\AppData\\Local\\Temp\\ipykernel_7292\\120219098.py:12: FutureWarning: suggest_loguniform has been deprecated in v3.0.0. This feature will be removed in v6.0.0. See https://github.com/optuna/optuna/releases/tag/v3.0.0. Use :func:`~optuna.trial.Trial.suggest_float` instead.\n",
      "  \"subsample\": trial.suggest_loguniform(\"subsample\", 0.01, 1.0)\n",
      "\u001b[32m[I 2023-01-30 16:49:36,572]\u001b[0m Trial 143 finished with value: 0.6689189189189189 and parameters: {'max_depth': 3, 'learning_rate': 0.1622613501129046, 'n_estimators': 381, 'subsample': 0.4890761465136243}. Best is trial 53 with value: 0.7403474903474904.\u001b[0m\n",
      "C:\\Users\\pemma\\AppData\\Local\\Temp\\ipykernel_7292\\120219098.py:10: FutureWarning: suggest_loguniform has been deprecated in v3.0.0. This feature will be removed in v6.0.0. See https://github.com/optuna/optuna/releases/tag/v3.0.0. Use :func:`~optuna.trial.Trial.suggest_float` instead.\n",
      "  \"learning_rate\": trial.suggest_loguniform(\"learning_rate\", 0.01, 1.0),\n",
      "C:\\Users\\pemma\\AppData\\Local\\Temp\\ipykernel_7292\\120219098.py:12: FutureWarning: suggest_loguniform has been deprecated in v3.0.0. This feature will be removed in v6.0.0. See https://github.com/optuna/optuna/releases/tag/v3.0.0. Use :func:`~optuna.trial.Trial.suggest_float` instead.\n",
      "  \"subsample\": trial.suggest_loguniform(\"subsample\", 0.01, 1.0)\n",
      "\u001b[32m[I 2023-01-30 16:49:37,636]\u001b[0m Trial 140 finished with value: 0.7002895752895753 and parameters: {'max_depth': 6, 'learning_rate': 0.12575766989647877, 'n_estimators': 368, 'subsample': 0.4768404111228313}. Best is trial 53 with value: 0.7403474903474904.\u001b[0m\n",
      "C:\\Users\\pemma\\AppData\\Local\\Temp\\ipykernel_7292\\120219098.py:10: FutureWarning: suggest_loguniform has been deprecated in v3.0.0. This feature will be removed in v6.0.0. See https://github.com/optuna/optuna/releases/tag/v3.0.0. Use :func:`~optuna.trial.Trial.suggest_float` instead.\n",
      "  \"learning_rate\": trial.suggest_loguniform(\"learning_rate\", 0.01, 1.0),\n",
      "C:\\Users\\pemma\\AppData\\Local\\Temp\\ipykernel_7292\\120219098.py:12: FutureWarning: suggest_loguniform has been deprecated in v3.0.0. This feature will be removed in v6.0.0. See https://github.com/optuna/optuna/releases/tag/v3.0.0. Use :func:`~optuna.trial.Trial.suggest_float` instead.\n",
      "  \"subsample\": trial.suggest_loguniform(\"subsample\", 0.01, 1.0)\n",
      "\u001b[32m[I 2023-01-30 16:49:39,113]\u001b[0m Trial 142 finished with value: 0.6978764478764479 and parameters: {'max_depth': 6, 'learning_rate': 0.15824581705355745, 'n_estimators': 397, 'subsample': 0.34276957554232385}. Best is trial 53 with value: 0.7403474903474904.\u001b[0m\n",
      "C:\\Users\\pemma\\AppData\\Local\\Temp\\ipykernel_7292\\120219098.py:10: FutureWarning: suggest_loguniform has been deprecated in v3.0.0. This feature will be removed in v6.0.0. See https://github.com/optuna/optuna/releases/tag/v3.0.0. Use :func:`~optuna.trial.Trial.suggest_float` instead.\n",
      "  \"learning_rate\": trial.suggest_loguniform(\"learning_rate\", 0.01, 1.0),\n",
      "C:\\Users\\pemma\\AppData\\Local\\Temp\\ipykernel_7292\\120219098.py:12: FutureWarning: suggest_loguniform has been deprecated in v3.0.0. This feature will be removed in v6.0.0. See https://github.com/optuna/optuna/releases/tag/v3.0.0. Use :func:`~optuna.trial.Trial.suggest_float` instead.\n",
      "  \"subsample\": trial.suggest_loguniform(\"subsample\", 0.01, 1.0)\n",
      "\u001b[32m[I 2023-01-30 16:49:44,450]\u001b[0m Trial 144 finished with value: 0.6978764478764479 and parameters: {'max_depth': 6, 'learning_rate': 0.16078552016107986, 'n_estimators': 370, 'subsample': 0.49208388937024744}. Best is trial 53 with value: 0.7403474903474904.\u001b[0m\n",
      "C:\\Users\\pemma\\AppData\\Local\\Temp\\ipykernel_7292\\120219098.py:10: FutureWarning: suggest_loguniform has been deprecated in v3.0.0. This feature will be removed in v6.0.0. See https://github.com/optuna/optuna/releases/tag/v3.0.0. Use :func:`~optuna.trial.Trial.suggest_float` instead.\n",
      "  \"learning_rate\": trial.suggest_loguniform(\"learning_rate\", 0.01, 1.0),\n",
      "C:\\Users\\pemma\\AppData\\Local\\Temp\\ipykernel_7292\\120219098.py:12: FutureWarning: suggest_loguniform has been deprecated in v3.0.0. This feature will be removed in v6.0.0. See https://github.com/optuna/optuna/releases/tag/v3.0.0. Use :func:`~optuna.trial.Trial.suggest_float` instead.\n",
      "  \"subsample\": trial.suggest_loguniform(\"subsample\", 0.01, 1.0)\n",
      "\u001b[32m[I 2023-01-30 16:49:53,444]\u001b[0m Trial 146 finished with value: 0.6867760617760618 and parameters: {'max_depth': 6, 'learning_rate': 0.15974185731219848, 'n_estimators': 369, 'subsample': 0.29849487620421844}. Best is trial 53 with value: 0.7403474903474904.\u001b[0m\n",
      "C:\\Users\\pemma\\AppData\\Local\\Temp\\ipykernel_7292\\120219098.py:10: FutureWarning: suggest_loguniform has been deprecated in v3.0.0. This feature will be removed in v6.0.0. See https://github.com/optuna/optuna/releases/tag/v3.0.0. Use :func:`~optuna.trial.Trial.suggest_float` instead.\n",
      "  \"learning_rate\": trial.suggest_loguniform(\"learning_rate\", 0.01, 1.0),\n",
      "C:\\Users\\pemma\\AppData\\Local\\Temp\\ipykernel_7292\\120219098.py:12: FutureWarning: suggest_loguniform has been deprecated in v3.0.0. This feature will be removed in v6.0.0. See https://github.com/optuna/optuna/releases/tag/v3.0.0. Use :func:`~optuna.trial.Trial.suggest_float` instead.\n",
      "  \"subsample\": trial.suggest_loguniform(\"subsample\", 0.01, 1.0)\n",
      "\u001b[32m[I 2023-01-30 16:49:54,742]\u001b[0m Trial 145 finished with value: 0.7113899613899614 and parameters: {'max_depth': 8, 'learning_rate': 0.14426786684245912, 'n_estimators': 369, 'subsample': 0.5020128630454384}. Best is trial 53 with value: 0.7403474903474904.\u001b[0m\n",
      "C:\\Users\\pemma\\AppData\\Local\\Temp\\ipykernel_7292\\120219098.py:10: FutureWarning: suggest_loguniform has been deprecated in v3.0.0. This feature will be removed in v6.0.0. See https://github.com/optuna/optuna/releases/tag/v3.0.0. Use :func:`~optuna.trial.Trial.suggest_float` instead.\n",
      "  \"learning_rate\": trial.suggest_loguniform(\"learning_rate\", 0.01, 1.0),\n",
      "C:\\Users\\pemma\\AppData\\Local\\Temp\\ipykernel_7292\\120219098.py:12: FutureWarning: suggest_loguniform has been deprecated in v3.0.0. This feature will be removed in v6.0.0. See https://github.com/optuna/optuna/releases/tag/v3.0.0. Use :func:`~optuna.trial.Trial.suggest_float` instead.\n",
      "  \"subsample\": trial.suggest_loguniform(\"subsample\", 0.01, 1.0)\n",
      "\u001b[32m[I 2023-01-30 16:49:55,180]\u001b[0m Trial 147 finished with value: 0.708976833976834 and parameters: {'max_depth': 8, 'learning_rate': 0.1675721070156663, 'n_estimators': 316, 'subsample': 0.6796068608783932}. Best is trial 53 with value: 0.7403474903474904.\u001b[0m\n",
      "C:\\Users\\pemma\\AppData\\Local\\Temp\\ipykernel_7292\\120219098.py:10: FutureWarning: suggest_loguniform has been deprecated in v3.0.0. This feature will be removed in v6.0.0. See https://github.com/optuna/optuna/releases/tag/v3.0.0. Use :func:`~optuna.trial.Trial.suggest_float` instead.\n",
      "  \"learning_rate\": trial.suggest_loguniform(\"learning_rate\", 0.01, 1.0),\n",
      "C:\\Users\\pemma\\AppData\\Local\\Temp\\ipykernel_7292\\120219098.py:12: FutureWarning: suggest_loguniform has been deprecated in v3.0.0. This feature will be removed in v6.0.0. See https://github.com/optuna/optuna/releases/tag/v3.0.0. Use :func:`~optuna.trial.Trial.suggest_float` instead.\n",
      "  \"subsample\": trial.suggest_loguniform(\"subsample\", 0.01, 1.0)\n",
      "\u001b[32m[I 2023-01-30 16:49:57,264]\u001b[0m Trial 150 finished with value: 0.6665057915057915 and parameters: {'max_depth': 5, 'learning_rate': 0.1428478628697239, 'n_estimators': 310, 'subsample': 0.30120321591294485}. Best is trial 53 with value: 0.7403474903474904.\u001b[0m\n",
      "C:\\Users\\pemma\\AppData\\Local\\Temp\\ipykernel_7292\\120219098.py:10: FutureWarning: suggest_loguniform has been deprecated in v3.0.0. This feature will be removed in v6.0.0. See https://github.com/optuna/optuna/releases/tag/v3.0.0. Use :func:`~optuna.trial.Trial.suggest_float` instead.\n",
      "  \"learning_rate\": trial.suggest_loguniform(\"learning_rate\", 0.01, 1.0),\n",
      "C:\\Users\\pemma\\AppData\\Local\\Temp\\ipykernel_7292\\120219098.py:12: FutureWarning: suggest_loguniform has been deprecated in v3.0.0. This feature will be removed in v6.0.0. See https://github.com/optuna/optuna/releases/tag/v3.0.0. Use :func:`~optuna.trial.Trial.suggest_float` instead.\n",
      "  \"subsample\": trial.suggest_loguniform(\"subsample\", 0.01, 1.0)\n",
      "\u001b[32m[I 2023-01-30 16:49:58,490]\u001b[0m Trial 151 finished with value: 0.7113899613899614 and parameters: {'max_depth': 5, 'learning_rate': 0.2493916411156874, 'n_estimators': 312, 'subsample': 0.6598621495310171}. Best is trial 53 with value: 0.7403474903474904.\u001b[0m\n",
      "C:\\Users\\pemma\\AppData\\Local\\Temp\\ipykernel_7292\\120219098.py:10: FutureWarning: suggest_loguniform has been deprecated in v3.0.0. This feature will be removed in v6.0.0. See https://github.com/optuna/optuna/releases/tag/v3.0.0. Use :func:`~optuna.trial.Trial.suggest_float` instead.\n",
      "  \"learning_rate\": trial.suggest_loguniform(\"learning_rate\", 0.01, 1.0),\n",
      "C:\\Users\\pemma\\AppData\\Local\\Temp\\ipykernel_7292\\120219098.py:12: FutureWarning: suggest_loguniform has been deprecated in v3.0.0. This feature will be removed in v6.0.0. See https://github.com/optuna/optuna/releases/tag/v3.0.0. Use :func:`~optuna.trial.Trial.suggest_float` instead.\n",
      "  \"subsample\": trial.suggest_loguniform(\"subsample\", 0.01, 1.0)\n",
      "\u001b[32m[I 2023-01-30 16:50:00,357]\u001b[0m Trial 149 finished with value: 0.6978764478764479 and parameters: {'max_depth': 5, 'learning_rate': 0.1434564018764432, 'n_estimators': 398, 'subsample': 0.6741755590447226}. Best is trial 53 with value: 0.7403474903474904.\u001b[0m\n",
      "C:\\Users\\pemma\\AppData\\Local\\Temp\\ipykernel_7292\\120219098.py:10: FutureWarning: suggest_loguniform has been deprecated in v3.0.0. This feature will be removed in v6.0.0. See https://github.com/optuna/optuna/releases/tag/v3.0.0. Use :func:`~optuna.trial.Trial.suggest_float` instead.\n",
      "  \"learning_rate\": trial.suggest_loguniform(\"learning_rate\", 0.01, 1.0),\n",
      "C:\\Users\\pemma\\AppData\\Local\\Temp\\ipykernel_7292\\120219098.py:12: FutureWarning: suggest_loguniform has been deprecated in v3.0.0. This feature will be removed in v6.0.0. See https://github.com/optuna/optuna/releases/tag/v3.0.0. Use :func:`~optuna.trial.Trial.suggest_float` instead.\n",
      "  \"subsample\": trial.suggest_loguniform(\"subsample\", 0.01, 1.0)\n",
      "\u001b[32m[I 2023-01-30 16:50:02,490]\u001b[0m Trial 148 finished with value: 0.7157335907335907 and parameters: {'max_depth': 5, 'learning_rate': 0.10974989402271115, 'n_estimators': 404, 'subsample': 0.740583873544338}. Best is trial 53 with value: 0.7403474903474904.\u001b[0m\n",
      "C:\\Users\\pemma\\AppData\\Local\\Temp\\ipykernel_7292\\120219098.py:10: FutureWarning: suggest_loguniform has been deprecated in v3.0.0. This feature will be removed in v6.0.0. See https://github.com/optuna/optuna/releases/tag/v3.0.0. Use :func:`~optuna.trial.Trial.suggest_float` instead.\n",
      "  \"learning_rate\": trial.suggest_loguniform(\"learning_rate\", 0.01, 1.0),\n",
      "C:\\Users\\pemma\\AppData\\Local\\Temp\\ipykernel_7292\\120219098.py:12: FutureWarning: suggest_loguniform has been deprecated in v3.0.0. This feature will be removed in v6.0.0. See https://github.com/optuna/optuna/releases/tag/v3.0.0. Use :func:`~optuna.trial.Trial.suggest_float` instead.\n",
      "  \"subsample\": trial.suggest_loguniform(\"subsample\", 0.01, 1.0)\n",
      "\u001b[32m[I 2023-01-30 16:50:18,390]\u001b[0m Trial 152 finished with value: 0.7157335907335907 and parameters: {'max_depth': 5, 'learning_rate': 0.10904611849587083, 'n_estimators': 313, 'subsample': 0.6697057308372999}. Best is trial 53 with value: 0.7403474903474904.\u001b[0m\n",
      "C:\\Users\\pemma\\AppData\\Local\\Temp\\ipykernel_7292\\120219098.py:10: FutureWarning: suggest_loguniform has been deprecated in v3.0.0. This feature will be removed in v6.0.0. See https://github.com/optuna/optuna/releases/tag/v3.0.0. Use :func:`~optuna.trial.Trial.suggest_float` instead.\n",
      "  \"learning_rate\": trial.suggest_loguniform(\"learning_rate\", 0.01, 1.0),\n",
      "C:\\Users\\pemma\\AppData\\Local\\Temp\\ipykernel_7292\\120219098.py:12: FutureWarning: suggest_loguniform has been deprecated in v3.0.0. This feature will be removed in v6.0.0. See https://github.com/optuna/optuna/releases/tag/v3.0.0. Use :func:`~optuna.trial.Trial.suggest_float` instead.\n",
      "  \"subsample\": trial.suggest_loguniform(\"subsample\", 0.01, 1.0)\n",
      "\u001b[32m[I 2023-01-30 16:50:19,295]\u001b[0m Trial 158 finished with value: 0.7292471042471043 and parameters: {'max_depth': 7, 'learning_rate': 0.2068119275269317, 'n_estimators': 206, 'subsample': 0.9963940966044063}. Best is trial 53 with value: 0.7403474903474904.\u001b[0m\n",
      "C:\\Users\\pemma\\AppData\\Local\\Temp\\ipykernel_7292\\120219098.py:10: FutureWarning: suggest_loguniform has been deprecated in v3.0.0. This feature will be removed in v6.0.0. See https://github.com/optuna/optuna/releases/tag/v3.0.0. Use :func:`~optuna.trial.Trial.suggest_float` instead.\n",
      "  \"learning_rate\": trial.suggest_loguniform(\"learning_rate\", 0.01, 1.0),\n",
      "C:\\Users\\pemma\\AppData\\Local\\Temp\\ipykernel_7292\\120219098.py:12: FutureWarning: suggest_loguniform has been deprecated in v3.0.0. This feature will be removed in v6.0.0. See https://github.com/optuna/optuna/releases/tag/v3.0.0. Use :func:`~optuna.trial.Trial.suggest_float` instead.\n",
      "  \"subsample\": trial.suggest_loguniform(\"subsample\", 0.01, 1.0)\n",
      "\u001b[32m[I 2023-01-30 16:50:21,022]\u001b[0m Trial 157 finished with value: 0.6978764478764479 and parameters: {'max_depth': 5, 'learning_rate': 0.10803386244337672, 'n_estimators': 228, 'subsample': 0.7513441845090807}. Best is trial 53 with value: 0.7403474903474904.\u001b[0m\n",
      "C:\\Users\\pemma\\AppData\\Local\\Temp\\ipykernel_7292\\120219098.py:10: FutureWarning: suggest_loguniform has been deprecated in v3.0.0. This feature will be removed in v6.0.0. See https://github.com/optuna/optuna/releases/tag/v3.0.0. Use :func:`~optuna.trial.Trial.suggest_float` instead.\n",
      "  \"learning_rate\": trial.suggest_loguniform(\"learning_rate\", 0.01, 1.0),\n",
      "C:\\Users\\pemma\\AppData\\Local\\Temp\\ipykernel_7292\\120219098.py:12: FutureWarning: suggest_loguniform has been deprecated in v3.0.0. This feature will be removed in v6.0.0. See https://github.com/optuna/optuna/releases/tag/v3.0.0. Use :func:`~optuna.trial.Trial.suggest_float` instead.\n",
      "  \"subsample\": trial.suggest_loguniform(\"subsample\", 0.01, 1.0)\n",
      "\u001b[32m[I 2023-01-30 16:50:24,676]\u001b[0m Trial 154 finished with value: 0.6867760617760618 and parameters: {'max_depth': 5, 'learning_rate': 0.11116855914909624, 'n_estimators': 413, 'subsample': 0.7429770058921572}. Best is trial 53 with value: 0.7403474903474904.\u001b[0m\n",
      "C:\\Users\\pemma\\AppData\\Local\\Temp\\ipykernel_7292\\120219098.py:10: FutureWarning: suggest_loguniform has been deprecated in v3.0.0. This feature will be removed in v6.0.0. See https://github.com/optuna/optuna/releases/tag/v3.0.0. Use :func:`~optuna.trial.Trial.suggest_float` instead.\n",
      "  \"learning_rate\": trial.suggest_loguniform(\"learning_rate\", 0.01, 1.0),\n",
      "C:\\Users\\pemma\\AppData\\Local\\Temp\\ipykernel_7292\\120219098.py:12: FutureWarning: suggest_loguniform has been deprecated in v3.0.0. This feature will be removed in v6.0.0. See https://github.com/optuna/optuna/releases/tag/v3.0.0. Use :func:`~optuna.trial.Trial.suggest_float` instead.\n",
      "  \"subsample\": trial.suggest_loguniform(\"subsample\", 0.01, 1.0)\n",
      "\u001b[32m[I 2023-01-30 16:50:25,884]\u001b[0m Trial 153 finished with value: 0.7046332046332047 and parameters: {'max_depth': 5, 'learning_rate': 0.1102048980319253, 'n_estimators': 447, 'subsample': 0.672573637240816}. Best is trial 53 with value: 0.7403474903474904.\u001b[0m\n",
      "C:\\Users\\pemma\\AppData\\Local\\Temp\\ipykernel_7292\\120219098.py:10: FutureWarning: suggest_loguniform has been deprecated in v3.0.0. This feature will be removed in v6.0.0. See https://github.com/optuna/optuna/releases/tag/v3.0.0. Use :func:`~optuna.trial.Trial.suggest_float` instead.\n",
      "  \"learning_rate\": trial.suggest_loguniform(\"learning_rate\", 0.01, 1.0),\n",
      "C:\\Users\\pemma\\AppData\\Local\\Temp\\ipykernel_7292\\120219098.py:12: FutureWarning: suggest_loguniform has been deprecated in v3.0.0. This feature will be removed in v6.0.0. See https://github.com/optuna/optuna/releases/tag/v3.0.0. Use :func:`~optuna.trial.Trial.suggest_float` instead.\n",
      "  \"subsample\": trial.suggest_loguniform(\"subsample\", 0.01, 1.0)\n",
      "\u001b[32m[I 2023-01-30 16:50:26,409]\u001b[0m Trial 156 finished with value: 0.7046332046332047 and parameters: {'max_depth': 5, 'learning_rate': 0.11007973120382873, 'n_estimators': 413, 'subsample': 0.7310785678605609}. Best is trial 53 with value: 0.7403474903474904.\u001b[0m\n",
      "C:\\Users\\pemma\\AppData\\Local\\Temp\\ipykernel_7292\\120219098.py:10: FutureWarning: suggest_loguniform has been deprecated in v3.0.0. This feature will be removed in v6.0.0. See https://github.com/optuna/optuna/releases/tag/v3.0.0. Use :func:`~optuna.trial.Trial.suggest_float` instead.\n",
      "  \"learning_rate\": trial.suggest_loguniform(\"learning_rate\", 0.01, 1.0),\n",
      "C:\\Users\\pemma\\AppData\\Local\\Temp\\ipykernel_7292\\120219098.py:12: FutureWarning: suggest_loguniform has been deprecated in v3.0.0. This feature will be removed in v6.0.0. See https://github.com/optuna/optuna/releases/tag/v3.0.0. Use :func:`~optuna.trial.Trial.suggest_float` instead.\n",
      "  \"subsample\": trial.suggest_loguniform(\"subsample\", 0.01, 1.0)\n",
      "\u001b[32m[I 2023-01-30 16:50:27,451]\u001b[0m Trial 155 finished with value: 0.7046332046332047 and parameters: {'max_depth': 5, 'learning_rate': 0.10943523382633098, 'n_estimators': 416, 'subsample': 0.7297367720363799}. Best is trial 53 with value: 0.7403474903474904.\u001b[0m\n",
      "C:\\Users\\pemma\\AppData\\Local\\Temp\\ipykernel_7292\\120219098.py:10: FutureWarning: suggest_loguniform has been deprecated in v3.0.0. This feature will be removed in v6.0.0. See https://github.com/optuna/optuna/releases/tag/v3.0.0. Use :func:`~optuna.trial.Trial.suggest_float` instead.\n",
      "  \"learning_rate\": trial.suggest_loguniform(\"learning_rate\", 0.01, 1.0),\n",
      "C:\\Users\\pemma\\AppData\\Local\\Temp\\ipykernel_7292\\120219098.py:12: FutureWarning: suggest_loguniform has been deprecated in v3.0.0. This feature will be removed in v6.0.0. See https://github.com/optuna/optuna/releases/tag/v3.0.0. Use :func:`~optuna.trial.Trial.suggest_float` instead.\n",
      "  \"subsample\": trial.suggest_loguniform(\"subsample\", 0.01, 1.0)\n",
      "\u001b[32m[I 2023-01-30 16:50:35,888]\u001b[0m Trial 159 finished with value: 0.6665057915057915 and parameters: {'max_depth': 9, 'learning_rate': 0.2087327733307873, 'n_estimators': 207, 'subsample': 0.8847938555060363}. Best is trial 53 with value: 0.7403474903474904.\u001b[0m\n",
      "C:\\Users\\pemma\\AppData\\Local\\Temp\\ipykernel_7292\\120219098.py:10: FutureWarning: suggest_loguniform has been deprecated in v3.0.0. This feature will be removed in v6.0.0. See https://github.com/optuna/optuna/releases/tag/v3.0.0. Use :func:`~optuna.trial.Trial.suggest_float` instead.\n",
      "  \"learning_rate\": trial.suggest_loguniform(\"learning_rate\", 0.01, 1.0),\n",
      "C:\\Users\\pemma\\AppData\\Local\\Temp\\ipykernel_7292\\120219098.py:12: FutureWarning: suggest_loguniform has been deprecated in v3.0.0. This feature will be removed in v6.0.0. See https://github.com/optuna/optuna/releases/tag/v3.0.0. Use :func:`~optuna.trial.Trial.suggest_float` instead.\n",
      "  \"subsample\": trial.suggest_loguniform(\"subsample\", 0.01, 1.0)\n",
      "\u001b[32m[I 2023-01-30 16:50:38,192]\u001b[0m Trial 160 finished with value: 0.7224903474903475 and parameters: {'max_depth': 9, 'learning_rate': 0.20519990764197504, 'n_estimators': 230, 'subsample': 0.99885051345077}. Best is trial 53 with value: 0.7403474903474904.\u001b[0m\n",
      "C:\\Users\\pemma\\AppData\\Local\\Temp\\ipykernel_7292\\120219098.py:10: FutureWarning: suggest_loguniform has been deprecated in v3.0.0. This feature will be removed in v6.0.0. See https://github.com/optuna/optuna/releases/tag/v3.0.0. Use :func:`~optuna.trial.Trial.suggest_float` instead.\n",
      "  \"learning_rate\": trial.suggest_loguniform(\"learning_rate\", 0.01, 1.0),\n",
      "C:\\Users\\pemma\\AppData\\Local\\Temp\\ipykernel_7292\\120219098.py:12: FutureWarning: suggest_loguniform has been deprecated in v3.0.0. This feature will be removed in v6.0.0. See https://github.com/optuna/optuna/releases/tag/v3.0.0. Use :func:`~optuna.trial.Trial.suggest_float` instead.\n",
      "  \"subsample\": trial.suggest_loguniform(\"subsample\", 0.01, 1.0)\n",
      "\u001b[32m[I 2023-01-30 16:50:42,960]\u001b[0m Trial 163 finished with value: 0.7224903474903475 and parameters: {'max_depth': 7, 'learning_rate': 0.21552483599425304, 'n_estimators': 201, 'subsample': 0.8947461462723504}. Best is trial 53 with value: 0.7403474903474904.\u001b[0m\n",
      "C:\\Users\\pemma\\AppData\\Local\\Temp\\ipykernel_7292\\120219098.py:10: FutureWarning: suggest_loguniform has been deprecated in v3.0.0. This feature will be removed in v6.0.0. See https://github.com/optuna/optuna/releases/tag/v3.0.0. Use :func:`~optuna.trial.Trial.suggest_float` instead.\n",
      "  \"learning_rate\": trial.suggest_loguniform(\"learning_rate\", 0.01, 1.0),\n",
      "C:\\Users\\pemma\\AppData\\Local\\Temp\\ipykernel_7292\\120219098.py:12: FutureWarning: suggest_loguniform has been deprecated in v3.0.0. This feature will be removed in v6.0.0. See https://github.com/optuna/optuna/releases/tag/v3.0.0. Use :func:`~optuna.trial.Trial.suggest_float` instead.\n",
      "  \"subsample\": trial.suggest_loguniform(\"subsample\", 0.01, 1.0)\n",
      "\u001b[32m[I 2023-01-30 16:50:43,765]\u001b[0m Trial 165 finished with value: 0.6978764478764479 and parameters: {'max_depth': 7, 'learning_rate': 0.24805483382040389, 'n_estimators': 206, 'subsample': 0.8604091399312981}. Best is trial 53 with value: 0.7403474903474904.\u001b[0m\n",
      "C:\\Users\\pemma\\AppData\\Local\\Temp\\ipykernel_7292\\120219098.py:10: FutureWarning: suggest_loguniform has been deprecated in v3.0.0. This feature will be removed in v6.0.0. See https://github.com/optuna/optuna/releases/tag/v3.0.0. Use :func:`~optuna.trial.Trial.suggest_float` instead.\n",
      "  \"learning_rate\": trial.suggest_loguniform(\"learning_rate\", 0.01, 1.0),\n",
      "C:\\Users\\pemma\\AppData\\Local\\Temp\\ipykernel_7292\\120219098.py:12: FutureWarning: suggest_loguniform has been deprecated in v3.0.0. This feature will be removed in v6.0.0. See https://github.com/optuna/optuna/releases/tag/v3.0.0. Use :func:`~optuna.trial.Trial.suggest_float` instead.\n",
      "  \"subsample\": trial.suggest_loguniform(\"subsample\", 0.01, 1.0)\n",
      "\u001b[32m[I 2023-01-30 16:50:45,067]\u001b[0m Trial 162 finished with value: 0.6867760617760618 and parameters: {'max_depth': 7, 'learning_rate': 0.20670929470430077, 'n_estimators': 258, 'subsample': 0.893370673415637}. Best is trial 53 with value: 0.7403474903474904.\u001b[0m\n",
      "C:\\Users\\pemma\\AppData\\Local\\Temp\\ipykernel_7292\\120219098.py:10: FutureWarning: suggest_loguniform has been deprecated in v3.0.0. This feature will be removed in v6.0.0. See https://github.com/optuna/optuna/releases/tag/v3.0.0. Use :func:`~optuna.trial.Trial.suggest_float` instead.\n",
      "  \"learning_rate\": trial.suggest_loguniform(\"learning_rate\", 0.01, 1.0),\n",
      "C:\\Users\\pemma\\AppData\\Local\\Temp\\ipykernel_7292\\120219098.py:12: FutureWarning: suggest_loguniform has been deprecated in v3.0.0. This feature will be removed in v6.0.0. See https://github.com/optuna/optuna/releases/tag/v3.0.0. Use :func:`~optuna.trial.Trial.suggest_float` instead.\n",
      "  \"subsample\": trial.suggest_loguniform(\"subsample\", 0.01, 1.0)\n",
      "\u001b[32m[I 2023-01-30 16:50:45,596]\u001b[0m Trial 164 finished with value: 0.7292471042471043 and parameters: {'max_depth': 9, 'learning_rate': 0.20630739632087403, 'n_estimators': 255, 'subsample': 0.854069849037902}. Best is trial 53 with value: 0.7403474903474904.\u001b[0m\n",
      "C:\\Users\\pemma\\AppData\\Local\\Temp\\ipykernel_7292\\120219098.py:10: FutureWarning: suggest_loguniform has been deprecated in v3.0.0. This feature will be removed in v6.0.0. See https://github.com/optuna/optuna/releases/tag/v3.0.0. Use :func:`~optuna.trial.Trial.suggest_float` instead.\n",
      "  \"learning_rate\": trial.suggest_loguniform(\"learning_rate\", 0.01, 1.0),\n",
      "C:\\Users\\pemma\\AppData\\Local\\Temp\\ipykernel_7292\\120219098.py:12: FutureWarning: suggest_loguniform has been deprecated in v3.0.0. This feature will be removed in v6.0.0. See https://github.com/optuna/optuna/releases/tag/v3.0.0. Use :func:`~optuna.trial.Trial.suggest_float` instead.\n",
      "  \"subsample\": trial.suggest_loguniform(\"subsample\", 0.01, 1.0)\n",
      "\u001b[32m[I 2023-01-30 16:50:48,482]\u001b[0m Trial 161 finished with value: 0.6935328185328185 and parameters: {'max_depth': 9, 'learning_rate': 0.2151107379134545, 'n_estimators': 445, 'subsample': 0.8761228966674554}. Best is trial 53 with value: 0.7403474903474904.\u001b[0m\n",
      "C:\\Users\\pemma\\AppData\\Local\\Temp\\ipykernel_7292\\120219098.py:10: FutureWarning: suggest_loguniform has been deprecated in v3.0.0. This feature will be removed in v6.0.0. See https://github.com/optuna/optuna/releases/tag/v3.0.0. Use :func:`~optuna.trial.Trial.suggest_float` instead.\n",
      "  \"learning_rate\": trial.suggest_loguniform(\"learning_rate\", 0.01, 1.0),\n",
      "C:\\Users\\pemma\\AppData\\Local\\Temp\\ipykernel_7292\\120219098.py:12: FutureWarning: suggest_loguniform has been deprecated in v3.0.0. This feature will be removed in v6.0.0. See https://github.com/optuna/optuna/releases/tag/v3.0.0. Use :func:`~optuna.trial.Trial.suggest_float` instead.\n",
      "  \"subsample\": trial.suggest_loguniform(\"subsample\", 0.01, 1.0)\n",
      "\u001b[32m[I 2023-01-30 16:50:51,931]\u001b[0m Trial 166 finished with value: 0.6689189189189189 and parameters: {'max_depth': 7, 'learning_rate': 0.24146151929293427, 'n_estimators': 188, 'subsample': 0.9986948262499841}. Best is trial 53 with value: 0.7403474903474904.\u001b[0m\n",
      "C:\\Users\\pemma\\AppData\\Local\\Temp\\ipykernel_7292\\120219098.py:10: FutureWarning: suggest_loguniform has been deprecated in v3.0.0. This feature will be removed in v6.0.0. See https://github.com/optuna/optuna/releases/tag/v3.0.0. Use :func:`~optuna.trial.Trial.suggest_float` instead.\n",
      "  \"learning_rate\": trial.suggest_loguniform(\"learning_rate\", 0.01, 1.0),\n",
      "C:\\Users\\pemma\\AppData\\Local\\Temp\\ipykernel_7292\\120219098.py:12: FutureWarning: suggest_loguniform has been deprecated in v3.0.0. This feature will be removed in v6.0.0. See https://github.com/optuna/optuna/releases/tag/v3.0.0. Use :func:`~optuna.trial.Trial.suggest_float` instead.\n",
      "  \"subsample\": trial.suggest_loguniform(\"subsample\", 0.01, 1.0)\n",
      "\u001b[32m[I 2023-01-30 16:50:55,575]\u001b[0m Trial 167 finished with value: 0.7046332046332047 and parameters: {'max_depth': 7, 'learning_rate': 0.2529273036230207, 'n_estimators': 252, 'subsample': 0.8769150262060947}. Best is trial 53 with value: 0.7403474903474904.\u001b[0m\n",
      "C:\\Users\\pemma\\AppData\\Local\\Temp\\ipykernel_7292\\120219098.py:10: FutureWarning: suggest_loguniform has been deprecated in v3.0.0. This feature will be removed in v6.0.0. See https://github.com/optuna/optuna/releases/tag/v3.0.0. Use :func:`~optuna.trial.Trial.suggest_float` instead.\n",
      "  \"learning_rate\": trial.suggest_loguniform(\"learning_rate\", 0.01, 1.0),\n",
      "C:\\Users\\pemma\\AppData\\Local\\Temp\\ipykernel_7292\\120219098.py:12: FutureWarning: suggest_loguniform has been deprecated in v3.0.0. This feature will be removed in v6.0.0. See https://github.com/optuna/optuna/releases/tag/v3.0.0. Use :func:`~optuna.trial.Trial.suggest_float` instead.\n",
      "  \"subsample\": trial.suggest_loguniform(\"subsample\", 0.01, 1.0)\n",
      "\u001b[32m[I 2023-01-30 16:50:58,084]\u001b[0m Trial 169 finished with value: 0.7046332046332047 and parameters: {'max_depth': 7, 'learning_rate': 0.23236820881941211, 'n_estimators': 190, 'subsample': 0.5349783892945247}. Best is trial 53 with value: 0.7403474903474904.\u001b[0m\n",
      "C:\\Users\\pemma\\AppData\\Local\\Temp\\ipykernel_7292\\120219098.py:10: FutureWarning: suggest_loguniform has been deprecated in v3.0.0. This feature will be removed in v6.0.0. See https://github.com/optuna/optuna/releases/tag/v3.0.0. Use :func:`~optuna.trial.Trial.suggest_float` instead.\n",
      "  \"learning_rate\": trial.suggest_loguniform(\"learning_rate\", 0.01, 1.0),\n",
      "C:\\Users\\pemma\\AppData\\Local\\Temp\\ipykernel_7292\\120219098.py:12: FutureWarning: suggest_loguniform has been deprecated in v3.0.0. This feature will be removed in v6.0.0. See https://github.com/optuna/optuna/releases/tag/v3.0.0. Use :func:`~optuna.trial.Trial.suggest_float` instead.\n",
      "  \"subsample\": trial.suggest_loguniform(\"subsample\", 0.01, 1.0)\n",
      "\u001b[32m[I 2023-01-30 16:50:59,579]\u001b[0m Trial 168 finished with value: 0.6978764478764479 and parameters: {'max_depth': 7, 'learning_rate': 0.2450819871819264, 'n_estimators': 247, 'subsample': 0.8583953817991783}. Best is trial 53 with value: 0.7403474903474904.\u001b[0m\n",
      "C:\\Users\\pemma\\AppData\\Local\\Temp\\ipykernel_7292\\120219098.py:10: FutureWarning: suggest_loguniform has been deprecated in v3.0.0. This feature will be removed in v6.0.0. See https://github.com/optuna/optuna/releases/tag/v3.0.0. Use :func:`~optuna.trial.Trial.suggest_float` instead.\n",
      "  \"learning_rate\": trial.suggest_loguniform(\"learning_rate\", 0.01, 1.0),\n",
      "C:\\Users\\pemma\\AppData\\Local\\Temp\\ipykernel_7292\\120219098.py:12: FutureWarning: suggest_loguniform has been deprecated in v3.0.0. This feature will be removed in v6.0.0. See https://github.com/optuna/optuna/releases/tag/v3.0.0. Use :func:`~optuna.trial.Trial.suggest_float` instead.\n",
      "  \"subsample\": trial.suggest_loguniform(\"subsample\", 0.01, 1.0)\n",
      "\u001b[32m[I 2023-01-30 16:51:00,966]\u001b[0m Trial 172 finished with value: 0.6867760617760618 and parameters: {'max_depth': 9, 'learning_rate': 0.40826636930916227, 'n_estimators': 249, 'subsample': 0.5446152503242805}. Best is trial 53 with value: 0.7403474903474904.\u001b[0m\n",
      "C:\\Users\\pemma\\AppData\\Local\\Temp\\ipykernel_7292\\120219098.py:10: FutureWarning: suggest_loguniform has been deprecated in v3.0.0. This feature will be removed in v6.0.0. See https://github.com/optuna/optuna/releases/tag/v3.0.0. Use :func:`~optuna.trial.Trial.suggest_float` instead.\n",
      "  \"learning_rate\": trial.suggest_loguniform(\"learning_rate\", 0.01, 1.0),\n",
      "C:\\Users\\pemma\\AppData\\Local\\Temp\\ipykernel_7292\\120219098.py:12: FutureWarning: suggest_loguniform has been deprecated in v3.0.0. This feature will be removed in v6.0.0. See https://github.com/optuna/optuna/releases/tag/v3.0.0. Use :func:`~optuna.trial.Trial.suggest_float` instead.\n",
      "  \"subsample\": trial.suggest_loguniform(\"subsample\", 0.01, 1.0)\n",
      "\u001b[32m[I 2023-01-30 16:51:04,564]\u001b[0m Trial 170 finished with value: 0.6867760617760618 and parameters: {'max_depth': 7, 'learning_rate': 0.2363015830099728, 'n_estimators': 355, 'subsample': 0.5381081262541978}. Best is trial 53 with value: 0.7403474903474904.\u001b[0m\n",
      "C:\\Users\\pemma\\AppData\\Local\\Temp\\ipykernel_7292\\120219098.py:10: FutureWarning: suggest_loguniform has been deprecated in v3.0.0. This feature will be removed in v6.0.0. See https://github.com/optuna/optuna/releases/tag/v3.0.0. Use :func:`~optuna.trial.Trial.suggest_float` instead.\n",
      "  \"learning_rate\": trial.suggest_loguniform(\"learning_rate\", 0.01, 1.0),\n",
      "C:\\Users\\pemma\\AppData\\Local\\Temp\\ipykernel_7292\\120219098.py:12: FutureWarning: suggest_loguniform has been deprecated in v3.0.0. This feature will be removed in v6.0.0. See https://github.com/optuna/optuna/releases/tag/v3.0.0. Use :func:`~optuna.trial.Trial.suggest_float` instead.\n",
      "  \"subsample\": trial.suggest_loguniform(\"subsample\", 0.01, 1.0)\n",
      "\u001b[32m[I 2023-01-30 16:51:10,028]\u001b[0m Trial 171 finished with value: 0.7113899613899614 and parameters: {'max_depth': 9, 'learning_rate': 0.17929589692437584, 'n_estimators': 461, 'subsample': 0.5297589791819286}. Best is trial 53 with value: 0.7403474903474904.\u001b[0m\n",
      "C:\\Users\\pemma\\AppData\\Local\\Temp\\ipykernel_7292\\120219098.py:10: FutureWarning: suggest_loguniform has been deprecated in v3.0.0. This feature will be removed in v6.0.0. See https://github.com/optuna/optuna/releases/tag/v3.0.0. Use :func:`~optuna.trial.Trial.suggest_float` instead.\n",
      "  \"learning_rate\": trial.suggest_loguniform(\"learning_rate\", 0.01, 1.0),\n",
      "C:\\Users\\pemma\\AppData\\Local\\Temp\\ipykernel_7292\\120219098.py:12: FutureWarning: suggest_loguniform has been deprecated in v3.0.0. This feature will be removed in v6.0.0. See https://github.com/optuna/optuna/releases/tag/v3.0.0. Use :func:`~optuna.trial.Trial.suggest_float` instead.\n",
      "  \"subsample\": trial.suggest_loguniform(\"subsample\", 0.01, 1.0)\n",
      "\u001b[32m[I 2023-01-30 16:51:10,127]\u001b[0m Trial 173 finished with value: 0.6800193050193051 and parameters: {'max_depth': 9, 'learning_rate': 0.17348164315069556, 'n_estimators': 249, 'subsample': 0.5357995522252605}. Best is trial 53 with value: 0.7403474903474904.\u001b[0m\n",
      "C:\\Users\\pemma\\AppData\\Local\\Temp\\ipykernel_7292\\120219098.py:10: FutureWarning: suggest_loguniform has been deprecated in v3.0.0. This feature will be removed in v6.0.0. See https://github.com/optuna/optuna/releases/tag/v3.0.0. Use :func:`~optuna.trial.Trial.suggest_float` instead.\n",
      "  \"learning_rate\": trial.suggest_loguniform(\"learning_rate\", 0.01, 1.0),\n",
      "C:\\Users\\pemma\\AppData\\Local\\Temp\\ipykernel_7292\\120219098.py:12: FutureWarning: suggest_loguniform has been deprecated in v3.0.0. This feature will be removed in v6.0.0. See https://github.com/optuna/optuna/releases/tag/v3.0.0. Use :func:`~optuna.trial.Trial.suggest_float` instead.\n",
      "  \"subsample\": trial.suggest_loguniform(\"subsample\", 0.01, 1.0)\n",
      "\u001b[32m[I 2023-01-30 16:51:13,163]\u001b[0m Trial 175 finished with value: 0.6978764478764479 and parameters: {'max_depth': 9, 'learning_rate': 0.17425979052277996, 'n_estimators': 168, 'subsample': 0.5493275925862343}. Best is trial 53 with value: 0.7403474903474904.\u001b[0m\n",
      "C:\\Users\\pemma\\AppData\\Local\\Temp\\ipykernel_7292\\120219098.py:10: FutureWarning: suggest_loguniform has been deprecated in v3.0.0. This feature will be removed in v6.0.0. See https://github.com/optuna/optuna/releases/tag/v3.0.0. Use :func:`~optuna.trial.Trial.suggest_float` instead.\n",
      "  \"learning_rate\": trial.suggest_loguniform(\"learning_rate\", 0.01, 1.0),\n",
      "C:\\Users\\pemma\\AppData\\Local\\Temp\\ipykernel_7292\\120219098.py:12: FutureWarning: suggest_loguniform has been deprecated in v3.0.0. This feature will be removed in v6.0.0. See https://github.com/optuna/optuna/releases/tag/v3.0.0. Use :func:`~optuna.trial.Trial.suggest_float` instead.\n",
      "  \"subsample\": trial.suggest_loguniform(\"subsample\", 0.01, 1.0)\n",
      "\u001b[32m[I 2023-01-30 16:51:14,320]\u001b[0m Trial 174 finished with value: 0.6867760617760618 and parameters: {'max_depth': 9, 'learning_rate': 0.1725149037552266, 'n_estimators': 242, 'subsample': 0.5660193825883757}. Best is trial 53 with value: 0.7403474903474904.\u001b[0m\n",
      "C:\\Users\\pemma\\AppData\\Local\\Temp\\ipykernel_7292\\120219098.py:10: FutureWarning: suggest_loguniform has been deprecated in v3.0.0. This feature will be removed in v6.0.0. See https://github.com/optuna/optuna/releases/tag/v3.0.0. Use :func:`~optuna.trial.Trial.suggest_float` instead.\n",
      "  \"learning_rate\": trial.suggest_loguniform(\"learning_rate\", 0.01, 1.0),\n",
      "C:\\Users\\pemma\\AppData\\Local\\Temp\\ipykernel_7292\\120219098.py:12: FutureWarning: suggest_loguniform has been deprecated in v3.0.0. This feature will be removed in v6.0.0. See https://github.com/optuna/optuna/releases/tag/v3.0.0. Use :func:`~optuna.trial.Trial.suggest_float` instead.\n",
      "  \"subsample\": trial.suggest_loguniform(\"subsample\", 0.01, 1.0)\n",
      "\u001b[32m[I 2023-01-30 16:51:14,668]\u001b[0m Trial 176 finished with value: 0.7181467181467182 and parameters: {'max_depth': 8, 'learning_rate': 0.19248313839195463, 'n_estimators': 173, 'subsample': 0.5382467461041899}. Best is trial 53 with value: 0.7403474903474904.\u001b[0m\n",
      "C:\\Users\\pemma\\AppData\\Local\\Temp\\ipykernel_7292\\120219098.py:10: FutureWarning: suggest_loguniform has been deprecated in v3.0.0. This feature will be removed in v6.0.0. See https://github.com/optuna/optuna/releases/tag/v3.0.0. Use :func:`~optuna.trial.Trial.suggest_float` instead.\n",
      "  \"learning_rate\": trial.suggest_loguniform(\"learning_rate\", 0.01, 1.0),\n",
      "C:\\Users\\pemma\\AppData\\Local\\Temp\\ipykernel_7292\\120219098.py:12: FutureWarning: suggest_loguniform has been deprecated in v3.0.0. This feature will be removed in v6.0.0. See https://github.com/optuna/optuna/releases/tag/v3.0.0. Use :func:`~optuna.trial.Trial.suggest_float` instead.\n",
      "  \"subsample\": trial.suggest_loguniform(\"subsample\", 0.01, 1.0)\n",
      "\u001b[32m[I 2023-01-30 16:51:14,797]\u001b[0m Trial 177 finished with value: 0.7046332046332047 and parameters: {'max_depth': 3, 'learning_rate': 0.18414008736648618, 'n_estimators': 233, 'subsample': 0.790393442334873}. Best is trial 53 with value: 0.7403474903474904.\u001b[0m\n",
      "C:\\Users\\pemma\\AppData\\Local\\Temp\\ipykernel_7292\\120219098.py:10: FutureWarning: suggest_loguniform has been deprecated in v3.0.0. This feature will be removed in v6.0.0. See https://github.com/optuna/optuna/releases/tag/v3.0.0. Use :func:`~optuna.trial.Trial.suggest_float` instead.\n",
      "  \"learning_rate\": trial.suggest_loguniform(\"learning_rate\", 0.01, 1.0),\n",
      "C:\\Users\\pemma\\AppData\\Local\\Temp\\ipykernel_7292\\120219098.py:12: FutureWarning: suggest_loguniform has been deprecated in v3.0.0. This feature will be removed in v6.0.0. See https://github.com/optuna/optuna/releases/tag/v3.0.0. Use :func:`~optuna.trial.Trial.suggest_float` instead.\n",
      "  \"subsample\": trial.suggest_loguniform(\"subsample\", 0.01, 1.0)\n",
      "\u001b[32m[I 2023-01-30 16:51:19,416]\u001b[0m Trial 178 finished with value: 0.6935328185328185 and parameters: {'max_depth': 3, 'learning_rate': 0.17918554152792676, 'n_estimators': 235, 'subsample': 0.8082354691180719}. Best is trial 53 with value: 0.7403474903474904.\u001b[0m\n",
      "C:\\Users\\pemma\\AppData\\Local\\Temp\\ipykernel_7292\\120219098.py:10: FutureWarning: suggest_loguniform has been deprecated in v3.0.0. This feature will be removed in v6.0.0. See https://github.com/optuna/optuna/releases/tag/v3.0.0. Use :func:`~optuna.trial.Trial.suggest_float` instead.\n",
      "  \"learning_rate\": trial.suggest_loguniform(\"learning_rate\", 0.01, 1.0),\n",
      "C:\\Users\\pemma\\AppData\\Local\\Temp\\ipykernel_7292\\120219098.py:12: FutureWarning: suggest_loguniform has been deprecated in v3.0.0. This feature will be removed in v6.0.0. See https://github.com/optuna/optuna/releases/tag/v3.0.0. Use :func:`~optuna.trial.Trial.suggest_float` instead.\n",
      "  \"subsample\": trial.suggest_loguniform(\"subsample\", 0.01, 1.0)\n",
      "\u001b[32m[I 2023-01-30 16:51:25,955]\u001b[0m Trial 180 finished with value: 0.6443050193050193 and parameters: {'max_depth': 3, 'learning_rate': 0.12805149336530017, 'n_estimators': 234, 'subsample': 0.8037617402684567}. Best is trial 53 with value: 0.7403474903474904.\u001b[0m\n",
      "C:\\Users\\pemma\\AppData\\Local\\Temp\\ipykernel_7292\\120219098.py:10: FutureWarning: suggest_loguniform has been deprecated in v3.0.0. This feature will be removed in v6.0.0. See https://github.com/optuna/optuna/releases/tag/v3.0.0. Use :func:`~optuna.trial.Trial.suggest_float` instead.\n",
      "  \"learning_rate\": trial.suggest_loguniform(\"learning_rate\", 0.01, 1.0),\n",
      "C:\\Users\\pemma\\AppData\\Local\\Temp\\ipykernel_7292\\120219098.py:12: FutureWarning: suggest_loguniform has been deprecated in v3.0.0. This feature will be removed in v6.0.0. See https://github.com/optuna/optuna/releases/tag/v3.0.0. Use :func:`~optuna.trial.Trial.suggest_float` instead.\n",
      "  \"subsample\": trial.suggest_loguniform(\"subsample\", 0.01, 1.0)\n",
      "\u001b[32m[I 2023-01-30 16:51:26,708]\u001b[0m Trial 179 finished with value: 0.6935328185328185 and parameters: {'max_depth': 8, 'learning_rate': 0.27632349276789664, 'n_estimators': 236, 'subsample': 0.7787783986364941}. Best is trial 53 with value: 0.7403474903474904.\u001b[0m\n",
      "C:\\Users\\pemma\\AppData\\Local\\Temp\\ipykernel_7292\\120219098.py:10: FutureWarning: suggest_loguniform has been deprecated in v3.0.0. This feature will be removed in v6.0.0. See https://github.com/optuna/optuna/releases/tag/v3.0.0. Use :func:`~optuna.trial.Trial.suggest_float` instead.\n",
      "  \"learning_rate\": trial.suggest_loguniform(\"learning_rate\", 0.01, 1.0),\n",
      "C:\\Users\\pemma\\AppData\\Local\\Temp\\ipykernel_7292\\120219098.py:12: FutureWarning: suggest_loguniform has been deprecated in v3.0.0. This feature will be removed in v6.0.0. See https://github.com/optuna/optuna/releases/tag/v3.0.0. Use :func:`~optuna.trial.Trial.suggest_float` instead.\n",
      "  \"subsample\": trial.suggest_loguniform(\"subsample\", 0.01, 1.0)\n",
      "\u001b[32m[I 2023-01-30 16:51:28,989]\u001b[0m Trial 183 finished with value: 0.6978764478764479 and parameters: {'max_depth': 3, 'learning_rate': 0.27400641260920916, 'n_estimators': 234, 'subsample': 0.7998486219869505}. Best is trial 53 with value: 0.7403474903474904.\u001b[0m\n",
      "C:\\Users\\pemma\\AppData\\Local\\Temp\\ipykernel_7292\\120219098.py:10: FutureWarning: suggest_loguniform has been deprecated in v3.0.0. This feature will be removed in v6.0.0. See https://github.com/optuna/optuna/releases/tag/v3.0.0. Use :func:`~optuna.trial.Trial.suggest_float` instead.\n",
      "  \"learning_rate\": trial.suggest_loguniform(\"learning_rate\", 0.01, 1.0),\n",
      "C:\\Users\\pemma\\AppData\\Local\\Temp\\ipykernel_7292\\120219098.py:12: FutureWarning: suggest_loguniform has been deprecated in v3.0.0. This feature will be removed in v6.0.0. See https://github.com/optuna/optuna/releases/tag/v3.0.0. Use :func:`~optuna.trial.Trial.suggest_float` instead.\n",
      "  \"subsample\": trial.suggest_loguniform(\"subsample\", 0.01, 1.0)\n",
      "\u001b[32m[I 2023-01-30 16:51:29,624]\u001b[0m Trial 182 finished with value: 0.708976833976834 and parameters: {'max_depth': 8, 'learning_rate': 0.28406321501758397, 'n_estimators': 179, 'subsample': 0.8276824171174801}. Best is trial 53 with value: 0.7403474903474904.\u001b[0m\n",
      "C:\\Users\\pemma\\AppData\\Local\\Temp\\ipykernel_7292\\120219098.py:10: FutureWarning: suggest_loguniform has been deprecated in v3.0.0. This feature will be removed in v6.0.0. See https://github.com/optuna/optuna/releases/tag/v3.0.0. Use :func:`~optuna.trial.Trial.suggest_float` instead.\n",
      "  \"learning_rate\": trial.suggest_loguniform(\"learning_rate\", 0.01, 1.0),\n",
      "C:\\Users\\pemma\\AppData\\Local\\Temp\\ipykernel_7292\\120219098.py:12: FutureWarning: suggest_loguniform has been deprecated in v3.0.0. This feature will be removed in v6.0.0. See https://github.com/optuna/optuna/releases/tag/v3.0.0. Use :func:`~optuna.trial.Trial.suggest_float` instead.\n",
      "  \"subsample\": trial.suggest_loguniform(\"subsample\", 0.01, 1.0)\n",
      "\u001b[32m[I 2023-01-30 16:51:31,012]\u001b[0m Trial 181 finished with value: 0.7224903474903475 and parameters: {'max_depth': 8, 'learning_rate': 0.2701792550677986, 'n_estimators': 234, 'subsample': 0.7871466805580868}. Best is trial 53 with value: 0.7403474903474904.\u001b[0m\n",
      "C:\\Users\\pemma\\AppData\\Local\\Temp\\ipykernel_7292\\120219098.py:10: FutureWarning: suggest_loguniform has been deprecated in v3.0.0. This feature will be removed in v6.0.0. See https://github.com/optuna/optuna/releases/tag/v3.0.0. Use :func:`~optuna.trial.Trial.suggest_float` instead.\n",
      "  \"learning_rate\": trial.suggest_loguniform(\"learning_rate\", 0.01, 1.0),\n",
      "C:\\Users\\pemma\\AppData\\Local\\Temp\\ipykernel_7292\\120219098.py:12: FutureWarning: suggest_loguniform has been deprecated in v3.0.0. This feature will be removed in v6.0.0. See https://github.com/optuna/optuna/releases/tag/v3.0.0. Use :func:`~optuna.trial.Trial.suggest_float` instead.\n",
      "  \"subsample\": trial.suggest_loguniform(\"subsample\", 0.01, 1.0)\n",
      "\u001b[32m[I 2023-01-30 16:51:35,887]\u001b[0m Trial 185 finished with value: 0.7113899613899614 and parameters: {'max_depth': 4, 'learning_rate': 0.34067640466513105, 'n_estimators': 301, 'subsample': 0.9392561943829926}. Best is trial 53 with value: 0.7403474903474904.\u001b[0m\n",
      "C:\\Users\\pemma\\AppData\\Local\\Temp\\ipykernel_7292\\120219098.py:10: FutureWarning: suggest_loguniform has been deprecated in v3.0.0. This feature will be removed in v6.0.0. See https://github.com/optuna/optuna/releases/tag/v3.0.0. Use :func:`~optuna.trial.Trial.suggest_float` instead.\n",
      "  \"learning_rate\": trial.suggest_loguniform(\"learning_rate\", 0.01, 1.0),\n",
      "C:\\Users\\pemma\\AppData\\Local\\Temp\\ipykernel_7292\\120219098.py:12: FutureWarning: suggest_loguniform has been deprecated in v3.0.0. This feature will be removed in v6.0.0. See https://github.com/optuna/optuna/releases/tag/v3.0.0. Use :func:`~optuna.trial.Trial.suggest_float` instead.\n",
      "  \"subsample\": trial.suggest_loguniform(\"subsample\", 0.01, 1.0)\n",
      "\u001b[32m[I 2023-01-30 16:51:37,019]\u001b[0m Trial 187 finished with value: 0.7360038610038611 and parameters: {'max_depth': 5, 'learning_rate': 0.3362968579942075, 'n_estimators': 157, 'subsample': 0.9608935597591372}. Best is trial 53 with value: 0.7403474903474904.\u001b[0m\n",
      "C:\\Users\\pemma\\AppData\\Local\\Temp\\ipykernel_7292\\120219098.py:10: FutureWarning: suggest_loguniform has been deprecated in v3.0.0. This feature will be removed in v6.0.0. See https://github.com/optuna/optuna/releases/tag/v3.0.0. Use :func:`~optuna.trial.Trial.suggest_float` instead.\n",
      "  \"learning_rate\": trial.suggest_loguniform(\"learning_rate\", 0.01, 1.0),\n",
      "C:\\Users\\pemma\\AppData\\Local\\Temp\\ipykernel_7292\\120219098.py:12: FutureWarning: suggest_loguniform has been deprecated in v3.0.0. This feature will be removed in v6.0.0. See https://github.com/optuna/optuna/releases/tag/v3.0.0. Use :func:`~optuna.trial.Trial.suggest_float` instead.\n",
      "  \"subsample\": trial.suggest_loguniform(\"subsample\", 0.01, 1.0)\n",
      "\u001b[32m[I 2023-01-30 16:51:37,345]\u001b[0m Trial 184 finished with value: 0.6732625482625483 and parameters: {'max_depth': 8, 'learning_rate': 0.28064889470600335, 'n_estimators': 381, 'subsample': 0.7968014863730347}. Best is trial 53 with value: 0.7403474903474904.\u001b[0m\n",
      "C:\\Users\\pemma\\AppData\\Local\\Temp\\ipykernel_7292\\120219098.py:10: FutureWarning: suggest_loguniform has been deprecated in v3.0.0. This feature will be removed in v6.0.0. See https://github.com/optuna/optuna/releases/tag/v3.0.0. Use :func:`~optuna.trial.Trial.suggest_float` instead.\n",
      "  \"learning_rate\": trial.suggest_loguniform(\"learning_rate\", 0.01, 1.0),\n",
      "C:\\Users\\pemma\\AppData\\Local\\Temp\\ipykernel_7292\\120219098.py:12: FutureWarning: suggest_loguniform has been deprecated in v3.0.0. This feature will be removed in v6.0.0. See https://github.com/optuna/optuna/releases/tag/v3.0.0. Use :func:`~optuna.trial.Trial.suggest_float` instead.\n",
      "  \"subsample\": trial.suggest_loguniform(\"subsample\", 0.01, 1.0)\n",
      "\u001b[32m[I 2023-01-30 16:51:38,413]\u001b[0m Trial 186 finished with value: 0.7002895752895753 and parameters: {'max_depth': 8, 'learning_rate': 0.7632300733772289, 'n_estimators': 274, 'subsample': 0.99835358555317}. Best is trial 53 with value: 0.7403474903474904.\u001b[0m\n",
      "C:\\Users\\pemma\\AppData\\Local\\Temp\\ipykernel_7292\\120219098.py:10: FutureWarning: suggest_loguniform has been deprecated in v3.0.0. This feature will be removed in v6.0.0. See https://github.com/optuna/optuna/releases/tag/v3.0.0. Use :func:`~optuna.trial.Trial.suggest_float` instead.\n",
      "  \"learning_rate\": trial.suggest_loguniform(\"learning_rate\", 0.01, 1.0),\n",
      "C:\\Users\\pemma\\AppData\\Local\\Temp\\ipykernel_7292\\120219098.py:12: FutureWarning: suggest_loguniform has been deprecated in v3.0.0. This feature will be removed in v6.0.0. See https://github.com/optuna/optuna/releases/tag/v3.0.0. Use :func:`~optuna.trial.Trial.suggest_float` instead.\n",
      "  \"subsample\": trial.suggest_loguniform(\"subsample\", 0.01, 1.0)\n",
      "\u001b[32m[I 2023-01-30 16:51:41,193]\u001b[0m Trial 189 finished with value: 0.7157335907335907 and parameters: {'max_depth': 5, 'learning_rate': 0.3457631567549983, 'n_estimators': 166, 'subsample': 0.9572072714167793}. Best is trial 53 with value: 0.7403474903474904.\u001b[0m\n",
      "C:\\Users\\pemma\\AppData\\Local\\Temp\\ipykernel_7292\\120219098.py:10: FutureWarning: suggest_loguniform has been deprecated in v3.0.0. This feature will be removed in v6.0.0. See https://github.com/optuna/optuna/releases/tag/v3.0.0. Use :func:`~optuna.trial.Trial.suggest_float` instead.\n",
      "  \"learning_rate\": trial.suggest_loguniform(\"learning_rate\", 0.01, 1.0),\n",
      "C:\\Users\\pemma\\AppData\\Local\\Temp\\ipykernel_7292\\120219098.py:12: FutureWarning: suggest_loguniform has been deprecated in v3.0.0. This feature will be removed in v6.0.0. See https://github.com/optuna/optuna/releases/tag/v3.0.0. Use :func:`~optuna.trial.Trial.suggest_float` instead.\n",
      "  \"subsample\": trial.suggest_loguniform(\"subsample\", 0.01, 1.0)\n",
      "\u001b[32m[I 2023-01-30 16:51:41,613]\u001b[0m Trial 190 finished with value: 0.6911196911196911 and parameters: {'max_depth': 5, 'learning_rate': 0.37145692463817753, 'n_estimators': 151, 'subsample': 0.959375140733195}. Best is trial 53 with value: 0.7403474903474904.\u001b[0m\n",
      "C:\\Users\\pemma\\AppData\\Local\\Temp\\ipykernel_7292\\120219098.py:10: FutureWarning: suggest_loguniform has been deprecated in v3.0.0. This feature will be removed in v6.0.0. See https://github.com/optuna/optuna/releases/tag/v3.0.0. Use :func:`~optuna.trial.Trial.suggest_float` instead.\n",
      "  \"learning_rate\": trial.suggest_loguniform(\"learning_rate\", 0.01, 1.0),\n",
      "C:\\Users\\pemma\\AppData\\Local\\Temp\\ipykernel_7292\\120219098.py:12: FutureWarning: suggest_loguniform has been deprecated in v3.0.0. This feature will be removed in v6.0.0. See https://github.com/optuna/optuna/releases/tag/v3.0.0. Use :func:`~optuna.trial.Trial.suggest_float` instead.\n",
      "  \"subsample\": trial.suggest_loguniform(\"subsample\", 0.01, 1.0)\n",
      "\u001b[32m[I 2023-01-30 16:51:41,944]\u001b[0m Trial 188 finished with value: 0.7224903474903475 and parameters: {'max_depth': 5, 'learning_rate': 0.27714557529288264, 'n_estimators': 169, 'subsample': 0.9925188537376277}. Best is trial 53 with value: 0.7403474903474904.\u001b[0m\n",
      "C:\\Users\\pemma\\AppData\\Local\\Temp\\ipykernel_7292\\120219098.py:10: FutureWarning: suggest_loguniform has been deprecated in v3.0.0. This feature will be removed in v6.0.0. See https://github.com/optuna/optuna/releases/tag/v3.0.0. Use :func:`~optuna.trial.Trial.suggest_float` instead.\n",
      "  \"learning_rate\": trial.suggest_loguniform(\"learning_rate\", 0.01, 1.0),\n",
      "C:\\Users\\pemma\\AppData\\Local\\Temp\\ipykernel_7292\\120219098.py:12: FutureWarning: suggest_loguniform has been deprecated in v3.0.0. This feature will be removed in v6.0.0. See https://github.com/optuna/optuna/releases/tag/v3.0.0. Use :func:`~optuna.trial.Trial.suggest_float` instead.\n",
      "  \"subsample\": trial.suggest_loguniform(\"subsample\", 0.01, 1.0)\n",
      "\u001b[32m[I 2023-01-30 16:51:45,504]\u001b[0m Trial 193 finished with value: 0.7022200772200772 and parameters: {'max_depth': 5, 'learning_rate': 0.6351216426847598, 'n_estimators': 125, 'subsample': 0.9860504859325693}. Best is trial 53 with value: 0.7403474903474904.\u001b[0m\n",
      "C:\\Users\\pemma\\AppData\\Local\\Temp\\ipykernel_7292\\120219098.py:10: FutureWarning: suggest_loguniform has been deprecated in v3.0.0. This feature will be removed in v6.0.0. See https://github.com/optuna/optuna/releases/tag/v3.0.0. Use :func:`~optuna.trial.Trial.suggest_float` instead.\n",
      "  \"learning_rate\": trial.suggest_loguniform(\"learning_rate\", 0.01, 1.0),\n",
      "C:\\Users\\pemma\\AppData\\Local\\Temp\\ipykernel_7292\\120219098.py:12: FutureWarning: suggest_loguniform has been deprecated in v3.0.0. This feature will be removed in v6.0.0. See https://github.com/optuna/optuna/releases/tag/v3.0.0. Use :func:`~optuna.trial.Trial.suggest_float` instead.\n",
      "  \"subsample\": trial.suggest_loguniform(\"subsample\", 0.01, 1.0)\n",
      "\u001b[32m[I 2023-01-30 16:51:51,499]\u001b[0m Trial 195 finished with value: 0.6867760617760618 and parameters: {'max_depth': 5, 'learning_rate': 0.30793119119797935, 'n_estimators': 129, 'subsample': 0.6166187498382935}. Best is trial 53 with value: 0.7403474903474904.\u001b[0m\n",
      "C:\\Users\\pemma\\AppData\\Local\\Temp\\ipykernel_7292\\120219098.py:10: FutureWarning: suggest_loguniform has been deprecated in v3.0.0. This feature will be removed in v6.0.0. See https://github.com/optuna/optuna/releases/tag/v3.0.0. Use :func:`~optuna.trial.Trial.suggest_float` instead.\n",
      "  \"learning_rate\": trial.suggest_loguniform(\"learning_rate\", 0.01, 1.0),\n",
      "C:\\Users\\pemma\\AppData\\Local\\Temp\\ipykernel_7292\\120219098.py:12: FutureWarning: suggest_loguniform has been deprecated in v3.0.0. This feature will be removed in v6.0.0. See https://github.com/optuna/optuna/releases/tag/v3.0.0. Use :func:`~optuna.trial.Trial.suggest_float` instead.\n",
      "  \"subsample\": trial.suggest_loguniform(\"subsample\", 0.01, 1.0)\n",
      "\u001b[32m[I 2023-01-30 16:51:52,170]\u001b[0m Trial 192 finished with value: 0.7292471042471043 and parameters: {'max_depth': 5, 'learning_rate': 0.3623276116621579, 'n_estimators': 279, 'subsample': 0.9474291149755819}. Best is trial 53 with value: 0.7403474903474904.\u001b[0m\n",
      "\u001b[32m[I 2023-01-30 16:51:53,501]\u001b[0m Trial 191 finished with value: 0.7157335907335907 and parameters: {'max_depth': 5, 'learning_rate': 0.08654338784163186, 'n_estimators': 157, 'subsample': 0.9948525018882274}. Best is trial 53 with value: 0.7403474903474904.\u001b[0m\n",
      "\u001b[32m[I 2023-01-30 16:51:54,993]\u001b[0m Trial 197 finished with value: 0.6800193050193051 and parameters: {'max_depth': 5, 'learning_rate': 0.08819711197778456, 'n_estimators': 127, 'subsample': 0.6347243337986725}. Best is trial 53 with value: 0.7403474903474904.\u001b[0m\n",
      "\u001b[32m[I 2023-01-30 16:51:56,662]\u001b[0m Trial 196 finished with value: 0.6978764478764479 and parameters: {'max_depth': 5, 'learning_rate': 0.08377124121563301, 'n_estimators': 154, 'subsample': 0.6672551398568919}. Best is trial 53 with value: 0.7403474903474904.\u001b[0m\n",
      "\u001b[32m[I 2023-01-30 16:51:56,932]\u001b[0m Trial 198 finished with value: 0.7046332046332047 and parameters: {'max_depth': 5, 'learning_rate': 0.22764777788490964, 'n_estimators': 161, 'subsample': 0.6206215691364402}. Best is trial 53 with value: 0.7403474903474904.\u001b[0m\n",
      "\u001b[32m[I 2023-01-30 16:51:59,009]\u001b[0m Trial 194 finished with value: 0.6867760617760618 and parameters: {'max_depth': 5, 'learning_rate': 0.08776069062338418, 'n_estimators': 291, 'subsample': 0.6342102262222908}. Best is trial 53 with value: 0.7403474903474904.\u001b[0m\n",
      "\u001b[32m[I 2023-01-30 16:51:59,274]\u001b[0m Trial 199 finished with value: 0.7157335907335907 and parameters: {'max_depth': 5, 'learning_rate': 0.08784381049639897, 'n_estimators': 143, 'subsample': 0.8905833504756548}. Best is trial 53 with value: 0.7403474903474904.\u001b[0m\n"
     ]
    }
   ],
   "source": [
    "study.optimize(objective_xgb, n_trials=200, n_jobs=CPU_COUNT-1)"
   ]
  },
  {
   "cell_type": "code",
   "execution_count": 105,
   "metadata": {},
   "outputs": [
    {
     "data": {
      "text/plain": [
       "FrozenTrial(number=53, state=TrialState.COMPLETE, values=[0.7403474903474904], datetime_start=datetime.datetime(2023, 1, 30, 16, 45, 6, 467395), datetime_complete=datetime.datetime(2023, 1, 30, 16, 45, 16, 553607), params={'max_depth': 6, 'learning_rate': 0.5017635653564023, 'n_estimators': 360, 'subsample': 0.3752416437182646}, user_attrs={}, system_attrs={}, intermediate_values={}, distributions={'max_depth': IntDistribution(high=9, log=False, low=1, step=1), 'learning_rate': FloatDistribution(high=1.0, log=True, low=0.01, step=None), 'n_estimators': IntDistribution(high=500, log=False, low=100, step=1), 'subsample': FloatDistribution(high=1.0, log=True, low=0.01, step=None)}, trial_id=53, value=None)"
      ]
     },
     "execution_count": 105,
     "metadata": {},
     "output_type": "execute_result"
    }
   ],
   "source": [
    "study.best_trial"
   ]
  },
  {
   "attachments": {},
   "cell_type": "markdown",
   "metadata": {},
   "source": [
    "### Confusion matrix"
   ]
  },
  {
   "cell_type": "code",
   "execution_count": 79,
   "metadata": {},
   "outputs": [
    {
     "name": "stdout",
     "output_type": "stream",
     "text": [
      "Validation balanced accuracy: 0.7980810234541578\n"
     ]
    }
   ],
   "source": [
    "predictions = best_model.predict(X_val)\n",
    "val_score = balanced_accuracy_score(y_val, predictions)\n",
    "print(f\"Validation balanced accuracy: {val_score}\")"
   ]
  },
  {
   "cell_type": "code",
   "execution_count": 80,
   "metadata": {},
   "outputs": [
    {
     "data": {
      "image/png": "[encoded data removed]",
      "text/plain": [
       "<Figure size 640x480 with 2 Axes>"
      ]
     },
     "metadata": {},
     "output_type": "display_data"
    }
   ],
   "source": [
    "cm = confusion_matrix(y_val, predictions, labels=best_model.classes_)\n",
    "disp = ConfusionMatrixDisplay(confusion_matrix=cm, display_labels=best_model.classes_)\n",
    "disp.plot(); "
   ]
  },
  {
   "attachments": {},
   "cell_type": "markdown",
   "metadata": {},
   "source": [
    "## Analyse results of tuned model"
   ]
  },
  {
   "attachments": {},
   "cell_type": "markdown",
   "metadata": {},
   "source": [
    "### Training tweets"
   ]
  },
  {
   "cell_type": "code",
   "execution_count": 81,
   "metadata": {},
   "outputs": [],
   "source": [
    "X = np.concatenate([X_train, X_val])\n",
    "y = np.concatenate([y_train, y_val])"
   ]
  },
  {
   "cell_type": "code",
   "execution_count": 82,
   "metadata": {},
   "outputs": [
    {
     "data": {
      "text/html": [
       "<style>#sk-container-id-12 {color: black;background-color: white;}#sk-container-id-12 pre{padding: 0;}#sk-container-id-12 div.sk-toggleable {background-color: white;}#sk-container-id-12 label.sk-toggleable__label {cursor: pointer;display: block;width: 100%;margin-bottom: 0;padding: 0.3em;box-sizing: border-box;text-align: center;}#sk-container-id-12 label.sk-toggleable__label-arrow:before {content: \"▸\";float: left;margin-right: 0.25em;color: #696969;}#sk-container-id-12 label.sk-toggleable__label-arrow:hover:before {color: black;}#sk-container-id-12 div.sk-estimator:hover label.sk-toggleable__label-arrow:before {color: black;}#sk-container-id-12 div.sk-toggleable__content {max-height: 0;max-width: 0;overflow: hidden;text-align: left;background-color: #f0f8ff;}#sk-container-id-12 div.sk-toggleable__content pre {margin: 0.2em;color: black;border-radius: 0.25em;background-color: #f0f8ff;}#sk-container-id-12 input.sk-toggleable__control:checked~div.sk-toggleable__content {max-height: 200px;max-width: 100%;overflow: auto;}#sk-container-id-12 input.sk-toggleable__control:checked~label.sk-toggleable__label-arrow:before {content: \"▾\";}#sk-container-id-12 div.sk-estimator input.sk-toggleable__control:checked~label.sk-toggleable__label {background-color: #d4ebff;}#sk-container-id-12 div.sk-label input.sk-toggleable__control:checked~label.sk-toggleable__label {background-color: #d4ebff;}#sk-container-id-12 input.sk-hidden--visually {border: 0;clip: rect(1px 1px 1px 1px);clip: rect(1px, 1px, 1px, 1px);height: 1px;margin: -1px;overflow: hidden;padding: 0;position: absolute;width: 1px;}#sk-container-id-12 div.sk-estimator {font-family: monospace;background-color: #f0f8ff;border: 1px dotted black;border-radius: 0.25em;box-sizing: border-box;margin-bottom: 0.5em;}#sk-container-id-12 div.sk-estimator:hover {background-color: #d4ebff;}#sk-container-id-12 div.sk-parallel-item::after {content: \"\";width: 100%;border-bottom: 1px solid gray;flex-grow: 1;}#sk-container-id-12 div.sk-label:hover label.sk-toggleable__label {background-color: #d4ebff;}#sk-container-id-12 div.sk-serial::before {content: \"\";position: absolute;border-left: 1px solid gray;box-sizing: border-box;top: 0;bottom: 0;left: 50%;z-index: 0;}#sk-container-id-12 div.sk-serial {display: flex;flex-direction: column;align-items: center;background-color: white;padding-right: 0.2em;padding-left: 0.2em;position: relative;}#sk-container-id-12 div.sk-item {position: relative;z-index: 1;}#sk-container-id-12 div.sk-parallel {display: flex;align-items: stretch;justify-content: center;background-color: white;position: relative;}#sk-container-id-12 div.sk-item::before, #sk-container-id-12 div.sk-parallel-item::before {content: \"\";position: absolute;border-left: 1px solid gray;box-sizing: border-box;top: 0;bottom: 0;left: 50%;z-index: -1;}#sk-container-id-12 div.sk-parallel-item {display: flex;flex-direction: column;z-index: 1;position: relative;background-color: white;}#sk-container-id-12 div.sk-parallel-item:first-child::after {align-self: flex-end;width: 50%;}#sk-container-id-12 div.sk-parallel-item:last-child::after {align-self: flex-start;width: 50%;}#sk-container-id-12 div.sk-parallel-item:only-child::after {width: 0;}#sk-container-id-12 div.sk-dashed-wrapped {border: 1px dashed gray;margin: 0 0.4em 0.5em 0.4em;box-sizing: border-box;padding-bottom: 0.4em;background-color: white;}#sk-container-id-12 div.sk-label label {font-family: monospace;font-weight: bold;display: inline-block;line-height: 1.2em;}#sk-container-id-12 div.sk-label-container {text-align: center;}#sk-container-id-12 div.sk-container {/* jupyter's `normalize.less` sets `[hidden] { display: none; }` but bootstrap.min.css set `[hidden] { display: none !important; }` so we also need the `!important` here to be able to override the default hidden behavior on the sphinx rendered scikit-learn.org. See: https://github.com/scikit-learn/scikit-learn/issues/21755 */display: inline-block !important;position: relative;}#sk-container-id-12 div.sk-text-repr-fallback {display: none;}</style><div id=\"sk-container-id-12\" class=\"sk-top-container\"><div class=\"sk-text-repr-fallback\"><pre>RandomForestClassifier(criterion=&#x27;entropy&#x27;, max_depth=21, min_samples_leaf=14,\n",
       "                       min_samples_split=19, n_estimators=404)</pre><b>In a Jupyter environment, please rerun this cell to show the HTML representation or trust the notebook. <br />On GitHub, the HTML representation is unable to render, please try loading this page with nbviewer.org.</b></div><div class=\"sk-container\" hidden><div class=\"sk-item\"><div class=\"sk-estimator sk-toggleable\"><input class=\"sk-toggleable__control sk-hidden--visually\" id=\"sk-estimator-id-22\" type=\"checkbox\" checked><label for=\"sk-estimator-id-22\" class=\"sk-toggleable__label sk-toggleable__label-arrow\">RandomForestClassifier</label><div class=\"sk-toggleable__content\"><pre>RandomForestClassifier(criterion=&#x27;entropy&#x27;, max_depth=21, min_samples_leaf=14,\n",
       "                       min_samples_split=19, n_estimators=404)</pre></div></div></div></div></div>"
      ],
      "text/plain": [
       "RandomForestClassifier(criterion='entropy', max_depth=21, min_samples_leaf=14,\n",
       "                       min_samples_split=19, n_estimators=404)"
      ]
     },
     "execution_count": 82,
     "metadata": {},
     "output_type": "execute_result"
    }
   ],
   "source": [
    "best_model.fit(X, y)"
   ]
  },
  {
   "cell_type": "code",
   "execution_count": 84,
   "metadata": {},
   "outputs": [],
   "source": [
    "with open(\"../backup/models/rf-tweet-clf.pkl\", \"wb\") as f: \n",
    "    pkl.dump(best_model, f)"
   ]
  },
  {
   "cell_type": "code",
   "execution_count": 85,
   "metadata": {},
   "outputs": [],
   "source": [
    "preds = best_model.predict(X)"
   ]
  },
  {
   "cell_type": "code",
   "execution_count": 89,
   "metadata": {},
   "outputs": [],
   "source": [
    "tweets = df_annotated[\"text\"][annotated_idxs].to_list()\n",
    "n_tweets = len(tweets)"
   ]
  },
  {
   "cell_type": "code",
   "execution_count": 96,
   "metadata": {},
   "outputs": [
    {
     "name": "stdout",
     "output_type": "stream",
     "text": [
      " FICHE ÉDUCATIVE N° \n",
      "\n",
      " Taux d'inflation : Définition et calcul \n",
      " https://centralcharts.com/fr/gm/1-apprendre/9-economie/34-analyse-fondamentale/606-taux-d-inflation-definition-et-calcul…\n",
      "\n",
      " Guide Économie -> Macroéconomie\n",
      " #Formation #Economie #Macroéconomie #Inflation\n",
      "centralcharts.com\n",
      "Taux d'inflation : Définition et calcul\n",
      "Définition du taux d'inflation. Comment le calculer sur une période donnée? Les différentes méthodes de calcul pour mesurer l'évolution des prix.\n",
      "1\n",
      "On topic=1.0\n"
     ]
    }
   ],
   "source": [
    "ix = np.random.randint(low=0, high=n_tweets)\n",
    "\n",
    "tweet = tweets[ix]\n",
    "print(tweet) \n",
    "print(f\"On topic={preds[ix]}\")"
   ]
  },
  {
   "attachments": {},
   "cell_type": "markdown",
   "metadata": {},
   "source": [
    "### Test tweets"
   ]
  },
  {
   "cell_type": "code",
   "execution_count": 98,
   "metadata": {},
   "outputs": [],
   "source": [
    "tweets_test = np.delete(\n",
    "    df_annotated[\"text\"].values, \n",
    "    annotated_idxs\n",
    ").tolist()"
   ]
  },
  {
   "cell_type": "code",
   "execution_count": 101,
   "metadata": {},
   "outputs": [],
   "source": [
    "preds_test = best_model.predict(X_test)"
   ]
  },
  {
   "cell_type": "code",
   "execution_count": 102,
   "metadata": {},
   "outputs": [],
   "source": [
    "n_tweets = len(tweets_test)"
   ]
  },
  {
   "cell_type": "code",
   "execution_count": 116,
   "metadata": {},
   "outputs": [
    {
     "name": "stdout",
     "output_type": "stream",
     "text": [
      "#Bitcoin (#BTC) : une protection contre les anticipations d’#inflation galopante ?\n",
      "\n",
      "Une chronique de \n",
      "@VincentGanne\n",
      " , membre de \n",
      "@AfateNews\n",
      " , pour \n",
      "@MagazineCapital\n",
      " \n",
      "\n",
      "#Crypto \n",
      "@PascalTRICHET\n",
      " @MachinotC\n",
      " @VideoBourse_fr\n",
      " @waldata1\n",
      " @Dembik_Chris\n",
      " @DCohendeLara\n",
      "capital.fr\n",
      "Bitcoin (BTC) : une protection contre les anticipations d’inflation galopante ?\n",
      "Malgré le regain d’aversion au risque, qui pèse actuellement sur la Bourse, le Bitcoin (BTC) a fait mieux que résister. Notre chroniqueur Vincent Ganne, stratégiste de marché, analyste technique,...\n",
      "2\n",
      "10\n",
      "25\n",
      "On topic: 1.0\n"
     ]
    }
   ],
   "source": [
    "ix = np.random.randint(low=0, high=n_tweets)\n",
    "\n",
    "print(tweets_test[ix])\n",
    "print(f\"On topic: {preds_test[ix]}\")"
   ]
  },
  {
   "cell_type": "code",
   "execution_count": 119,
   "metadata": {},
   "outputs": [
    {
     "data": {
      "text/plain": [
       "0.0    0.740774\n",
       "1.0    0.259226\n",
       "dtype: float64"
      ]
     },
     "execution_count": 119,
     "metadata": {},
     "output_type": "execute_result"
    }
   ],
   "source": [
    "pd.Series(preds_test).value_counts() / n_tweets"
   ]
  },
  {
   "attachments": {},
   "cell_type": "markdown",
   "metadata": {},
   "source": [
    "### Add predicted labels to annotated dataset"
   ]
  },
  {
   "cell_type": "code",
   "execution_count": 127,
   "metadata": {},
   "outputs": [],
   "source": [
    "df_annotated_2 = df_annotated.copy()"
   ]
  },
  {
   "cell_type": "code",
   "execution_count": 128,
   "metadata": {},
   "outputs": [],
   "source": [
    "df_annotated_2.loc[\n",
    "    ~df_annotated.index.isin(annotated_idxs), \n",
    "    \"topic\"\n",
    "] = preds_test"
   ]
  },
  {
   "cell_type": "code",
   "execution_count": 132,
   "metadata": {},
   "outputs": [
    {
     "data": {
      "text/plain": [
       "0.0    0.74002\n",
       "1.0    0.25998\n",
       "Name: topic, dtype: float64"
      ]
     },
     "execution_count": 132,
     "metadata": {},
     "output_type": "execute_result"
    }
   ],
   "source": [
    "n = df_annotated_2.shape[0]\n",
    "df_annotated_2[\"topic\"].value_counts() / n"
   ]
  },
  {
   "cell_type": "code",
   "execution_count": 137,
   "metadata": {},
   "outputs": [],
   "source": [
    "df_on_topic = df_annotated_2.loc[df_annotated_2[\"topic\"] == 1, :].reset_index(drop=True)"
   ]
  },
  {
   "cell_type": "code",
   "execution_count": 139,
   "metadata": {},
   "outputs": [],
   "source": [
    "df_on_topic.to_csv(\"../backup/data/df_on_topic.csv\", index=False)"
   ]
  }
 ],
 "metadata": {
  "kernelspec": {
   "display_name": "env",
   "language": "python",
   "name": "python3"
  },
  "language_info": {
   "codemirror_mode": {
    "name": "ipython",
    "version": 3
   },
   "file_extension": ".py",
   "mimetype": "text/x-python",
   "name": "python",
   "nbconvert_exporter": "python",
   "pygments_lexer": "ipython3",
   "version": "3.9.9"
  },
  "orig_nbformat": 4,
  "vscode": {
   "interpreter": {
    "hash": "4f0c75c3c98d859c17a8a7b8ea0d158e580de4be82cc7ea678b044820d2772f7"
   }
  }
 },
 "nbformat": 4,
 "nbformat_minor": 2
}
