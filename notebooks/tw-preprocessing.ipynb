{
 "cells": [
  {
   "attachments": {},
   "cell_type": "markdown",
   "metadata": {},
   "source": [
    "# Twitter data preprocessing using `lib` "
   ]
  },
  {
   "attachments": {},
   "cell_type": "markdown",
   "metadata": {},
   "source": [
    "## Setup"
   ]
  },
  {
   "cell_type": "code",
   "execution_count": 1,
   "metadata": {},
   "outputs": [],
   "source": [
    "import sys\n",
    "sys.path.append(\"../\")\n",
    "\n",
    "import os"
   ]
  },
  {
   "cell_type": "code",
   "execution_count": 2,
   "metadata": {},
   "outputs": [],
   "source": [
    "%load_ext autoreload\n",
    "%autoreload 2"
   ]
  },
  {
   "cell_type": "code",
   "execution_count": 62,
   "metadata": {},
   "outputs": [
    {
     "name": "stderr",
     "output_type": "stream",
     "text": [
      "[nltk_data] Downloading package punkt to\n",
      "[nltk_data]     C:\\Users\\pemma\\AppData\\Roaming\\nltk_data...\n",
      "[nltk_data]   Package punkt is already up-to-date!\n",
      "[nltk_data] Downloading package stopwords to\n",
      "[nltk_data]     C:\\Users\\pemma\\AppData\\Roaming\\nltk_data...\n",
      "[nltk_data]   Package stopwords is already up-to-date!\n"
     ]
    }
   ],
   "source": [
    "from lib.utils import get_files\n",
    "from lib.enums import BACKUP\n",
    "\n",
    "from lib.preprocessing.utils import clean_data \n",
    "from lib.preprocessing.tweets import clean_tweet \n",
    "from lib.preprocessing.text import (\n",
    "    tokenize, \n",
    "    remove_punctuation, \n",
    "    remove_stopwords, \n",
    "    stem\n",
    ")"
   ]
  },
  {
   "cell_type": "code",
   "execution_count": 103,
   "metadata": {},
   "outputs": [],
   "source": [
    "import pandas as pd\n",
    "import numpy as np \n",
    "import pickle as pkl "
   ]
  },
  {
   "attachments": {},
   "cell_type": "markdown",
   "metadata": {},
   "source": [
    "## Load datasets & merge"
   ]
  },
  {
   "cell_type": "code",
   "execution_count": 5,
   "metadata": {},
   "outputs": [
    {
     "data": {
      "text/plain": [
       "['../backup/tweets/cheap_2020-01-01_2020-12-31.csv',\n",
       " '../backup/tweets/cheap_2021-01-01_2021-12-31.csv',\n",
       " '../backup/tweets/cheap_2022-01-01_2022-12-31.csv',\n",
       " '../backup/tweets/econ_terms_2020-01-01_2020-12-31.csv',\n",
       " '../backup/tweets/econ_terms_2021-01-01_2021-12-31.csv',\n",
       " '../backup/tweets/econ_terms_2022-01-01_2022-12-31.csv',\n",
       " '../backup/tweets/english_2020-01-01_2020-12-31.csv',\n",
       " '../backup/tweets/english_2021-01-01_2021-12-31.csv',\n",
       " '../backup/tweets/english_2022-01-01_2022-12-31.csv',\n",
       " '../backup/tweets/expensive_2020-01-01_2020-12-31.csv',\n",
       " '../backup/tweets/expensive_2021-01-01_2021-12-31.csv',\n",
       " '../backup/tweets/expensive_2022-01-01_2022-12-31.csv',\n",
       " '../backup/tweets/institutions_2020-01-01_2020-12-31.csv',\n",
       " '../backup/tweets/institutions_2021-01-01_2021-12-31.csv',\n",
       " '../backup/tweets/institutions_2022-01-01_2022-12-31.csv',\n",
       " '../backup/tweets/prices_2020-01-01_2020-12-31.csv',\n",
       " '../backup/tweets/prices_2021-01-01_2021-12-31.csv',\n",
       " '../backup/tweets/prices_2022-01-01_2022-12-31.csv']"
      ]
     },
     "execution_count": 5,
     "metadata": {},
     "output_type": "execute_result"
    }
   ],
   "source": [
    "tweets_dir = f\"../{BACKUP}\"\n",
    "files = get_files(tweets_dir)\n",
    "files"
   ]
  },
  {
   "cell_type": "code",
   "execution_count": 6,
   "metadata": {},
   "outputs": [],
   "source": [
    "df = pd.DataFrame()\n",
    "for f in files: \n",
    "    tmp = pd.read_csv(f)\n",
    "    df = pd.concat([df, tmp])"
   ]
  },
  {
   "cell_type": "code",
   "execution_count": 7,
   "metadata": {},
   "outputs": [
    {
     "name": "stdout",
     "output_type": "stream",
     "text": [
      "92961 tweets with 11 features\n"
     ]
    }
   ],
   "source": [
    "n_tweets, n_features = df.shape\n",
    "\n",
    "print(f\"{n_tweets} tweets with {n_features} features\")"
   ]
  },
  {
   "cell_type": "code",
   "execution_count": 8,
   "metadata": {},
   "outputs": [
    {
     "data": {
      "text/html": [
       "<div>\n",
       "<style scoped>\n",
       "    .dataframe tbody tr th:only-of-type {\n",
       "        vertical-align: middle;\n",
       "    }\n",
       "\n",
       "    .dataframe tbody tr th {\n",
       "        vertical-align: top;\n",
       "    }\n",
       "\n",
       "    .dataframe thead th {\n",
       "        text-align: right;\n",
       "    }\n",
       "</style>\n",
       "<table border=\"1\" class=\"dataframe\">\n",
       "  <thead>\n",
       "    <tr style=\"text-align: right;\">\n",
       "      <th></th>\n",
       "      <th>UserScreenName</th>\n",
       "      <th>UserName</th>\n",
       "      <th>Timestamp</th>\n",
       "      <th>Text</th>\n",
       "      <th>Embedded_text</th>\n",
       "      <th>Emojis</th>\n",
       "      <th>Comments</th>\n",
       "      <th>Likes</th>\n",
       "      <th>Retweets</th>\n",
       "      <th>Image link</th>\n",
       "      <th>Tweet URL</th>\n",
       "    </tr>\n",
       "  </thead>\n",
       "  <tbody>\n",
       "    <tr>\n",
       "      <th>0</th>\n",
       "      <td>christian champagnat</td>\n",
       "      <td>@fandki</td>\n",
       "      <td>2020-01-01T09:45:23.000Z</td>\n",
       "      <td>christian champagnat\\n@fandki\\n·\\n1 Jan 2020</td>\n",
       "      <td>le tout vendu à des prix \\n«défiant toute conc...</td>\n",
       "      <td>NaN</td>\n",
       "      <td>NaN</td>\n",
       "      <td>NaN</td>\n",
       "      <td>NaN</td>\n",
       "      <td>[]</td>\n",
       "      <td>https://twitter.com/fandki/status/121230883031...</td>\n",
       "    </tr>\n",
       "    <tr>\n",
       "      <th>1</th>\n",
       "      <td>Rached Guettouche</td>\n",
       "      <td>@RgGeutt</td>\n",
       "      <td>2020-01-01T20:00:47.000Z</td>\n",
       "      <td>Rached Guettouche\\n@RgGeutt\\n·\\n1 Jan 2020</td>\n",
       "      <td>Pour ceux qui veulent allier l'utile à l'agréa...</td>\n",
       "      <td>🛑 🛑</td>\n",
       "      <td>NaN</td>\n",
       "      <td>NaN</td>\n",
       "      <td>NaN</td>\n",
       "      <td>['https://pbs.twimg.com/media/ENOJSzoX0AA8uYz?...</td>\n",
       "      <td>https://twitter.com/RgGeutt/status/12124636996...</td>\n",
       "    </tr>\n",
       "    <tr>\n",
       "      <th>2</th>\n",
       "      <td>fidele kabambi</td>\n",
       "      <td>@kabambi_fidele</td>\n",
       "      <td>2020-01-02T07:21:19.000Z</td>\n",
       "      <td>fidele kabambi\\n@kabambi_fidele\\n·\\n2 Jan 2020</td>\n",
       "      <td>Nouvelle perspective: BARAKA BUSINESS SARL, ne...</td>\n",
       "      <td>NaN</td>\n",
       "      <td>NaN</td>\n",
       "      <td>NaN</td>\n",
       "      <td>3.0</td>\n",
       "      <td>['https://pbs.twimg.com/media/ENQlDGvXUAAxpIh?...</td>\n",
       "      <td>https://twitter.com/kabambi_fidele/status/1212...</td>\n",
       "    </tr>\n",
       "    <tr>\n",
       "      <th>3</th>\n",
       "      <td>Marcus Antonius Rex</td>\n",
       "      <td>@ghjattu_neru</td>\n",
       "      <td>2020-01-02T09:41:43.000Z</td>\n",
       "      <td>Marcus Antonius Rex\\n@ghjattu_neru\\n·\\n2 Jan 2020</td>\n",
       "      <td>J'ai du mal à savoir si #Cirelli a reçu la Leg...</td>\n",
       "      <td>NaN</td>\n",
       "      <td>NaN</td>\n",
       "      <td>1.0</td>\n",
       "      <td>3.0</td>\n",
       "      <td>[]</td>\n",
       "      <td>https://twitter.com/ghjattu_neru/status/121267...</td>\n",
       "    </tr>\n",
       "    <tr>\n",
       "      <th>4</th>\n",
       "      <td>Free au Sénégal</td>\n",
       "      <td>@free_senegal</td>\n",
       "      <td>2020-01-06T17:40:53.000Z</td>\n",
       "      <td>Free au Sénégal\\n@free_senegal\\n·\\n6 Jan 2020</td>\n",
       "      <td>Un iPhone pas cher ? C’est maintenant possible...</td>\n",
       "      <td>⭐ 😉</td>\n",
       "      <td>36.0</td>\n",
       "      <td>69.0</td>\n",
       "      <td>284.0</td>\n",
       "      <td>['https://pbs.twimg.com/media/ENnZOz9XYAEOun2?...</td>\n",
       "      <td>https://twitter.com/free_senegal/status/121424...</td>\n",
       "    </tr>\n",
       "  </tbody>\n",
       "</table>\n",
       "</div>"
      ],
      "text/plain": [
       "         UserScreenName         UserName                 Timestamp  \\\n",
       "0  christian champagnat          @fandki  2020-01-01T09:45:23.000Z   \n",
       "1     Rached Guettouche         @RgGeutt  2020-01-01T20:00:47.000Z   \n",
       "2        fidele kabambi  @kabambi_fidele  2020-01-02T07:21:19.000Z   \n",
       "3   Marcus Antonius Rex    @ghjattu_neru  2020-01-02T09:41:43.000Z   \n",
       "4       Free au Sénégal    @free_senegal  2020-01-06T17:40:53.000Z   \n",
       "\n",
       "                                                Text  \\\n",
       "0       christian champagnat\\n@fandki\\n·\\n1 Jan 2020   \n",
       "1         Rached Guettouche\\n@RgGeutt\\n·\\n1 Jan 2020   \n",
       "2     fidele kabambi\\n@kabambi_fidele\\n·\\n2 Jan 2020   \n",
       "3  Marcus Antonius Rex\\n@ghjattu_neru\\n·\\n2 Jan 2020   \n",
       "4      Free au Sénégal\\n@free_senegal\\n·\\n6 Jan 2020   \n",
       "\n",
       "                                       Embedded_text Emojis Comments Likes  \\\n",
       "0  le tout vendu à des prix \\n«défiant toute conc...    NaN      NaN   NaN   \n",
       "1  Pour ceux qui veulent allier l'utile à l'agréa...    🛑 🛑      NaN   NaN   \n",
       "2  Nouvelle perspective: BARAKA BUSINESS SARL, ne...    NaN      NaN   NaN   \n",
       "3  J'ai du mal à savoir si #Cirelli a reçu la Leg...    NaN      NaN   1.0   \n",
       "4  Un iPhone pas cher ? C’est maintenant possible...    ⭐ 😉     36.0  69.0   \n",
       "\n",
       "  Retweets                                         Image link  \\\n",
       "0      NaN                                                 []   \n",
       "1      NaN  ['https://pbs.twimg.com/media/ENOJSzoX0AA8uYz?...   \n",
       "2      3.0  ['https://pbs.twimg.com/media/ENQlDGvXUAAxpIh?...   \n",
       "3      3.0                                                 []   \n",
       "4    284.0  ['https://pbs.twimg.com/media/ENnZOz9XYAEOun2?...   \n",
       "\n",
       "                                           Tweet URL  \n",
       "0  https://twitter.com/fandki/status/121230883031...  \n",
       "1  https://twitter.com/RgGeutt/status/12124636996...  \n",
       "2  https://twitter.com/kabambi_fidele/status/1212...  \n",
       "3  https://twitter.com/ghjattu_neru/status/121267...  \n",
       "4  https://twitter.com/free_senegal/status/121424...  "
      ]
     },
     "execution_count": 8,
     "metadata": {},
     "output_type": "execute_result"
    }
   ],
   "source": [
    "df.head()"
   ]
  },
  {
   "attachments": {},
   "cell_type": "markdown",
   "metadata": {},
   "source": [
    "## Clean dataset"
   ]
  },
  {
   "cell_type": "code",
   "execution_count": 9,
   "metadata": {},
   "outputs": [
    {
     "name": "stdout",
     "output_type": "stream",
     "text": [
      "92857 after duplicates removal\n"
     ]
    }
   ],
   "source": [
    "# remove duplicates just in case\n",
    "\n",
    "df = df.drop_duplicates()\n",
    "\n",
    "n_tweets = df.shape[0]\n",
    "print(f\"{n_tweets} after duplicates removal\")"
   ]
  },
  {
   "cell_type": "code",
   "execution_count": 41,
   "metadata": {},
   "outputs": [],
   "source": [
    "df_cleaned = clean_data(df)"
   ]
  },
  {
   "attachments": {},
   "cell_type": "markdown",
   "metadata": {},
   "source": [
    "## Quick exploration"
   ]
  },
  {
   "cell_type": "code",
   "execution_count": 12,
   "metadata": {},
   "outputs": [
    {
     "name": "stdout",
     "output_type": "stream",
     "text": [
      "43911 unique users\n"
     ]
    }
   ],
   "source": [
    "n_users = np.unique(df.username.values).shape[0]\n",
    "print(f\"{n_users} unique users\")"
   ]
  },
  {
   "cell_type": "code",
   "execution_count": 13,
   "metadata": {},
   "outputs": [
    {
     "data": {
      "text/plain": [
       "username\n",
       "@ezints            384\n",
       "@BFMTV             290\n",
       "@lemondefr         287\n",
       "@HerveHannoun      215\n",
       "@LesEchos          205\n",
       "@libe              202\n",
       "@le_Parisien       201\n",
       "@DailyFXFrance     197\n",
       "@BusinessBourse    182\n",
       "@Le_Figaro         175\n",
       "dtype: int64"
      ]
     },
     "execution_count": 13,
     "metadata": {},
     "output_type": "execute_result"
    }
   ],
   "source": [
    "# users with more tweets between 2020 and 2022\n",
    "\n",
    "df.groupby(\"username\").\\\n",
    "    size().\\\n",
    "    sort_values(ascending=False).\\\n",
    "    head(10)"
   ]
  },
  {
   "cell_type": "code",
   "execution_count": 14,
   "metadata": {},
   "outputs": [
    {
     "name": "stdout",
     "output_type": "stream",
     "text": [
      "timestamp      0.000000\n",
      "text           0.000000\n",
      "emojis         0.634879\n",
      "retweets       0.163951\n",
      "likes          0.247520\n",
      "comments       0.436456\n",
      "text_emojis    0.634879\n",
      "dtype: float64\n"
     ]
    }
   ],
   "source": [
    "nan_prop = df_cleaned.isna().sum() / n_tweets\n",
    "print(nan_prop)"
   ]
  },
  {
   "cell_type": "code",
   "execution_count": 15,
   "metadata": {},
   "outputs": [
    {
     "data": {
      "image/png": "[encoded data removed]",
      "text/plain": [
       "<Figure size 1000x600 with 3 Axes>"
      ]
     },
     "metadata": {},
     "output_type": "display_data"
    }
   ],
   "source": [
    "by = [df_cleaned.timestamp.dt.date]\n",
    "num_cols = [\"retweets\", \"likes\", \"comments\"]\n",
    "\n",
    "df_cleaned.groupby(by).\\\n",
    "    mean(num_cols).\\\n",
    "    plot(subplots=True, figsize=(10, 6), title=\"Daily average number of retweets, likes & comments\"); "
   ]
  },
  {
   "attachments": {},
   "cell_type": "markdown",
   "metadata": {},
   "source": [
    "## Text preprocessing on tweets"
   ]
  },
  {
   "attachments": {},
   "cell_type": "markdown",
   "metadata": {},
   "source": [
    "### Remove tweets' attributes\n",
    "\n",
    "Attributes: statistics, dates, links, mentions, etc."
   ]
  },
  {
   "cell_type": "code",
   "execution_count": 45,
   "metadata": {},
   "outputs": [],
   "source": [
    "df_cleaned[\"text\"] = df_cleaned[\"text\"].apply(clean_tweet, remove_mentions=False)\n",
    "\n",
    "path = \"../backup/data/df_cleaned.csv\"\n",
    "df_cleaned.to_csv(path, index=False)"
   ]
  },
  {
   "cell_type": "code",
   "execution_count": 16,
   "metadata": {},
   "outputs": [],
   "source": [
    "tweets = df_cleaned[\"text\"].values.tolist()"
   ]
  },
  {
   "cell_type": "code",
   "execution_count": 17,
   "metadata": {},
   "outputs": [],
   "source": [
    "tweets_cleaned = [clean_tweet(tweet) for tweet in tweets]"
   ]
  },
  {
   "cell_type": "code",
   "execution_count": 18,
   "metadata": {},
   "outputs": [
    {
     "name": "stdout",
     "output_type": "stream",
     "text": [
      "Before cleaning:\n",
      "Le nouveau navire de desserte de l’île d’Yeu en construction en Bretagne | Mer et Marine ⁦\n",
      "@PIRIOU_Group\n",
      "⁩ ⁦\n",
      "@DepVendee\n",
      "⁩ ⁦\n",
      "@IPC_Concarneau\n",
      "⁩  https://meretmarine.com/fr/content/le-nouveau-navire-de-desserte-de-lile-dile-dyeu-en-construction-en-bretagne…\n",
      "2\n",
      "\n",
      "\n",
      "After cleaning:\n",
      "Le nouveau navire de desserte de l’île d’Yeu en construction en Bretagne | Mer et Marine ⁦ ⁩ ⁦ ⁩ ⁦ ⁩  \n"
     ]
    }
   ],
   "source": [
    "ix = np.random.randint(low=0, high=n_tweets)\n",
    "\n",
    "print(f\"Before cleaning:\\n{tweets[ix]}\")\n",
    "print(f\"\\n\\nAfter cleaning:\\n{tweets_cleaned[ix]}\")"
   ]
  },
  {
   "attachments": {},
   "cell_type": "markdown",
   "metadata": {},
   "source": [
    "### In-depth preprocessing"
   ]
  },
  {
   "attachments": {},
   "cell_type": "markdown",
   "metadata": {},
   "source": [
    "1. Tokenization "
   ]
  },
  {
   "cell_type": "code",
   "execution_count": 65,
   "metadata": {},
   "outputs": [],
   "source": [
    "tweets_tokenized = [tokenize(tweet) for tweet in tweets_cleaned]"
   ]
  },
  {
   "cell_type": "code",
   "execution_count": 66,
   "metadata": {},
   "outputs": [
    {
     "name": "stdout",
     "output_type": "stream",
     "text": [
      "Original tweet:\n",
      "Maj de mon portefeuille, nouvelles positions prises et quelques rappels importants sur l'inflation.\n",
      "L'inflation et moi et moi | Quelles actions acheter en bourse trading 11 juin 2021\n",
      "graphseobourse.fr\n",
      "Inflation et moi et moi | Quelles actions acheter en bourse trading 11 juin 2021\n",
      "L'inflation continue d'être au centre des attentions et des débats. Tout le monde a raison et ort sur les scénarios car l'important c'est l'horizon de temps que l'on prend en compte. Question de...\n",
      "7\n",
      "2\n",
      "22\n",
      "\n",
      "\n",
      "After tokenization:\n",
      "['maj', 'de', 'mon', 'portefeuille', ',', 'nouvelles', 'positions', 'prises', 'et', 'quelques', 'rappels', 'importants', 'sur', 'l', \"'\", 'inflation', '.', 'l', \"'\", 'inflation', 'et', 'moi', 'et', 'moi', '|', 'quelles', 'actions', 'acheter', 'en', 'bourse', 'trading', '11', 'juin', '2021', 'inflation', 'et', 'moi', 'et', 'moi', '|', 'quelles', 'actions', 'acheter', 'en', 'bourse', 'trading', '11', 'juin', '2021', 'l', \"'\", 'inflation', 'continue', 'd', \"'\", 'être', 'au', 'centre', 'des', 'attentions', 'et', 'des', 'débats', '.', 'tout', 'le', 'monde', 'a', 'raison', 'et', 'ort', 'sur', 'les', 'scénarios', 'car', 'l', \"'\", 'important', 'c', \"'\", 'est', 'l', \"'\", 'horizon', 'de', 'temps', 'que', 'l', \"'\", 'on', 'prend', 'en', 'compte', '.', 'question', 'de', '...']\n"
     ]
    }
   ],
   "source": [
    "ix = np.random.randint(low=0, high=n_tweets)\n",
    "\n",
    "print(f\"Original tweet:\\n{tweets[ix]}\")\n",
    "print(f\"\\n\\nAfter tokenization:\\n{tweets_tokenized[ix]}\")"
   ]
  },
  {
   "attachments": {},
   "cell_type": "markdown",
   "metadata": {},
   "source": [
    "2. Remove punctuation "
   ]
  },
  {
   "cell_type": "code",
   "execution_count": 67,
   "metadata": {},
   "outputs": [
    {
     "name": "stderr",
     "output_type": "stream",
     "text": [
      "[nltk_data] Downloading package punkt to\n",
      "[nltk_data]     C:\\Users\\pemma\\AppData\\Roaming\\nltk_data...\n",
      "[nltk_data]   Package punkt is already up-to-date!\n",
      "[nltk_data] Downloading package stopwords to\n",
      "[nltk_data]     C:\\Users\\pemma\\AppData\\Roaming\\nltk_data...\n",
      "[nltk_data]   Package stopwords is already up-to-date!\n"
     ]
    }
   ],
   "source": [
    "tweets_no_punc = [remove_punctuation(tokens) for tokens in tweets_tokenized]"
   ]
  },
  {
   "cell_type": "code",
   "execution_count": 68,
   "metadata": {},
   "outputs": [
    {
     "name": "stdout",
     "output_type": "stream",
     "text": [
      "Original tweet:\n",
      "Quand la promotion du respect de la vie choque.\n",
      "Anne Hidalgo\n",
      "@Anne_Hidalgo\n",
      "·\n",
      "2 Jan 2020\n",
      "Je suis profondément choquée et indignée par cette campagne anti-IVG et anti-PMA à la Gare du Nord et dans plusieurs autres lieux de la capitale. Je demande à @ExterionMediaFR et #Mediatransports que ces affiches soient retirées immédiatement.\n",
      "3\n",
      "42\n",
      "43\n",
      "\n",
      "\n",
      "After removing punctuation:\n",
      "['quand', 'la', 'promotion', 'du', 'respect', 'de', 'la', 'vie', 'choque', 'anne', 'hidalgo', '2', 'jan', '2020', 'je', 'suis', 'profondément', 'choquée', 'et', 'indignée', 'par', 'cette', 'campagne', 'anti', 'ivg', 'et', 'anti', 'pma', 'à', 'la', 'gare', 'du', 'nord', 'et', 'dans', 'plusieurs', 'autres', 'lieux', 'de', 'la', 'capitale', 'je', 'demande', 'à', 'et', 'mediatransports', 'que', 'ces', 'affiches', 'soient', 'retirées', 'immédiatement']\n"
     ]
    }
   ],
   "source": [
    "ix = np.random.randint(low=0, high=n_tweets)\n",
    "\n",
    "print(f\"Original tweet:\\n{tweets[ix]}\")\n",
    "print(f\"\\n\\nAfter removing punctuation:\\n{tweets_no_punc[ix]}\")"
   ]
  },
  {
   "attachments": {},
   "cell_type": "markdown",
   "metadata": {},
   "source": [
    "3. Remove stopwords "
   ]
  },
  {
   "cell_type": "code",
   "execution_count": 69,
   "metadata": {},
   "outputs": [],
   "source": [
    "tweets_no_stopwords = [remove_stopwords(tokens) for tokens in tweets_no_punc]"
   ]
  },
  {
   "cell_type": "code",
   "execution_count": 70,
   "metadata": {},
   "outputs": [
    {
     "name": "stdout",
     "output_type": "stream",
     "text": [
      "Original tweet:\n",
      "En pleine catastrophe naturelle à Goma, voici la seule urgence  de \n",
      "@NoelKTshiani\n",
      " ! Même si le ridicule ne tue pas; allez vendre vos friperies en catimini chez vos employeurs calmement. Le vrai adversaire du béton en 2023 sera son bilan et non \n",
      "@moise_katumbi\n",
      " .\n",
      "4\n",
      "4\n",
      "24\n",
      "\n",
      "\n",
      "After removing stopwords:\n",
      "['pleine', 'catastrophe', 'naturelle', 'goma', 'urgence', 'ridicule', 'tue', 'pas', 'allez', 'vendre', 'friperies', 'catimini', 'employeurs', 'calmement', 'vrai', 'adversaire', 'béton', '2023', 'bilan', 'non']\n"
     ]
    }
   ],
   "source": [
    "ix = np.random.randint(low=0, high=n_tweets)\n",
    "\n",
    "print(f\"Original tweet:\\n{tweets[ix]}\")\n",
    "print(f\"\\n\\nAfter removing stopwords:\\n{tweets_no_stopwords[ix]}\")"
   ]
  },
  {
   "attachments": {},
   "cell_type": "markdown",
   "metadata": {},
   "source": [
    "4. Stemming "
   ]
  },
  {
   "cell_type": "code",
   "execution_count": 71,
   "metadata": {},
   "outputs": [],
   "source": [
    "tweets_stemmed = [stem(tweet) for tweet in tweets_no_stopwords]"
   ]
  },
  {
   "cell_type": "code",
   "execution_count": 72,
   "metadata": {},
   "outputs": [
    {
     "name": "stdout",
     "output_type": "stream",
     "text": [
      "Original tweet:\n",
      "Inflation : la Confédération nationale du logement demande au gouvernement le blocage des loyers\n",
      "\n",
      "https://francetvinfo.fr/economie/immobilier/prix-immobilier/inflation-la-confederation-nationale-du-logement-demande-au-gouvernement-le-blocage-des-loyers_5136805.html…\n",
      "4\n",
      "18\n",
      "28\n",
      "\n",
      "\n",
      "After removing stemming:\n",
      "['inflat', 'confédérat', 'national', 'logement', 'demand', 'gouvern', 'blocag', 'loyer']\n"
     ]
    }
   ],
   "source": [
    "ix = np.random.randint(low=0, high=n_tweets)\n",
    "\n",
    "print(f\"Original tweet:\\n{tweets[ix]}\")\n",
    "print(f\"\\n\\nAfter removing stemming:\\n{tweets_stemmed[ix]}\")"
   ]
  },
  {
   "attachments": {},
   "cell_type": "markdown",
   "metadata": {},
   "source": [
    "## Save results"
   ]
  },
  {
   "cell_type": "code",
   "execution_count": 105,
   "metadata": {},
   "outputs": [],
   "source": [
    "dates = np.datetime_as_string(df_cleaned.timestamp.values, unit=\"D\").tolist()\n",
    "\n",
    "tweets_preprocessed = {\n",
    "    \"dates\": dates, \n",
    "    \"original\": tweets, \n",
    "    \"cleaned\": tweets_cleaned, \n",
    "    \"tokenized\": tweets_tokenized, \n",
    "    \"no_punc\": tweets_no_punc,\n",
    "    \"stemmed\": tweets_stemmed\n",
    "}\n",
    "\n",
    "path = \"../backup/data/tweets_preprocessed.pkl\"\n",
    "with open(path, \"wb\") as f: \n",
    "    pkl.dump(tweets_preprocessed, f)"
   ]
  },
  {
   "cell_type": "code",
   "execution_count": 101,
   "metadata": {},
   "outputs": [],
   "source": [
    "with open(path, \"rb\") as f: \n",
    "    d = pkl.load(f)"
   ]
  }
 ],
 "metadata": {
  "kernelspec": {
   "display_name": "env",
   "language": "python",
   "name": "python3"
  },
  "language_info": {
   "codemirror_mode": {
    "name": "ipython",
    "version": 3
   },
   "file_extension": ".py",
   "mimetype": "text/x-python",
   "name": "python",
   "nbconvert_exporter": "python",
   "pygments_lexer": "ipython3",
   "version": "3.9.9"
  },
  "orig_nbformat": 4,
  "vscode": {
   "interpreter": {
    "hash": "4f0c75c3c98d859c17a8a7b8ea0d158e580de4be82cc7ea678b044820d2772f7"
   }
  }
 },
 "nbformat": 4,
 "nbformat_minor": 2
}
